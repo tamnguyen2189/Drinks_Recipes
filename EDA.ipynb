{
 "metadata": {
  "language_info": {
   "codemirror_mode": {
    "name": "ipython",
    "version": 3
   },
   "file_extension": ".py",
   "mimetype": "text/x-python",
   "name": "python",
   "nbconvert_exporter": "python",
   "pygments_lexer": "ipython3",
   "version": "3.9.2"
  },
  "orig_nbformat": 2,
  "kernelspec": {
   "name": "python3",
   "display_name": "Python 3.9.2 64-bit"
  },
  "metadata": {
   "interpreter": {
    "hash": "e885cd74143ad494932267455ab53278514454996393c47fe6c2589217b9edf3"
   }
  },
  "interpreter": {
   "hash": "e885cd74143ad494932267455ab53278514454996393c47fe6c2589217b9edf3"
  }
 },
 "nbformat": 4,
 "nbformat_minor": 2,
 "cells": [
  {
   "cell_type": "code",
   "execution_count": 1,
   "metadata": {},
   "outputs": [],
   "source": [
    "import pandas as pd\n",
    "import numpy as np\n",
    "import glob\n",
    "import re\n"
   ]
  },
  {
   "source": [
    "IMPORT DATA"
   ],
   "cell_type": "markdown",
   "metadata": {}
  },
  {
   "cell_type": "code",
   "execution_count": 3,
   "metadata": {},
   "outputs": [],
   "source": [
    "# Load data\n",
    "path = r'C:/Users/pc/Desktop/my_git/final_project/recipes/Old' \n",
    "files = glob.glob(path + \"/*.csv\")\n",
    "\n",
    "all_files = []\n",
    "\n",
    "for filename in files:\n",
    "    df_sub = pd.read_csv(filename, index_col=None, header=0, encoding='utf-8')\n",
    "    all_files.append(df_sub)\n",
    "    # print(filename)\n",
    "\n",
    "frame = pd.concat(all_files, axis=0, ignore_index=True)"
   ]
  },
  {
   "cell_type": "code",
   "execution_count": 4,
   "metadata": {},
   "outputs": [],
   "source": [
    "df = frame.copy()"
   ]
  },
  {
   "source": [
    "OVERVIEW DATA"
   ],
   "cell_type": "markdown",
   "metadata": {}
  },
  {
   "cell_type": "code",
   "execution_count": 5,
   "metadata": {},
   "outputs": [
    {
     "output_type": "execute_result",
     "data": {
      "text/plain": [
       "                                      drink_name recipe  \\\n",
       "count                                       7513   6866   \n",
       "unique                                      2744   1587   \n",
       "top     The 10 Best Light Beers to Drink in 2021     []   \n",
       "freq                                          79   2741   \n",
       "\n",
       "                                               recipe_url url_of_image  \n",
       "count                                                6866         6845  \n",
       "unique                                               2343         2130  \n",
       "top     https://www.thespruceeats.com/best-light-beers...         //:0  \n",
       "freq                                                   79          762  "
      ],
      "text/html": "<div>\n<style scoped>\n    .dataframe tbody tr th:only-of-type {\n        vertical-align: middle;\n    }\n\n    .dataframe tbody tr th {\n        vertical-align: top;\n    }\n\n    .dataframe thead th {\n        text-align: right;\n    }\n</style>\n<table border=\"1\" class=\"dataframe\">\n  <thead>\n    <tr style=\"text-align: right;\">\n      <th></th>\n      <th>drink_name</th>\n      <th>recipe</th>\n      <th>recipe_url</th>\n      <th>url_of_image</th>\n    </tr>\n  </thead>\n  <tbody>\n    <tr>\n      <th>count</th>\n      <td>7513</td>\n      <td>6866</td>\n      <td>6866</td>\n      <td>6845</td>\n    </tr>\n    <tr>\n      <th>unique</th>\n      <td>2744</td>\n      <td>1587</td>\n      <td>2343</td>\n      <td>2130</td>\n    </tr>\n    <tr>\n      <th>top</th>\n      <td>The 10 Best Light Beers to Drink in 2021</td>\n      <td>[]</td>\n      <td>https://www.thespruceeats.com/best-light-beers...</td>\n      <td>//:0</td>\n    </tr>\n    <tr>\n      <th>freq</th>\n      <td>79</td>\n      <td>2741</td>\n      <td>79</td>\n      <td>762</td>\n    </tr>\n  </tbody>\n</table>\n</div>"
     },
     "metadata": {},
     "execution_count": 5
    }
   ],
   "source": [
    "df.describe()"
   ]
  },
  {
   "cell_type": "code",
   "execution_count": 6,
   "metadata": {},
   "outputs": [
    {
     "output_type": "execute_result",
     "data": {
      "text/plain": [
       "count     6866\n",
       "unique    1587\n",
       "top         []\n",
       "freq      2741\n",
       "Name: recipe, dtype: object"
      ]
     },
     "metadata": {},
     "execution_count": 6
    }
   ],
   "source": [
    "df['recipe'].describe()"
   ]
  },
  {
   "cell_type": "code",
   "execution_count": 7,
   "metadata": {},
   "outputs": [
    {
     "output_type": "stream",
     "name": "stdout",
     "text": [
      "<class 'pandas.core.frame.DataFrame'>\nRangeIndex: 7887 entries, 0 to 7886\nData columns (total 4 columns):\n #   Column        Non-Null Count  Dtype \n---  ------        --------------  ----- \n 0   drink_name    7513 non-null   object\n 1   recipe        6866 non-null   object\n 2   recipe_url    6866 non-null   object\n 3   url_of_image  6845 non-null   object\ndtypes: object(4)\nmemory usage: 246.6+ KB\n"
     ]
    }
   ],
   "source": [
    "df.info()"
   ]
  },
  {
   "source": [
    "CLEANING DATA"
   ],
   "cell_type": "markdown",
   "metadata": {}
  },
  {
   "cell_type": "code",
   "execution_count": 8,
   "metadata": {},
   "outputs": [
    {
     "output_type": "execute_result",
     "data": {
      "text/plain": [
       "drink_name      2741\n",
       "recipe          2741\n",
       "recipe_url      2741\n",
       "url_of_image    2725\n",
       "dtype: int64"
      ]
     },
     "metadata": {},
     "execution_count": 8
    }
   ],
   "source": [
    "# Check wrong data\n",
    "df[df['recipe'] == '[]'].count()"
   ]
  },
  {
   "cell_type": "code",
   "execution_count": 9,
   "metadata": {},
   "outputs": [],
   "source": [
    "# Drop wrong data\n",
    "df.drop(df[df['recipe'] == '[]'].index, inplace= True)"
   ]
  },
  {
   "cell_type": "code",
   "execution_count": 10,
   "metadata": {},
   "outputs": [],
   "source": [
    "# Drop duplicated data\n",
    "df.drop_duplicates(subset ='recipe',\n",
    "                     keep = 'first', inplace = True)"
   ]
  },
  {
   "cell_type": "code",
   "execution_count": 11,
   "metadata": {},
   "outputs": [
    {
     "output_type": "execute_result",
     "data": {
      "text/plain": [
       "drink_name      0\n",
       "recipe          1\n",
       "recipe_url      1\n",
       "url_of_image    1\n",
       "dtype: int64"
      ]
     },
     "metadata": {},
     "execution_count": 11
    }
   ],
   "source": [
    "# Check na values\n",
    "df.isnull().sum()"
   ]
  },
  {
   "cell_type": "code",
   "execution_count": 12,
   "metadata": {},
   "outputs": [],
   "source": [
    "# Drop all na values\n",
    "df.dropna(axis=0, inplace=True)"
   ]
  },
  {
   "cell_type": "code",
   "execution_count": 13,
   "metadata": {},
   "outputs": [
    {
     "output_type": "execute_result",
     "data": {
      "text/plain": [
       "                           drink_name  \\\n",
       "0                 French Cafe au Lait   \n",
       "1                    Pour-Over Coffee   \n",
       "2             Cuban Coffee (Cafecito)   \n",
       "3              The Perfect Cappuccino   \n",
       "4      New Orleans Coffee (Cafe Noir)   \n",
       "...                               ...   \n",
       "7882                  Boston Iced Tea   \n",
       "7883          Frozen Vanilla Chai Tea   \n",
       "7884              Lemon Mint Iced Tea   \n",
       "7885                       Almond Tea   \n",
       "7886  Homemade Brown Sugar Bubble Tea   \n",
       "\n",
       "                                                 recipe  \\\n",
       "0     ['1 part hot strong coffee (French roast)', '1...   \n",
       "1     ['10 ounces spring water', '2/3 ounce ground c...   \n",
       "2     ['1/4 cup ground coffee', '1 1/2 cups water', ...   \n",
       "3     ['2 tablespoons finely ground dark roast coffe...   \n",
       "4     ['4 tablespoons coffee', '2 tablespoons chicor...   \n",
       "...                                                 ...   \n",
       "7882  ['1 gallon water ', '1 cup white sugar ', '15 ...   \n",
       "7883  ['1 cup water ', '2  chai tea bags ', '2 table...   \n",
       "7884  ['1 quart water ', '¾ cup white sugar ', '6  r...   \n",
       "7885  ['3 tablespoons instant iced tea powder ', '1 ...   \n",
       "7886  ['4\\u2009¼ cups water, divided ', '¼ cup white...   \n",
       "\n",
       "                                             recipe_url  \\\n",
       "0     https://www.thespruceeats.com/cafe-au-lait-rec...   \n",
       "1     https://www.thespruceeats.com/pour-over-coffee...   \n",
       "2     https://www.thespruceeats.com/cuban-coffee-479...   \n",
       "3     https://www.thespruceeats.com/how-to-make-capp...   \n",
       "4     https://www.thespruceeats.com/new-orleans-coff...   \n",
       "...                                                 ...   \n",
       "7882  https://www.allrecipes.com/recipe/32547/boston...   \n",
       "7883  https://www.allrecipes.com/recipe/238025/froze...   \n",
       "7884  https://www.allrecipes.com/recipe/217166/lemon...   \n",
       "7885  https://www.allrecipes.com/recipe/86426/almond...   \n",
       "7886  https://www.allrecipes.com/recipe/279335/homem...   \n",
       "\n",
       "                                           url_of_image  \n",
       "0     https://www.thespruceeats.com/thmb/cRrwUsC6WNB...  \n",
       "1     https://www.thespruceeats.com/thmb/-XzLvlXHASj...  \n",
       "2     https://www.thespruceeats.com/thmb/vJGEfrc8S_h...  \n",
       "3     https://www.thespruceeats.com/thmb/DWhiIPBDVVq...  \n",
       "4     https://www.thespruceeats.com/thmb/bogvGb8qhPt...  \n",
       "...                                                 ...  \n",
       "7882  https://imagesvc.meredithcorp.io/v3/mm/image?u...  \n",
       "7883  https://imagesvc.meredithcorp.io/v3/mm/image?u...  \n",
       "7884  https://imagesvc.meredithcorp.io/v3/mm/image?u...  \n",
       "7885  https://imagesvc.meredithcorp.io/v3/mm/image?u...  \n",
       "7886  https://imagesvc.meredithcorp.io/v3/mm/image?u...  \n",
       "\n",
       "[1586 rows x 4 columns]"
      ],
      "text/html": "<div>\n<style scoped>\n    .dataframe tbody tr th:only-of-type {\n        vertical-align: middle;\n    }\n\n    .dataframe tbody tr th {\n        vertical-align: top;\n    }\n\n    .dataframe thead th {\n        text-align: right;\n    }\n</style>\n<table border=\"1\" class=\"dataframe\">\n  <thead>\n    <tr style=\"text-align: right;\">\n      <th></th>\n      <th>drink_name</th>\n      <th>recipe</th>\n      <th>recipe_url</th>\n      <th>url_of_image</th>\n    </tr>\n  </thead>\n  <tbody>\n    <tr>\n      <th>0</th>\n      <td>French Cafe au Lait</td>\n      <td>['1 part hot strong coffee (French roast)', '1...</td>\n      <td>https://www.thespruceeats.com/cafe-au-lait-rec...</td>\n      <td>https://www.thespruceeats.com/thmb/cRrwUsC6WNB...</td>\n    </tr>\n    <tr>\n      <th>1</th>\n      <td>Pour-Over Coffee</td>\n      <td>['10 ounces spring water', '2/3 ounce ground c...</td>\n      <td>https://www.thespruceeats.com/pour-over-coffee...</td>\n      <td>https://www.thespruceeats.com/thmb/-XzLvlXHASj...</td>\n    </tr>\n    <tr>\n      <th>2</th>\n      <td>Cuban Coffee (Cafecito)</td>\n      <td>['1/4 cup ground coffee', '1 1/2 cups water', ...</td>\n      <td>https://www.thespruceeats.com/cuban-coffee-479...</td>\n      <td>https://www.thespruceeats.com/thmb/vJGEfrc8S_h...</td>\n    </tr>\n    <tr>\n      <th>3</th>\n      <td>The Perfect Cappuccino</td>\n      <td>['2 tablespoons finely ground dark roast coffe...</td>\n      <td>https://www.thespruceeats.com/how-to-make-capp...</td>\n      <td>https://www.thespruceeats.com/thmb/DWhiIPBDVVq...</td>\n    </tr>\n    <tr>\n      <th>4</th>\n      <td>New Orleans Coffee (Cafe Noir)</td>\n      <td>['4 tablespoons coffee', '2 tablespoons chicor...</td>\n      <td>https://www.thespruceeats.com/new-orleans-coff...</td>\n      <td>https://www.thespruceeats.com/thmb/bogvGb8qhPt...</td>\n    </tr>\n    <tr>\n      <th>...</th>\n      <td>...</td>\n      <td>...</td>\n      <td>...</td>\n      <td>...</td>\n    </tr>\n    <tr>\n      <th>7882</th>\n      <td>Boston Iced Tea</td>\n      <td>['1 gallon water ', '1 cup white sugar ', '15 ...</td>\n      <td>https://www.allrecipes.com/recipe/32547/boston...</td>\n      <td>https://imagesvc.meredithcorp.io/v3/mm/image?u...</td>\n    </tr>\n    <tr>\n      <th>7883</th>\n      <td>Frozen Vanilla Chai Tea</td>\n      <td>['1 cup water ', '2  chai tea bags ', '2 table...</td>\n      <td>https://www.allrecipes.com/recipe/238025/froze...</td>\n      <td>https://imagesvc.meredithcorp.io/v3/mm/image?u...</td>\n    </tr>\n    <tr>\n      <th>7884</th>\n      <td>Lemon Mint Iced Tea</td>\n      <td>['1 quart water ', '¾ cup white sugar ', '6  r...</td>\n      <td>https://www.allrecipes.com/recipe/217166/lemon...</td>\n      <td>https://imagesvc.meredithcorp.io/v3/mm/image?u...</td>\n    </tr>\n    <tr>\n      <th>7885</th>\n      <td>Almond Tea</td>\n      <td>['3 tablespoons instant iced tea powder ', '1 ...</td>\n      <td>https://www.allrecipes.com/recipe/86426/almond...</td>\n      <td>https://imagesvc.meredithcorp.io/v3/mm/image?u...</td>\n    </tr>\n    <tr>\n      <th>7886</th>\n      <td>Homemade Brown Sugar Bubble Tea</td>\n      <td>['4\\u2009¼ cups water, divided ', '¼ cup white...</td>\n      <td>https://www.allrecipes.com/recipe/279335/homem...</td>\n      <td>https://imagesvc.meredithcorp.io/v3/mm/image?u...</td>\n    </tr>\n  </tbody>\n</table>\n<p>1586 rows × 4 columns</p>\n</div>"
     },
     "metadata": {},
     "execution_count": 13
    }
   ],
   "source": [
    "# Check data after clean\n",
    "df"
   ]
  },
  {
   "source": [
    "CLEANING RECIPE"
   ],
   "cell_type": "markdown",
   "metadata": {}
  },
  {
   "cell_type": "code",
   "execution_count": 17,
   "metadata": {},
   "outputs": [],
   "source": [
    "df_clean = df.copy()"
   ]
  },
  {
   "cell_type": "code",
   "execution_count": 15,
   "metadata": {},
   "outputs": [],
   "source": [
    "# Function to clean recipes in dataset\n",
    "def clean_recipe(recipe):\n",
    "    pat1 = r'[\\'\\\"\\(\\),*:;.!?~\\[\\]\\{\\}]'\n",
    "    pat2 = r'\\\\\\w{2}\\d'  \n",
    "    pat3 = r'\\\\\\w\\d{4}'\n",
    "    pat4 = r'\\\\\\w\\d{3}\\w'\n",
    "    clean_recipe = recipe.lower()    #.strip('-[]{}\\'!?~')\n",
    "    clean_recipe = re.sub(pat1,'',clean_recipe)\n",
    "    clean_recipe = re.sub(pat2,'',clean_recipe)\n",
    "    clean_recipe = re.sub(pat3,'',clean_recipe)\n",
    "    clean_recipe = re.sub(pat4,'',clean_recipe)\n",
    "    return clean_recipe"
   ]
  },
  {
   "cell_type": "code",
   "execution_count": 18,
   "metadata": {},
   "outputs": [],
   "source": [
    "# Apply cleaning function on df_clean\n",
    "df_clean['recipe'] = df_clean['recipe'].apply(lambda x: clean_recipe(x))"
   ]
  },
  {
   "cell_type": "code",
   "execution_count": 19,
   "metadata": {},
   "outputs": [
    {
     "output_type": "execute_result",
     "data": {
      "text/plain": [
       "0       1 part hot strong coffee french roast 1 part s...\n",
       "1          10 ounces spring water 2/3 ounce ground coffee\n",
       "2       1/4 cup ground coffee 1 1/2 cups water 1/4 cup...\n",
       "3       2 tablespoons finely ground dark roast coffee ...\n",
       "4       4 tablespoons coffee 2 tablespoons chicory 1/4...\n",
       "                              ...                        \n",
       "7882    1 gallon water  1 cup white sugar  15  tea bag...\n",
       "7883    1 cup water  2  chai tea bags  2 tablespoons w...\n",
       "7884    1 quart water  ¾ cup white sugar  6  regular-s...\n",
       "7885    3 tablespoons instant iced tea powder  1 cup w...\n",
       "7886    409¼ cups water divided  ¼ cup white tapioca p...\n",
       "Name: recipe, Length: 1586, dtype: object"
      ]
     },
     "metadata": {},
     "execution_count": 19
    }
   ],
   "source": [
    "df_clean['recipe']"
   ]
  },
  {
   "cell_type": "code",
   "execution_count": null,
   "metadata": {},
   "outputs": [],
   "source": [
    "# data = df_clean\n",
    "# path = 'C:/Users/pc/Desktop/my_git/final_project/recipes/Old'\n",
    "# data.to_csv(path + \"/clean_recipe_new.csv\", index=False)"
   ]
  },
  {
   "cell_type": "code",
   "execution_count": 20,
   "metadata": {},
   "outputs": [],
   "source": [
    "# Create function to search recipe - Version 1\n",
    "def searching_recipe(ingredients, data):\n",
    "    \"\"\" Dataset: df_clean\n",
    "        Input: Ingredients\n",
    "        Flow: searching recipe in dataset\n",
    "        Output: recipes that contain ingredients\n",
    "    \"\"\"\n",
    "    recipe_list = []\n",
    "    for recipe in data:\n",
    "        check = all(item in recipe for item in ingredients)\n",
    "        if check == True:\n",
    "            recipe_list.append(recipe)\n",
    "    return recipe_list"
   ]
  },
  {
   "cell_type": "code",
   "execution_count": null,
   "metadata": {},
   "outputs": [],
   "source": [
    "# Create function to search recipe - Version 2\n",
    "def searching_recipe(ingredients,data):\n",
    "    \"\"\" Dataset: df_clean\n",
    "        Input: Ingredients\n",
    "        Flow: searching recipe in dataset\n",
    "        Output: recipes that contain ingredients\n",
    "    \"\"\"\n",
    "    for i in range(len(data['recipe'])):\n",
    "        check_recipe = all(item in data['recipe'][i] for item in ingredients)\n",
    "        check_name = any(item in data['drink_name'][i] for item in ingredients)\n",
    "        if check_recipe == True:\n",
    "            recipe_list.append(data['recipe'][i])\n",
    "        elif check_name == True:\n",
    "            recipe_list.append(data['recipe'][i])\n",
    "    return recipe_list"
   ]
  },
  {
   "cell_type": "code",
   "execution_count": null,
   "metadata": {},
   "outputs": [],
   "source": [
    "def searching_recipe(ingredients, data):\n",
    "    \"\"\" Dataset: df_clean\n",
    "        Input: Ingredients\n",
    "        Flow: searching recipe in dataset\n",
    "        Output: all informations that contain ingredients\n",
    "    \"\"\"\n",
    "    recipe_list = []\n",
    "    drink_name = []\n",
    "    recipe_url = []\n",
    "    image_url = []\n",
    "    for i in range(len(data['recipe'])):\n",
    "        check_recipe = all(item in data['recipe'][i] for item in ingredients)\n",
    "        check_name = any(item in data['drink_name'][i] for item in ingredients)\n",
    "        if check_recipe == True:\n",
    "            recipe_list.append(data['recipe'][i])\n",
    "            drink_name.append(data['drink_name'][i])\n",
    "            recipe_url.append(data['recipe_url'][i])\n",
    "            image_url.append(data['url_of_image'][i])\n",
    "        elif check_name == True:\n",
    "            recipe_list.append(data['recipe'][i])\n",
    "            drink_name.append(data['drink_name'][i])\n",
    "            recipe_url.append(data['recipe_url'][i])\n",
    "            image_url.append(data['url_of_image'][i])\n",
    "    \n",
    "    return recipe_list, drink_name, recipe_url, image_url"
   ]
  },
  {
   "cell_type": "code",
   "execution_count": null,
   "metadata": {},
   "outputs": [],
   "source": [
    "from wordcloud import WordCloud\n",
    "long_string = ','.join(df_clean['recipe'])\n",
    "wordcloud = WordCloud(background_color = 'white',max_words=5000,contour_width=5,contour_color='steelblue')\n",
    "wordcloud.generate(long_string)\n",
    "wordcloud.to_image()"
   ]
  }
 ]
}