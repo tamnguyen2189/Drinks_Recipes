{
  "nbformat": 4,
  "nbformat_minor": 0,
  "metadata": {
    "colab": {
      "name": "[FINAL_PROJECT]_EDA_Data.ipynb",
      "provenance": [],
      "collapsed_sections": [
        "66KZI5D5RRfK",
        "2k7kPaR3Ro8J",
        "edxZyOboGGUD",
        "Q9q0f5zzUckK",
        "K0tLin3a2cC0",
        "51aWps1hvXPJ",
        "zZyZPv3C1RSx",
        "OHD51oUEQahr",
        "ocbqFJ_1jT6o"
      ],
      "toc_visible": true,
      "authorship_tag": "ABX9TyOiVo+KboeEahlOnyKimfe4",
      "include_colab_link": true
    },
    "kernelspec": {
      "name": "python3",
      "display_name": "Python 3"
    },
    "language_info": {
      "name": "python"
    }
  },
  "cells": [
    {
      "cell_type": "markdown",
      "metadata": {
        "id": "view-in-github",
        "colab_type": "text"
      },
      "source": [
        "<a href=\"https://colab.research.google.com/github/tamnguyen2189/Drinks_Recipes/blob/master/EDA_data.ipynb\" target=\"_parent\"><img src=\"https://colab.research.google.com/assets/colab-badge.svg\" alt=\"Open In Colab\"/></a>"
      ]
    },
    {
      "cell_type": "markdown",
      "metadata": {
        "id": "KBNi-1p43SVW"
      },
      "source": [
        "# **Drinks Ingredients & Recipes**\n",
        "![](https://t4.ftcdn.net/jpg/02/34/63/07/360_F_234630793_eHKQucxaXftnWrecTJFITmD4cr3TlUgG.jpg)\n",
        "\n",
        "\n",
        "\n"
      ]
    },
    {
      "cell_type": "markdown",
      "metadata": {
        "id": "wBn8rW2YQ6Kp"
      },
      "source": [
        "# 1. Overview Data"
      ]
    },
    {
      "cell_type": "markdown",
      "metadata": {
        "id": "GHECJRMz6W-I"
      },
      "source": [
        "## 1.1. Import libraries"
      ]
    },
    {
      "cell_type": "code",
      "metadata": {
        "colab": {
          "base_uri": "https://localhost:8080/"
        },
        "id": "_UuVfRUJDiIs",
        "outputId": "e54f5d0e-ac57-49a5-e114-0ae213ee97d0"
      },
      "source": [
        "from google.colab import drive\n",
        "drive.mount('/content/gdrive')"
      ],
      "execution_count": null,
      "outputs": [
        {
          "output_type": "stream",
          "text": [
            "Mounted at /content/gdrive\n"
          ],
          "name": "stdout"
        }
      ]
    },
    {
      "cell_type": "code",
      "metadata": {
        "colab": {
          "base_uri": "https://localhost:8080/",
          "height": 904
        },
        "id": "BMZ4y0xIBOpT",
        "outputId": "a186f8ae-ea73-4f3c-adad-10133f33be50"
      },
      "source": [
        "!pip install pyLDAvis"
      ],
      "execution_count": null,
      "outputs": [
        {
          "output_type": "stream",
          "text": [
            "Collecting pyLDAvis\n",
            "\u001b[?25l  Downloading https://files.pythonhosted.org/packages/03/a5/15a0da6b0150b8b68610cc78af80364a80a9a4c8b6dd5ee549b8989d4b60/pyLDAvis-3.3.1.tar.gz (1.7MB)\n",
            "\u001b[K     |████████████████████████████████| 1.7MB 5.3MB/s \n",
            "\u001b[?25h  Installing build dependencies ... \u001b[?25l\u001b[?25hdone\n",
            "  Getting requirements to build wheel ... \u001b[?25l\u001b[?25hdone\n",
            "  Installing backend dependencies ... \u001b[?25l\u001b[?25hdone\n",
            "    Preparing wheel metadata ... \u001b[?25l\u001b[?25hdone\n",
            "Collecting pandas>=1.2.0\n",
            "\u001b[?25l  Downloading https://files.pythonhosted.org/packages/51/51/48f3fc47c4e2144da2806dfb6629c4dd1fa3d5a143f9652b141e979a8ca9/pandas-1.2.4-cp37-cp37m-manylinux1_x86_64.whl (9.9MB)\n",
            "\u001b[K     |████████████████████████████████| 9.9MB 21.4MB/s \n",
            "\u001b[?25hRequirement already satisfied: setuptools in /usr/local/lib/python3.7/dist-packages (from pyLDAvis) (57.0.0)\n",
            "Requirement already satisfied: gensim in /usr/local/lib/python3.7/dist-packages (from pyLDAvis) (3.6.0)\n",
            "Requirement already satisfied: joblib in /usr/local/lib/python3.7/dist-packages (from pyLDAvis) (1.0.1)\n",
            "Requirement already satisfied: jinja2 in /usr/local/lib/python3.7/dist-packages (from pyLDAvis) (2.11.3)\n",
            "Requirement already satisfied: numexpr in /usr/local/lib/python3.7/dist-packages (from pyLDAvis) (2.7.3)\n",
            "Requirement already satisfied: sklearn in /usr/local/lib/python3.7/dist-packages (from pyLDAvis) (0.0)\n",
            "Requirement already satisfied: scikit-learn in /usr/local/lib/python3.7/dist-packages (from pyLDAvis) (0.22.2.post1)\n",
            "Collecting funcy\n",
            "  Downloading https://files.pythonhosted.org/packages/44/52/5cf7401456a461e4b481650dfb8279bc000f31a011d0918904f86e755947/funcy-1.16-py2.py3-none-any.whl\n",
            "Requirement already satisfied: scipy in /usr/local/lib/python3.7/dist-packages (from pyLDAvis) (1.4.1)\n",
            "Requirement already satisfied: future in /usr/local/lib/python3.7/dist-packages (from pyLDAvis) (0.16.0)\n",
            "Collecting numpy>=1.20.0\n",
            "\u001b[?25l  Downloading https://files.pythonhosted.org/packages/a5/42/560d269f604d3e186a57c21a363e77e199358d054884e61b73e405dd217c/numpy-1.20.3-cp37-cp37m-manylinux_2_12_x86_64.manylinux2010_x86_64.whl (15.3MB)\n",
            "\u001b[K     |████████████████████████████████| 15.3MB 153kB/s \n",
            "\u001b[?25hRequirement already satisfied: pytz>=2017.3 in /usr/local/lib/python3.7/dist-packages (from pandas>=1.2.0->pyLDAvis) (2018.9)\n",
            "Requirement already satisfied: python-dateutil>=2.7.3 in /usr/local/lib/python3.7/dist-packages (from pandas>=1.2.0->pyLDAvis) (2.8.1)\n",
            "Requirement already satisfied: smart-open>=1.2.1 in /usr/local/lib/python3.7/dist-packages (from gensim->pyLDAvis) (5.1.0)\n",
            "Requirement already satisfied: six>=1.5.0 in /usr/local/lib/python3.7/dist-packages (from gensim->pyLDAvis) (1.15.0)\n",
            "Requirement already satisfied: MarkupSafe>=0.23 in /usr/local/lib/python3.7/dist-packages (from jinja2->pyLDAvis) (2.0.1)\n",
            "Building wheels for collected packages: pyLDAvis\n",
            "  Building wheel for pyLDAvis (PEP 517) ... \u001b[?25l\u001b[?25hdone\n",
            "  Created wheel for pyLDAvis: filename=pyLDAvis-3.3.1-cp37-none-any.whl size=136897 sha256=4c0ad9470f94c6cb2d52c9d6d90beacaa45cba24c5f8bf6d37a6aeb2e61dd250\n",
            "  Stored in directory: /root/.cache/pip/wheels/a0/9c/fc/c6e00689d35c82cf96a8adc70edfe7ba7904374fdac3240ac2\n",
            "Successfully built pyLDAvis\n",
            "\u001b[31mERROR: tensorflow 2.5.0 has requirement numpy~=1.19.2, but you'll have numpy 1.20.3 which is incompatible.\u001b[0m\n",
            "\u001b[31mERROR: google-colab 1.0.0 has requirement pandas~=1.1.0; python_version >= \"3.0\", but you'll have pandas 1.2.4 which is incompatible.\u001b[0m\n",
            "\u001b[31mERROR: datascience 0.10.6 has requirement folium==0.2.1, but you'll have folium 0.8.3 which is incompatible.\u001b[0m\n",
            "\u001b[31mERROR: albumentations 0.1.12 has requirement imgaug<0.2.7,>=0.2.5, but you'll have imgaug 0.2.9 which is incompatible.\u001b[0m\n",
            "Installing collected packages: numpy, pandas, funcy, pyLDAvis\n",
            "  Found existing installation: numpy 1.19.5\n",
            "    Uninstalling numpy-1.19.5:\n",
            "      Successfully uninstalled numpy-1.19.5\n",
            "  Found existing installation: pandas 1.1.5\n",
            "    Uninstalling pandas-1.1.5:\n",
            "      Successfully uninstalled pandas-1.1.5\n",
            "Successfully installed funcy-1.16 numpy-1.20.3 pandas-1.2.4 pyLDAvis-3.3.1\n"
          ],
          "name": "stdout"
        },
        {
          "output_type": "display_data",
          "data": {
            "application/vnd.colab-display-data+json": {
              "pip_warning": {
                "packages": [
                  "numpy",
                  "pandas"
                ]
              }
            }
          },
          "metadata": {
            "tags": []
          }
        }
      ]
    },
    {
      "cell_type": "code",
      "metadata": {
        "colab": {
          "base_uri": "https://localhost:8080/",
          "height": 289
        },
        "id": "iTR6L_O5DEHU",
        "outputId": "fe5e0c56-60bf-424d-c8cb-0da1a55b0087"
      },
      "source": [
        "pip install -U gensim"
      ],
      "execution_count": null,
      "outputs": [
        {
          "output_type": "stream",
          "text": [
            "Collecting gensim\n",
            "\u001b[?25l  Downloading https://files.pythonhosted.org/packages/44/52/f1417772965652d4ca6f901515debcd9d6c5430969e8c02ee7737e6de61c/gensim-4.0.1-cp37-cp37m-manylinux1_x86_64.whl (23.9MB)\n",
            "\u001b[K     |████████████████████████████████| 23.9MB 120kB/s \n",
            "\u001b[?25hRequirement already satisfied, skipping upgrade: scipy>=0.18.1 in /usr/local/lib/python3.7/dist-packages (from gensim) (1.4.1)\n",
            "Requirement already satisfied, skipping upgrade: numpy>=1.11.3 in /usr/local/lib/python3.7/dist-packages (from gensim) (1.19.5)\n",
            "Requirement already satisfied, skipping upgrade: smart-open>=1.8.1 in /usr/local/lib/python3.7/dist-packages (from gensim) (5.1.0)\n",
            "Installing collected packages: gensim\n",
            "  Found existing installation: gensim 3.6.0\n",
            "    Uninstalling gensim-3.6.0:\n",
            "      Successfully uninstalled gensim-3.6.0\n",
            "Successfully installed gensim-4.0.1\n"
          ],
          "name": "stdout"
        },
        {
          "output_type": "display_data",
          "data": {
            "application/vnd.colab-display-data+json": {
              "pip_warning": {
                "packages": [
                  "gensim"
                ]
              }
            }
          },
          "metadata": {
            "tags": []
          }
        }
      ]
    },
    {
      "cell_type": "code",
      "metadata": {
        "id": "ku8DHGO-8iWC",
        "colab": {
          "base_uri": "https://localhost:8080/"
        },
        "outputId": "27ee0d56-252c-4f13-ae1b-6fd0eac9c02a"
      },
      "source": [
        "# EDA\n",
        "import pandas as pd\n",
        "import numpy as np\n",
        "import glob\n",
        "import re\n",
        "import matplotlib.pyplot as plt\n",
        "import seaborn as sns\n",
        "\n",
        "# Doc2Vec\n",
        "import nltk\n",
        "nltk.download('punkt')\n",
        "from nltk.tokenize import word_tokenize\n",
        "import numpy as np\n",
        "from gensim.test.utils import get_tmpfile\n",
        "from gensim.models.doc2vec import Doc2Vec, TaggedDocument\n",
        "\n",
        "# LDA\n",
        "import gensim\n",
        "from gensim.utils import simple_preprocess\n",
        "import nltk\n",
        "nltk.download('stopwords')\n",
        "from nltk.corpus import stopwords\n",
        "from nltk.stem import WordNetLemmatizer\n",
        "nltk.download('wordnet')\n",
        "import spacy\n",
        "import gensim.corpora as corpora\n",
        "from pprint import pprint\n",
        "from gensim.models import Phrases\n",
        "from gensim.models.coherencemodel import CoherenceModel\n",
        "from gensim.models.ldamodel import LdaModel\n",
        "from gensim.corpora.dictionary import Dictionary\n",
        "import pickle\n",
        "\n",
        "\n",
        "# Sklearn\n",
        "from sklearn.decomposition import PCA\n",
        "from sklearn.cluster import KMeans\n",
        "from sklearn.neighbors import NearestNeighbors\n",
        "\n",
        "import warnings\n",
        "warnings.filterwarnings(\"ignore\")\n",
        "# Show float data in two decimal number\n",
        "pd.set_option('float_format', '{:.2f}'.format)"
      ],
      "execution_count": null,
      "outputs": [
        {
          "output_type": "stream",
          "text": [
            "[nltk_data] Downloading package punkt to /root/nltk_data...\n",
            "[nltk_data]   Package punkt is already up-to-date!\n"
          ],
          "name": "stdout"
        },
        {
          "output_type": "stream",
          "text": [
            "/usr/local/lib/python3.7/dist-packages/gensim/similarities/__init__.py:15: UserWarning: The gensim.similarities.levenshtein submodule is disabled, because the optional Levenshtein package <https://pypi.org/project/python-Levenshtein/> is unavailable. Install Levenhstein (e.g. `pip install python-Levenshtein`) to suppress this warning.\n",
            "  warnings.warn(msg)\n"
          ],
          "name": "stderr"
        },
        {
          "output_type": "stream",
          "text": [
            "[nltk_data] Downloading package stopwords to /root/nltk_data...\n",
            "[nltk_data]   Package stopwords is already up-to-date!\n",
            "[nltk_data] Downloading package wordnet to /root/nltk_data...\n",
            "[nltk_data]   Package wordnet is already up-to-date!\n"
          ],
          "name": "stdout"
        }
      ]
    },
    {
      "cell_type": "markdown",
      "metadata": {
        "id": "kmzq0ehcRK55"
      },
      "source": [
        "## 1.2. Loading Data"
      ]
    },
    {
      "cell_type": "code",
      "metadata": {
        "id": "kfAabnw_6Bnl"
      },
      "source": [
        "# # Load data: concatenate all recipes into one file\n",
        "# path = r'/content/gdrive/MyDrive/Colab Notebooks/Final Project/Recipes' # use your path\n",
        "# files = glob.glob(path + \"/*.csv\")\n",
        "\n",
        "# all_files = []\n",
        "\n",
        "# for filename in files:\n",
        "#     df_sub = pd.read_csv(filename, index_col=None, header=0, encoding='utf-8')\n",
        "#     all_files.append(df_sub)\n",
        "#     # print(filename)\n",
        "\n",
        "# frame = pd.concat(all_files, axis=0, ignore_index=True)"
      ],
      "execution_count": null,
      "outputs": []
    },
    {
      "cell_type": "code",
      "metadata": {
        "id": "wRQz8m85uKQf"
      },
      "source": [
        "# Load data\n",
        "path = r'/content/gdrive/MyDrive/Colab Notebooks/Final Project/Recipes/clean_recipe.csv'\n",
        "frame = pd.read_csv(path, index_col=None, header=0, encoding='utf-8')"
      ],
      "execution_count": null,
      "outputs": []
    },
    {
      "cell_type": "code",
      "metadata": {
        "id": "w3Pu9BTDpAse"
      },
      "source": [
        "# Load data for training\n",
        "path = r'/content/gdrive/MyDrive/Colab Notebooks/Final Project/Recipes/clean_recipe_training.csv'\n",
        "frame = pd.read_csv(path, index_col=None, header=0, encoding='utf-8')"
      ],
      "execution_count": null,
      "outputs": []
    },
    {
      "cell_type": "code",
      "metadata": {
        "id": "_q4r1Gl4LPR4"
      },
      "source": [
        "df = frame.copy()\n",
        "df_clean = frame.copy()"
      ],
      "execution_count": null,
      "outputs": []
    },
    {
      "cell_type": "markdown",
      "metadata": {
        "id": "66KZI5D5RRfK"
      },
      "source": [
        "## 1.3. Overview Data"
      ]
    },
    {
      "cell_type": "code",
      "metadata": {
        "colab": {
          "base_uri": "https://localhost:8080/",
          "height": 173
        },
        "id": "x0hkcF-TO3nQ",
        "outputId": "2cf910da-2d93-4926-828f-e79715f161e9"
      },
      "source": [
        "df.describe()"
      ],
      "execution_count": null,
      "outputs": [
        {
          "output_type": "execute_result",
          "data": {
            "text/html": [
              "<div>\n",
              "<style scoped>\n",
              "    .dataframe tbody tr th:only-of-type {\n",
              "        vertical-align: middle;\n",
              "    }\n",
              "\n",
              "    .dataframe tbody tr th {\n",
              "        vertical-align: top;\n",
              "    }\n",
              "\n",
              "    .dataframe thead th {\n",
              "        text-align: right;\n",
              "    }\n",
              "</style>\n",
              "<table border=\"1\" class=\"dataframe\">\n",
              "  <thead>\n",
              "    <tr style=\"text-align: right;\">\n",
              "      <th></th>\n",
              "      <th>drink_name</th>\n",
              "      <th>recipe</th>\n",
              "      <th>recipe_url</th>\n",
              "      <th>url_of_image</th>\n",
              "    </tr>\n",
              "  </thead>\n",
              "  <tbody>\n",
              "    <tr>\n",
              "      <th>count</th>\n",
              "      <td>1560</td>\n",
              "      <td>1560</td>\n",
              "      <td>1560</td>\n",
              "      <td>1560</td>\n",
              "    </tr>\n",
              "    <tr>\n",
              "      <th>unique</th>\n",
              "      <td>1560</td>\n",
              "      <td>1560</td>\n",
              "      <td>1559</td>\n",
              "      <td>1537</td>\n",
              "    </tr>\n",
              "    <tr>\n",
              "      <th>top</th>\n",
              "      <td>Moscow Mule</td>\n",
              "      <td>1 tablespoon olive oil, 6 pita bread loaves, 1...</td>\n",
              "      <td>https://www.thespruceeats.com/jack-o-lantern-c...</td>\n",
              "      <td>/img/icons/generic-recipe.svg</td>\n",
              "    </tr>\n",
              "    <tr>\n",
              "      <th>freq</th>\n",
              "      <td>1</td>\n",
              "      <td>1</td>\n",
              "      <td>2</td>\n",
              "      <td>21</td>\n",
              "    </tr>\n",
              "  </tbody>\n",
              "</table>\n",
              "</div>"
            ],
            "text/plain": [
              "         drink_name  ...                   url_of_image\n",
              "count          1560  ...                           1560\n",
              "unique         1560  ...                           1537\n",
              "top     Moscow Mule  ...  /img/icons/generic-recipe.svg\n",
              "freq              1  ...                             21\n",
              "\n",
              "[4 rows x 4 columns]"
            ]
          },
          "metadata": {
            "tags": []
          },
          "execution_count": 20
        }
      ]
    },
    {
      "cell_type": "code",
      "metadata": {
        "colab": {
          "base_uri": "https://localhost:8080/"
        },
        "id": "Q1aHyUdLPGEX",
        "outputId": "060570ea-a4a4-499c-ca16-a4875b8c16c9"
      },
      "source": [
        "df['recipe'].describe()"
      ],
      "execution_count": null,
      "outputs": [
        {
          "output_type": "execute_result",
          "data": {
            "text/plain": [
              "count     6866\n",
              "unique    1587\n",
              "top         []\n",
              "freq      2741\n",
              "Name: recipe, dtype: object"
            ]
          },
          "metadata": {
            "tags": []
          },
          "execution_count": 36
        }
      ]
    },
    {
      "cell_type": "code",
      "metadata": {
        "colab": {
          "base_uri": "https://localhost:8080/"
        },
        "id": "0A92A3gyPM5e",
        "outputId": "92cbcba0-41b8-41f7-c007-565e12e0c688"
      },
      "source": [
        "df.info()"
      ],
      "execution_count": null,
      "outputs": [
        {
          "output_type": "stream",
          "text": [
            "<class 'pandas.core.frame.DataFrame'>\n",
            "RangeIndex: 7887 entries, 0 to 7886\n",
            "Data columns (total 4 columns):\n",
            " #   Column        Non-Null Count  Dtype \n",
            "---  ------        --------------  ----- \n",
            " 0   drink_name    7513 non-null   object\n",
            " 1   recipe        6866 non-null   object\n",
            " 2   recipe_url    6866 non-null   object\n",
            " 3   url_of_image  6845 non-null   object\n",
            "dtypes: object(4)\n",
            "memory usage: 246.6+ KB\n"
          ],
          "name": "stdout"
        }
      ]
    },
    {
      "cell_type": "markdown",
      "metadata": {
        "id": "2k7kPaR3Ro8J"
      },
      "source": [
        "# 2. Data Cleaning"
      ]
    },
    {
      "cell_type": "markdown",
      "metadata": {
        "id": "edxZyOboGGUD"
      },
      "source": [
        "## 2.1. Working with duplicated data"
      ]
    },
    {
      "cell_type": "code",
      "metadata": {
        "colab": {
          "base_uri": "https://localhost:8080/"
        },
        "id": "pXfmp_-oC7k5",
        "outputId": "c170e06f-a09c-4a41-e6dd-01bdd175f0a0"
      },
      "source": [
        "# Check wrong data\n",
        "df[df['recipe'] == '[]'].count()"
      ],
      "execution_count": null,
      "outputs": [
        {
          "output_type": "execute_result",
          "data": {
            "text/plain": [
              "drink_name      0\n",
              "recipe          0\n",
              "recipe_url      0\n",
              "url_of_image    0\n",
              "dtype: int64"
            ]
          },
          "metadata": {
            "tags": []
          },
          "execution_count": 28
        }
      ]
    },
    {
      "cell_type": "code",
      "metadata": {
        "id": "TKNTmv-w6SOM"
      },
      "source": [
        "# Drop wrong data\n",
        "df.drop(df[df['recipe'] == '[]'].index, inplace= True)"
      ],
      "execution_count": null,
      "outputs": []
    },
    {
      "cell_type": "code",
      "metadata": {
        "colab": {
          "base_uri": "https://localhost:8080/",
          "height": 419
        },
        "id": "nyVC7biIgRc4",
        "outputId": "0d6de369-d336-42a2-975b-bcb185e437dd"
      },
      "source": [
        "# Check for duplication in \"drink_name\" column only \n",
        "df[df.duplicated(subset='drink_name')]"
      ],
      "execution_count": null,
      "outputs": [
        {
          "output_type": "execute_result",
          "data": {
            "text/html": [
              "<div>\n",
              "<style scoped>\n",
              "    .dataframe tbody tr th:only-of-type {\n",
              "        vertical-align: middle;\n",
              "    }\n",
              "\n",
              "    .dataframe tbody tr th {\n",
              "        vertical-align: top;\n",
              "    }\n",
              "\n",
              "    .dataframe thead th {\n",
              "        text-align: right;\n",
              "    }\n",
              "</style>\n",
              "<table border=\"1\" class=\"dataframe\">\n",
              "  <thead>\n",
              "    <tr style=\"text-align: right;\">\n",
              "      <th></th>\n",
              "      <th>drink_name</th>\n",
              "      <th>recipe</th>\n",
              "      <th>recipe_url</th>\n",
              "      <th>url_of_image</th>\n",
              "    </tr>\n",
              "  </thead>\n",
              "  <tbody>\n",
              "    <tr>\n",
              "      <th>1047</th>\n",
              "      <td>Turmeric Tea</td>\n",
              "      <td>['2 tablespoons ground turmeric', '1/4 cup wat...</td>\n",
              "      <td>https://www.thespruceeats.com/traditional-yogi...</td>\n",
              "      <td>https://www.thespruceeats.com/thmb/2e9g8GRB6kR...</td>\n",
              "    </tr>\n",
              "    <tr>\n",
              "      <th>6805</th>\n",
              "      <td>Irish Slammer</td>\n",
              "      <td>['¾ fluid ounce Irish whiskey ', '¾ fluid ounc...</td>\n",
              "      <td>https://www.allrecipes.com/recipe/22721/irish-...</td>\n",
              "      <td>https://imagesvc.meredithcorp.io/v3/mm/image?u...</td>\n",
              "    </tr>\n",
              "    <tr>\n",
              "      <th>6865</th>\n",
              "      <td>Tom Collins Cocktail</td>\n",
              "      <td>['1\\u2009½ cups ice ', '2 fluid ounces gin ', ...</td>\n",
              "      <td>https://www.allrecipes.com/recipe/222511/tom-c...</td>\n",
              "      <td>https://imagesvc.meredithcorp.io/v3/mm/image?u...</td>\n",
              "    </tr>\n",
              "    <tr>\n",
              "      <th>6870</th>\n",
              "      <td>Blue Hawaiian Cocktail</td>\n",
              "      <td>['1 fluid ounce light rum ', '1 fluid ounce bl...</td>\n",
              "      <td>https://www.allrecipes.com/recipe/222550/blue-...</td>\n",
              "      <td>https://imagesvc.meredithcorp.io/v3/mm/image?u...</td>\n",
              "    </tr>\n",
              "    <tr>\n",
              "      <th>6880</th>\n",
              "      <td>Grasshopper Cocktail</td>\n",
              "      <td>['¾ fluid ounce creme de menthe ', '¾ fluid ou...</td>\n",
              "      <td>https://www.allrecipes.com/recipe/222885/grass...</td>\n",
              "      <td>https://imagesvc.meredithcorp.io/v3/mm/image?u...</td>\n",
              "    </tr>\n",
              "    <tr>\n",
              "      <th>...</th>\n",
              "      <td>...</td>\n",
              "      <td>...</td>\n",
              "      <td>...</td>\n",
              "      <td>...</td>\n",
              "    </tr>\n",
              "    <tr>\n",
              "      <th>9442</th>\n",
              "      <td>Pomegranate Grapefruit Frosé</td>\n",
              "      <td>3 ounces rosé wine, 1 ounce pomegranate vodka,...</td>\n",
              "      <td>https://www.thespruceeats.com/pomegranate-grap...</td>\n",
              "      <td>https://www.thespruceeats.com/thmb/H-b0hxQw03N...</td>\n",
              "    </tr>\n",
              "    <tr>\n",
              "      <th>9443</th>\n",
              "      <td>Tequila Sangria</td>\n",
              "      <td>3/4 cup water, 3/4 cup sugar, 1 tea bag hibisc...</td>\n",
              "      <td>https://www.thespruceeats.com/liquid-lust-reci...</td>\n",
              "      <td>https://www.thespruceeats.com/thmb/4-evXHeQjR8...</td>\n",
              "    </tr>\n",
              "    <tr>\n",
              "      <th>9444</th>\n",
              "      <td>Brazilian Sangria</td>\n",
              "      <td>1/2 cup fresh seasonal fruits, 1/2 ounce absin...</td>\n",
              "      <td>https://www.thespruceeats.com/brazilian-sangri...</td>\n",
              "      <td>https://www.thespruceeats.com/thmb/vdKWdkVi6nI...</td>\n",
              "    </tr>\n",
              "    <tr>\n",
              "      <th>9445</th>\n",
              "      <td>Frisco 49</td>\n",
              "      <td>1 medium bartlett pear, 1 medium anjou pear, 1...</td>\n",
              "      <td>https://www.thespruceeats.com/frisco-49-recipe...</td>\n",
              "      <td>https://www.thespruceeats.com/thmb/5l9tyXQaaTo...</td>\n",
              "    </tr>\n",
              "    <tr>\n",
              "      <th>9446</th>\n",
              "      <td>Plumdog Millionaire</td>\n",
              "      <td>lavender sugar, 2 ounces gin, 1 ounce plum win...</td>\n",
              "      <td>https://www.thespruceeats.com/plumdog-milliona...</td>\n",
              "      <td>https://www.thespruceeats.com/thmb/bIc9VuebGo9...</td>\n",
              "    </tr>\n",
              "  </tbody>\n",
              "</table>\n",
              "<p>1578 rows × 4 columns</p>\n",
              "</div>"
            ],
            "text/plain": [
              "                        drink_name  ...                                       url_of_image\n",
              "1047                  Turmeric Tea  ...  https://www.thespruceeats.com/thmb/2e9g8GRB6kR...\n",
              "6805                 Irish Slammer  ...  https://imagesvc.meredithcorp.io/v3/mm/image?u...\n",
              "6865          Tom Collins Cocktail  ...  https://imagesvc.meredithcorp.io/v3/mm/image?u...\n",
              "6870        Blue Hawaiian Cocktail  ...  https://imagesvc.meredithcorp.io/v3/mm/image?u...\n",
              "6880          Grasshopper Cocktail  ...  https://imagesvc.meredithcorp.io/v3/mm/image?u...\n",
              "...                            ...  ...                                                ...\n",
              "9442  Pomegranate Grapefruit Frosé  ...  https://www.thespruceeats.com/thmb/H-b0hxQw03N...\n",
              "9443               Tequila Sangria  ...  https://www.thespruceeats.com/thmb/4-evXHeQjR8...\n",
              "9444             Brazilian Sangria  ...  https://www.thespruceeats.com/thmb/vdKWdkVi6nI...\n",
              "9445                     Frisco 49  ...  https://www.thespruceeats.com/thmb/5l9tyXQaaTo...\n",
              "9446           Plumdog Millionaire  ...  https://www.thespruceeats.com/thmb/bIc9VuebGo9...\n",
              "\n",
              "[1578 rows x 4 columns]"
            ]
          },
          "metadata": {
            "tags": []
          },
          "execution_count": 30
        }
      ]
    },
    {
      "cell_type": "code",
      "metadata": {
        "id": "UJKZOLrUhIQO"
      },
      "source": [
        "# Drop duplicated data\n",
        "df.drop_duplicates(subset ='recipe',\n",
        "                     keep = 'first', inplace = True)"
      ],
      "execution_count": null,
      "outputs": []
    },
    {
      "cell_type": "code",
      "metadata": {
        "colab": {
          "base_uri": "https://localhost:8080/",
          "height": 419
        },
        "id": "M280gVgqhU6p",
        "outputId": "020acaa7-b26f-4792-d695-98da8e828b09"
      },
      "source": [
        "# Check data after drop\n",
        "df"
      ],
      "execution_count": null,
      "outputs": [
        {
          "output_type": "execute_result",
          "data": {
            "text/html": [
              "<div>\n",
              "<style scoped>\n",
              "    .dataframe tbody tr th:only-of-type {\n",
              "        vertical-align: middle;\n",
              "    }\n",
              "\n",
              "    .dataframe tbody tr th {\n",
              "        vertical-align: top;\n",
              "    }\n",
              "\n",
              "    .dataframe thead th {\n",
              "        text-align: right;\n",
              "    }\n",
              "</style>\n",
              "<table border=\"1\" class=\"dataframe\">\n",
              "  <thead>\n",
              "    <tr style=\"text-align: right;\">\n",
              "      <th></th>\n",
              "      <th>drink_name</th>\n",
              "      <th>recipe</th>\n",
              "      <th>recipe_url</th>\n",
              "      <th>url_of_image</th>\n",
              "    </tr>\n",
              "  </thead>\n",
              "  <tbody>\n",
              "    <tr>\n",
              "      <th>2</th>\n",
              "      <td>Citrus-Flavored Margarita Salt</td>\n",
              "      <td>['2 tablespoons lime zest', '2 tablespoons ora...</td>\n",
              "      <td>https://www.thespruceeats.com/margarita-salt-r...</td>\n",
              "      <td>https://www.thespruceeats.com/thmb/7AaVYIydt7O...</td>\n",
              "    </tr>\n",
              "    <tr>\n",
              "      <th>3</th>\n",
              "      <td>Rum Swizzle Cocktail</td>\n",
              "      <td>['2 cups crushed ice', '1 ounce dark rum', '1 ...</td>\n",
              "      <td>https://www.thespruceeats.com/rum-swizzle-cock...</td>\n",
              "      <td>https://www.thespruceeats.com/thmb/00YL986heml...</td>\n",
              "    </tr>\n",
              "    <tr>\n",
              "      <th>7</th>\n",
              "      <td>Keto Mulled Wine</td>\n",
              "      <td>['1 cup water', '1 orange', '1 cup cranberries...</td>\n",
              "      <td>https://www.thespruceeats.com/keto-mulled-wine...</td>\n",
              "      <td>https://www.thespruceeats.com/thmb/JTiQycCw4Bd...</td>\n",
              "    </tr>\n",
              "    <tr>\n",
              "      <th>11</th>\n",
              "      <td>Keto Simple Syrup</td>\n",
              "      <td>['1 cup water', '1 cup allulose monk fruit swe...</td>\n",
              "      <td>https://www.thespruceeats.com/keto-simple-syru...</td>\n",
              "      <td>https://www.thespruceeats.com/thmb/bxHhYJVt3Oz...</td>\n",
              "    </tr>\n",
              "    <tr>\n",
              "      <th>13</th>\n",
              "      <td>Birthday Cake Shot</td>\n",
              "      <td>['Vanilla frosting', 'Candy sprinkles', '1 oun...</td>\n",
              "      <td>https://www.thespruceeats.com/birthday-cake-sh...</td>\n",
              "      <td>https://www.thespruceeats.com/thmb/S5ddalTkIbo...</td>\n",
              "    </tr>\n",
              "    <tr>\n",
              "      <th>...</th>\n",
              "      <td>...</td>\n",
              "      <td>...</td>\n",
              "      <td>...</td>\n",
              "      <td>...</td>\n",
              "    </tr>\n",
              "    <tr>\n",
              "      <th>9442</th>\n",
              "      <td>Pomegranate Grapefruit Frosé</td>\n",
              "      <td>3 ounces rosé wine, 1 ounce pomegranate vodka,...</td>\n",
              "      <td>https://www.thespruceeats.com/pomegranate-grap...</td>\n",
              "      <td>https://www.thespruceeats.com/thmb/H-b0hxQw03N...</td>\n",
              "    </tr>\n",
              "    <tr>\n",
              "      <th>9443</th>\n",
              "      <td>Tequila Sangria</td>\n",
              "      <td>3/4 cup water, 3/4 cup sugar, 1 tea bag hibisc...</td>\n",
              "      <td>https://www.thespruceeats.com/liquid-lust-reci...</td>\n",
              "      <td>https://www.thespruceeats.com/thmb/4-evXHeQjR8...</td>\n",
              "    </tr>\n",
              "    <tr>\n",
              "      <th>9444</th>\n",
              "      <td>Brazilian Sangria</td>\n",
              "      <td>1/2 cup fresh seasonal fruits, 1/2 ounce absin...</td>\n",
              "      <td>https://www.thespruceeats.com/brazilian-sangri...</td>\n",
              "      <td>https://www.thespruceeats.com/thmb/vdKWdkVi6nI...</td>\n",
              "    </tr>\n",
              "    <tr>\n",
              "      <th>9445</th>\n",
              "      <td>Frisco 49</td>\n",
              "      <td>1 medium bartlett pear, 1 medium anjou pear, 1...</td>\n",
              "      <td>https://www.thespruceeats.com/frisco-49-recipe...</td>\n",
              "      <td>https://www.thespruceeats.com/thmb/5l9tyXQaaTo...</td>\n",
              "    </tr>\n",
              "    <tr>\n",
              "      <th>9446</th>\n",
              "      <td>Plumdog Millionaire</td>\n",
              "      <td>lavender sugar, 2 ounces gin, 1 ounce plum win...</td>\n",
              "      <td>https://www.thespruceeats.com/plumdog-milliona...</td>\n",
              "      <td>https://www.thespruceeats.com/thmb/bIc9VuebGo9...</td>\n",
              "    </tr>\n",
              "  </tbody>\n",
              "</table>\n",
              "<p>3146 rows × 4 columns</p>\n",
              "</div>"
            ],
            "text/plain": [
              "                          drink_name  ...                                       url_of_image\n",
              "2     Citrus-Flavored Margarita Salt  ...  https://www.thespruceeats.com/thmb/7AaVYIydt7O...\n",
              "3               Rum Swizzle Cocktail  ...  https://www.thespruceeats.com/thmb/00YL986heml...\n",
              "7                   Keto Mulled Wine  ...  https://www.thespruceeats.com/thmb/JTiQycCw4Bd...\n",
              "11                 Keto Simple Syrup  ...  https://www.thespruceeats.com/thmb/bxHhYJVt3Oz...\n",
              "13                Birthday Cake Shot  ...  https://www.thespruceeats.com/thmb/S5ddalTkIbo...\n",
              "...                              ...  ...                                                ...\n",
              "9442    Pomegranate Grapefruit Frosé  ...  https://www.thespruceeats.com/thmb/H-b0hxQw03N...\n",
              "9443                 Tequila Sangria  ...  https://www.thespruceeats.com/thmb/4-evXHeQjR8...\n",
              "9444               Brazilian Sangria  ...  https://www.thespruceeats.com/thmb/vdKWdkVi6nI...\n",
              "9445                       Frisco 49  ...  https://www.thespruceeats.com/thmb/5l9tyXQaaTo...\n",
              "9446             Plumdog Millionaire  ...  https://www.thespruceeats.com/thmb/bIc9VuebGo9...\n",
              "\n",
              "[3146 rows x 4 columns]"
            ]
          },
          "metadata": {
            "tags": []
          },
          "execution_count": 40
        }
      ]
    },
    {
      "cell_type": "markdown",
      "metadata": {
        "id": "Q9q0f5zzUckK"
      },
      "source": [
        "## 2.2. Working with missing value"
      ]
    },
    {
      "cell_type": "code",
      "metadata": {
        "colab": {
          "base_uri": "https://localhost:8080/"
        },
        "id": "7Pk0DIXbfT84",
        "outputId": "5f269e2d-a2e8-4e94-a2ab-b7f59bebc80f"
      },
      "source": [
        "# Check na values\n",
        "df.isnull().sum()"
      ],
      "execution_count": null,
      "outputs": [
        {
          "output_type": "execute_result",
          "data": {
            "text/plain": [
              "drink_name      0\n",
              "recipe          0\n",
              "recipe_url      0\n",
              "url_of_image    0\n",
              "dtype: int64"
            ]
          },
          "metadata": {
            "tags": []
          },
          "execution_count": 33
        }
      ]
    },
    {
      "cell_type": "code",
      "metadata": {
        "id": "y6_qWlniFpnK"
      },
      "source": [
        "# Drop all na values\n",
        "df.dropna(axis=0, inplace=True)"
      ],
      "execution_count": null,
      "outputs": []
    },
    {
      "cell_type": "code",
      "metadata": {
        "colab": {
          "base_uri": "https://localhost:8080/",
          "height": 419
        },
        "id": "_38TVLroF35p",
        "outputId": "681f5a10-88a0-4f67-8175-80e4308826f7"
      },
      "source": [
        "# Check data after drop\n",
        "df"
      ],
      "execution_count": null,
      "outputs": [
        {
          "output_type": "execute_result",
          "data": {
            "text/html": [
              "<div>\n",
              "<style scoped>\n",
              "    .dataframe tbody tr th:only-of-type {\n",
              "        vertical-align: middle;\n",
              "    }\n",
              "\n",
              "    .dataframe tbody tr th {\n",
              "        vertical-align: top;\n",
              "    }\n",
              "\n",
              "    .dataframe thead th {\n",
              "        text-align: right;\n",
              "    }\n",
              "</style>\n",
              "<table border=\"1\" class=\"dataframe\">\n",
              "  <thead>\n",
              "    <tr style=\"text-align: right;\">\n",
              "      <th></th>\n",
              "      <th>drink_name</th>\n",
              "      <th>recipe</th>\n",
              "      <th>recipe_url</th>\n",
              "      <th>url_of_image</th>\n",
              "    </tr>\n",
              "  </thead>\n",
              "  <tbody>\n",
              "    <tr>\n",
              "      <th>2</th>\n",
              "      <td>Citrus-Flavored Margarita Salt</td>\n",
              "      <td>['2 tablespoons lime zest', '2 tablespoons ora...</td>\n",
              "      <td>https://www.thespruceeats.com/margarita-salt-r...</td>\n",
              "      <td>https://www.thespruceeats.com/thmb/7AaVYIydt7O...</td>\n",
              "    </tr>\n",
              "    <tr>\n",
              "      <th>3</th>\n",
              "      <td>Rum Swizzle Cocktail</td>\n",
              "      <td>['2 cups crushed ice', '1 ounce dark rum', '1 ...</td>\n",
              "      <td>https://www.thespruceeats.com/rum-swizzle-cock...</td>\n",
              "      <td>https://www.thespruceeats.com/thmb/00YL986heml...</td>\n",
              "    </tr>\n",
              "    <tr>\n",
              "      <th>7</th>\n",
              "      <td>Keto Mulled Wine</td>\n",
              "      <td>['1 cup water', '1 orange', '1 cup cranberries...</td>\n",
              "      <td>https://www.thespruceeats.com/keto-mulled-wine...</td>\n",
              "      <td>https://www.thespruceeats.com/thmb/JTiQycCw4Bd...</td>\n",
              "    </tr>\n",
              "    <tr>\n",
              "      <th>11</th>\n",
              "      <td>Keto Simple Syrup</td>\n",
              "      <td>['1 cup water', '1 cup allulose monk fruit swe...</td>\n",
              "      <td>https://www.thespruceeats.com/keto-simple-syru...</td>\n",
              "      <td>https://www.thespruceeats.com/thmb/bxHhYJVt3Oz...</td>\n",
              "    </tr>\n",
              "    <tr>\n",
              "      <th>13</th>\n",
              "      <td>Birthday Cake Shot</td>\n",
              "      <td>['Vanilla frosting', 'Candy sprinkles', '1 oun...</td>\n",
              "      <td>https://www.thespruceeats.com/birthday-cake-sh...</td>\n",
              "      <td>https://www.thespruceeats.com/thmb/S5ddalTkIbo...</td>\n",
              "    </tr>\n",
              "    <tr>\n",
              "      <th>...</th>\n",
              "      <td>...</td>\n",
              "      <td>...</td>\n",
              "      <td>...</td>\n",
              "      <td>...</td>\n",
              "    </tr>\n",
              "    <tr>\n",
              "      <th>9442</th>\n",
              "      <td>Pomegranate Grapefruit Frosé</td>\n",
              "      <td>3 ounces rosé wine, 1 ounce pomegranate vodka,...</td>\n",
              "      <td>https://www.thespruceeats.com/pomegranate-grap...</td>\n",
              "      <td>https://www.thespruceeats.com/thmb/H-b0hxQw03N...</td>\n",
              "    </tr>\n",
              "    <tr>\n",
              "      <th>9443</th>\n",
              "      <td>Tequila Sangria</td>\n",
              "      <td>3/4 cup water, 3/4 cup sugar, 1 tea bag hibisc...</td>\n",
              "      <td>https://www.thespruceeats.com/liquid-lust-reci...</td>\n",
              "      <td>https://www.thespruceeats.com/thmb/4-evXHeQjR8...</td>\n",
              "    </tr>\n",
              "    <tr>\n",
              "      <th>9444</th>\n",
              "      <td>Brazilian Sangria</td>\n",
              "      <td>1/2 cup fresh seasonal fruits, 1/2 ounce absin...</td>\n",
              "      <td>https://www.thespruceeats.com/brazilian-sangri...</td>\n",
              "      <td>https://www.thespruceeats.com/thmb/vdKWdkVi6nI...</td>\n",
              "    </tr>\n",
              "    <tr>\n",
              "      <th>9445</th>\n",
              "      <td>Frisco 49</td>\n",
              "      <td>1 medium bartlett pear, 1 medium anjou pear, 1...</td>\n",
              "      <td>https://www.thespruceeats.com/frisco-49-recipe...</td>\n",
              "      <td>https://www.thespruceeats.com/thmb/5l9tyXQaaTo...</td>\n",
              "    </tr>\n",
              "    <tr>\n",
              "      <th>9446</th>\n",
              "      <td>Plumdog Millionaire</td>\n",
              "      <td>lavender sugar, 2 ounces gin, 1 ounce plum win...</td>\n",
              "      <td>https://www.thespruceeats.com/plumdog-milliona...</td>\n",
              "      <td>https://www.thespruceeats.com/thmb/bIc9VuebGo9...</td>\n",
              "    </tr>\n",
              "  </tbody>\n",
              "</table>\n",
              "<p>3146 rows × 4 columns</p>\n",
              "</div>"
            ],
            "text/plain": [
              "                          drink_name  ...                                       url_of_image\n",
              "2     Citrus-Flavored Margarita Salt  ...  https://www.thespruceeats.com/thmb/7AaVYIydt7O...\n",
              "3               Rum Swizzle Cocktail  ...  https://www.thespruceeats.com/thmb/00YL986heml...\n",
              "7                   Keto Mulled Wine  ...  https://www.thespruceeats.com/thmb/JTiQycCw4Bd...\n",
              "11                 Keto Simple Syrup  ...  https://www.thespruceeats.com/thmb/bxHhYJVt3Oz...\n",
              "13                Birthday Cake Shot  ...  https://www.thespruceeats.com/thmb/S5ddalTkIbo...\n",
              "...                              ...  ...                                                ...\n",
              "9442    Pomegranate Grapefruit Frosé  ...  https://www.thespruceeats.com/thmb/H-b0hxQw03N...\n",
              "9443                 Tequila Sangria  ...  https://www.thespruceeats.com/thmb/4-evXHeQjR8...\n",
              "9444               Brazilian Sangria  ...  https://www.thespruceeats.com/thmb/vdKWdkVi6nI...\n",
              "9445                       Frisco 49  ...  https://www.thespruceeats.com/thmb/5l9tyXQaaTo...\n",
              "9446             Plumdog Millionaire  ...  https://www.thespruceeats.com/thmb/bIc9VuebGo9...\n",
              "\n",
              "[3146 rows x 4 columns]"
            ]
          },
          "metadata": {
            "tags": []
          },
          "execution_count": 38
        }
      ]
    },
    {
      "cell_type": "markdown",
      "metadata": {
        "id": "l_q5KF-zdBTL"
      },
      "source": [
        "## 2.3 Functions"
      ]
    },
    {
      "cell_type": "code",
      "metadata": {
        "id": "gjvhqtsKqVh9"
      },
      "source": [
        "# Function to clean recipes in dataset\n",
        "def clean_recipe(recipe):\n",
        "    pat1 = r'[\\'\\\"\\(\\)*,:;.!?~\\[\\]\\{\\}]'\n",
        "    pat2 = r'\\\\\\w{2}\\d'  \n",
        "    pat3 = r'\\\\\\w\\d{4}'\n",
        "    pat4 = r'\\\\\\w\\d{3}\\w'\n",
        "    clean_recipe = recipe.replace('-',' ').lower()  #.strip('-[]{}\\'!?~')\n",
        "    clean_recipe = re.sub(pat1,'',clean_recipe)\n",
        "    clean_recipe = re.sub(pat2,'',clean_recipe)\n",
        "    clean_recipe = re.sub(pat3,'',clean_recipe)\n",
        "    clean_recipe = re.sub(pat4,'',clean_recipe)\n",
        "    return clean_recipe\n"
      ],
      "execution_count": null,
      "outputs": []
    },
    {
      "cell_type": "code",
      "metadata": {
        "id": "MfGt9lR7Fd3Q"
      },
      "source": [
        "# Function to search recipes in dataset\n",
        "def searching_recipe(ingredients, data):\n",
        "    \"\"\" Dataset: df_clean\n",
        "        Input: Ingredients\n",
        "        Flow: searching recipe in dataset\n",
        "        Output: all informations that contain ingredients\n",
        "    \"\"\"\n",
        "    recipe_list = []\n",
        "    drink_name = []\n",
        "    recipe_url = []\n",
        "    image_url = []\n",
        "    for i in range(len(data['recipe'])):\n",
        "        check_recipe = all(item in data['recipe'][i] for item in ingredients)\n",
        "        check_name = any(item in data['drink_name'][i] for item in ingredients)\n",
        "        if check_recipe == True:\n",
        "            recipe_list.append(data['recipe'][i])\n",
        "            drink_name.append(data['drink_name'][i])\n",
        "            recipe_url.append(data['recipe_url'][i])\n",
        "            image_url.append(data['url_of_image'][i])\n",
        "        elif check_name == True:\n",
        "            recipe_list.append(data['recipe'][i])\n",
        "            drink_name.append(data['drink_name'][i])\n",
        "            recipe_url.append(data['recipe_url'][i])\n",
        "            image_url.append(data['url_of_image'][i])\n",
        "    \n",
        "    return recipe_list, drink_name, recipe_url, image_url"
      ],
      "execution_count": null,
      "outputs": []
    },
    {
      "cell_type": "markdown",
      "metadata": {
        "id": "saNQLiOfdRfU"
      },
      "source": [
        "## 2.4. Cleaning recipes"
      ]
    },
    {
      "cell_type": "code",
      "metadata": {
        "id": "-HO8QZy6Gmu7"
      },
      "source": [
        "# Copy data\n",
        "df_clean = df.copy()"
      ],
      "execution_count": null,
      "outputs": []
    },
    {
      "cell_type": "code",
      "metadata": {
        "id": "OHTDLuikG0XM"
      },
      "source": [
        "# Apply cleaning function on df_clean\n",
        "df_clean['recipe'] = df_clean['recipe'].apply(lambda x: clean_recipe(x))\n",
        "df_clean['drink_name'] = df_clean['drink_name'].apply(lambda x: clean_recipe(x))"
      ],
      "execution_count": null,
      "outputs": []
    },
    {
      "cell_type": "code",
      "metadata": {
        "colab": {
          "base_uri": "https://localhost:8080/",
          "height": 700
        },
        "id": "bdW4lO7PV-pH",
        "outputId": "6a72753b-8136-4423-8af4-0f48e06df488"
      },
      "source": [
        "# Check all recipes with error url_of_image\n",
        "df_clean[df_clean['url_of_image']=='/img/icons/generic-recipe.svg']"
      ],
      "execution_count": null,
      "outputs": [
        {
          "output_type": "execute_result",
          "data": {
            "text/html": [
              "<div>\n",
              "<style scoped>\n",
              "    .dataframe tbody tr th:only-of-type {\n",
              "        vertical-align: middle;\n",
              "    }\n",
              "\n",
              "    .dataframe tbody tr th {\n",
              "        vertical-align: top;\n",
              "    }\n",
              "\n",
              "    .dataframe thead th {\n",
              "        text-align: right;\n",
              "    }\n",
              "</style>\n",
              "<table border=\"1\" class=\"dataframe\">\n",
              "  <thead>\n",
              "    <tr style=\"text-align: right;\">\n",
              "      <th></th>\n",
              "      <th>drink_name</th>\n",
              "      <th>recipe</th>\n",
              "      <th>recipe_url</th>\n",
              "      <th>url_of_image</th>\n",
              "    </tr>\n",
              "  </thead>\n",
              "  <tbody>\n",
              "    <tr>\n",
              "      <th>939</th>\n",
              "      <td>frank the tanks red dragon ale</td>\n",
              "      <td>3 gallons water  8 ounces crystal malt  4 ounc...</td>\n",
              "      <td>https://www.allrecipes.com/recipe/101895/frank...</td>\n",
              "      <td>/img/icons/generic-recipe.svg</td>\n",
              "    </tr>\n",
              "    <tr>\n",
              "      <th>940</th>\n",
              "      <td>irish chocolate stout</td>\n",
              "      <td>3 gallons water    2 teaspoons gypsum divided ...</td>\n",
              "      <td>https://www.allrecipes.com/recipe/102126/irish...</td>\n",
              "      <td>/img/icons/generic-recipe.svg</td>\n",
              "    </tr>\n",
              "    <tr>\n",
              "      <th>946</th>\n",
              "      <td>irish cookie</td>\n",
              "      <td>½ ounce stirrings chocolate peppermintini cock...</td>\n",
              "      <td>https://www.allrecipes.com/recipe/179324/irish...</td>\n",
              "      <td>/img/icons/generic-recipe.svg</td>\n",
              "    </tr>\n",
              "    <tr>\n",
              "      <th>947</th>\n",
              "      <td>snail pale</td>\n",
              "      <td>3 gallons water  8 ounces crystal malt 60l in ...</td>\n",
              "      <td>https://www.allrecipes.com/recipe/101923/snail...</td>\n",
              "      <td>/img/icons/generic-recipe.svg</td>\n",
              "    </tr>\n",
              "    <tr>\n",
              "      <th>967</th>\n",
              "      <td>spiked hot apple cider</td>\n",
              "      <td>1 gallon apple cider  3  cinnamon sticks broke...</td>\n",
              "      <td>https://www.allrecipes.com/recipe/235526/spike...</td>\n",
              "      <td>/img/icons/generic-recipe.svg</td>\n",
              "    </tr>\n",
              "    <tr>\n",
              "      <th>968</th>\n",
              "      <td>holiday apple wassail</td>\n",
              "      <td>1 gallon apple cider  6  apples cored and cut ...</td>\n",
              "      <td>https://www.allrecipes.com/recipe/181762/holid...</td>\n",
              "      <td>/img/icons/generic-recipe.svg</td>\n",
              "    </tr>\n",
              "    <tr>\n",
              "      <th>970</th>\n",
              "      <td>hot mulled cider</td>\n",
              "      <td>9  whole cloves  9  whole allspice berries  4 ...</td>\n",
              "      <td>https://www.allrecipes.com/recipe/275198/hot-m...</td>\n",
              "      <td>/img/icons/generic-recipe.svg</td>\n",
              "    </tr>\n",
              "    <tr>\n",
              "      <th>972</th>\n",
              "      <td>freyja farms holiday mulled cider</td>\n",
              "      <td>40  whole cloves  2 large  oranges peeled  2  ...</td>\n",
              "      <td>https://www.allrecipes.com/recipe/240768/freyj...</td>\n",
              "      <td>/img/icons/generic-recipe.svg</td>\n",
              "    </tr>\n",
              "    <tr>\n",
              "      <th>973</th>\n",
              "      <td>christmas wassail with baked apples</td>\n",
              "      <td>3 large cooking apples cored and halved  1 gal...</td>\n",
              "      <td>https://www.allrecipes.com/recipe/230423/chris...</td>\n",
              "      <td>/img/icons/generic-recipe.svg</td>\n",
              "    </tr>\n",
              "    <tr>\n",
              "      <th>975</th>\n",
              "      <td>holiday cider</td>\n",
              "      <td>1 gallon apple cider  1 64 fluid ounce bottle ...</td>\n",
              "      <td>https://www.allrecipes.com/recipe/276190/holid...</td>\n",
              "      <td>/img/icons/generic-recipe.svg</td>\n",
              "    </tr>\n",
              "    <tr>\n",
              "      <th>1180</th>\n",
              "      <td>melon liqueur</td>\n",
              "      <td>¼  honeydew melon - peeled seeded and cubed  1...</td>\n",
              "      <td>https://www.allrecipes.com/recipe/215352/melon...</td>\n",
              "      <td>/img/icons/generic-recipe.svg</td>\n",
              "    </tr>\n",
              "    <tr>\n",
              "      <th>1234</th>\n",
              "      <td>scandinavian glogg</td>\n",
              "      <td>109½ cups red wine  109½ cups ruby port wine  ...</td>\n",
              "      <td>https://www.allrecipes.com/recipe/9256/scandin...</td>\n",
              "      <td>/img/icons/generic-recipe.svg</td>\n",
              "    </tr>\n",
              "    <tr>\n",
              "      <th>1235</th>\n",
              "      <td>mulled wine with honey</td>\n",
              "      <td>½ cup water  ¼ cup honey  2  cinnamon sticks  ...</td>\n",
              "      <td>https://www.allrecipes.com/recipe/267718/mulle...</td>\n",
              "      <td>/img/icons/generic-recipe.svg</td>\n",
              "    </tr>\n",
              "    <tr>\n",
              "      <th>1236</th>\n",
              "      <td>mulled apple champagne punch</td>\n",
              "      <td>3 tablespoons pumpkin pie spice  1 tablespoon ...</td>\n",
              "      <td>https://www.allrecipes.com/recipe/23556/mulled...</td>\n",
              "      <td>/img/icons/generic-recipe.svg</td>\n",
              "    </tr>\n",
              "    <tr>\n",
              "      <th>1238</th>\n",
              "      <td>slow cooker cranberry punch</td>\n",
              "      <td>1 750 milliliter bottle spiced apple wine  2 c...</td>\n",
              "      <td>https://www.allrecipes.com/recipe/239733/slow-...</td>\n",
              "      <td>/img/icons/generic-recipe.svg</td>\n",
              "    </tr>\n",
              "    <tr>\n",
              "      <th>1263</th>\n",
              "      <td>jungle juice for a crowd</td>\n",
              "      <td>2 750 milliliter bottles rum  1 750 milliliter...</td>\n",
              "      <td>https://www.allrecipes.com/recipe/125549/jungl...</td>\n",
              "      <td>/img/icons/generic-recipe.svg</td>\n",
              "    </tr>\n",
              "    <tr>\n",
              "      <th>1281</th>\n",
              "      <td>ultimate sangria margarita</td>\n",
              "      <td>8 fluid ounces limeade such as minute maid®  6...</td>\n",
              "      <td>https://www.allrecipes.com/recipe/246842/ultim...</td>\n",
              "      <td>/img/icons/generic-recipe.svg</td>\n",
              "    </tr>\n",
              "    <tr>\n",
              "      <th>1316</th>\n",
              "      <td>sex on the beach jell o&amp;reg shots</td>\n",
              "      <td>1 3 ounce package cranberry-flavored gelatin m...</td>\n",
              "      <td>https://www.allrecipes.com/recipe/275057/sex-o...</td>\n",
              "      <td>/img/icons/generic-recipe.svg</td>\n",
              "    </tr>\n",
              "    <tr>\n",
              "      <th>1382</th>\n",
              "      <td>cranberry slush</td>\n",
              "      <td>1 cup frozen cranberry juice concentrate  1 6 ...</td>\n",
              "      <td>https://www.allrecipes.com/recipe/56320/cranbe...</td>\n",
              "      <td>/img/icons/generic-recipe.svg</td>\n",
              "    </tr>\n",
              "    <tr>\n",
              "      <th>1384</th>\n",
              "      <td>grandmas whiskey slush</td>\n",
              "      <td>6  black tea bags  2 cups boiling water  1 cup...</td>\n",
              "      <td>https://www.allrecipes.com/recipe/84908/grandm...</td>\n",
              "      <td>/img/icons/generic-recipe.svg</td>\n",
              "    </tr>\n",
              "    <tr>\n",
              "      <th>1388</th>\n",
              "      <td>pink pina colada slush</td>\n",
              "      <td>1 46 fluid ounce can pineapple juice  1 750 mi...</td>\n",
              "      <td>https://www.allrecipes.com/recipe/254311/pink-...</td>\n",
              "      <td>/img/icons/generic-recipe.svg</td>\n",
              "    </tr>\n",
              "  </tbody>\n",
              "</table>\n",
              "</div>"
            ],
            "text/plain": [
              "                               drink_name  ...                   url_of_image\n",
              "939        frank the tanks red dragon ale  ...  /img/icons/generic-recipe.svg\n",
              "940                 irish chocolate stout  ...  /img/icons/generic-recipe.svg\n",
              "946                          irish cookie  ...  /img/icons/generic-recipe.svg\n",
              "947                            snail pale  ...  /img/icons/generic-recipe.svg\n",
              "967                spiked hot apple cider  ...  /img/icons/generic-recipe.svg\n",
              "968                 holiday apple wassail  ...  /img/icons/generic-recipe.svg\n",
              "970                      hot mulled cider  ...  /img/icons/generic-recipe.svg\n",
              "972     freyja farms holiday mulled cider  ...  /img/icons/generic-recipe.svg\n",
              "973   christmas wassail with baked apples  ...  /img/icons/generic-recipe.svg\n",
              "975                         holiday cider  ...  /img/icons/generic-recipe.svg\n",
              "1180                        melon liqueur  ...  /img/icons/generic-recipe.svg\n",
              "1234                   scandinavian glogg  ...  /img/icons/generic-recipe.svg\n",
              "1235               mulled wine with honey  ...  /img/icons/generic-recipe.svg\n",
              "1236         mulled apple champagne punch  ...  /img/icons/generic-recipe.svg\n",
              "1238          slow cooker cranberry punch  ...  /img/icons/generic-recipe.svg\n",
              "1263             jungle juice for a crowd  ...  /img/icons/generic-recipe.svg\n",
              "1281           ultimate sangria margarita  ...  /img/icons/generic-recipe.svg\n",
              "1316    sex on the beach jell o&reg shots  ...  /img/icons/generic-recipe.svg\n",
              "1382                      cranberry slush  ...  /img/icons/generic-recipe.svg\n",
              "1384               grandmas whiskey slush  ...  /img/icons/generic-recipe.svg\n",
              "1388               pink pina colada slush  ...  /img/icons/generic-recipe.svg\n",
              "\n",
              "[21 rows x 4 columns]"
            ]
          },
          "metadata": {
            "tags": []
          },
          "execution_count": 59
        }
      ]
    },
    {
      "cell_type": "code",
      "metadata": {
        "id": "O7Oq4Ia4X5-Z"
      },
      "source": [
        "# Drop recipe with error url\n",
        "df_clean.drop(df_clean[df_clean['url_of_image']=='/img/icons/generic-recipe.svg'].index, inplace= True)"
      ],
      "execution_count": null,
      "outputs": []
    },
    {
      "cell_type": "code",
      "metadata": {
        "id": "jQhYJn4zxPyL"
      },
      "source": [
        "# Save data for training after cleaning\n",
        "data = df_clean\n",
        "path = '/content/gdrive/MyDrive/Colab Notebooks/Final Project/Recipes'\n",
        "# items = pd.DataFrame(data = data, columns = data[0].keys())\n",
        "data.to_csv(path + \"/clean_recipe_training.csv\", index=False)"
      ],
      "execution_count": null,
      "outputs": []
    },
    {
      "cell_type": "code",
      "metadata": {
        "colab": {
          "base_uri": "https://localhost:8080/",
          "height": 217
        },
        "id": "Fbrv9qWoeB7v",
        "outputId": "f96112b6-c566-47b0-8a9f-c74cbe86b25d"
      },
      "source": [
        "# Visualize texts in data\n",
        "from wordcloud import WordCloud\n",
        "long_string = ','.join(df_clean['recipe'])\n",
        "wordcloud = WordCloud(background_color = 'white',max_words=5000,contour_width=5,contour_color='steelblue')\n",
        "wordcloud.generate(long_string)\n",
        "wordcloud.to_image()"
      ],
      "execution_count": null,
      "outputs": [
        {
          "output_type": "execute_result",
          "data": {
            "image/png": "[encoded data removed]",
            "text/plain": [
              "<PIL.Image.Image image mode=RGB size=400x200 at 0x7F500ECBCD90>"
            ]
          },
          "metadata": {
            "tags": []
          },
          "execution_count": 11
        }
      ]
    },
    {
      "cell_type": "markdown",
      "metadata": {
        "id": "Whahg4AT9h8q"
      },
      "source": [
        "# 3. Doc2Vec"
      ]
    },
    {
      "cell_type": "markdown",
      "metadata": {
        "id": "R40nd5G8ogra"
      },
      "source": [
        "There are multiple methods to change the text into vectors:\n",
        "\n",
        "- Label Encoding\n",
        "- Custom binary Encoding\n",
        "- One-Hot Encoding\n",
        "\n",
        "But these methods will lose the context of a given text. Doc2Vec can solve this problem by creating vectors out of a document, independent of the document length."
      ]
    },
    {
      "cell_type": "markdown",
      "metadata": {
        "id": "YJO-9S09jYMz"
      },
      "source": [
        "## 3.1. Import libraries and load data"
      ]
    },
    {
      "cell_type": "code",
      "metadata": {
        "colab": {
          "base_uri": "https://localhost:8080/"
        },
        "id": "xG-YVNolXiuU",
        "outputId": "123091b2-3c79-4561-ccac-f84e1ca1be3b"
      },
      "source": [
        "import nltk\n",
        "nltk.download('punkt')\n",
        "from nltk.tokenize import word_tokenize\n",
        "import numpy as np\n",
        "from gensim.test.utils import get_tmpfile\n",
        "from gensim.models.doc2vec import Doc2Vec, TaggedDocument"
      ],
      "execution_count": null,
      "outputs": [
        {
          "output_type": "stream",
          "text": [
            "[nltk_data] Downloading package punkt to /root/nltk_data...\n",
            "[nltk_data]   Unzipping tokenizers/punkt.zip.\n"
          ],
          "name": "stdout"
        }
      ]
    },
    {
      "cell_type": "code",
      "metadata": {
        "id": "ZDDJHJK4jrXO"
      },
      "source": [
        "# Load data\n",
        "path = r'/content/gdrive/MyDrive/Colab Notebooks/Final Project/Recipes/clean_recipe_training.csv'\n",
        "frame = pd.read_csv(path, index_col=None, header=0, encoding='utf-8')"
      ],
      "execution_count": null,
      "outputs": []
    },
    {
      "cell_type": "code",
      "metadata": {
        "id": "F_WquGZs9LTW"
      },
      "source": [
        "df_clean = frame.copy()"
      ],
      "execution_count": null,
      "outputs": []
    },
    {
      "cell_type": "markdown",
      "metadata": {
        "id": "VLxvi_GUj42e"
      },
      "source": [
        "## 3.2. Preprocessing data"
      ]
    },
    {
      "cell_type": "markdown",
      "metadata": {
        "id": "Q2v2QPpammh2"
      },
      "source": [
        "**Getting training data**\n",
        "\n",
        "We define our list of sentences. Here is the column of recipe. It's good to use a list of sentences for easier processing of each sentence. \n",
        "\n",
        "We will also keep  a tokenized version of these sentences"
      ]
    },
    {
      "cell_type": "code",
      "metadata": {
        "id": "kICqSaARW675"
      },
      "source": [
        "# Find vector of chosen recipe\n",
        "sentence = []\n",
        "for i in df_clean['recipe']:\n",
        "    sentence.append(i)\n",
        "\n",
        "# Tokenization of each document\n",
        "tokenized_sent = []\n",
        "for s in sentence:\n",
        "    tokenized_sent.append(word_tokenize(s))\n",
        "tokenized_sent"
      ],
      "execution_count": null,
      "outputs": []
    },
    {
      "cell_type": "markdown",
      "metadata": {
        "id": "zC3ZRbEGmXJX"
      },
      "source": [
        "**TaggedDocument:**\n",
        "\n",
        "Iterate over a file that contains documents: each sentence is now represented as a TaggedDocument containing a list of the words in it and a tag associated with it.\n",
        "\n",
        "Note:\n",
        "\n",
        "Words are expected to be already preprocessed and separated by whitespace. Document tags are constructed automatically from the document line number (each document gets a unique integer tag)."
      ]
    },
    {
      "cell_type": "code",
      "metadata": {
        "colab": {
          "base_uri": "https://localhost:8080/"
        },
        "id": "nmMpfN_sS67R",
        "outputId": "ae108ef5-0f37-46b4-a945-053a1b4a67d5"
      },
      "source": [
        "tagged_data = [TaggedDocument(d, [i]) for i, d in enumerate(tokenized_sent)]\n",
        "tagged_data"
      ],
      "execution_count": null,
      "outputs": [
        {
          "output_type": "execute_result",
          "data": {
            "text/plain": [
              "[TaggedDocument(words=['2', 'tablespoons', 'lime', 'zest', '2', 'tablespoons', 'orange', 'zest', '1/2', 'cup', 'kosher', 'salt', '1/2', 'cup', 'coarse', 'sea', 'salt', '1/4', 'cup', 'sugar'], tags=[0]),\n",
              " TaggedDocument(words=['2', 'cups', 'crushed', 'ice', '1', 'ounce', 'dark', 'rum', '1', 'ounce', 'light', 'rum', '1/2', 'ounce', 'falernum', '2', 'ounces', 'orange', 'juice', '2', 'ounces', 'pineapple', 'juice', '1/2', 'ounce', 'lemon', 'juice', '3', 'dashes', 'aromatic', 'bitters', 'orange', 'slice'], tags=[1]),\n",
              " TaggedDocument(words=['1', 'cup', 'water', '1', 'orange', '1', 'cup', 'cranberries', '2', 'tablespoons', 'sugar-free', 'maple', 'syrup', '3', 'pods', 'star', 'anise', '3', 'cinnamon', 'sticks', '1/4', 'teaspoon', 'nutmeg', '1', 'bottle', 'red', 'wine', '1/3', 'cup', 'brandy'], tags=[2]),\n",
              " TaggedDocument(words=['1', 'cup', 'water', '1', 'cup', 'allulose', 'monk', 'fruit', 'sweetener'], tags=[3]),\n",
              " TaggedDocument(words=['vanilla', 'frosting', 'candy', 'sprinkles', '1', 'ounce', 'cake', 'vodka', 'cake', 'vodka', '1', 'ounce', 'crème', 'de', 'cacao', '1', 'ounce', 'irish', 'cream'], tags=[4]),\n",
              " TaggedDocument(words=['5', '1/2', 'to', '6', 'cups', 'water', '1', '1/2', 'cups', 'sugar', '1', 'tablespoon', 'lemon', 'zest', '6', 'to', '8', 'large', 'lemons', '1/2', 'to', '1', 'cup', 'light', 'rum', 'lemon', 'slices', 'seasonal', 'fruit'], tags=[5]),\n",
              " TaggedDocument(words=['1/4', 'orange', '1/2', 'cup', 'water', '1/2', 'cup', 'allulose', 'monk', 'fruit', 'sweetener', '1', '1/2', 'ounces', 'reposado', 'tequila', '1', 'ounce', 'orange', 'syrup', '3/4', 'ounce', 'lime', 'juice', 'lime', 'wedge'], tags=[6]),\n",
              " TaggedDocument(words=['1', '1/2', 'ounces', 'dark', 'rum', '1/2', 'ounce', 'navy', 'rum', '1', 'teaspoon', 'rich', 'demerara', 'syrup', '2', 'dashes', 'aromatic', 'bitters', '2', 'dashes', 'orange', 'bitters', 'orange', 'peel'], tags=[7]),\n",
              " TaggedDocument(words=['1', 'cup', 'whole', 'raw', 'almonds', '1', '1/2', 'cups', 'water', '1', 'cup', 'sugar', '1/2', 'teaspoon', 'orange', 'flower', 'water', '2', 'tablespoons', 'brandy', '1/4', 'teaspoon', 'citric', 'acid'], tags=[8]),\n",
              " TaggedDocument(words=['3', 'cups', 'water', '1/4', 'ounce', 'quassia', 'bark', '1', '1/2', 'tablespoons', 'dried', 'hops', '1', 'teaspoon', 'dried', 'dandelion', 'root', '1', 'tablespoon', 'lavender', '6', 'green', 'cardamom', 'pods', '4', 'allspice', 'berries', '2', 'teaspoons', 'lemongrass', '1/4', 'teaspoon', 'kosher', 'salt', '25', 'grams', 'lemon', 'peel', '20', 'grams', 'lime', 'peel', '10', 'grams', 'orange', 'peel', '3/4', 'cup', 'water', '1', '1/2', 'cups', 'sugar', '2', 'to', '3', 'teaspoons', 'citric', 'acid', 'soda', 'water', 'for', 'serving'], tags=[9]),\n",
              " TaggedDocument(words=['2', 'chai', 'tea', 'bags', '1', 'cup', 'water', '1', 'teaspoon', 'honey', '1', 'shot', 'espresso', '1/3', 'cup', 'milk', 'ground', 'cinnamon'], tags=[10]),\n",
              " TaggedDocument(words=['1', 'to', '2', 'teaspoons', 'orange', 'marmalade', '1/2', 'ounce', 'lemon', 'juice', '1', '3/4', 'ounces', 'gin', '1/2', 'ounce', 'premium', 'triple', 'sec', 'orange', 'twist'], tags=[11]),\n",
              " TaggedDocument(words=['4', 'to', '5', 'large', 'apples', '2', 'cups', 'water', '2', 'cups', 'apple', 'juice', '1', 'cup', 'granulated', 'sugar', '1', 'teaspoon', 'citric', 'acid', '1/3', 'cup', 'apple', 'syrup', '2/3', 'to', '1', 'cup', 'club', 'soda', 'apple', 'wedge'], tags=[12]),\n",
              " TaggedDocument(words=['1/4', 'cup', 'ginger', '3', 'to', '4', 'cups', 'water', '2', 'tablespoons', 'honey', '2', 'tablespoons', 'apple', 'cider', 'vinegar', '2', 'tablespoons', 'lemon', 'juice'], tags=[13]),\n",
              " TaggedDocument(words=['1', '1/2', 'ounces', 'vanilla', 'vodka', '1/2', 'ounce', 'passion', 'fruit', 'liqueur', '1', '1/2', 'ounces', 'passion', 'fruit', 'purée', '1', 'tablespoon', 'vanilla', 'sugar', '1/2', 'passion', 'fruit', '2', 'ounces', 'sparkling', 'wine'], tags=[14]),\n",
              " TaggedDocument(words=['2', 'ounces', 'blanco', 'or', 'reposado', 'tequila', '1/2', 'ounce', 'lime', 'juice', '3', 'to', '4', 'ounces', 'club', 'soda', 'lime', 'wheel'], tags=[15]),\n",
              " TaggedDocument(words=['1', '20-ounce', 'can', 'lychee', 'fruit', '1', 'cup', 'fresh', 'blueberries', '1/2', 'cup', 'red', 'fruit', 'preserves'], tags=[16]),\n",
              " TaggedDocument(words=['2', 'cups', 'sparkling', 'wine', '3', 'ice', 'cubes', '1/4', 'cup', 'raspberries', '1/4', 'cup', 'blackberries', '1/4', 'cup', 'frozen', 'strawberries', '1', 'tablespoon', 'honey', 'fresh', 'or', 'frozen', 'berries'], tags=[17]),\n",
              " TaggedDocument(words=['5', 'egg', 'yolks', '1/4', 'cup', 'confectioners', 'swerve', '2', 'cups', 'unsweetened', 'almond', 'milk', '1', '1/4', 'cups', 'heavy', 'cream', '1/2', 'teaspoon', 'cinnamon', '1/2', 'teaspoon', 'ground', 'nutmeg', '1/2', 'teaspoon', 'liquid', 'stevia', '1', 'teaspoon', 'rum', 'extract', '1', 'teaspoon', 'vanilla', 'extract'], tags=[18]),\n",
              " TaggedDocument(words=['1', 'cup', 'granulated', 'sugar', '1/2', 'cup', 'water', '1', 'teaspoon', 'pure', 'vanilla', 'extract', 'pinch', 'kosher', 'salt'], tags=[19]),\n",
              " TaggedDocument(words=['2', 'to', '3', 'large', 'peaches', '5', 'to', '8', 'large', 'strawberries', '1', 'cup', 'raspberries', '1/4', 'cup', 'sugar', '1/4', 'cup', 'lemon', 'juice', '1/2', 'cup', 'brandy', '1', '750-milliliter', 'bottle', 'dry', 'rosé', 'wine', '2', 'cups', 'club', 'soda', 'fresh', 'mint', 'sprigs'], tags=[20]),\n",
              " TaggedDocument(words=['1/2', 'cup', 'heavy', 'whipping', 'cream', '1/2', 'ounce', 'green', 'crème', 'de', 'menthe', 'liqueur', '1', 'ounce', 'crème', 'de', 'cacao', 'liqueur', '1/2', 'ounce', 'irish', 'cream', 'liqueur', '6', 'to', '8', 'ounces', 'brewed', 'black', 'coffee', 'sprinkles'], tags=[21]),\n",
              " TaggedDocument(words=['2', 'cups', 'white', 'rice', '2', 'sticks', 'cinnamon', '1', 'cup', 'coconut', 'water', '1', 'cup', 'canned', 'coconut', 'milk', '1/3', 'cup', 'sugar', '1', 'teaspoon', 'vanilla', 'extract', '1/4', 'teaspoon', 'ground', 'cinnamon', '1', 'pinch', 'salt', '1/4', 'cup', 'rum'], tags=[22]),\n",
              " TaggedDocument(words=['4', 'cups', 'fresh', 'or', 'frozen', 'elderberries', '2', 'cups', 'water', '2', 'tablespoons', 'honey', '2', 'slices', 'lemon', '1', 'piece', 'fresh', 'ginger', '2', 'teaspoon', 'ground', 'cloves', '1', 'stick', 'cinnamon', 'stick'], tags=[23]),\n",
              " TaggedDocument(words=['1', 'medium', 'orange', '1', 'to', '2', 'tablespoons', 'sugar', '2', 'ounces', 'aged', 'rum', '1/2', 'ounce', 'amaretto', 'liqueur', '3', 'ounces', 'apple', 'cider', '2', 'to', '3', 'dashes', 'aromatic', 'bitters', '1', 'to', '2', 'ounces', 'club', 'soda', 'orange', 'slice', 'cinnamon', 'stick'], tags=[24]),\n",
              " TaggedDocument(words=['1/2', 'ounce', 'cherry', 'liqueur', '1/2', 'ounce', 'banana', 'liqueur', '1/2', 'ounce', 'vodka'], tags=[25]),\n",
              " TaggedDocument(words=['1', '1/2', 'ounces', 'dark', 'rum', '3/4', 'ounce', 'campari', '1', '1/2', 'ounces', 'pineapple', 'juice', '1/2', 'ounce', 'lime', 'juice', '1/2', 'ounce', 'simple', 'syrup', 'pineapple', 'wedge', 'maraschino', 'cherry'], tags=[26]),\n",
              " TaggedDocument(words=['2', 'slices', 'cucumber', '2', 'slices', 'lime', '1', 'ounce', 'simple', 'syrup', '1', '1/2', 'ounces', 'gin', '3', 'to', '4', 'ounces', 'seltzer', 'cucumber', 'ribbons', 'lime', 'slice', 'mint', 'spring'], tags=[27]),\n",
              " TaggedDocument(words=['1', 'cup', 'water', '1/2', 'cup', 'sugar', '1/2', 'cup', 'mint', 'leaves'], tags=[28]),\n",
              " TaggedDocument(words=['1', 'lime', '1', 'tablespoon', 'coconut', 'sugar', '2', 'ounces', 'vodka', '1', 'cup', 'crushed', 'ice'], tags=[29]),\n",
              " TaggedDocument(words=['2', 'ounces', 'reposado', 'tequila', '1/2', 'ounce', 'triple', 'sec', '1', 'ounce', 'lime', 'juice', '1', 'ounce', 'amaretto', 'lime', 'slice', 'orange', 'slice'], tags=[30]),\n",
              " TaggedDocument(words=['1', '1/2', 'ounces', 'gin', '1', '1/2', 'ounces', 'sweet', 'vermouth', '2', 'dashes', 'fernet-branca', '1', 'dash', 'orange', 'juice', 'orange', 'peel'], tags=[31]),\n",
              " TaggedDocument(words=['12', 'ounces', 'water', '3', 'tablespoons', 'fresh', 'lemon', 'juice', '2', 'teaspoons', 'sugar', '1', 'teaspoon', 'chia', 'seeds', '1', 'lemon', '1/4', 'cup', 'ice', 'cubes', '1', 'sprig', 'mint'], tags=[32]),\n",
              " TaggedDocument(words=['1', 'cup', 'white', 'granulated', 'sugar', '5', 'cups', 'cold', 'water', '1', 'cup', 'frozen', 'raspberries', '1', '1/2', 'to', '2', 'cups', 'lemon', 'juice', '1', 'whole', 'watermelon', '7', 'cups', 'raspberry', 'lemonade', 'fresh', 'raspberries', 'lemon', 'slices'], tags=[33]),\n",
              " TaggedDocument(words=['cinnamon', 'sugar', '1', '1/2', 'ounces', 'blanco', 'tequila', '1/2', 'ounce', 'orange', 'liqueur', '1', 'ounce', 'coconut', 'milk', '1/2', 'ounce', 'lime', 'juice', '1/2', 'ounce', 'white', 'cranberry', 'juice', 'lime', 'wedge', 'cranberries', 'rosemary', 'sprig'], tags=[34]),\n",
              " TaggedDocument(words=['1', 'cup', 'ice', '1', 'cup', 'pineapple', '1', 'mango', '8', 'ounces', 'aged', 'rum', '2', 'ounces', 'brandy', '3', 'ounces', 'orgeat', 'syrup', '6', 'ounces', 'orange', 'juice', '1', '1/2', 'ounces', 'lemon', 'juice', '1', '1/2', 'ounces', '151-proof', 'rum', 'citrus', 'slices'], tags=[35]),\n",
              " TaggedDocument(words=['1', 'part', 'hot', 'strong', 'coffee', 'french', 'roast', '1', 'part', 'steamed', 'milk'], tags=[36]),\n",
              " TaggedDocument(words=['10', 'ounces', 'spring', 'water', '2/3', 'ounce', 'ground', 'coffee'], tags=[37]),\n",
              " TaggedDocument(words=['1/4', 'cup', 'ground', 'coffee', '1', '1/2', 'cups', 'water', '1/4', 'cup', 'granulated', 'sugar'], tags=[38]),\n",
              " TaggedDocument(words=['2', 'tablespoons', 'finely', 'ground', 'dark', 'roast', 'coffee', '4', 'ounces', 'water', '4', 'ounces', 'milk'], tags=[39]),\n",
              " TaggedDocument(words=['4', 'tablespoons', 'coffee', '2', 'tablespoons', 'chicory', '1/4', 'teaspoon', 'salt', '4', 'cups', 'water', '1', 'teaspoon', 'sugar'], tags=[40]),\n",
              " TaggedDocument(words=['1', 'cup', 'ground', 'coffee', '4', 'cups', 'water'], tags=[41]),\n",
              " TaggedDocument(words=['1', 'scoop', 'vanilla', 'gelato', '2', 'ounces', 'espresso', 'grated', 'chocolate'], tags=[42]),\n",
              " TaggedDocument(words=['for', 'the', 'maple', 'pecan', 'syrup', '1/4', 'cup', 'maple', 'syrup', '1/4', 'cup', 'pecan', 'butter', '2', 'tablespoons', 'brown', 'sugar', '1/2', 'tablespoon', 'butter', '1/3', 'cup', 'heavy', 'cream', '1', 'teaspoon', 'vanilla', 'extract', 'for', 'the', 'latte', '1', 'shot', 'espresso', '2', 'tablespoons', 'maple', 'pecan', 'syrup', '1/2', 'cup', 'steamed', 'milk', 'garnish', 'whipped', 'cream', 'store-bought', 'or', 'homemade', 'garnish', 'chopped', 'toasted', 'pecans'], tags=[43]),\n",
              " TaggedDocument(words=['3/4', 'cup', 'milk', 'whole', 'or', 'low-fat', '3', 'tablespoons', 'white', 'chocolate', 'chips', '1/2', 'cup', 'prepared', 'coffee', 'optional', '1', 'teaspoon', 'sugar', 'garnish', 'fresh', 'whipped', 'cream', 'garnish', 'dusting', 'of', 'ground', 'nutmeg'], tags=[44]),\n",
              " TaggedDocument(words=['3', 'cups', 'strong', 'coffee', '2/3', 'can', 'sweetened', 'condensed', 'milk', '1', 'cup', 'whole', 'milk', '1/2', 'vanilla', 'bean', '2', 'teaspoons', 'vanilla', 'extract', '8', 'cups', 'ice'], tags=[45]),\n",
              " TaggedDocument(words=['1', 'cup', 'coffee', '1', 'cup', 'hong', 'kong-style', 'milk', 'tea', '1/2', 'to', '1', 'cup', 'ice'], tags=[46]),\n",
              " TaggedDocument(words=['1', 'ounce', 'water', '1', 'tablespoon', 'ground', 'dark', 'espresso', '1', '1/2', 'fluid', 'ounces', 'simple', 'syrup', '3', 'ounces', 'milk'], tags=[47]),\n",
              " TaggedDocument(words=['5', 'to', '6', 'ounces', 'water', '2', 'tablespoons', 'ground', 'coffee', '1', 'to', '3', 'teaspoons', 'sugar'], tags=[48]),\n",
              " TaggedDocument(words=['1', 'cup', 'milk', '2', 'tablespoonsunsweetened', 'pumpkin', 'puree', '1tablespoon', 'sugar', 'or', 'to', 'taste', '1', 'teaspoon', 'ground', 'cinnamon', '1/2', 'teaspoon', 'ground', 'ginger', '1/4', 'teaspoon', 'ground', 'nutmeg', '1/8', 'teaspoon', 'ground', 'cloves', '1/2teaspoon', 'vanilla', '1/2cup', 'brewed', 'espresso', 'or', 'very', 'strongly', 'brewed', 'coffee', 'sweetened', 'whipped', 'cream', 'for', 'topping'], tags=[49]),\n",
              " TaggedDocument(words=['2', 'shots', 'espresso', '2', 'tablespoons', 'pumpkin', 'puree', '1/3', 'cup', 'heavy', 'cream', '1/4', 'cup', 'whole', 'milk', '1/2', 'teaspoon', 'pumpkin', 'pie', 'spice', '1', 'tablespoon', 'erythritol', 'garnish', 'whipped', 'cream', 'ground', 'cinnamon'], tags=[50]),\n",
              " TaggedDocument(words=['1', 'shot', 'espresso', '2', 'shots', 'milk'], tags=[51]),\n",
              " TaggedDocument(words=['30', 'grams', 'ground', 'vietnamese', 'coffee', 'about', '4', 'tablespoons', '600', 'grams', 'water', 'about', '2', '1/2', 'cups', 'sweetened', 'condensed', 'milk', 'to', 'taste', 'ice'], tags=[52]),\n",
              " TaggedDocument(words=['1', '1/2', 'cups', 'unsweetened', 'almond', 'milk', 'or', 'your', 'favorite', 'nondairy', 'milk', '1/2', 'teaspoon', 'ginger', 'fresh', 'grated', '1/2', 'teaspoon', 'cinnamon', '1/8', 'teaspoon', 'cloves', '1', 'tablespoon', 'blackstrap', 'molasses', '1', 'to', '2', 'tablespoons', 'granulated', 'sugar', 'we', 'recommend', 'coconut', 'palm', 'sugar', 'or', 'turbinado', 'or', 'the', 'equivalent', 'of', 'your', 'favorite', 'sweetener', 'such', 'as', 'agave', '2', 'teaspoons', 'instant', 'espresso', 'powder', 'if', 'you', 'have', 'an', 'espresso', 'maker', 'use', '1', 'to', '2', 'shots', 'of', 'espresso', 'per', 'latte', 'instead', 'of', 'instant', 'powder', '+', 'water', '4', 'tablespoons', 'very', 'hot', 'water', '1/4', 'cupnondairy', 'cream', 'for', 'topping', 'dash', 'nutmeg', 'dash', 'cinnamon'], tags=[53]),\n",
              " TaggedDocument(words=['2', 'large', 'egg', 'yolks', '1/2', 'cup', 'sweetened', 'condensed', 'milk', '1', 'teaspoon', 'vanilla', 'extract', '60', 'grams', 'coffee', '4', '1/8', 'cups', 'water', 'cocoa', 'powder'], tags=[54]),\n",
              " TaggedDocument(words=['1', 'ounce', 'irish', 'whiskey', '1', 'ounce', 'irish', 'cream', 'liqueur', '1', 'ounce', 'butterscotch', 'schnapps', '2', 'to', '3', 'ounces', 'coffee', 'whipped', 'cream', 'caramel', 'syrup'], tags=[55]),\n",
              " TaggedDocument(words=['2', 'tablespoons', 'coffee', '1/2', 'cup', 'water', '3', '1/2', 'ounces', 'espresso', '1/2', 'cup', 'whole', 'milk', '1/2', 'teaspoon', 'sugar'], tags=[56]),\n",
              " TaggedDocument(words=['3/4', 'cup', 'ground', 'coffee', '2', 'teaspoons', 'ground', 'cinnamon', '5', 'cups', 'water', '1/2', 'cup', 'whole', 'milk', '1/2', 'cup', 'heavy', 'cream', '1/3', 'cup', 'chocolate', 'syrup', '2', 'tablespoons', 'brown', 'sugar', '1', 'teaspoon', 'vanilla', 'extract', 'whipped', 'cream', 'optional', 'garnish'], tags=[57]),\n",
              " TaggedDocument(words=['1', '88-ounce', 'tapioca', 'pearls', '1', 'cup', 'dark', 'brown', 'sugar', '1/2', 'cup', 'water', '1/4', 'cup', 'tapioca', 'pearls', '1', 'tablespoon', 'brown', 'sugar', 'syrup', '1', 'cup', 'milk', '1', 'cup', 'ice'], tags=[58]),\n",
              " TaggedDocument(words=['8', 'ounces', 'water', '1', 'tablespoon', 'yerba', 'mate', '1', 'tablespoon', 'honey'], tags=[59]),\n",
              " TaggedDocument(words=['1', 'heaping', 'teaspoon', 'oolong', 'tea', 'leaves', '1', 'cup', 'water', 'heated', 'to', 'just', 'below', 'boiling', '1/4', 'to', '1/2', 'teaspoon', 'honey0b', '10b', 'cup0bice'], tags=[60]),\n",
              " TaggedDocument(words=['1', 'tablespoon', 'honey', '1', 'cinnamon', 'stick', '1', 'lemon', 'peel', '1', 'tea', 'bag', '1', 'cup', 'water', '1', 'splash', 'cream'], tags=[61]),\n",
              " TaggedDocument(words=['3', 'cups', 'water', '2', 'cups', 'sugar', '1', 'cup', 'brown', 'sugar', '5', 'cups', 'water', '1', 'cup', 'tapioca', 'pearls', '3', 'ounces', 'tapioca', 'pearls', '1', 'cup', 'cooled', 'brewed', 'tea', '1/4', 'cup', 'milk', '4', 'large', 'ice', 'cubes'], tags=[62]),\n",
              " TaggedDocument(words=['2', 'tablespoons', 'roasted', 'barley', '8', 'cups', 'water'], tags=[63]),\n",
              " TaggedDocument(words=['3/4', 'cup', 'pearl', 'barley', '2', 'medium', 'lemons', '6', 'cups', 'water', '1/2', 'cup', 'honey'], tags=[64]),\n",
              " TaggedDocument(words=['1', '5-inch', 'sprig', 'fresh', 'oregano', '1', 'to', '2', 'cups', 'boiling', 'water', '1', 'teaspoons', 'greekhoney'], tags=[65]),\n",
              " TaggedDocument(words=['1', '1/2', 'ounces', 'london', 'dry', 'gin', '2', 'ounces', 'earl', 'grey', 'tea', '1', 'splash', 'lemon', 'juice', '1', 'teaspoon', 'sugar', 'lemon', 'wheel'], tags=[66]),\n",
              " TaggedDocument(words=['2', 'cups', 'water', '15', 'fresh', 'mint', 'leaves', '1', 'to', '2', 'teaspoons', 'sugar', '1', 'cup', 'ice', '2', 'lemon', 'slices', 'fresh', 'lemon', 'juice'], tags=[67]),\n",
              " TaggedDocument(words=['4', 'cups', 'water', '1', 'tablespoon', 'green', 'tea', '1', 'handful', 'spearmint', 'leaves', '3', 'to', '4', 'tablespoons', 'sugar'], tags=[68]),\n",
              " TaggedDocument(words=['fruit', 'iced', 'tea', '18', 'to', '24', 'tea', 'bags', 'depending', 'on', 'how', 'strong', 'you', 'want', 'the', 'tea', 'flavor', '1', '1/2', 'quarts', 'boiling', 'water', '2', 'cups', 'granulated', 'sugar', '48', 'ounces', 'canned', 'pineapple', 'juice', '12', 'ounce', 'canned', 'frozen', 'orange', 'juice', 'concentrate', '12', 'ounces', 'canned', 'frozen', 'lemonade', 'concentrate', 'garnish', 'lemon', 'and', 'mint', 'if', 'desired'], tags=[69]),\n",
              " TaggedDocument(words=['8', 'cups', 'water', '1/2', 'cup', 'sugar', '3', 'tea', 'bags', 'black', 'tea', '2', 'cups', 'frozen', 'raspberries', '3', 'tablespoons', 'lemon', 'juice', 'raspberries', 'lemon', 'slices'], tags=[70]),\n",
              " TaggedDocument(words=['1', 'pound', 'potatoes', '1', 'ounce', 'butter', '1/2', 'teaspoon', 'salt', '4', '1/2', 'ounces', 'flour', '1', 'medium', 'egg', '1', 'teaspoon', 'baking', 'powder'], tags=[71]),\n",
              " TaggedDocument(words=['240', 'g', 'all-purpose', 'flour', '2', 'tablespoons', 'granulated', 'sugar', 'or', '2', 'teaspoons', 'baking', 'powder', '1/4', 'teaspoon', 'kosher', 'salt', '1/4', 'cup', 'unsalted', 'butter', '1/2', 'cup', 'golden', 'raisins', '3/4', 'cup', 'plain', 'yogurt'], tags=[72]),\n",
              " TaggedDocument(words=['2', 'cups', 'all-purpose', 'flour', 'for', 'best', 'results', 'sift', 'or', 'spoon', 'the', 'flour', 'into', 'the', 'measuring', 'cup', '1/3', 'cup', 'sugar', 'white', '1', 'tablespoon', 'baking', 'powder', '2', 'teaspoons', 'ground', 'cinnamon', '1/4', 'teaspoon', 'sea', 'salt', '4', 'ounces', 'butter', 'cold', '1', 'large', 'egg', 'whisked', '1', 'teaspoon', 'vanilla', 'extract', '1/4', 'to', '1/2', 'cup', 'milk', 'or', 'buttermilk', 'or', 'half-and-half'], tags=[73]),\n",
              " TaggedDocument(words=['2', '1/2', 'cups', 'flour', '1/2', 'cup', 'sugar', '2', '1/2', 'teaspoons', 'baking', 'powder', '1/2', 'teaspoon', 'salt', '1/4', 'teaspoon', 'white', 'vinegar', '3/4', 'cup', 'whole', 'milk', '1/2', 'teaspoon', 'vanilla', 'extract', '6', 'tablespoons', 'butter', 'cold', 'and', 'diced', '1/4', 'cup', 'dried', 'sweetened', 'cranberries', '1/4', 'cup', 'dried', 'cherries', '1', 'egg', 'beaten', 'for', 'brushing', 'the', 'scones', '1/2', 'cup', 'coarse', 'sugar', 'for', 'topping', 'the', 'scones'], tags=[74]),\n",
              " TaggedDocument(words=['1', 'egg', '1/2', 'cup', 'granulated', 'sugar', 'white', '3/4', 'cup', 'light', 'brown', 'sugar', '1', 'stick', '8', 'tablespoons', 'unsalted', 'butter', 'at', 'room', 'temperature', '1/2', 'cup', 'unsweetened', 'pumpkin', 'puree', 'do', 'not', 'use', 'sweet', 'pumpkin', 'pie', 'filling', '1/2', 'cup', 'tahini', 'plain', 'sesame', 'paste', '1', 'teaspoon', 'vanilla', '2', 'cups', 'all', 'purpose', 'flour', '1', 'teaspoon', 'salt', '1', 'teaspoon', 'baking', 'soda', '1', 'teaspoon', 'ground', 'cinnamon', '1', 'teaspoon', 'ground', 'ginger', '1', '1/2', 'cups', 'semi-sweet', 'chocolate', 'chips'], tags=[75]),\n",
              " TaggedDocument(words=['1', 'whole', 'egg', 'and', '1', 'egg', 'yolk', '1', 'cup', 'sugar', '1', 'stick', 'unsalted', 'butter', 'at', 'room', 'temperature', '1/2cup', 'raw', 'tahini', 'sesame', 'paste', '1', 'teaspoon', 'vanilla', '1', '1/4', 'cups', 'all', 'purpose', 'flour', '1', 'teaspoon', 'salt', '1/2', 'teaspoon', 'baking', 'powder', '1/2', 'teaspoon', 'baking', 'soda', '2', 'cups', 'semi-sweet', 'chocolate', 'chips', 'flaky', 'maldon', 'salt', 'or', 'sea', 'salt', 'for', 'topping'], tags=[76]),\n",
              " TaggedDocument(words=['2', '1/2', 'cups', 'all-purpose', 'flour', '4', 'teaspoons', 'baking', 'powder', '1', 'teaspoon', 'salt', '1', '1/2', 'cups', 'granulated', 'sugar', '2', 'teaspoons', 'ground', 'cinnamon', '1', 'teaspoon', 'ground', 'nutmeg', '1', 'teaspoon', 'ground', 'cloves', '1', 'cup', 'pumpkin', 'puree', '1/2', 'cup', 'milk', '1/2', 'cup', 'salted', 'butter', '2', 'teaspoons', 'vanilla', 'extract', '3/4', 'cup', 'granulated', 'sugar', '3/4', 'cup', 'brown', 'sugar', '1/2', 'cup', 'chopped', 'pecans', '2', 'teaspoons', 'ground', 'cinnamon', '2', '3/4', 'cups', 'water', 'vanilla', 'ice', 'cream', 'whipped', 'cream', 'chopped', 'pecans'], tags=[77]),\n",
              " TaggedDocument(words=['2', '1/4', 'cups', 'all-purpose', 'flour', '10', 'ounces', '2', '1/2', 'teaspoons', 'baking', 'powder', '5', 'tablespoons', 'granulated', 'sugar', '1', 'teaspoon', 'lemon', 'zest', '6', 'tablespoons', 'butter', 'cold', 'salted', 'cut', 'into', 'small', 'pieces', '1/8', 'teaspoon', 'salt', '2/3', 'cuplight', 'cream', 'or', 'half-and-half', '1', 'large', 'egg', '1', 'teaspoon', 'lemon', 'extract', '1/2', 'teaspoon', 'vanilla', 'extract', 'for', 'the', 'glaze', '1', 'tablespoon', 'melted', 'butter', '1', 'teaspoon', 'lemon', 'zest', '1/4', 'cup', 'fresh', 'lemon', 'juice', '1', 'cup', 'confectioners', 'sugar'], tags=[78]),\n",
              " TaggedDocument(words=['1', '2/3', 'cups', 'all-purpose', 'flour', '1', 'tablespoon', 'pumpkin', 'pie', 'spice', '1', 'teaspoon', 'baking', 'soda', '1/2', 'teaspoon', 'baking', 'powder', '1/4', 'teaspoon', 'salt', '1', '1/3', 'cups', 'sugar', '1/2', 'cup', 'unsalted', 'butter', '2', 'eggs', '1', 'cup', 'pumpkin', 'purée', '1/2', 'teaspoon', 'vanilla', 'extract', '1/3', 'cup', 'milk', '1', '1/2', 'cups', 'semi-sweet', 'chocolate', 'chips'], tags=[79]),\n",
              " TaggedDocument(words=['for', 'the', 'cranberry', 'scones', '3', 'cups', 'all-purpose', 'flour', '1', 'tablespoon', 'baking', 'powder', '1/2', 'teaspoon', 'salt', '3/4', 'cup', 'sugar', '1', 'stick', '8', 'tablespoons', 'unsalted', 'butter', 'chilled', 'and', 'cut', 'into', '1', 'pieces', 'zest', 'of', '1', 'lemon', '2', 'eggs', '1/2', 'cup', 'cream', '1', 'cup', 'cranberries', 'for', 'the', 'pomegranate', 'glaze', '1/2', 'cup', 'powdered', 'sugar', '1', 'tablespoon', 'milk', 'or', 'cream', '1', 'tablespoon', 'pomegranate', 'juice', 'pinch', 'of', 'salt'], tags=[80]),\n",
              " TaggedDocument(words=['cooking', 'spray', 'or', 'softened', 'butter', '1', '15', '1/4-ounce', 'package', 'yellow', 'cake', 'mix', '1', 'large', 'egg', '1/2', 'cup', 'unsalted', 'butter', '1', '8-ounce', 'package', 'cream', 'cheese', '1', '15-ounce', 'can', 'pumpkin', 'puree', '3', 'large', 'eggs', '1', 'teaspoon', 'pure', 'vanilla', 'extract', '6', 'tablespoons', 'unsalted', 'butter', '3', '1/2', 'cups', 'confectioners', 'sugar', '1', '1/4', 'teaspoons', 'ground', 'cinnamon', '1/2', 'teaspoon', 'ground', 'nutmeg', '1/4', 'teaspoon', 'ground', 'allspice'], tags=[81]),\n",
              " TaggedDocument(words=['2', 'cups', 'brown', 'sugar', '1', 'cup', 'vegetable', 'oil', '1', '1/2', 'cups', 'pure', 'pumpkin', 'puree', '2', 'eggs', '1', 'teaspoon', 'pure', 'vanilla', 'extract', '3', 'cups', 'all-purpose', 'flour', '2', 'tablespoons', 'pumpkin', 'pie', 'spice', '1', 'teaspoon', 'baking', 'powder', '1', 'teaspoon', 'baking', 'soda', '1', 'teaspoon', 'salt', '1/2', 'cup', 'unsalted', 'butter', '8', 'ounces', 'cream', 'cheese', '1', 'teaspoon', 'pure', 'vanilla', 'extract', '3', 'cups', 'powdered', 'sugar'], tags=[82]),\n",
              " TaggedDocument(words=['2', 'cups', 'self-rising', 'flour', '1/4', 'cup', 'unsalted', 'butter', '1', 'teaspoon', 'baking', 'powder', '1/2', 'teaspoon', 'kosher', 'salt', '1', 'cup', 'finely', 'grated', 'cheese', '1/2', 'teaspoon', 'dry', 'mustard', '2/3', 'cup', 'milk', '1', 'tablespoon', '1', 'large', 'egg', '1', 'tbsp', 'unsalted', 'butter'], tags=[83]),\n",
              " TaggedDocument(words=['31/2', 'cups/350', 'grams', 'flour', 'all-purpose', '2', 'ounces/55', 'gramsbutter', 'cubed', '1', 'teaspoonbaking', 'powder', '1/2', 'teaspoonsalt', '3', 'tablespoons/30', 'grams', 'caster', 'sugar', 'fine', 'sugar', '1/3', 'cup/50', 'grams', 'sultanas', 'or', 'chopped', 'dates', '2/3', 'cup/100', 'milliliters', 'milk', '2', 'eggs', 'beaten', '2', 'tablespoons', 'milk'], tags=[84]),\n",
              " TaggedDocument(words=['1', '1/2', 'ounces', 'reposado', 'tequila', '1/4', 'ounce', 'cherry', 'heering', 'liqueur', '1', '1/2', 'ounces', 'lemon', 'verbena', 'tea', '1/2', 'ounce', 'simple', 'syrup', '1', 'splash', 'lime', 'juice'], tags=[85]),\n",
              " TaggedDocument(words=['7', 'ounces', 'tea', '1', 'tablespoon', 'honey', '1', 'teaspoon', 'lemon', 'juice', '1/2', 'teaspoon', 'ground', 'cinnamon', '1/2', 'teaspoon', 'cloves', '1/2', 'teaspoon', 'nutmeg', '1', 'slice', 'lemon'], tags=[86]),\n",
              " TaggedDocument(words=['3', 'cups', 'water', 'boiling', '2', 'ounces', 'dried', 'hibiscus', 'flowers', '6', 'cups', 'water', 'room', 'temperature', '3/4', 'cup', 'sugar', '1', 'to', '2', 'cups', 'ice', 'if', 'you', 'need', 'to', 'serve', 'it', 'immediately'], tags=[87]),\n",
              " TaggedDocument(words=['1', 'cup', 'dried', 'hibiscus', 'flowers', '1', 'cup', 'granulated', 'sugar', '8', 'cups', 'water'], tags=[88]),\n",
              " TaggedDocument(words=['1', '1/2', 'ounces', 'hibiscus-infused', 'tequila', '1/2', 'ounce', 'orange', 'liqueur', '1/2', 'ounce', 'agave', 'nectar', '1/2', 'ounce', 'cranberry', 'juice', '1/2', 'ounce', 'lime', 'juice', '1/2', 'ounce', 'orange', 'juice', '1', 'splash', 'ginger', 'ale'], tags=[89]),\n",
              " TaggedDocument(words=['6', 'cups', 'water', '2', 'ounces', 'dried', 'hibiscus', 'flowers', '3/4', 'cup', 'sugar', '1', '1/2', 'ounces', 'blanco', 'tequila', '3', 'ounces', 'agua', 'de', 'jamaica', '1', 'ounce', 'simple', 'syrup', '1/2', 'ounce', 'lime', 'juice', 'lime', 'wedge'], tags=[90]),\n",
              " TaggedDocument(words=['4', 'cups', 'water', '1/2', 'ounce', 'sage', 'leaves', '2', 'tablespoons', 'sugar', '1', '1/2', 'teaspoons', 'lemon', 'zest', '3', 'tablespoons', 'lemon', 'juice'], tags=[91]),\n",
              " TaggedDocument(words=['1', 'cup', 'water', '1', 'cup', 'sugar', '1', 'tea', 'bag', 'hibiscus', 'tea', '1', '3/4', 'ounces', 'gin', '3/4', 'ounce', 'sweet', 'vermouth', '1/4', 'ounce', 'maraschino', 'liqueur', '1', '1/2', 'ounces', 'hibiscus', 'syrup', '1', 'lemon', 'wedge', '1', 'large', 'egg', 'white', 'fresh', 'mint', 'sprig'], tags=[92]),\n",
              " TaggedDocument(words=['4', 'cups', 'dandelion', 'petals', '4', 'cups', 'water', '3', 'lemon', 'slices', '1/2', 'vanilla', 'bean', '2', '1/2', 'cups', 'granulated', 'sugar'], tags=[93]),\n",
              " TaggedDocument(words=['2', 'tablespoons', 'ginger', 'root', '4', 'cups', 'water', '1', 'tablespoon', 'lime', 'juice', '1', 'to', '2', 'tablespoons', 'honey'], tags=[94]),\n",
              " TaggedDocument(words=['1/8', 'cup', 'water', '1/2', 'to', '1', 'teaspoon', 'matcha', 'green', 'tea'], tags=[95]),\n",
              " TaggedDocument(words=['1', 'loaf', 'white', 'bread', 'such', 'as', 'buttermilk', 'bread', '1/2', 'cup', 'cream', 'cheese', 'about', '1/3', 'of', 'a', '12-ounce', 'container', 'of', 'cream', 'cheese', '1', 'english', 'cucumber', 'thinly', 'sliced', 'lemon', 'juice', 'to', 'taste', 'salt', 'and', 'pepper', 'to', 'taste', 'optional', 'chopped', 'fresh', 'chives', 'to', 'taste'], tags=[96]),\n",
              " TaggedDocument(words=['4', 'ounces', 'unsalted', 'butter', '8', 'ounces', 'self-rising', 'flour', '2', 'teaspoons', 'baking', 'powder', '3', 'large', 'eggs', '8', 'ounces', 'superfine', 'sugar', '3', 'ounces', 'margarine', '1', 'jar', 'good-quality', 'strawberry', 'jam', '7', 'ounces', 'heavy', 'whipping', 'cream', 'confectioners', 'sugar', 'fresh', 'strawberries'], tags=[97]),\n",
              " TaggedDocument(words=['1', 'tablespoon', 'vegetable', 'oil', '1', 'small', 'onion', '1', 'tablespoon', 'curry', 'paste', '1', 'teaspoon', 'tomato', 'puree', '1', 'tablespoon', 'red', 'wine', '1/4', 'pint', 'chicken', 'stock', '1', 'medium', 'bay', 'leaf', 'sea', 'salt', 'to', 'taste', 'freshly', 'ground', 'black', 'pepper', 'to', 'taste', '1', 'teaspoon', 'sugar', '1', '1/2', 'tablespoons', 'lemon', 'juice', '450', 'milliliters', 'mayonnaise', '4', 'tablespoons', 'apricot', 'jam', '2', 'tablespoons', 'cream', '450', 'grams', 'cooked', 'chicken', '2', 'tablespoons', 'almonds'], tags=[98]),\n",
              " TaggedDocument(words=['1', 'pound', 'strawberries', '2', '1/2', 'tablespoons', 'caster', 'sugar', '3', 'tablespoons', 'balsamic', 'vinegar', '1/4', 'teaspoon', 'ground', 'black', 'pepper', '2', 'cups', 'vanilla', 'ice', 'cream'], tags=[99]),\n",
              " TaggedDocument(words=['1', 'loaf', 'white', 'bread', 'such', 'as', 'buttermilk', 'bread', '1/2', 'cup', 'cream', 'cheese', '1/2', 'brick', 'softened', '1/2', 'pound', 'smoked', 'salmon', 'nova', 'thinly', 'sliced', 'lemon', 'juice', 'to', 'taste', 'salt', 'and', 'pepper', 'to', 'taste', 'dried', 'parsley', 'to', 'taste'], tags=[100]),\n",
              " TaggedDocument(words=['3', '1/4', 'cups', 'self-rising', 'flour', 'plus', 'for', 'the', 'baking', 'sheet', '2', 'ounces', 'butter', '1/2', 'teaspoon', 'baking', 'powder', '1/2', 'teaspoon', 'salt', '1', 'ounce', 'sugar', '2', 'large', 'eggs', '1/2', 'cup', 'milk'], tags=[101]),\n",
              " TaggedDocument(words=['1', 'ounce', 'canadian', 'whisky', '1', 'ounce', 'peach', 'liqueur', '4', 'ounces', 'iced', 'tea', 'lemon', 'wedge', 'peach', 'slices'], tags=[102]),\n",
              " TaggedDocument(words=['1', '1/2', 'ounces', 'irish', 'cream', 'liqueur', '1', 'ounce', 'coconut', 'milk', '1/2', 'ounce', 'sweetened', 'condensed', 'milk', '1/2', 'teaspoon', 'whole', 'anise', 'seed', '2', 'whole', 'cloves', '1/8', 'vanilla', 'bean', '1', 'ounce', 'aged', 'rum', '2', '1/2', 'ounces', 'black', 'tea', 'grated', 'nutmeg'], tags=[103]),\n",
              " TaggedDocument(words=['2', 'ounces', 'simple', 'syrup', '4', 'ounces', 'water', '2', 'ounces', 'lemon', 'juice', '2', 'ounces', 'vodka', '2', 'to', '3', 'ounces', 'lemonade', '2', 'to', '3', 'ounces', 'iced', 'tea', 'lemon', 'wheel', 'mint', 'sprig'], tags=[104]),\n",
              " TaggedDocument(words=['1/4', 'ounce', 'absinthe', '1', 'ounce', 'irish', 'whiskey', '4', 'ounces', 'sweetened', 'green', 'tea', 'lime', 'slice'], tags=[105]),\n",
              " TaggedDocument(words=['1', '750-milliliter', 'bottle', 'aged', 'rum', '3', 'tablespoons', 'tea', 'leaves', '2', 'ounces', 'tea-infused', 'rum', '3/4', 'ounce', 'lime', 'juice', '1/2', 'ounce', 'simple', 'syrup', '1/4', 'ounce', 'ginger', 'syrup', 'lime', 'wheel'], tags=[106]),\n",
              " TaggedDocument(words=['1/4', 'cup', 'lemonade', '1/2', 'cup', 'iced', 'tea', 'lemon', 'slice'], tags=[107]),\n",
              " TaggedDocument(words=['1/4', 'cup', 'green', 'tea', 'leaves', '1', '750-milliliter', 'bottle', 'gin', '1/2', 'cup', 'salted', 'pistachios', '1/2', 'cup', 'honey', '1/2', 'cup', 'water', '1', '1/2', 'ounces', 'green', 'tea-infused', 'gin', '1/2', 'ounce', 'salted', 'pistachio', 'honey', 'syrup', '1/2', 'ounce', 'lemon', 'juice', '3', 'to', '4', 'dashes', 'chamomile', 'bitters'], tags=[108]),\n",
              " TaggedDocument(words=['granulated', 'sugar', '1', '1/2', 'ounces', 'vodka', '1', 'ounce', 'tea', '1/4', 'ounce', 'lemon', 'juice', '1', 'teaspoon', 'honey', 'lemon', 'wedge'], tags=[109]),\n",
              " TaggedDocument(words=['3', 'pieces', 'fresh', 'ginger', '4', 'mint', 'leaves', 'divided', '1/2', 'ounce', 'simple', 'syrup', '1', 'ounce', 'cognac', '2', 'ounces', 'green', 'tea'], tags=[110]),\n",
              " TaggedDocument(words=['1/2', 'ounce', 'gin', '1/2', 'ounce', 'irish', 'whiskey', '1/2', 'ounce', 'aged', 'rum', '1/2', 'ounce', 'blanco', 'tequila', '1', 'ounce', 'simple', 'syrup', '3/4', 'ounce', 'lemon', 'juice', '1', 'to', '2', 'ounces', 'cola'], tags=[111]),\n",
              " TaggedDocument(words=['1', '1/2', 'ounces', 'bourbon', 'whiskey', '1/2', 'ounce', 'limoncello', '4', 'ounces', 'iced', 'tea', 'freshly', 'brewed', 'garnish', 'lemon', 'wheel', 'or', 'wedge'], tags=[112]),\n",
              " TaggedDocument(words=['1', 'pineapple', '10', 'cups', 'water', '1/4', 'cup', 'brown', 'sugar', '1', 'teaspoon', 'vanilla', 'extract', '1', 'stick', 'cinnamon', 'stick', '6', 'to', '8', 'cloves', '1', '4-', 'to', '6-inch', 'piece', 'fresh', 'ginger'], tags=[113]),\n",
              " TaggedDocument(words=['3', 'quarts', 'water', '2', 'tablespoons', 'tea', 'leaves', '1', 'cup', 'white', 'granulated', 'sugar', '1', 'scoby', '2', 'cups', 'kombucha'], tags=[114]),\n",
              " TaggedDocument(words=['140', 'grams', 'sugar', '40', 'grams', 'butter', '225', 'grams', 'currants', '25', 'grams', 'candied', 'fruit', 'peel', '1', 'pinch', 'nutmeg', '500', 'grams', 'puff', 'pastry'], tags=[115]),\n",
              " TaggedDocument(words=['for', 'the', 'pastry', '2', '1/4', 'cups/200', 'grams', 'plain', 'flour', '4', 'ounces/110', 'grams', 'butter', 'cubed', 'or', 'an', 'equal', 'mix', 'of', 'butter', 'and', 'lard', '1', 'pinch', 'of', 'salt', '2', 'to', '3', 'tablespoons', 'cold', 'water', 'for', 'the', 'filling', '4', 'ounces/125', 'grams', 'unsalted', 'butter', 'softened', '2', 'ounces/50', 'grams', 'caster', 'sugar', '2', 'medium', 'eggs', 'well', 'beaten', '6', 'ounces/175', 'grams', 'fresh', 'cheese', 'curds', '1/4', 'teaspoonnutmeg', 'freshly', 'grated', '1/4', 'teaspoonground', 'mixed', 'spice', '1', 'rounded', 'tablespoonwhite', 'breadcrumbs', '2', 'ounces/55', 'gramsplump', 'seedless', 'raisins', '2', 'ounces/55', 'grams', 'currants'], tags=[116]),\n",
              " TaggedDocument(words=['3', 'large', 'eggs', '8', 'ounces', 'granulated', 'sugar', '8', 'ounces', 'self-rising', 'flour', '2', 'teaspoons', 'baking', 'powder', '4', 'ounces', 'unsalted', 'butter', '3', 'ounces', 'margarine', '8', 'ounces', 'fresh', 'strawberries', '7', 'ounces', 'whipping', 'cream', '1', 'cup', 'unsifted', 'confectioners', 'sugar'], tags=[117]),\n",
              " TaggedDocument(words=['1', '1/2', 'cups', 'all-purpose', 'flour', '3', 'ounces', 'unsalted', 'butter', '1', 'pinch', 'kosher', 'salt', '2', 'to', '3', 'tablespoons', 'water', '3', 'large', 'eggs', '2', 'large', 'egg', 'yolks', '1/3', 'cup', 'sugar', '2', '1/2', 'cups', 'light', 'cream', '1/4', 'teaspoon', 'vanilla', 'extract', '1/2', 'teaspoon', 'nutmeg'], tags=[118]),\n",
              " TaggedDocument(words=['2', 'cups', 'water', '4', 'tablespoons', 'black', 'tea', 'leaves', '1', '14-ounce', 'can', 'sweetened', 'condensed', 'milk'], tags=[119]),\n",
              " TaggedDocument(words=['1', 'can', 'salmon', '1/2', 'cup', 'cucumbers', '1', 'tablespoon', 'green', 'onion', '2', 'tablespoons', 'plain', 'yogurt', '2', 'tablespoons', 'mayonnaise', '1', 'tablespoon', 'lemon', 'juice', '1/2', 'teaspoon', 'dried', 'dill', '2', 'to', '3', 'slices', 'sandwich', 'bread', '2', 'tablespoons', 'butter', '16', 'pieces', 'butter', 'lettuce'], tags=[120]),\n",
              " TaggedDocument(words=['4', 'eggs', '4', 'tablespoons', 'herbed', 'buttersoftened', 'or', 'softened', 'plain', 'butter', '4', 'tablespoons', 'mayonnaise', 'or', 'mayonnaise', 'alternative', 'salt', 'to', 'taste', 'pepper', 'to', 'taste', 'paprika', 'to', 'taste', '8', 'slices', 'bread', '1/2', 'cup', 'watercress', 'fresh', 'chopped', 'optional', 'freshparsley', 'chopped', 'to', 'taste'], tags=[121]),\n",
              " TaggedDocument(words=['for', 'tuna', 'salad', '1', '7-ounce', 'cantuna', 'preferably', 'white', 'tuna', 'in', 'water', '1', 'to', '2', 'ribs', 'celery', '1', 'large', 'egghard-boiled', '3', 'tablespoons', 'mayonnaise', 'or', 'more', 'as', 'needed', '1', 'tablespoon', 'dill', 'pickle', 'finely', 'chopped', 'or', 'dill', 'relish', 'or', '1', 'to', '2', 'teaspoons', 'chopped', 'dill', '1', 'to', '2', 'tablespoons', 'finely', 'chopped', 'onion', 'chopped', 'parsley', 'or', 'dijon', 'mustard', 'optional', 'salt', 'to', 'taste', 'pepper', 'to', 'taste', 'to', 'assemble', 'sandwich', 'lettuce', 'leaves', 'optional', 'sliced', 'tomato', 'optional', 'sliced', 'dill', 'pickles', 'and', 'potato', 'chips', 'or', 'french', 'fries', 'for', 'serving'], tags=[122]),\n",
              " TaggedDocument(words=['2', 'avocados', '1', '1/2', 'cups', 'english', 'cucumber', '1/2', 'cup', 'red', 'onion', '1/4', 'cup', 'cilantro', 'leaves', '3', 'tablespoons', 'extra', 'virgin', 'olive', 'oil', '2', 'tablespoons', 'lime', 'juice', '1', 'teaspoon', 'sea', 'salt', '1/4', 'teaspoon', 'black', 'pepper', '1/4', 'teaspoon', 'celery', 'seeds', '15', 'ounces', 'tuna', 'in', 'water', 'lime', 'wedges'], tags=[123]),\n",
              " TaggedDocument(words=['1', 'medium', 'everything', 'bagel', '2', 'large', 'eggs', 'salt', 'and', 'pepper', 'to', 'taste', '1/2', 'tablespoon', 'unsalted', 'butter', '1', 'tablespoon', 'coarsely', 'chopped', 'fresh', 'dill', '2', 'ounces', 'smoked', 'salmon', '5', 'spears', 'asparagus', '1/4', 'cup', 'pickled', 'red', 'onion', '1', 'tablespoon', 'cream', 'cheese'], tags=[124]),\n",
              " TaggedDocument(words=['1', 'loaf', 'white', 'bread', 'such', 'as', 'buttermilk', 'bread', '1', 'english', 'cucumber', 'thinly', 'sliced', 'peeling', 'is', 'optional', '2', 'large', 'sprigs', 'fresh', 'mint', 'leaves', 'only', 'chopped', 'or', 'whole', '4', 'tablespoons', 'butter', 'softened', 'optional', 'lemon', 'juice', 'to', 'taste'], tags=[125]),\n",
              " TaggedDocument(words=['10', 'ounces', 'tuna', '1/3', 'cup', 'mayonnaise', '1', 'teaspoon', 'dijon', 'mustard', '3', 'tablespoons', 'red', 'onion', '3', 'tablespoons', 'chopped', 'celery', '3', 'tablespoons', 'chopped', 'parsley', '1', 'tablespoon', 'lemon', 'juice', '1', 'tablespoon', 'dill', '1/8', 'teaspoon', 'ground', 'black', 'pepper', '1', 'large', 'tomato', '6', 'ounces', 'shredded', 'cheddar', 'cheese', '8', 'slices', 'bread', '3', 'tablespoons', 'butter'], tags=[126]),\n",
              " TaggedDocument(words=['2eggs', 'hard-boiledchilled', 'after', 'boiling', 'to', 'prevent', 'green', 'yolks', '1', 'tablespoon', 'mayo', 'or', 'mayo', 'alternative', '1', 'tablespoon', 'plain', 'yogurt', '1', 'tablespoon', 'dijon', 'mustard', '1', 'teaspoon', 'dill', 'chopped', 'or', 'dried', '1', 'teaspoon', 'fresh', 'parsley', 'chopped', 'sea-salt', 'to', 'taste', 'freshly', 'ground', 'black', 'pepper', 'to', 'taste', '4', 'slices', 'bread'], tags=[127]),\n",
              " TaggedDocument(words=['4', 'cupsall-purpose', 'flour', 'plus', 'extra', 'for', 'kneading', 'the', 'dough', '1', '1/2', 'cups', 'dried', 'berries', '2', 'tablespoons', 'sugar', 'plus', 'extra', 'for', 'sprinkling', '2', 'teaspoons', 'baking', 'powder', '1/4', 'teaspoon', 'sea', 'salt', '1/8', 'teaspoon', 'citrus', 'zest', 'such', 'as', 'lemon', 'orange', 'grapefruit', 'or', 'tangerine', '1/2', 'cup', 'virgin', 'coconut', 'oil', '1', 'teaspoon', 'pure', 'vanilla', 'extract', 'about', '1', '1/2', 'cups', 'almond', 'milk', 'or', 'another', 'vegan', 'milk', 'substitute'], tags=[128]),\n",
              " TaggedDocument(words=['1/2', 'cup', 'sugar', '3', '1/2', 'cups', 'all-purpose', 'flour', '2', 'teaspoons', 'baking', 'powder', '1/2', 'teaspoon', 'baking', 'soda', '3', 'teaspoons', 'ginger', 'powder', '1/2', 'cup', '0bmargarinevegan', '2', 'cups', 'pumpkin', 'pureed'], tags=[129]),\n",
              " TaggedDocument(words=['4', 'cups', 'heavy', 'cream'], tags=[130]),\n",
              " TaggedDocument(words=['5', 'large', 'peaches', '3', '1/2', 'ounces', 'superfine', 'sugar', '1', 'pod', 'vanilla', 'bean', '2', '1/2', 'cups', 'brandy'], tags=[131]),\n",
              " TaggedDocument(words=['1', 'seedless', 'english', 'cucumber', 'long', 'and', 'skinny', 'or', '2', 'persian', 'cucumbers', '3', 'tablespoons', 'apple', 'cider', 'vinegar', 'or', 'white', 'vinegar', '1', 'tablespoon', 'sugar', 'or', 'to', 'taste', '1/4', 'teaspoon', 'salt', '1/4', 'teaspoon', 'black', 'pepper', 'freshly', 'ground', '1', 'small', 'red', 'onion', 'thinly', 'sliced', 'and', 'broken', 'into', 'rings', 'optional', '3', 'tablespoons', 'fresh', 'dill', 'chopped', 'optional'], tags=[132]),\n",
              " TaggedDocument(words=['3', 'medium', 'bagels', '6', 'ounces', 'cream', 'cheese', '3', 'tablespoons', 'capers', '6', 'ounces', 'smoked', 'salmon', '1/3', 'cup', 'red', 'onion', 'freshly', 'ground', 'black', 'pepper', 'to', 'taste', 'lemon', 'wedges', 'garnish'], tags=[133]),\n",
              " TaggedDocument(words=['1', '1/2', 'cups', 'assorted', 'vegetables', 'chopped', 'such', 'as', 'english', 'cucumber', 'peeled', 'carrot', 'bell', 'pepper', 'watercress', 'baby', 'spinach', 'and', 'red', 'onion', 'up', 'to', '1', 'teaspoon', 'dried', 'parsley', 'chopped', 'fresh', 'chives', 'chopped', 'parsley', 'finely', 'chopped', 'garlic', 'or', 'finely', 'chopped', 'horseradish', '1', '8-ounce', 'container', 'cream', 'cheese', 'softened', 'dash', 'salt', 'to', 'taste', 'dash', 'pepper', 'to', 'taste', '2', 'loaves', 'white', 'bread', 'such', 'as', 'buttermilk', 'bread'], tags=[134]),\n",
              " TaggedDocument(words=['3', 'eggs', '1/2', 'cup', 'superfine', 'sugar', 'you', 'can', 'use', 'less', 'if', 'you', 'prefer', 'for', 'your', 'cake', 'not', 'to', 'be', 'sweet', '1/2', 'cup', 'vegetable', 'oil', '3/4', 'cup', 'greek-style', 'yogurt', 'plain', '1', 'teaspoon', 'vanilla', 'extract', '1', '1/2', 'cups', 'cake', 'flour', '1', 'teaspoon', 'baking', 'powder', '6', 'teaspoons', 'green', 'tea', 'powder', 'nok-cha', 'karu', 'matcha', 'optional', 'cream', 'cheese', 'frosting', 'consider', 'the', 'frosting', 'if', 'you', 'plan', 'to', 'use', 'little', 'to', 'no', 'sugar'], tags=[135]),\n",
              " TaggedDocument(words=['500', 'grams', 'almonds', 'vegetable', 'oil', '225', 'grams', 'granulated', 'sugar', '1/4', 'teaspoon', 'ground', 'cinnamon', 'pinch', 'mastic', '60', 'grams', 'unsalted', 'butter', '2', 'to', '3', 'tablespoons', 'orange', 'flower', 'water', '10', 'warqa', 'leaves', '1', 'large', 'egg', 'yolk', '100', 'grams', 'unsalted', 'butter', '1', 'large', 'egg', '1', 'cup', 'honey', 'coarsely', 'ground', 'or', 'sliced', 'almonds'], tags=[136]),\n",
              " TaggedDocument(words=['440', 'grams', 'all-purpose', 'flour', '90', 'grams', 'fine', 'semolina', '2', 'teaspoons', 'granulated', 'sugar', '2', 'teaspoons', 'kosher', 'salt', '1/4', 'teaspoon', 'yeast', '1', '1/2', 'cups', 'water', '1', '1/2', 'cups', 'vegetable', 'oil', '1/2', 'cup', 'fine', 'semolina', '1/4', 'cup', 'unsalted', 'butter', 'salted', 'butter', 'honey', 'or', 'jam'], tags=[137]),\n",
              " TaggedDocument(words=['150', 'grams', 'almonds', '60', 'grams', 'sugar', '1/4', 'teaspoon', 'cinnamon', '1', '1/2', 'tablespoons', 'orange', 'flower', 'water', '1', 'tablespoon', 'butter', '500', 'grams', 'dates', '2', 'drops', 'food', 'color', '1/4', 'cup', 'walnut', 'pieces', '1/4', 'cup', 'shredded', 'coconut', '1', 'teaspoon', 'ground', 'cinnamon', 'granulated', 'sugar'], tags=[138]),\n",
              " TaggedDocument(words=['1', '5-pound', 'chicken', '1/4', 'cup', 'olive', 'oil', '1/4', 'cup', 'unsalted', 'butter', '2', 'large', 'sweet', 'onions', '1', 'tablespoon', 'ground', 'ginger', '2', 'teaspoons', 'salt', '1', '1/2', 'teaspoons', 'freshly', 'ground', 'white', 'pepper', '1', 'teaspoon', 'black', 'pepper', '1', 'teaspoon', 'turmeric', '1', 'teaspoon', 'saffron', 'threads', '2', 'to', '3', 'sticks', 'cinnamon', '1/4', 'cup', 'cilantro', '8', 'large', 'eggs', '1/4', 'cup', 'vegetable', 'oil', '2', 'cups', 'almonds', '1/2', 'cup', 'confectioners', 'sugar', '2', 'tablespoons', 'orange', 'flower', 'water', '1', 'tablespoon', 'unsalted', 'butter', 'vegetable', 'oil', 'as', 'needed', '1/2', 'cup', 'unsalted', 'butter', '1', 'pound', 'phyllo', 'dough', '1', 'large', 'egg', 'yolk', '1/2', 'cup', 'confectioners', 'sugar', '2', 'to', '3', 'tablespoons', 'ground', 'cinnamon'], tags=[139]),\n",
              " TaggedDocument(words=['700', 'grams', 'fresh', 'strawberries', '397', 'grams', 'sweetened', 'condensed', 'milk', '236', 'to', '475', 'milliliters', 'water', '2', 'tablespoons', 'freshly', 'squeezed', 'lemon', 'juice', 'ice', 'cubes'], tags=[140]),\n",
              " TaggedDocument(words=['750', 'ml', 'vodka', '6', 'tablespoons', 'chamomile', 'blossoms', '1', 'cup', 'simple', 'syrup'], tags=[141]),\n",
              " TaggedDocument(words=['24', 'ounces', 'silken', 'tofu', '2', 'cups', 'soy', 'milk', '2/3', 'cup', 'turbinado', 'sugar', '1/4', 'teaspoon', 'salt', '1', 'cup', 'water', '1', 'cup', 'rum', '4', '1/2', 'teaspoons', 'pure', 'vanilla', 'extract', '20', 'ice', 'cubes', 'grated', 'nutmeg'], tags=[142]),\n",
              " TaggedDocument(words=['1', 'cup', 'water', '1', 'to', '2', 'cups', 'sugar'], tags=[143]),\n",
              " TaggedDocument(words=['1', '1/2', 'cups', 'freshly', 'squeezed', 'lemon', 'juice', '6', 'cups', 'water', '3/4', 'cup', 'agave', 'nectar', '1', 'tablespoon', 'ginger', '6', 'large', 'fresh', 'mint', 'leaves', '1', 'medium', 'lemon'], tags=[144]),\n",
              " TaggedDocument(words=['1', 'cup', 'water', '5', 'cloves', '1', 'stick', 'cinnamon', '1', 'pod', 'star', 'anise', '1', 'tablespoon', 'black', 'tea', '1', 'tablespoon', 'honey', '2', 'ounces', 'brandy', '1', 'lemon', 'wedge'], tags=[145]),\n",
              " TaggedDocument(words=['1', 'cup', 'water', '1', 'black', 'or', 'green', 'tea', '1', 'tablespoon', 'honey', '1', '1/2', 'ounces', 'brandy', '1', 'tablespoon', 'lemon', 'juice', 'lemon', 'wedge', 'cinnamon', 'stick'], tags=[146]),\n",
              " TaggedDocument(words=['1/4', 'cup', 'honey', '3/4', 'teaspoon', 'pure', 'vanilla', 'extract', '2', 'medium', 'bananas', '1', '1/2', 'cups', 'vanilla', 'yogurt', '1/2', 'cup', 'ice'], tags=[147]),\n",
              " TaggedDocument(words=['1/2', 'cup', 'water', '2', 'cups', 'demerara', 'sugar', '1/2', 'cup', 'rose', 'water'], tags=[148]),\n",
              " TaggedDocument(words=['2', 'ounces', 'irish', 'cream', 'liqueur', '3', 'ounces', 'masala', 'chai', 'tea', '2', 'teaspoons', 'raw', 'sugar', 'cinnamon', 'stick'], tags=[149]),\n",
              " TaggedDocument(words=['1', 'to', '1', '1/2', 'ounces', 'vodka', '1', 'ounce', 'coffee', 'liqueur', '1', 'ounce', 'irish', 'cream', 'liqueur'], tags=[150]),\n",
              " TaggedDocument(words=['1', '1/2', 'cups', 'ice', 'roughly', '12', 'to', '15', 'ice', 'cubes', '1', 'cup', 'masala', 'chai', 'concentrate', '1/2', 'cup', 'whole', 'milk', '1-2', 'teaspoons', 'good', 'quality', 'chocolate', 'or', 'white', 'chocolate', 'syrup', 'optional'], tags=[151]),\n",
              " TaggedDocument(words=['8', 'cups', 'green', 'tea', '1/2', 'cup', 'cucumber', '1/4', 'cup', 'mint', 'leaves', '1/4', 'cup', 'lime', 'juice', 'simple', 'syrup', 'cucumber', 'slices'], tags=[152]),\n",
              " TaggedDocument(words=['1/2', 'cup', 'granulated', 'sugar', '1', 'tablespoon', 'ground', 'cinnamon'], tags=[153]),\n",
              " TaggedDocument(words=['butter', '1', '8-ounce', 'tube', 'crescent', 'rolls', '1/4', 'cup', 'butter', '1/4', 'cup', 'brown', 'sugar', '2', 'tablespoons', 'ground', 'cinnamon', '1', 'cup', 'confectioners', 'sugar', '2', 'tablespoons', 'milk'], tags=[154]),\n",
              " TaggedDocument(words=['1', 'cup', 'water', '1', 'cup', 'granulated', 'sugar', '4', 'cinnamon', 'sticks', '1/2', 'teaspoon', 'pure', 'vanilla', 'extract'], tags=[155]),\n",
              " TaggedDocument(words=['2', 'teaspoons', 'sichuan', 'peppercorns', '5', 'to', '6', 'star', 'anise', '1/2', 'teaspoon', 'ground', 'cloves', '1', 'tablespoon', 'ground', 'chinese', 'cinnamon', '1', 'tablespoon', 'fennel'], tags=[156]),\n",
              " TaggedDocument(words=['1', 'cup', 'milk', '2', 'small', 'pieces', 'cinnamon', 'bark', 'granulated', 'sugar', 'ground', 'cinnamon'], tags=[157]),\n",
              " TaggedDocument(words=['3/4', 'ounce', 'brandy-based', 'orange', 'liqueur', '3/4', 'ounce', 'amaretto', 'liqueur', '3/4', 'cup', 'orange', 'pekoe', 'tea', 'orange', 'wheel'], tags=[158]),\n",
              " TaggedDocument(words=['8', 'cups', 'watermelon', '1', 'to', '1', '1/2', 'cups', 'lemon', 'juice', '1', 'to', '1', '1/2', 'cups', 'sugar', '4', 'to', '5', 'cups', 'water', 'watermelon', 'lemon', 'slices', 'fresh', 'mint', 'sprigs'], tags=[159]),\n",
              " TaggedDocument(words=['3', 'cups', 'water', '1', 'cup', 'sugar', '4', 'cups', 'cantaloupe'], tags=[160]),\n",
              " TaggedDocument(words=['1', 'cup', 'water', '2', 'cups', 'granulated', 'sugar', '3', 'ounces', 'mint', '2', 'tablespoons', 'lemon', 'juice', '2', 'tablespoons', 'orange', 'juice', '2', 'tablespoons', 'lime', 'juice'], tags=[161]),\n",
              " TaggedDocument(words=['10', 'slices', 'dried', 'ginseng', 'root', 'peeled', 'honey', 'to', 'taste', '5', 'cups', 'water'], tags=[162]),\n",
              " TaggedDocument(words=['2', 'small', 'whole', 'chickens', 'or', 'cornish', 'hens', '2', 'roots', 'of', 'dried', 'ginseng', 'washed', '7-8', 'chestnuts', 'peeled', '9-10', 'red', 'dried', 'dates', 'rinsed', '1/2', 'cup', 'korean', 'sticky', 'rice', 'chapsal', 'washed', 'and', 'drained', '8', 'cloves', 'garlic', 'peeled', '1/4', 'inch', 'piece', 'ginger', 'peeled', 'and', 'cut', 'in', 'half', '9', 'cups', 'water', '2', 'chopped', 'scallions', 'for', 'garnish', 'salt', 'to', 'taste', 'pepper', 'to', 'taste'], tags=[163]),\n",
              " TaggedDocument(words=['1', 'pound', 'of', 'rice', 'noodles', 'cooked', 'according', 'to', 'package', 'directions', '3', 'teaspoon', 'sesame', 'oil', '2', 'tablespoon', 'extra-virgin', 'olive', 'oil', '1/2', 'onion', 'sweet', 'thinly', 'sliced', '5', 'scallions', 'sliced', 'into', '1-inch', 'pieces', '2', 'carrots', 'peeled', 'and', 'sliced', 'into', 'matchsticks', '2', 'cups', 'napa', 'cabbage', 'thinly', 'sliced', '1', 'cup', 'spinach', '1', 'tablespoon', 'minced', 'ginger', '1', 'tablespoon', 'minced', 'garlic', '1/4', 'cup', 'chicken', 'broth', '2', 'tablespoons', 'soy', 'sauce', 'plus', 'more', 'as', 'needed'], tags=[164]),\n",
              " TaggedDocument(words=['1', 'cup', 'rice', '1', 'tablespoon', 'sesame', 'oil', '1/2', 'cup', 'chopped', 'onion', '1/2', 'cup', 'chopped', 'carrot', '1/2', 'cup', 'chopped', 'radish', '2', 'to', '3', 'cups', 'vegetablesoup', 'stock0b', 'salt', 'to', 'taste', 'black', 'pepper', 'to', 'taste'], tags=[165]),\n",
              " TaggedDocument(words=['2', 'cups', 'water', '2', 'teaspoons', 'ground', 'turmeric', '1', 'tablespoon', 'fresh', 'ginger', '1', 'cinnamon', 'stick', '1/2', 'teaspoon', 'lemon', 'zest', '4', 'teaspoons', 'honey', 'to', 'taste', 'divided', 'lemon', 'wedges'], tags=[166]),\n",
              " TaggedDocument(words=['1', '1/2', 'ounces', 'gin', '3/4', 'ounce', 'lemon', 'juice', '1', 'teaspoon', 'sugar', '2', 'ounces', 'hot', 'water', 'cinnamon', 'stick'], tags=[167]),\n",
              " TaggedDocument(words=['1/2', 'ounce', 'gin', '1/2', 'ounce', 'light', 'rum', '1/2', 'ounce', 'vodka', '1/2', 'ounce', 'blanco', 'tequila', '1/2', 'ounce', 'triple', 'sec', '1', 'ounce', 'sour', 'mix', '1', 'to', '2', 'ounces', 'cola', 'lemon', 'wedge'], tags=[168]),\n",
              " TaggedDocument(words=['1', 'ounce', 'bourbon', 'whiskey', '1', 'ounce', 'blood', 'orange', 'liqueur', '1', 'ounce', 'sweet', 'vermouth', '1', 'to', '2', 'dashes', 'orange', 'bitters', '6', 'small', 'leaves', 'tarragon', 'orange', 'peel'], tags=[169]),\n",
              " TaggedDocument(words=['1', '1/2', 'ounces', 'bourbon', 'whiskey', '1', 'ounce', 'melon', 'liqueur', '2', 'to', '3', 'ounces', 'lemon-lime', 'soda', 'lime', 'wheel'], tags=[170]),\n",
              " TaggedDocument(words=['1/2', 'ounce', 'blanco', 'tequila', '1/2', 'ounce', 'bourbon', 'whiskey', '1/2', 'ounce', 'gin', '1/2', 'ounce', 'light', 'rum', '1/2', 'ounce', 'vodka', '1/2', 'ounce', 'triple', 'sec', '1', 'ounce', 'sour', 'mix', '2', 'ounces', 'cola', 'lemon', 'wedge'], tags=[171]),\n",
              " TaggedDocument(words=['1', 'ounce', 'bourbon', 'whiskey', '1', '1/2', 'ounces', 'ginger', 'liqueur', '1/2', 'ounce', 'lemon', 'juice'], tags=[172]),\n",
              " TaggedDocument(words=['1', 'orange', 'slice', '1', 'splash', 'orange', 'liqueur', '2', 'ounces', 'bourbon', 'whiskey', '2', 'ounces', 'ginger', 'ale'], tags=[173]),\n",
              " TaggedDocument(words=['2', 'ounces', 'bourbon', 'whiskey', '1/4', 'ounce', 'bénédictine', 'liqueur', '1', 'dash', 'bitters', 'lemon', 'twist'], tags=[174]),\n",
              " TaggedDocument(words=['1/2', 'cup', 'fresh', 'ginger', '1', '750-milliliter', 'bottle', 'bourbon', 'whiskey', '1/4', 'tablespoon', 'ginger', '1', '1/2', 'ounces', 'soda', 'water', '1', 'tablespoon', 'organic', 'brown', 'sugar', '1', '1/2', 'ounces', 'ginger-infused', 'bourbon', 'lemon', 'twist'], tags=[175]),\n",
              " TaggedDocument(words=['1', '1/2', 'ounce', 'cherry', 'bourbon', 'whiskey', '1/2', 'ounce', 'strawberry', 'liqueur', '4', 'ounces', 'lemonade', '2', 'ounces', 'lemon-lime', 'soda', 'lemon', 'slice'], tags=[176]),\n",
              " TaggedDocument(words=['1', '1/2', 'ounces', 'bourbon', 'whiskey', '1/2', 'ounce', 'orange', 'liqueur', '1', 'ounce', 'maple', 'syrup', '2', 'tablespoons', 'pumpkin', 'purée', '1', 'dash', 'bitters', 'orange', 'peel'], tags=[177]),\n",
              " TaggedDocument(words=['2', 'cups', 'milk', '2', 'cups', 'water', '4', 'whole', 'cloves', '2', 'pods', 'green', 'cardamom', '2', 'peppercorns', '1', 'cinnamon', 'stick', '1', '1/2-inch', 'piece', 'ginger', '2', 'tablespoons', 'sugar', '2', 'tablespoons', 'black', 'tea', 'leaves'], tags=[178]),\n",
              " TaggedDocument(words=['2', 'tablespoons', 'black', 'tea', '1', 'pod', 'star', 'anise', '2', 'pods', 'cardamom', '1/2', 'cinnamon', 'stick', '1/8', 'vanilla', 'bean', 'tamarind', 'to', 'taste', 'optional', '1/4', 'teaspoon', 'almond', 'extract', '1', 'cup', 'water', '1', 'tablespoon', 'sugar', '1', 'tablespoon', 'sweetened', 'condensed', 'milk', '2', 'teaspoons', 'evaporated', 'milk'], tags=[179]),\n",
              " TaggedDocument(words=['1', 'cup', 'all-purpose', 'flour', '1', 'pinch', 'salt', '2', 'ounces', 'butter', '2', 'to', '3', 'tablespoons', 'water', '1/2', 'cup', 'rump', 'steak', '1/2', 'cup', 'potato', '1/2', 'cup', 'swede', '1/4', 'cup', 'onion', 'salt', 'ground', 'black', 'pepper', '1', 'large', 'egg'], tags=[180]),\n",
              " TaggedDocument(words=['4', 'large', 'eggs', '1', 'cup', 'milk', '1', 'pinch', 'kosher', 'salt', '1', 'cup', 'all-purpose', 'flour', '2', 'tablespoons', 'lard', '2', 'tablespoons', 'water'], tags=[181]),\n",
              " TaggedDocument(words=['1', 'cup', 'eggs', '1', 'cup', 'whole', 'milk', 'pinch', 'salt', '1', 'cup', 'all-purpose', 'flour', '2', 'tablespoons', 'lard'], tags=[182]),\n",
              " TaggedDocument(words=['1', 'tablespoon', 'butter', 'for', 'greasing', 'pan', '1', 'orange', 'jellytablet', '1/2', 'cup', 'water', '3', 'tablespoons', 'seville', 'orange', 'marmalade', '1', 'large', 'egg', '1', 'ounce', 'fine', 'or', 'caster', 'sugar', '1', 'ounce', 'self-risingflour', '7', 'ounces', 'semisweet', 'chocolate'], tags=[183]),\n",
              " TaggedDocument(words=['1', 'pound', 'stinging', 'nettles', '2', 'tablespoons', 'olive', 'oil', 'salt'], tags=[184]),\n",
              " TaggedDocument(words=['1/4', 'cup', 'pomegranate', 'juice', '1', 'tablespoon', 'cinnamon', 'syrup', '1', 'teabag', 'black', 'tea', '1/2', 'to', '3/4', 'cup', 'water', 'cinnamon', 'stick'], tags=[185]),\n",
              " TaggedDocument(words=['3', 'cups', 'strawberries', '2', 'cups', 'blueberries', '2', 'cups', 'seedless', 'grapes', '2', 'medium', 'oranges', '2', 'cups', 'pineapple', '4', 'kiwi', 'fruits', '3', 'tablespoons', 'honey', '2', 'tablespoons', 'orange', 'juice', '2', 'tablespoons', 'lime', 'juice', '2', 'teaspoons', 'lime', 'zest'], tags=[186]),\n",
              " TaggedDocument(words=['1/2', 'cup', 'sugar', '1/2', 'cup', 'plus', '4', 'cups', 'plus', '3', 'cups', 'water', '1', 'large', 'stalk', 'lemongrass', 'dry', 'tops', 'and', 'tough', 'outer', 'leaves', 'removed', 'stalk', 'cut', 'into', 'small', 'rounds', 'about', '1/4', 'cup', '1-inch', 'x', '2-inch', 'knob', 'of', 'ginger', 'peeled', 'and', 'chopped', 'about', '2', 'tablespoons', '4', 'mild', 'black', 'tea', 'bags', 'such', 'as', 'darjeeling', 'or', 'assam', 'garnish', 'serve', 'over', 'ice'], tags=[187]),\n",
              " TaggedDocument(words=['3', 'cups', 'water', '6', 'sprigs', 'mint', 'fresh', 'each', 'about', '6', 'inches', 'well-rinsed', '1/3', 'cup', 'sugar', 'or', 'to', 'taste', 'or', '1/4', 'cup', 'honey', '2', 'cups', 'orange', 'juice', 'fresh', '1/2', 'cup', 'lemon', 'juice', 'fresh', 'cold', 'water', 'to', 'fill', 'the', 'pitcher', 'to', 'the', 'top', 'ice', 'cubes', 'to', 'fill', 'the', 'pitcher', 'to', 'the', 'top', 'garnish', 'fresh', 'mint', 'sprigs', 'thin', 'slices', 'orange', 'or', 'lemon'], tags=[188]),\n",
              " TaggedDocument(words=['1', 'tablespoon', 'green', 'tea', 'such', 'as', 'houjicha', 'sencha', 'or', 'kukicha', '1', 'cup', 'simmering', 'water', '2', 'teaspoons', 'lemon-ginger', 'simple', 'syrup', 'for', 'iced', 'tea', '1', 'cup', 'ice'], tags=[189]),\n",
              " TaggedDocument(words=['1/4', 'cupcorn', 'roasted', '5', 'cups', 'water'], tags=[190]),\n",
              " TaggedDocument(words=['for', 'the', 'yuja', 'chung', 'citron', 'tea', 'marmalade', '5', 'yuja', 'fruits', 'citron', 'or', 'yuzu', 'scrubbed', 'clean', '3/4', 'cup', 'honey', '1/4', 'cup', 'very', 'warm', 'water', 'for', 'the', 'yuja', 'cha', 'yuja', 'tea', '1', 'spoonful', 'yuja', 'chung', '1', 'cup', 'hot', 'water'], tags=[191]),\n",
              " TaggedDocument(words=['1', 'ounce', 'whisky', 'canadian', 'club', 'classic', '12-year', '1', 'ounce', 'mango', 'rum', 'cruzan', '4', 'ounces0biced', 'tea', 'brewed', 'chilled', 'garnish', 'lemon', 'wedge'], tags=[192]),\n",
              " TaggedDocument(words=['2', 'ounces', 'bourbon', 'whiskey', '1/2', 'ounce', 'lemon', 'juice', '3', 'ounces', 'lemon', 'mint', 'eucalyptus', 'infusion', 'fresh', 'mint'], tags=[193]),\n",
              " TaggedDocument(words=['2', 'ounces', 'vodka', '2', 'ounces', 'orange', 'juice', '3', 'ounces', 'cranberry', 'tea', '3/4', 'ounce', 'lemon', 'juice', '3', 'teaspoons', 'sugar'], tags=[194]),\n",
              " TaggedDocument(words=['1', 'cup', 'sugar', '½', 'cup', 'peeled', 'and', 'thinly', 'sliced', 'fresh', 'ginger', '2½', 'qt', 'fresh', 'brewed', 'ice', 'tea', '1', 'bottle', 'moscato', '12', 'pieces', 'candied', 'ginger', 'for', 'garnish', '1', 'bottle', '0bmoscato', 'ice', 'cubes'], tags=[195]),\n",
              " TaggedDocument(words=['1/2', 'cup', 'brandy', '1/2', 'cup', 'gin', '1', 'cup', 'green', 'tea', '1', 'cup', 'pomegranate', 'juice', '2', 'ounces', 'cinnamon', 'syrup', '1', '750-milliliter', 'bottle', 'dry', 'white', 'wine', '1', 'medium', 'apple', '1', 'medium', 'pear', '1', 'medium', 'orange', '3', 'cinnamon', 'sticks', '1', 'cup', 'club', 'soda', 'apple', 'slices', 'orange', 'slices'], tags=[196]),\n",
              " TaggedDocument(words=['4', 'large', 'eggs', '2', 'tablespoons', 'flour', 'seasoned', 'with', 'salt', 'and', 'pepper', '1', 'cup/225', 'grams', 'sausage', 'skinless', '1', 'dash', 'worcestershire', 'sauce', '2', 'spring', 'onions', 'finely', 'chopped', '1', 'tablespoon', 'parsley', 'finely', 'chopped', 'or', 'any', 'other', 'fresh', 'herb', 'that', 'takes', 'your', 'fancy', 'optional', '1', 'pinch', 'mace', 'salt', 'to', 'taste', 'pepper', 'to', 'taste', '1', 'egg', 'beaten', '1/2', 'cup', 'breadcrumbs', 'home-made', 'dry', 'breadcrumbs', 'or', 'a', 'good', 'quality', 'crumb', 'such', 'as', 'panko'], tags=[197]),\n",
              " TaggedDocument(words=['2', '1/4', 'cups', 'all-purpose', 'flour', '4', 'ounces', 'unsalted', 'butter', 'pinch', 'kosher', 'salt', '2', 'to', '3', 'tablespoons', 'water', '1', 'medium', 'egg', 'white', '2', 'tablespoons', 'raspberry', 'jam', '5', 'ounces', 'unsalted', 'butter', '1/4', 'cup', 'superfine', 'sugar', '3', 'medium', 'eggs', '1', 'medium', 'egg', 'yolk', '1', '3/4', 'cups', 'almonds', '2', 'teaspoons', 'lemon', 'zest', '2', 'tablespoons', 'almonds', 'custard', 'or', 'cream', 'sauce', 'for', 'serving', 'optional'], tags=[198]),\n",
              " TaggedDocument(words=['200', 'grams', 'all-purpose', 'flour', 'plain', 'flour', '110', 'grams', 'unsalted', 'butter', '1', 'pinch', 'kosher', 'salt', '2', 'to', '3', 'tablespoons', 'water', '55', 'grams', 'unsalted', 'butter', '2', 'tablespoons', 'extra-virgin', 'olive', 'oil', '1', 'large', 'yellow', 'onion', '3', 'to', '4', 'large', 'eggs', '200', 'milliliters', '75', 'grams', 'cheddar', 'cheese', '2', 'to', '3', 'tablespoons', 'parsley', '1', 'cup', 'milk', 'kosher', 'salt', 'to', 'taste', 'freshly', 'ground', 'black', 'pepper', 'to', 'taste'], tags=[199]),\n",
              " TaggedDocument(words=['for', 'the', 'pastry', '5', '1/2', 'ounces', 'or', '1', '1/4', 'cups', 'all-purpose', 'flour', '1/2', 'teaspoon', 'salt', 'optional', '1', 'teaspoon', 'sugarscant', '8', 'tablespoonsbutter', 'chilled', 'cut', 'in', 'small', 'pieces', '4', 'to', '6', 'tablespoonswater', 'with', 'ice', 'for', 'the', 'pie', 'filling', '2', '1/2', 'cups', 'milk', '4', 'large', 'eggs', 'lightly', 'beaten', '2/3', 'cup', 'granulated', 'sugar', '1/4', 'teaspoon', 'salt', '1/4', 'teaspoonground', 'nutmeg', '1', 'teaspoon', 'vanillaextract'], tags=[200]),\n",
              " TaggedDocument(words=['1', '1/2', 'pounds', 'lean', 'pork', 'cut', 'into', '1-inch', 'cubes', '3/4', 'pound', 'pork', 'fatback', '1/2', 'pound', 'duck', 'legs', 'kept', 'whole', '3/4', 'cup', 'water', '1', '1/2teaspoonsfresh', 'thymechopped', '1', '1/4teaspoon', 'salt', '3/4', 'teaspoon', 'pepper', '1', 'dried', 'bay', 'leaf'], tags=[201]),\n",
              " TaggedDocument(words=['1', 'cup', 'butter', 'or', 'margarine', 'softened', '3/4', 'cup', 'sugar', '2', 'large', 'eggs', 'separated', '1', 'teaspoon', 'vanilla', 'extract', '2', 'cups', 'flour', '1/4', 'teaspoon', 'salt', '1', '1/4', 'cups', 'nuts', 'finely', 'chopped', '1/2', 'cup', 'jams', 'or', 'preserves', 'or', 'curds'], tags=[202]),\n",
              " TaggedDocument(words=['1', 'tablespoon', 'butter', '1', 'onion', 'finely', 'chopped', '2', 'cloves', 'garlic', 'minced', '1', 'cup', 'cabbage', 'finely', 'chopped', '1', 'cup', 'frozen', 'hash', 'brown', 'potatoes', 'thawed', '1', 'cup', 'cooked', 'corned', 'beef', 'finely', 'chopped', '2', 'tablespoons', 'dijon', 'mustard', 'or', 'yellow', 'mustard', 'dash', 'salt', 'or', 'to', 'taste', 'freshly', 'ground', 'black', 'pepper', 'to', 'taste', '8', '7', 'to', '8-inch', 'egg', 'roll', 'wrappers', '2', 'tablespoons', 'vegetable', 'oil', 'garnish', 'thousand', 'island', 'dressing'], tags=[203]),\n",
              " TaggedDocument(words=['450', 'g', 'mixed', 'dried', 'fruit', '10', 'ounces', 'black', 'tea', '150', 'g', 'unsalted', 'butter', '150', 'g', 'dark', 'muscovado', 'sugar', '4', 'medium', 'eggs', '225', 'g', 'g', 'all-purpose', 'flour', '1', 'tablespoon', 'dark', 'treacle', '3', 'ounces', 'brandy', '1/2', 'teaspoon', 'ground', 'nutmeg', '2', 'teaspoons', 'lemon', 'juice', '1', 'teaspoon', 'baking', 'powder', '110', 'g', 'almonds', '225', 'g', 'glacé', 'cherries', '225', 'g', 'candied', 'orange', 'peel'], tags=[204]),\n",
              " TaggedDocument(words=['24', 'vanilla', 'wafer', 'cookies', '2', '8-ounce', 'packages', 'cream', 'cheese', 'softened', '3', 'eggs', 'separated', '1', '14-ounce', 'can', 'sweetened', 'condensed', 'milk', '1/4', 'cup', 'freshly', 'squeezed', 'lemon', 'juice', '1/4', 'teaspoon', 'salt', '1', '21-ounce', 'can', 'cherry', 'pie', 'filling'], tags=[205]),\n",
              " TaggedDocument(words=['2', 'tablespoons', 'butter', '1/4', 'cup', 'extra-virgin', 'olive', 'oil', '1', 'large', 'shallot', 'finely', 'chopped', '2', 'cloves', 'garlic', 'finely', 'chopped', '1', '1/2', 'pounds', 'assorted', 'fresh', 'mushrooms', 'sliced', 'king', 'trumpet', 'maitake', 'beech', 'shiitake', 'oyster', 'porcini', 'sea', 'salt', 'and', 'black', 'pepper', '2', 'tablespoons', 'each', 'thyme', 'tarragon', 'flat-leaf', 'parsley', 'and', 'chives', 'finely', 'chopped', '1', 'large', 'egg', 'plus', '1', 'large', 'egg', 'yolk', 'beaten', 'together', '1/2', 'package', 'puff', 'pastry', '1', 'sheet', 'thawed', '1', 'large', 'egg', 'plus', '1', 'teaspoon', 'water', 'for', 'egg', 'wash', 'beaten'], tags=[206]),\n",
              " TaggedDocument(words=['4', 'large', 'oranges', 'or', '2', 'grapefruit', 'or', '6', 'lemons', '4', 'cups', 'water', '4', 'cups', 'sugar', '1/4', 'cup', 'light', 'corn', 'syrup', 'optional', 'additional', 'sugar', 'for', 'rolling', 'optional', '8', 'ounces', 'chocolate', 'candy', 'coating', 'or', 'tempered', 'chocolate'], tags=[207]),\n",
              " TaggedDocument(words=['4', 'large', 'eggs', '1', '1/2', 'cups', 'granulated', 'sugar', '1/2', 'cup', 'vegetable', 'oil', '2', 'cups', 'all-purpose', 'flour', '4', 'teaspoons', 'baking', 'powder', '1/2', 'teaspoon', 'fine', 'salt', '1/2', 'cup', 'milk', '2', 'tablespoons', 'fresh', 'lemon', 'juice', '2', 'tablespoons', 'lemon', 'zest', '1', 'teaspoon', 'vanilla', 'extract', '1', 'cup', 'confectioners', 'sugar', '1', 'to', '2', 'tablespoons', 'fresh', 'lemon', 'juice'], tags=[208]),\n",
              " TaggedDocument(words=['3', 'tablespoons', 'vegetable', 'oil', '1/2', 'pound', 'lamb', '6', 'large', 'tomatoes', '1', 'tablespoon', 'kosher', 'salt', '1/2', 'teaspoon', 'turmeric', '1', 'bunch', 'parsley', '1', 'bunch', 'cilantro', '1', 'stalk', 'celery', '1', '1/2', 'teaspoons', 'pepper', '1', 'teaspoon', 'ground', 'cinnamon', '1', 'tablespoon', 'ground', 'ginger', '1', 'large', 'onion', '1', 'handful', 'dried', 'chickpeas', '1', 'tablespoon', 'smen', '11', 'cups', 'water', '3', 'tablespoons', 'dried', 'lentils', '3', 'tablespoons', 'tomato', 'paste', '2', 'tablespoons', 'uncooked', 'rice', '2', 'tablespoons', 'vermicelli', '1', 'cup', 'flour', '2', 'cups', 'water', 'chopped', 'parsley'], tags=[209]),\n",
              " TaggedDocument(words=['2', 'liters', 'of', 'water', '1', 'cup', '175', 'g', 'coarse', 'semolina', '1', '1/2', 'teaspoons', 'salt', 'or', 'to', 'taste', '1/2', 'teaspoon', 'pepper', '5', 'or', '6', 'saffron', 'threads', 'crumbled', '1/4', 'teaspoon', 'turmeric', 'optional', '2', 'tablespoons', 'butter', '1', 'teaspoon', 'ground', 'anise', 'seed', 'or', 'more', 'to', 'taste'], tags=[210]),\n",
              " TaggedDocument(words=['1', 'whole', 'chicken', 'cut', 'into', 'pieces', 'and', 'skin', 'removed', '2', 'large', 'onions', 'chopped', 'medium', '1', 'tablespoon', 'ground', 'ginger', '1', 'teaspoon', 'white', 'pepper', '1/2', 'teaspoon', 'black', 'pepper', '1', 'or', '2', 'small', 'pieces', '2', 'inchs', 'to', '3', 'inches', 'of', 'cinnamon', 'stick', '1', 'teaspoon', 'saffron', 'threads', 'crumbled', '1/2', 'teaspoon', 'turmeric', '1', '1/2', 'to', '2', 'teaspoons', 'salt', '1/4', 'cup', 'vegetable', 'oil', '1/4', 'cup', 'olive', 'oil', '1/4', 'cup', 'chopped', 'fresh', 'cilantro', '1/2', 'kg', 'about', '1', '1lb', 'warqa', 'fillo', 'dough', 'or', 'large', 'spring', 'roll', 'wrappers', '4', 'tablespoons', 'melted', 'butter', 'for', 'folding', 'the', 'briouats', '1', 'egg', 'yolk', 'lightly', 'beaten', 'for', 'folding', 'the', 'briouats', '3', 'to', '4', 'cups', 'vegetable', 'oil', 'for', 'frying', 'the', 'briouats'], tags=[211]),\n",
              " TaggedDocument(words=['1/2', 'kg', '1', 'lb', '3', 'oz', 'ground', 'meat', 'beef', 'lamb', 'or', 'a', 'combo', '1', 'medium', 'onion', 'finely', 'chopped', '1', 'teaspoon', 'paprika', '1', 'teaspoon', 'cumin', '1', 'teaspoon', 'pepper', '1', '1/2', 'teaspoons', 'salt', 'optional', '1', 'teaspoon', 'cinnamon', '4', 'tablespoons', 'butter', 'for', 'cooking', 'meat', 'handful', 'fresh', 'parsley', 'leaves', 'chopped', '3', 'eggs', 'lightly', 'beaten', 'about', '11lb/1/2', 'kg', 'warqa', 'or', 'filo', 'dough', 'or', 'large', 'spring', 'roll', 'wrappers', '4', 'tablespoons', 'buttermelted', 'for', 'folding', 'the', 'briouats', '1', 'egg', 'yolk', 'lightly', 'beaten', 'for', 'folding', 'the', 'briouats', '4', 'cups', 'vegetable', 'oil', 'or', 'as', 'needed', 'for', 'frying', 'the', 'briouats'], tags=[212]),\n",
              " TaggedDocument(words=['for', 'the', 'dough', '2', 'cups', 'flour', '250', 'g', '2', 'cups', 'fine', 'semolina', '360g', '2', 'teaspoons', 'sugar', '2', 'teaspoons', 'salt', '1/4', 'teaspoon', 'yeast', '1', '1/2', 'cups', 'warm', 'water', 'approx', '1/3', 'liter', 'for', 'folding', 'and', 'cooking', 'the', 'msemen', '1', 'cup', 'vegetable', 'oil', '1/2', 'cup', 'very', 'soft', 'butter', '1/2', 'cup', 'semolina'], tags=[213]),\n",
              " TaggedDocument(words=['1', 'pound', 'ground', 'beef', '3', 'ounces', 'ground', 'beef', '1', 'medium', 'onion', '2', 'teaspoons', 'paprika', '1', 'teaspoon', 'cumin', '1', 'teaspoon', 'salt', '1/4', 'teaspoon', 'pepper', '1/8', 'teaspoon', 'cayenne', 'pepper', '1/4', 'cup', 'fresh', 'parsley', '1/4', 'cup', 'fresh', 'cilantro', '1', 'teaspoon', 'ground', 'cinnamon', '1', 'tablespoon', 'mint', 'leaves'], tags=[214]),\n",
              " TaggedDocument(words=['conventional', 'measures', '1', '1/2', 'cups', 'fine', 'semolinaor', 'durum', 'flour', '3/4', 'cup', 'all-purpose', 'flour', '1', 'teaspoon', 'salt', '1', 'teaspoon', 'sugar', '2', 'teaspoonbaking', 'powder', '3', 'cups', 'plus', '2', 'tablespoons', 'lukewarm', 'water', '1', 'tablespoon', 'yeast', 'traditional', 'moroccan', 'measures', '2', 'glasses', 'to', 'the', 'brim', 'lukewarm', 'water', '1', 'level', 'glass', 'fine', 'semolina', '1/2', 'glass', 'all-purpose', 'flour', '1', 'teaspoon', 'salt', '1', 'teaspoon', 'sugar', '2', 'teaspoons', 'baking', 'powder', '1', 'tablespoon', 'yeast'], tags=[215]),\n",
              " TaggedDocument(words=['4', '1/2', 'cups', 'flour', '1/2', 'cup', 'sugar', '1', '1/2', 'teaspoons', 'salt', '2', 'teaspoons', 'anise', 'seeds', '2', 'eggs', 'lightly', 'beaten', '3/4', 'cup', 'warm', 'milk', '1', 'tablespoon', 'yeast', '1/2', 'cup', 'buttermelted', 'or', 'very', 'soft', '2', 'tablespoons', 'orange', 'flower', 'water', 'egg', 'wash', 'made', 'from', '1', 'egg', 'beaten', 'with', '1', 'tablespoon', 'milk', '1', 'tablespoon', 'golden', 'sesame', 'seeds', 'for', 'sprinkling', 'on', 'the', 'rolls'], tags=[216]),\n",
              " TaggedDocument(words=['2', 'cups', '350', 'grams', 'fine', 'semolina', 'not', 'durum', 'flour', '3', 'tablespoons', 'sugar', '2', 'teaspoons', 'baking', 'powder', '1/4', 'teaspoon', 'salt', '1/2', 'cup', '125', 'grams', 'soft', 'or', 'melted', 'butter', '1/2', 'to', '3/4', 'cup', '120', 'to', '180', 'milliliters', 'milk', 'optional', '1/4', 'cup', 'coarse', 'semolina'], tags=[217]),\n",
              " TaggedDocument(words=['1', 'tablespoon', 'yeast', '3', 'cups', 'white', 'flour', '2', 'cups', 'semolina', 'or', 'durum', 'flour', '1', 'cup', 'whole', 'wheat', 'flour', '2', 'tablespoons', 'sugar', '2', 'teaspoons', 'salt', '3', 'tablespoons', 'vegetable', 'oil', 'or', 'olive', 'oil', '2', 'cups', 'water', 'warm'], tags=[218]),\n",
              " TaggedDocument(words=['2', '1/2', 'pounds', 'beef', 'or', 'lamb', 'cut', 'into', '3/4-inch', 'cubes', '1', 'large', 'onion', 'finely', 'chopped', '3', 'tablespoons', 'fresh', 'parsleychopped', '3', 'tablespoons', 'fresh', 'cilantro', 'chopped', '2', 'teaspoons', 'paprika', '1', 'teaspoon', 'cumin', '1', 'teaspoon', 'pepper', '2', 'teaspoons', 'salt', 'or', 'to', 'taste', '1', 'tablespoon', 'vegetable', 'oil', '1', 'tablespoon', 'lemon', 'juice'], tags=[219]),\n",
              " TaggedDocument(words=['for', 'the', 'chebakia', 'dough', '1', 'soup', 'bowl', 'full', 'of', 'golden', 'un-hulled', 'sesame', 'seeds', 'toasted', 'pinch', 'of', 'mastic', 'grains', '1/4', 'tsp', 'sugar', '4', 'cups', 'flour', 'plus', 'additional', 'if', 'necessary', '1/2', 'tsp', 'baking', 'powder', '1/2', 'tsp', 'salt', '1', '1/2', 'tsp', 'ground', 'anise', '1', '1/2', 'tsp', 'ground', 'cinnamon', '1/2', 'tsp', 'saffron', 'threads', 'crumbled', '1/8', 'tspmoroccan', 'yellow', 'colorant', 'or', '1/2', 'teaspoon', 'turmeric', '1', 'extra-large', 'egg', '1/4', 'cup', 'butter', 'melted', '1/4', 'cup', 'olive', 'oil', '1/4', 'cup', 'vinegar', '1/4', 'cup', 'orange', 'flower', 'water', '1', 'tsp', 'yeast', 'dissolved', 'in', '1/4', 'cup', 'warm', 'water', 'for', 'frying', 'about', '6', '1/2', 'cups', 'vegetable', 'oil', 'for', 'frying', '5', 'cups/4', 'pounds', 'honey', '2', 'tbsp', 'orange', 'flower', 'water', '1/2', 'cup', 'golden', 'un-hulled', 'sesame', 'seeds', 'toasted', 'for', 'decorating'], tags=[220]),\n",
              " TaggedDocument(words=['1', 'kilogram', 'sesame', 'seeds', '1', 'kilogram', 'all-purpose', 'flour', '1', 'kilogram', 'almonds', 'vegetable', 'oil', '500', 'grams', 'butter', '250', 'grams', 'confectioners', 'sugar', '3', 'to', '4', 'tablespoons', 'cinnamon', '2', 'tablespoons', 'anise', '1/4', 'teaspoon', 'mastic', '1/4', 'teaspoon', 'salt'], tags=[221]),\n",
              " TaggedDocument(words=['2', 'teaspoons', 'yeast', '1', '1/4', 'cups', 'warm', 'water', 'divided', '3', 'cups', 'all-purpose', 'flour', '1', 'teaspoon', 'salt', 'vegetable', 'oil', 'for', 'frying', 'optional', 'granulated', 'sugar', 'or', 'powdered', 'sugar'], tags=[222]),\n",
              " TaggedDocument(words=['2', 'to', '3', 'cups', 'milk', 'cold', '1', 'ripe', 'avocado', '3', 'tablespoons', 'sugar', 'or', 'to', 'taste', 'optional', 'handful', 'of', 'ice'], tags=[223]),\n",
              " TaggedDocument(words=['3', 'to', '4', 'cups', 'orange', 'juice', '3', 'to', '4', 'large', 'bananas', '2', 'to', '3', 'tablespoons', 'sugar', 'ice', 'cubes'], tags=[224]),\n",
              " TaggedDocument(words=['3', 'large', 'fresh', 'west', 'indian', 'bay', 'leaves', '2', 'cups', 'water', 'optional', 'sugar', 'to', 'taste', 'optional', 'splash', 'milk'], tags=[225]),\n",
              " TaggedDocument(words=['for', 'the', 'puddings', '4', 'large', 'eggs', 'measured', 'in', 'a', 'jug', 'equal', 'quantity', 'of', 'milk', 'to', 'eggs', 'equal', 'quantity', 'of', 'all', 'purpose/plain', 'flour', 'to', 'eggs', '1', 'pinch', 'salt', '2', 'tablespoons', 'lard', 'or', 'beef', 'dripping', 'or', 'vegetable', 'oil', 'for', 'the', 'gravy', '2', 'medium', 'onions', 'peeled', 'and', 'thinly', 'sliced', '2', 'tablespoons', 'vegetable', 'oil', '2', 'tablespoons', 'butter', '1', 'teaspoon', 'sugar', '1', 'teaspoon', 'balsamic', 'vinegar', '3', '1/2', 'cups/750', 'milliliters', 'beef', 'stock', '4', 'teaspoons', 'corn', 'starch', '4', 'teaspoons', 'water', 'cold', 'salt', 'to', 'taste', 'black', 'pepper', 'to', 'taste'], tags=[226]),\n",
              " TaggedDocument(words=['1', '1/2', 'cups', 'milk', '3', '1/2', 'cups', 'all-purpose', 'flour', '2', 'teaspoons', 'granulated', 'sugar', '1', '1/4', 'teaspoons', 'active', 'dry', 'yeast', '1', '1/2', 'cups', 'water', '1', 'teaspoon', 'kosher', 'salt', '1', 'teaspoon', 'baking', 'powder', 'oil', 'for', 'serving', 'butter'], tags=[227]),\n",
              " TaggedDocument(words=['2', 'cups', 'strongly', 'brewed', 'hot', 'coffee', '4', 'to', '6', 'tablespoons', 'sweetened', 'condensed', 'milk', '1/4', 'cup', 'evaporated', 'milk'], tags=[228]),\n",
              " TaggedDocument(words=['1', 'ounce', 'vanilla', 'vodka', '2', 'ounces', 'cream', 'liqueur', '3', 'ounces', 'coffee'], tags=[229]),\n",
              " TaggedDocument(words=['1', '1366-ounce', 'can', 'coconut', 'milk', '1/2', 'cup', 'coconut', 'sugar', '1', 'pinch', 'salt', '1/4', 'teaspoon', 'xanthan', 'gum'], tags=[230]),\n",
              " TaggedDocument(words=['1', 'cup', 'white', 'sugar', '1', 'cup', 'brewed', 'coffee'], tags=[231]),\n",
              " TaggedDocument(words=['3', 'tablespoons', 'instant', 'coffee', '3', 'tablespoons', 'granulated', 'sugar', '3', 'tablespoons', 'water', '1', '1/4', 'cups', 'whole', 'milk', '1/2', 'teaspoon', 'vanilla', 'extract'], tags=[232]),\n",
              " TaggedDocument(words=['1', 'cup', 'milk', '1', 'tablespoon', 'vanilla', 'syrup', '1', 'tablespoon', 'caramel', 'sauce', '2', 'cups', 'ice', '1/4', 'cup', 'espresso'], tags=[233]),\n",
              " TaggedDocument(words=['1', 'cup', 'milk', '1', 'tablespoon', 'vanilla', 'syrup', '1', 'shot', 'espresso', '1', 'tablespoon', 'caramel', 'sauce'], tags=[234]),\n",
              " TaggedDocument(words=['1', 'ounce', 'caramel', 'syrup', 'kosher', 'or', 'sea', 'salt', '1', '1/2', 'ounces', 'vanilla', 'vodka', '2', 'ounces', 'irish', 'cream', 'liqueur', 'soft', 'caramel', 'candy'], tags=[235]),\n",
              " TaggedDocument(words=['1', 'ounce', 'strega', 'liqueur', '5', 'to', '6', 'ounces', 'black', 'coffee', 'whipped', 'cream', 'grated', 'nutmeg'], tags=[236]),\n",
              " TaggedDocument(words=['1', '1/2', 'ounces', 'irish', 'whiskey', '3/4', 'ounce', 'coffee', 'liqueur', '3/4', 'ounce', 'irish', 'cream', 'liqueur', '4', 'to', '5', 'ounces', 'coffee', 'whipped', 'cream'], tags=[237]),\n",
              " TaggedDocument(words=['9', '1/4', 'cups', 'water', '3/4', 'cup', 'freshly', 'ground', 'coffee', '1', 'large', 'egg', '1', 'cup', 'cold', 'water'], tags=[238]),\n",
              " TaggedDocument(words=['1', 'ounce', 'bourbon', 'whiskey', '1/2', 'ounce', 'honey', 'liqueur', '6', 'ounces', 'coffee', 'whipped', 'cream'], tags=[239]),\n",
              " TaggedDocument(words=['2', 'tablespoons', 'ground', 'cinnamon', '1', 'tablespoon', 'ground', 'ginger', '1', '1/2', 'teaspoons', 'ground', 'nutmeg', '1/2', 'teaspoon', 'ground', 'cloves', '1', 'teaspoon', 'pumpkin', 'spice', '1/4', 'cup', 'ground', 'coffee', '1', 'to', '2', 'teaspoons', 'raw', 'sugar'], tags=[240]),\n",
              " TaggedDocument(words=['2', 'cups', 'almond', 'flour', '2/3', 'cup', 'coconut', 'flour', '1/2', 'cup', 'cocoa', 'powder', '1', '1/2', 'cups', 'sweetener', '1', '1/2', 'tablespoons', 'baking', 'powder', '1/2', 'teaspoon', 'baking', 'soda', '1', 'teaspoon', 'salt', '2/3', 'cup', 'grapeseed', 'oil', '1/2', 'cup', 'greek', 'yogurt', '6', 'eggs', '1', 'cup', 'unsweetened', 'non-dairy', 'milk', '1', 'teaspoon', 'liquid', 'stevia', '1', 'teaspoon', 'coffee', 'extract', '2', 'cups', 'keto', 'frosting', '1/4', 'cup', 'keto', 'chocolate', 'shavings'], tags=[241]),\n",
              " TaggedDocument(words=['2', 'cups', 'confectioners', 'sugar', '1/4', 'cup', 'butter', '2', 'to', '4', 'tablespoons', 'milk', '1', '1/2', 'teaspoons', 'vanilla', 'extract'], tags=[242]),\n",
              " TaggedDocument(words=['1', 'cup', 'milk', '1', 'ounce', 'hot', 'cocoa', 'mix', '1', '1/2', 'to', '2', 'teaspoons', 'instant', 'coffee', '1/2', 'teaspoon', 'cinnamon'], tags=[243]),\n",
              " TaggedDocument(words=['3', 'cups', 'sugar', '2', 'cups', 'water', '1', '2-inch', 'piece', 'vanilla', 'bean', '8', 'tablespoons', 'instant', 'coffee', '1', '750-milliliter', 'bottle', 'rum'], tags=[244]),\n",
              " TaggedDocument(words=['2', 'tablespoons', 'unsalted', 'butter', '2', 'ounces', 'unsweetened', 'chocolate', '1', 'cup', 'confectioners', 'sugar', '2', 'tablespoons', 'water'], tags=[245]),\n",
              " TaggedDocument(words=['cooking', 'spray', '1', 'cup', 'all-purpose', 'flour', '3/4', 'cup', 'granulated', 'sugar', '1/4', 'cup', 'unsweetened', 'cocoa', 'powder', '1/2', 'teaspoon', 'baking', 'soda', '1/2', 'teaspoon', 'fine', 'salt', '1/2', 'cup', 'vegetable', 'oil', '3/4', 'cup', 'buttermilk', '1', 'large', 'egg', '1', 'teaspoon', 'vanilla', 'extract', '1', '1-pound', 'box', 'confectioners', 'sugar', '1/2', 'cup', 'unsalted', 'butter', '3', 'to', '4', 'tablespoons', 'milk', '1', 'teaspoon', 'vanilla', 'extract'], tags=[246]),\n",
              " TaggedDocument(words=['3/4', 'cup', 'coffee', '1/2', 'cup', 'whole', 'milk', '2', 'scoops', 'chocolate', 'protein', 'powder', '2', 'cups', 'ice', '2', 'tablespoons', 'chocolate', 'syrup'], tags=[247]),\n",
              " TaggedDocument(words=['1', '1/2', 'ounces', 'bourbon', 'whiskey', '1/2', 'ounce', 'dark', 'crème', 'de', 'cacao', 'liqueur', '1', '1/2', 'ounces', 'water', '1', 'ounce', 'espresso', '1/4', 'ounce', 'simple', 'syrup', '2', 'dashes', 'orange', 'bitters', '3', 'whole', 'coffee', 'beans'], tags=[248]),\n",
              " TaggedDocument(words=['2', 'ounces', 'ty', 'ku', 'liqueur', '1', 'ounce', 'coffee', 'liqueur', '1', 'teaspoon', 'cream', '1', 'ounce', '151-proof', 'rum', '1', 'dash', 'grated', 'cinnamon'], tags=[249]),\n",
              " TaggedDocument(words=['1', '750-milliliter', 'bottle', 'dark', 'rum', '1', '750-milliliter', 'bottle', 'dry', 'red', 'wine', '3', 'cups', 'tea', '2', 'cups', 'granulated', 'sugar', '1/2', 'cup', 'orange', 'juice', '1/2', 'cup', 'lemon', 'juice', 'fruits'], tags=[250]),\n",
              " TaggedDocument(words=['3/4', 'ounce', 'amaretto', 'liqueur', '1/4', 'ounce', '151-proof', 'rum', '4', 'ounces', 'beer'], tags=[251]),\n",
              " TaggedDocument(words=['1', 'cup', 'water', '1', '1/2', 'cups', 'sugar', '1', 'cinnamon', 'stick', '2', 'sprigs', 'fresh', 'thyme', '5', 'sprigs', 'fresh', 'thyme', '1/4', 'ounce', 'green', 'chartreuse', 'liqueur', '2', 'ounces', 'irish', 'whiskey', '1/2', 'ounce', 'elderflower', 'liqueur', '1', 'ounce', 'lemon', 'juice', '1/2', 'ounce', 'cinnamon-thyme', 'simple', 'syrup', '1', 'large', 'egg', 'white', '1', 'dash', 'bitters', '1/2', 'teaspoon', 'lemon', 'zest', 'lemon', 'slice'], tags=[252]),\n",
              " TaggedDocument(words=['2', 'ounces', 'scotch', 'whisky', '1', '1/2', 'ounces', 'water', '1', 'teaspoon', 'sugar', 'lemon', 'peel'], tags=[253]),\n",
              " TaggedDocument(words=['1', '1/2', '750-milliliter', 'bottles', 'aged', 'rum', '1/2', '750-milliliter', 'bottle', 'white', 'wine', '4', 'tablespoons', 'gin', '4', 'tablespoons', 'brandy', '2', 'cups', 'lemon', 'juice', '1', 'cup', 'orange', 'juice', '1', 'cup', 'orgeat', 'syrup', '2', 'sprigs', 'fresh', 'mint', 'orange', 'slices', 'lemon', 'slices', 'edible', 'flowers'], tags=[254]),\n",
              " TaggedDocument(words=['1', 'ounce', 'brandy', '1', 'ounce', 'peppermint', 'schnapps', '1', 'ounce', 'sloe', 'gin', '1', 'ounce', 'blackberry', 'liqueur', '1', 'ounce', 'strawberry', 'juice', '1/4', 'ounce', 'rum'], tags=[255]),\n",
              " TaggedDocument(words=['1/2', 'ounce', 'kahlúa', 'coffee', 'liqueur', '1/2', 'ounce', 'baileys', 'irish', 'cream', 'liqueur', '1/2', 'ounce', 'orange', 'liqueur'], tags=[256]),\n",
              " TaggedDocument(words=['1/2', 'medium', 'pear', '1/4', 'ounce', 'simple', 'syrup', '1', 'pinch', 'ground', 'nutmeg', '1', '1/2', 'ounces', 'vodka', '1/2', 'ounce', 'tuaca', 'liqueur', '1/2', 'ounce', 'b', '&', 'b', 'liqueur', 'orange', 'peel'], tags=[257]),\n",
              " TaggedDocument(words=['sugar', '1', '1/2', 'ounces', 'cream', 'liqueur', '1', '1/2', 'ounces', 'cake', 'vodka', '1', '1/2', 'ounces', 'cinnamon', 'schnapps', 'whipped', 'cream', 'ground', 'nutmeg'], tags=[258]),\n",
              " TaggedDocument(words=['superfine', 'sugar', '1', '1/2', 'ounces', 'spiced', 'rum', '3/4', 'ounce', 'orange', 'curaçao', '1', '1/2', 'ounces', 'lemon', 'sour', 'orange', 'twist'], tags=[259]),\n",
              " TaggedDocument(words=['1', 'cup', 'water', '1', 'cup', 'sugar', '4', 'cinnamon', 'sticks', '1', 'vanilla', 'bean', '2', 'ounces', 'gin', '1/2', 'ounce', 'black', 'raspberry', 'liqueur', '1', 'teaspoon', 'allspice', 'dram', '3/4', 'ounce', 'lemon', 'juice', '1/4', 'ounce', 'cinnamon', 'syrup', '3', 'dashes', 'cherry', 'bark', 'vanilla', 'bitters', '2', 'dashes', 'cardamom', 'bitters', '2', 'dashes', 'aromatic', 'bitters', 'flamed', 'lemon', 'peel'], tags=[260]),\n",
              " TaggedDocument(words=['2', 'ounces', '151-proof', 'rum', '1', 'ounce', 'dark', 'rum', '1/4', 'ounce', 'triple', 'sec', '2', 'ounces', 'orange', 'juice', '2', 'ounces', 'pineapple', 'juice', '1/2', 'ounce', 'simple', 'syrup', '1', 'dash', 'bitters'], tags=[261]),\n",
              " TaggedDocument(words=['2', 'cups', 'vanilla', 'ice', 'cream', '1/2', 'cup', 'whole', 'milk', '1/4', 'cup', 'chocolate', 'syrup', '1/4', 'cup', 'chocolate', 'chips', 'whipped', 'cream', 'shaved', 'chocolate'], tags=[262]),\n",
              " TaggedDocument(words=['2', 'ounces', 'heavy', 'cream', '1', 'vanilla', 'bean', '1', '1/2', 'ounces', 'cachaça', '1/2', 'ounce', 'chocolate', 'liqueur', '2', '1/2', 'ounces', 'coffee', '1/2', 'ounce', 'simple', 'syrup', '2', 'ounces', 'vanilla', 'cream'], tags=[263]),\n",
              " TaggedDocument(words=['1/3', 'cup', 'all-purpose', 'flour', '2', 'tablespoons', 'hot', 'cocoa', 'mix', '1', 'tablespoon', 'cocoa', 'powder', '1', 'tablespoon', 'granulated', 'sugar', '1/8', 'teaspoon', 'kosher', 'salt', '1/2', 'teaspoon', 'baking', 'powder', '1', 'tablespoon', 'semisweet', 'chocolate', 'chips', '2', 'tablespoons', 'unsalted', 'butter', '1/4', 'cup', 'milk', '1/4', 'cup', 'mini', 'marshmallows', 'whipped', 'cream', 'chocolate', 'sauce', 'chocolate', 'shavings'], tags=[264]),\n",
              " TaggedDocument(words=['1', '3/4', 'cups', 'sugar', '3/4', 'cup', 'unsalted', 'butter', '3', 'large', 'eggs', '2', 'teaspoons', 'vanilla', 'extract', '2', '3/4', 'cups', 'all', 'purpose', 'flour', '2', '1/2', 'teaspoons', 'baking', 'powder', '3/4', 'teaspoon', 'salt', '1', 'cup', 'milk', '1/2', 'cup', 'coffee', '1/4', 'cup', 'sugar', '3', 'tablespoons', 'coffee', 'liqueur', '1', 'cup', 'mascarpone', 'cheese', '2/3', 'cup', 'confectioners', 'sugar', '2', 'tablespoons', 'coffee', 'liqueur', '1', 'cup', 'heavy', 'whipping', 'cream', '3', 'tablespoons', 'unsweetened', 'cocoa', 'powder', '24', 'chocolate-covered', 'espresso', 'beans'], tags=[265]),\n",
              " TaggedDocument(words=['2', 'tablespoons', 'unsalted', 'butter', '4', 'large', 'eggs', '1', 'cup', 'granulated', 'sugar', '1', 'teaspoon', 'vanilla', 'extract', '1/2', 'cup', 'all-purpose', 'flour', '2/3', 'cup', 'unsweetened', 'cocoa', 'powder', '1/2', 'teaspoon', 'baking', 'powder', '1/4', 'teaspoon', 'baking', 'soda', '1/4', 'teaspoon', 'salt', '1/3', 'cup', 'water', '1', 'cup', 'heavy', 'whipping', 'cream', '3', 'tablespoons', 'confectioners', 'sugar', '1', 'teaspoon', 'vanilla', 'extract', '1', 'cup', 'semi', 'sweet', 'chocolate', 'chips', '3/4', 'cup', 'heavy', 'cream', '1', 'tablespoon', 'light', 'corn', 'syrup'], tags=[266]),\n",
              " TaggedDocument(words=['cooking', 'spray', '1', '1525-ounce', 'box', 'white', 'cake', 'mix', '1', 'cup', 'water', '1/3', 'cup', 'vegetable', 'oil', '3', 'large', 'egg', 'whites', '1', '1525-ounce', 'box', 'devil', '’', 's', 'food', 'cake', 'mix', '1', 'cup', 'water', '1/3', 'cup', 'vegetable', 'oil', '3', 'large', 'eggs', '8', 'cups', 'confectioners', 'sugar', '2', 'cups', 'unsalted', 'butter', '2', 'teaspoons', 'vanilla', 'extract', '2', 'tablespoons', 'milk', '1/4', 'cup', 'unsweetened', 'cocoa', 'powder', '4', 'ounces', 'semisweet', 'baking', 'chocolate', '1/3', 'cup', 'whipping', 'cream', 'white', 'chocolate'], tags=[267]),\n",
              " TaggedDocument(words=['4', 'ounces', 'unsalted', 'butter', '3/4', 'cup', 'walnuts', '180', 'grams', 'all-purpose', 'flour', '1', 'teaspoon', 'baking', 'powder', '1/4', 'teaspoon', 'salt', '1', 'cup', 'granulated', 'sugar', '2', 'large', 'eggs', '1/2', 'teaspoon', 'vanilla', 'extract', '1/3', 'cup', 'milk', '3', 'tablespoons', 'brewed', 'espresso', '1', '1/2', 'cups', 'confectioners', 'sugar', '2', 'tablespoons', 'unsalted', 'butter', '3', 'tablespoons', 'cream', 'cheese', '2', 'to', '3', 'teaspoons', 'brewed', 'espresso'], tags=[268]),\n",
              " TaggedDocument(words=['1/2', 'cup', 'unsalted', 'butter', '1/4', 'cup', 'granulated', 'sugar', '4', 'teaspoons', 'espresso', '1', 'teaspoon', 'heavy', 'whipping', 'cream', '2', 'cups', 'quick-cooking', 'rolled', 'oats', '1', 'cup', 'all-purpose', 'flour', '1', 'teaspoon', 'baking', 'powder', '4', 'teaspoons', 'espresso', '1', 'teaspoon', 'heavy', 'whipping', 'cream', '1', 'cup', 'confectioners', 'sugar'], tags=[269]),\n",
              " TaggedDocument(words=['6', 'large', 'egg', 'whites', '2', 'tablespoons', 'granulated', 'sugar', '2', 'cups', 'almonds', '2', '1/4', 'cups', 'confectioners', 'sugar', '6', 'large', 'eggs', '60', 'g', 'all-purpose', 'flour', '3', 'tablespoons', 'unsalted', 'butter', '2', 'tablespoons', 'instant', 'espresso', '2', 'tablespoons', 'water', '1', 'cup', 'granulated', 'sugar', '3', 'tablespoons', 'water', '1', 'teaspoon', 'vanilla', 'extract', '1', 'large', 'egg', '1', 'large', 'egg', 'yolk', '7', 'ounces', 'unsalted', 'butter', '1/2', 'cups', 'whole', 'milk', '1/4', 'cup', 'heavy', 'cream', '8', 'ounces', 'bittersweet', 'chocolate', '4', 'tablespoons', 'unsalted', 'butter', '5', 'ounces', 'bittersweet', 'chocolate', '1/2', 'cup', 'unsalted', 'butter'], tags=[270]),\n",
              " TaggedDocument(words=['88', 'ounce', 'biscoff', 'cookies', '8', 'ounces', 'cream', 'cheese', '4', 'ounces', 'white', 'chocolate', '4', 'ounces', 'dark', 'chocolate', '2', 'tablespoons', 'heavy', 'cream'], tags=[271]),\n",
              " TaggedDocument(words=['1', '12-ounce', 'package', 'semisweet', 'chocolate', 'chips', '1', 'tablespoon', 'vegetable', 'shortening', '1', '16-ounce', 'bag', 'marshmallows', 'assorted', 'sprinkles', 'or', 'small', 'candies', '1/2', 'cup', 'white', 'chocolate', 'chips'], tags=[272]),\n",
              " TaggedDocument(words=['24', 'whole', 'graham', 'crackers', '2', 'chocolate', 'bars', 'milk', 'or', 'dark', 'chocolate', '24', 'regular', 'marshmallows'], tags=[273]),\n",
              " TaggedDocument(words=['1', 'cup', 'nonfat', 'dry', 'milk', 'powder', '2/3', 'cup', 'granulated', 'sugar', '1/3', 'to', '1/2', 'cup', 'water', '1/4', 'cup', 'unsalted', 'butter'], tags=[274]),\n",
              " TaggedDocument(words=['1', 'ounce', 'blanco', 'tequila', '1', 'ounce', 'coffee', 'liqueur', '1/2', 'ounce', 'espresso'], tags=[275]),\n",
              " TaggedDocument(words=['1', 'ounce', 'irish', 'cream', 'liqueur', '1/4', 'ounce', 'mint', 'chocolate', 'syrup', '1', 'ounce', 'iced', 'coffee', '2', 'scoops', 'guinness', 'gelato', '1', 'cup', 'chipped', 'ice', '1', 'tablespoon', 'espresso', 'whipped', 'cream', 'mint', 'sprig'], tags=[276]),\n",
              " TaggedDocument(words=['1/4', 'cup', 'water', '2', 'tablespoons', 'espresso', '1', '14-ouncecan', 'sweetened', 'condensed', 'milk', '1', 'teaspoon', 'vanilla', 'extract', 'pinch', 'fine', 'salt', '2', 'cups', 'heavy', 'cream'], tags=[277]),\n",
              " TaggedDocument(words=['1', 'ounce', 'rum', '1/2', 'ounce', 'amaretto', 'liqueur', '6', 'ounces', 'coffee', 'whipped', 'cream', 'sliced', 'almonds'], tags=[278]),\n",
              " TaggedDocument(words=['1', '1/2', 'ounces', 'vodka', '3', 'ounces', 'tomato', 'juice', '1/2', 'ounce', 'lemon', 'juice', '1', 'dash', 'worcestershire', 'sauce', '1', 'dash', 'hot', 'sauce', '1', 'pinch', 'celery', 'salt', '1', 'pinch', 'ground', 'black', 'pepper', 'horseradish', 'lemon', 'wedge', 'celery', 'stalk'], tags=[279]),\n",
              " TaggedDocument(words=['1', 'tablespoon', 'salsa', 'verde', '4', 'slices', 'green', 'bell', 'pepper', '3', 'lime', 'wedges', '2', 'sprigs', 'fresh', 'cilantro', 'leaves', '1', 'green', 'chile', 'pepper', '1', '1/2', 'ounces', 'vodka', '3', 'to', '4', 'ounces', 'green', 'vegetable', 'juice', '1', 'teaspoon', 'horseradish', '2', 'dashes', 'green', 'hot', 'sauce', '1', 'dash', 'worcestershire', 'sauce', '1', 'pinch', 'celery', 'salt', '1', 'pinch', 'ground', 'black', 'pepper', 'celery', 'stalk'], tags=[280]),\n",
              " TaggedDocument(words=['lime', 'wedge', 'celery', 'salt', 'kosher', 'or', 'sea', 'salt', '1', '1/2', 'ounces', 'vodka', '4', 'ounces', 'clamato', 'juice', 'black', 'pepper', '2', 'to', '3', 'dashes', 'worcestershire', 'sauce', '1', 'to', '2', 'dashes', 'tabasco', 'sauce', 'celery', 'stalk'], tags=[281]),\n",
              " TaggedDocument(words=['2', 'ounces', 'tomato', 'juice', '1', '12-ounce', 'can', 'or', 'bottle', 'lager', 'beer', 'kosher', 'salt'], tags=[282]),\n",
              " TaggedDocument(words=['1/3', 'cup', 'tomato', 'juice', '1', 'tablespoon', 'lemon', 'juice', '2', 'dashes', 'hot', 'sauce', '1', 'dash', 'worcestershire', 'sauce', '1', 'dash', 'celery', 'salt', '1', 'dash', 'ground', 'black', 'pepper', 'celery', 'stalk', 'pickle', 'spear'], tags=[283]),\n",
              " TaggedDocument(words=['1/2', 'cup', 'chia', 'seeds', '1', 'cup', 'water', '1', 'cup', 'heavy', 'cream', '1/8', 'teaspoon', 'kosher', 'salt', '1', 'teaspoon', 'vanilla', 'extract', '3', 'tablespoons', 'keto', 'granular', 'sweetener'], tags=[284]),\n",
              " TaggedDocument(words=['1', 'cup', 'granular', 'keto', 'sweetener', '1/2', 'cup', 'cocoa', 'powder', '1/2', 'cup', 'powdered', 'coconut', 'milk', '1/4', 'teaspoon', 'salt'], tags=[285]),\n",
              " TaggedDocument(words=['granulated', 'sugar', '1', 'ounce', 'spiced', 'rum', '2', 'ounces', 'pumpkin', 'liqueur', '1/4', 'ounce', 'cream', '1/4', 'ounce', 'milk', 'cinnamon'], tags=[286]),\n",
              " TaggedDocument(words=['1', 'ounce', 'cognac', '1', 'ounce', 'amaretto', 'liqueur', '6', 'ounces', 'black', 'coffee', 'whipped', 'cream', 'shaved', 'almonds'], tags=[287]),\n",
              " TaggedDocument(words=['3/4', 'ounce', 'hazelnut', 'liqueur', '3/4', 'ounce', 'irish', 'cream', 'liqueur'], tags=[288]),\n",
              " TaggedDocument(words=['1/2', 'ounce', 'coffee', 'liqueur', '6', 'ounces', 'black', 'coffee', 'whipped', 'cream', 'cocoa', 'powder'], tags=[289]),\n",
              " TaggedDocument(words=['2', 'teaspoons', 'brown', 'sugar', '4', 'ounces', 'coffee', '1', '1/2', 'ounces', 'irish', 'whiskey', '1', 'ounce', 'heavy', 'cream'], tags=[290]),\n",
              " TaggedDocument(words=['4', 'tablespoons', 'salted', 'butter', '1', '1/4', 'cups', 'sugar', '3/4', 'cup', 'packed', 'brown', 'sugar', '1/2', 'cup', 'evaporated', 'milk', '1', '1/2', 'cups', 'pecans', '1', 'tablespoon', 'vanilla', 'extract'], tags=[291]),\n",
              " TaggedDocument(words=['1', '1/2', 'ounces', 'peppermint', 'schnapps', '1/2', 'ounce', 'coffee', 'liqueur', '6', 'ounces', 'hot', 'chocolate', 'whipped', 'cream', 'hersheys', 'kiss'], tags=[292]),\n",
              " TaggedDocument(words=['2', '1/4', 'cups', 'granulated', 'sugar', '3/4', 'cup', 'unsweetened', 'natural', 'cocoa', 'powder', '1', '1/2', 'tablespoons', 'all-purpose', 'flour', '1/4', 'teaspoon', 'kosher', 'salt', '1', '1/2', 'cups', 'whole', 'milk', '1', 'tablespoon', 'vanilla', 'extract'], tags=[293]),\n",
              " TaggedDocument(words=['1', 'cup', 'semisweet', 'chocolate', 'chips', '3/4', 'cup', 'whipping', 'cream', '1', 'teaspoon', 'vanilla', 'extract'], tags=[294]),\n",
              " TaggedDocument(words=['baking', 'spray', '1', '18-ounce', 'package', 'white', 'cake', 'mix', '1', '1/4', 'cups', 'water', '1/3', 'cup', 'oil', '3', 'large', 'egg', 'whites', '2', 'tablespoons', 'whipping', 'cream', '1/2', 'cup', 'white', 'chocolate', 'chips', '1/2', 'cup', 'mascarpone', 'cheese', '1', 'teaspoon', 'vanilla', '1/2', 'cup', 'heavy', 'cream', '2', 'tablespoons', 'confectioners', 'sugar', '4', 'ounces', 'butter', '2', 'cups', 'confectioners', 'sugar', '1', 'teaspoon', 'vanilla', '2', 'to', '3', 'tablespoons', 'milk'], tags=[295]),\n",
              " TaggedDocument(words=['2', 'ounces', 'coffee', 'liqueur', '2', 'ounces', 'cream', '1', 'to', '2', 'ounces', 'club', 'soda'], tags=[296]),\n",
              " TaggedDocument(words=['white', 'chocolate', 'granulated', 'sugar', '1', '1/2', 'ounces', 'vanilla', 'vodka', '1', '1/2', 'ounces', 'coffee', 'liqueur', '3/4', 'ounce', 'chocolate', 'liqueur'], tags=[297]),\n",
              " TaggedDocument(words=['1', '1/2', 'ounces', 'vodka', '3/4', 'ounce', 'coffee', 'liqueur', '3/4', 'ounce', 'cream'], tags=[298]),\n",
              " TaggedDocument(words=['1', 'ounce', 'vodka', '1', 'ounce', 'coffee', 'liqueur', '2', 'ounces', 'half-and-half'], tags=[299]),\n",
              " TaggedDocument(words=['cocoa', 'powder', '1', 'ounce', 'coconut', 'rum', '1/2', 'ounce', 'amaretto', 'liqueur', '1', '1/2', 'ounces', 'espresso', 'vodka'], tags=[300]),\n",
              " TaggedDocument(words=['1', 'ounce', 'chocolate', 'vodka', '1', 'dash', 'espresso', 'vodka', '1', 'ounce', 'banana', 'liqueur', '1', 'dash', 'coffee', 'liqueur', '1', 'ounce', 'cream'], tags=[301]),\n",
              " TaggedDocument(words=['1', 'ounce', 'espresso', 'vodka', '1/2', 'ounce', 'galliano', 'lautentico', 'liqueur', '1', 'ounce', 'cream'], tags=[302]),\n",
              " TaggedDocument(words=['1', 'ounce', 'vodka', '1', 'ounce', 'jägermeister', '1', 'ounce', 'coffee', 'liqueur', '2', 'drops', 'grenadine'], tags=[303]),\n",
              " TaggedDocument(words=['1', '1/2', 'ounces', 'vodka', '3/4', 'ounce', 'coffee', 'liqueur', 'maraschino', 'cherries'], tags=[304]),\n",
              " TaggedDocument(words=['1', '1/2', 'ounces', 'amaretto', 'liqueur', '1', '1/2', 'ounces', 'coffee', 'liqueur', '2', 'ounces', 'cream'], tags=[305]),\n",
              " TaggedDocument(words=['1', '1/2', 'ounces', 'espresso', 'vodka', '1/2', 'ounce', 'coffee', 'liqueur', '1/4', 'ounce', 'cinnamon', 'syrup', 'lemon', 'twist'], tags=[306]),\n",
              " TaggedDocument(words=['2', 'ounces', 'coffee', 'liqueur', '2', 'to', '3', 'ounces', 'cream'], tags=[307]),\n",
              " TaggedDocument(words=['1', '1/2', 'ounces', 'rye', 'whiskey', '1', '1/2', 'ounces', 'pumpkin', 'liqueur', '1/2', 'ounce', 'triple', 'sec', '1/4', 'ounce', 'anise', 'liqueur', '1', 'large', 'egg', 'white', '3', 'dashes', 'aromatic', 'bitters', 'grated', 'nutmeg'], tags=[308]),\n",
              " TaggedDocument(words=['1', 'ounce', 'vanilla', 'vodka', '2', 'ounces', 'rumchata', 'cream', 'liqueur', '1', 'ounce', 'pumpkin', 'liqueur', 'grated', 'cinnamon'], tags=[309]),\n",
              " TaggedDocument(words=['2', 'ounces', 'vanilla', 'vodka', '1/2', 'ounce', 'cream', 'liqueur', '1/2', 'ounce', 'pumpkin', 'liqueur', '1', 'teaspoon', 'whipped', 'cream', 'cinnamon', 'stick'], tags=[310]),\n",
              " TaggedDocument(words=['2', 'ounces', 'ginger', 'vodka', '1', 'ounce', 'pumpkin', 'puree', '1/2', 'ounce', 'lime', 'juice', '1', 'splash', 'honey', 'syrup', 'ginger', 'slice'], tags=[311]),\n",
              " TaggedDocument(words=['4', 'large', 'jalapeñopeppers', '4', 'cloves', 'garlic', '1/2', 'cup', 'parsley', '1/2', 'cup', 'cilantro', '1', 'tablespoon', 'lemon', 'juice', '1/2', 'teaspoon', 'salt', '1/4', 'teaspoon', 'ground', 'cumin', '1/4', 'teaspoon', 'ground', 'coriander', '1/2', 'cup', 'olive', 'oil'], tags=[312]),\n",
              " TaggedDocument(words=['ounces', 'irish', 'cream', 'liqueur', '1', 'ounce', 'chocolate', 'liqueur', '1/2', 'ounce', 'vodka', '2', 'ounces', 'brewed', 'coffee', '1/4', 'cup', 'chocolate', 'ice', 'cream'], tags=[313]),\n",
              " TaggedDocument(words=['2', 'ounces', 'vanilla', 'rum', '1', '3/4', 'ounces', 'coffee', 'liqueur', '1', '1/2', 'ounces', 'coffee', '3', 'coffee', 'beans'], tags=[314]),\n",
              " TaggedDocument(words=['1', 'ounce', 'tequila', '2', 'ounces', 'irish', 'cream', 'liqueur'], tags=[315]),\n",
              " TaggedDocument(words=['1', 'cup', 'plain', 'yogurt', '1/4', 'cup', 'vinegar', '2', 'cloves', 'garlic', '1', 'teaspoon', 'pepper', '1/2', 'teaspoon', 'salt', '2', 'pod', 'cardamom', 'pods', '1', 'teaspoon', 'allspice', '2', 'tablespoons', 'freshly', 'squeezed', 'lemon', 'juice', '1', '1/2', 'pounds', 'chicken', 'thighs', '1', 'cup', 'tahini', '2', 'cloves', 'garlic', '1/4', 'cup', 'lemon', 'juice', '2', 'tablespoons', 'yogurt', '1', 'medium', 'onion', '1', 'to', '2', 'medium', 'tomatoes', '1', 'medium', 'cucumber', '1/2', 'teaspoon', 'sumac', '1/2', 'cup', 'fresh', 'parsley', 'pickle', 'slices', '4', 'large', 'pitabreads'], tags=[316]),\n",
              " TaggedDocument(words=['1', 'can', 'garbanzo', 'beans', '1/4', 'cup', 'olive', 'oil', '1', 'tablespoon', 'lemon', 'juice', '1', 'teaspoon', 'cumin', 'kosher', 'salt', 'pepper'], tags=[317]),\n",
              " TaggedDocument(words=['1', '1/4', 'pounds', 'ground', 'beef', '1', 'teaspoon', 'ground', 'cumin', '1', 'teaspoon', 'garlic', 'powder', '1/2', 'teaspoon', 'ground', 'coriander', '1/2', 'teaspoon', 'dried', 'oregano', '1/2', 'teaspoon', 'ground', 'black', 'pepper', '1/2', 'teaspoon', 'salt', '1/4', 'teaspoon', 'baharat', '4', 'large', 'hamburger', 'buns', '1', 'cup', 'arugula', '4', 'ounces', 'feta', 'cheese', '1/2', 'cup', 'red', 'onion', '1/4', 'cup', 'tahini', 'sauce'], tags=[318]),\n",
              " TaggedDocument(words=['1', 'tablespoon', 'roasted', 'sesame', 'seeds', '1/4', 'cup', 'ground', 'sumac', '2', 'tablespoons', 'dried', 'thyme', '2', 'tablespoons', 'dried', 'marjoram', '2', 'tablespoons', 'dried', 'oregano', '1', 'teaspoon', 'coarse', 'salt'], tags=[319]),\n",
              " TaggedDocument(words=['1', 'tablespoon', 'olive', 'oil', '6', 'pita', 'bread', 'loaves', '18', 'falafel', '2', 'medium', 'tomatoes', '1', 'medium', 'cucumber', '1', 'medium', 'onion', '1/4', 'cup', 'fresh', 'parsley', '3', 'sandwich', 'pickles', 'tahini', 'sauce'], tags=[320]),\n",
              " TaggedDocument(words=['1', 'cup', 'dried', 'chickpeas', '1', 'large', 'onion', '2', 'cloves', 'garlic', '3', 'tablespoons', 'fresh', 'parsley', '1', 'teaspoon', 'cumin', '1', 'teaspoon', 'coriander', '1', 'teaspoon', 'salt', 'pepper', '4', 'tablespoons', 'flour', 'oil'], tags=[321]),\n",
              " TaggedDocument(words=['1/4', 'cup', 'unsalted', 'butter', '1/2', 'cup', 'vermicelli', 'pasta', '1', '1/2', 'cups', 'medium-grain', 'rice', '2', '1/4', 'cups', 'water', 'kosher', 'salt', 'pepper', 'chopped', 'parsley', 'fish'], tags=[322]),\n",
              " TaggedDocument(words=['1', '1/2', 'cups', 'canned', 'chickpeas', '3', 'tablespoons', 'tahini', '2', 'cloves', 'garlic', '2', 'tablespoons', 'lemon', 'juice', '1/4', 'cup', 'water', '3/4', 'teaspoon', 'salt', 'freshly', 'ground', 'black', 'pepper', 'to', 'taste', '1', 'pound', 'ground', 'beef', '1', 'medium', 'onion', '2', 'cloves', 'garlic', '1/2', 'teaspoon', 'cumin', '1/2', 'teaspoon', 'ground', 'coriander', '1/2', 'teaspoon', 'dried', 'oregano', '1/4', 'teaspoon', 'cayenne', 'pepper', '1/2', 'teaspoon', 'black', 'pepper', '1/2', 'teaspoon', 'salt', '1/4', 'teaspoon', 'baharat', '2', 'to', '4', 'tablespoons', 'beef', 'stock', '1/4', 'cup', 'fresh', 'parsley'], tags=[323]),\n",
              " TaggedDocument(words=['1', 'can', 'chickpeas', '2', 'cloves', 'garlic', '2', 'to', '3', 'tablespoons', 'freshly', 'squeezed', 'lemon', 'juice', '1', 'teaspoon', 'bragg', 'liquid', 'aminos', '3', 'tablespoons', 'vegetable', 'broth'], tags=[324]),\n",
              " TaggedDocument(words=['1/2', 'cup', 'milk'], tags=[325]),\n",
              " TaggedDocument(words=['1/2', 'ounce', 'coffee', 'liqueur', '1/2', 'ounce', '0b', 'irish', 'cream', 'liqueur', '1/2', 'ounce', 'peppermint', 'schnapps'], tags=[326]),\n",
              " TaggedDocument(words=['2', '1/2', 'ounces', 'vodka', '3/4', 'ounce', 'anise', 'liqueur', 'black', 'licorice', 'stick'], tags=[327]),\n",
              " TaggedDocument(words=['1/2', 'ounce', 'sambuca', 'liqueur', '1/2', 'ounce', 'irish', 'cream', 'liqueur', '1', 'drop', 'grenadine'], tags=[328]),\n",
              " TaggedDocument(words=['2', 'ounces', 'vodka', '1', '84-ounce', 'can', 'red', 'bull', 'energy', 'drink'], tags=[329]),\n",
              " TaggedDocument(words=['3/4', 'ounce', 'irish', 'cream', 'liqueur', '3/4', 'ounce', 'irish', 'whiskey', '1/2', 'pint', 'guinness'], tags=[330]),\n",
              " TaggedDocument(words=['1/2', 'cup', 'unsalted', 'butter', '1/2', 'cup', 'unsweetened', 'cocoa', 'powder', '1', 'cup', 'packed', 'light', 'brown', 'sugar', '1/2', 'cup', 'all', 'purpose', 'flour', '1/2', 'cup', 'milk', '1', 'large', 'large', 'egg', '1', 'teaspoon', 'vanilla', 'extract', '2', 'tablespoons', 'graham', 'cracker', 'crumbs', '9', 'girl', 'scout', 's', '’', 'mores', 'cookies', '1', 'ounce', 'chocolate', 'bar', '1', 'cup', 'mini', 'marshmallows'], tags=[331]),\n",
              " TaggedDocument(words=['1/2', 'cup', 'unsalted', 'butter', '3/4', 'cup', 'brown', 'sugar', '1', 'loaf', 'brioche', '4', 'eggs', '2', 'egg', 'yolks', '1', 'cup', 'heavy', 'cream', '1/2', 'cup', 'whole', 'milk', '2', 'teaspoons', 'vanilla', '1', '1/2', 'teaspoons', 'cinnamon', '1/2', 'teaspoon', 'nutmeg', '1/2', 'teaspoon', 'salt', '1/4', 'to', '1/2', 'cup', 'granulated', 'sugar', 'maple', 'syrup', 'fresh', 'fruit'], tags=[332]),\n",
              " TaggedDocument(words=['2', 'cups', 'sugar', '12', 'large', 'egg', 'yolks', '2', 'cups', 'evaporated', 'milk', '2', 'cups', 'sweetened', 'condensed', 'milk', 'pinch', 'salt'], tags=[333]),\n",
              " TaggedDocument(words=['2', 'cups', 'heavy', 'whipping', 'cream', '2', 'tablespoons', 'amaretto', 'liqueur', '1/2', 'teaspoon', 'almond', 'extract', '4', 'large', 'egg', 'yolks', '1/2', 'cup', 'sugar', 'sliced', 'almonds', 'fresh', 'mint'], tags=[334]),\n",
              " TaggedDocument(words=['2', 'cups', 'corn', 'kernels', '1', '1/2', 'cups', 'heavy', 'cream', '1/2', 'cup', 'milk', '1', '1/4', 'teaspoons', 'kosher', 'salt', '1', 'pinch', 'cayenne', '3', 'large0b', 'egg', 'yolks', '2', 'large', 'eggs'], tags=[335]),\n",
              " TaggedDocument(words=['2', 'to', '3', 'pounds', 'pork', 'belly', '1/2', 'cup', 'brown', 'sugar', '3', 'tablespoons', 'kosher', 'salt', '1', '1/4', 'teaspoons', 'ground', 'black', 'pepper', '1/2', 'teaspoon', 'curing', 'salt'], tags=[336]),\n",
              " TaggedDocument(words=['1', '1/2', 'cups', 'mixed', 'fruits', '1', 'cup', 'almond', 'milk', '4', 'tablespoons', 'acai', 'powder'], tags=[337]),\n",
              " TaggedDocument(words=['1', 'medium', 'banana', '1', '1/2', 'cups', 'frozen', 'strawberries', '1', 'cup', 'vanilla', 'almond', 'milk', '1', 'tablespoon', 'honey'], tags=[338]),\n",
              " TaggedDocument(words=['1', 'medium', 'banana', '4', 'ice', '1/2', 'cup', 'fresh', 'blueberries', '1/4', 'cup', 'milk', 'substitute', '1', 'cup', 'fresh', 'spinach'], tags=[339]),\n",
              " TaggedDocument(words=['2', 'orange', 'slices', '2', 'ounces', 'veev', 'açai', 'spirit', '1', 'ounce', 'mango', 'juice', '1', 'splash', 'elderflower', 'cordial'], tags=[340]),\n",
              " TaggedDocument(words=['1', 'cup', 'unsweetened', 'organic', 'coconut', 'water', '1', '1/2', 'cups', 'berries', '1', 'banana', '1', 'tablespoon', 'protein', 'powder', '4', 'ice', 'cubes', 'optional'], tags=[341]),\n",
              " TaggedDocument(words=['6', 'large', 'hard-boiled', 'eggs', '1/4', 'cup', 'mayonnaise', '1', 'teaspoon', 'mustard', '1/2', 'teaspoon', 'white', 'vinegar', '1', 'dash', 'salt', '1', 'dash', 'ground', 'black', 'pepper', '10', 'to', '12', 'drops', 'food', 'coloring', 'paprika'], tags=[342]),\n",
              " TaggedDocument(words=['1', '1/2', 'ounces', 'rum', '3/4', 'ounce', 'blue', 'curaçao', 'liqueur', '2', 'ounces', 'pineapple', 'juice', '3/4', 'ounce', 'cream', 'of', 'coconut', 'maraschino', 'cherry', 'pineapple', 'wedge'], tags=[343]),\n",
              " TaggedDocument(words=['1', '1/2', 'ounces', 'tequila', '1', '1/2', 'ounces', 'hpnotiq', 'liqueur', '3/4', 'ounce', 'triple', 'sec', '1/2', 'ounce', 'sour', 'mix', '1/2', 'ounce', 'pineapple', 'juice', 'lime', 'wheel'], tags=[344]),\n",
              " TaggedDocument(words=['2', 'ounces', 'vodka', '1', 'ounce', 'blue', 'curaçao', 'liqueur', '1/2', 'ounce', 'black', 'raspberry', 'liqueur', 'lemon', 'twist'], tags=[345]),\n",
              " TaggedDocument(words=['2', 'large', 'egg', 'yolks', '1/2', 'cup', 'sugar', '2', 'cups', 'heavy', 'cream', '1', 'cup', 'whole', 'milk', '1', 'tablespoon', 'vanilla', 'pudding', 'mix', '1', 'teaspoon', 'raspberry', 'flavoring', '1', 'teaspoon', 'lemon', 'extract', '1/2', 'teaspoon', 'vanilla', 'extract', 'blue', 'food', 'coloring'], tags=[346]),\n",
              " TaggedDocument(words=['1', '1/2', 'ounce', 'uv', 'blue', 'vodka', '1/2', 'ounce', 'white', 'crème', 'de', 'cacao', 'liqueur', '1/2', 'ounce', 'triple', 'sec', '1/2', 'ounce', 'lime', 'juice'], tags=[347]),\n",
              " TaggedDocument(words=['2', 'cups', 'water', '6', 'cups', 'granulated', 'sugar', '2', 'to', '3', 'drops', 'food', 'coloring', '1/2', 'to', '1', 'teaspoon', 'extract'], tags=[348]),\n",
              " TaggedDocument(words=['coarse', 'salt', '1', '1/2', 'ounces', 'tequila', '1', 'ounce', 'blue', 'curaçao', 'liqueur', '1', 'ounce', 'lime', 'juice', 'lime', 'wedge'], tags=[349]),\n",
              " TaggedDocument(words=['1/2', 'pound', 'capellini', '2', 'tablespoons', 'unsalted', 'butter', '1/3', 'pound', 'blue', 'cheese', 'crumbled', '1/4', 'cup', 'fresh', 'parsley', 'kosher', 'salt', 'to', 'taste'], tags=[350]),\n",
              " TaggedDocument(words=['2', 'cups', 'unsweetened', 'almond', 'milk', '1', 'tablespoon', 'raw', 'cacao', 'powder', '1', 'tablespoon', 'almond', 'butter', '1', 'medium', 'banana', '1', 'tablespoon', 'honey', '1', 'teaspoon', 'vanilla', 'extract', '1/2', 'teaspoon', 'ground', 'cinnamon'], tags=[351]),\n",
              " TaggedDocument(words=['1', 'medium', '7', 'to', '7-7/8', 'long', 'banana', '1/2', 'cup', 'milk', '2', 'tablespoons', 'powdered', 'sugar', '1', 'teaspoon', 'vanilla', 'extract'], tags=[352]),\n",
              " TaggedDocument(words=['6', 'ounces', 'low-fat', 'blueberry', 'yogurt', '1/2', 'cup', 'ice', '1/4', 'cup', 'blueberries', 'handful', 'blueberries'], tags=[353]),\n",
              " TaggedDocument(words=['1', 'medium', 'banana', '1', 'medium', 'pear', '2/3', 'cup', 'almond', 'milk', '2', 'to', '4', 'slices', 'ginger', '2', 'tablespoons', 'honey', '1/2', 'teaspoon', 'pure', 'vanilla', 'extract', '1/4', 'teaspoon', 'ground', 'cinnamon', '1', '1/2', 'cups', 'kale', '1', 'cup', 'ice'], tags=[354]),\n",
              " TaggedDocument(words=['1', 'medium', 'seedless', 'watermelon', '1', 'cup', 'almond', 'milk', '1/2', 'cup', 'vanilla', 'yogurt', '3', 'tablespoons', 'maple', 'syrup', '2', 'small', 'wedges', 'watermelon', '2', 'sprigs', 'mint'], tags=[355]),\n",
              " TaggedDocument(words=['2', 'cups', 'frozen', 'strawberries', '1/2', 'cup', 'cranberry-raspberry', 'juice', '1/4', 'cup', 'orange', 'juice', '1/2', 'cup', 'vanilla', 'yogurt', '2', 'large', 'fresh', 'strawberries', 'garnish'], tags=[356]),\n",
              " TaggedDocument(words=['1', 'large', 'ripe', 'papaya', '1/2', 'cup', 'milk', '3', 'tablespoons', 'freshly', 'squeezed', 'lime', 'juice', '1/2', 'teaspoon', 'lime', 'zest', '1/4', 'cup', 'granulated', 'sugar', '1/2', 'teaspoon', 'vanilla', 'extract', '1/2', 'cup', 'ice', 'lime', 'wedges'], tags=[357]),\n",
              " TaggedDocument(words=['6', 'pounds', 'apples', 'sugar', '2', 'cinnamon', 'sticks'], tags=[358]),\n",
              " TaggedDocument(words=['1', 'cup', 'ice', '1/2', 'cup', 'pineapple', 'juice', '1/4', 'cup', 'cream', 'of', 'coconut', 'orange', 'slice'], tags=[359]),\n",
              " TaggedDocument(words=['1', 'cup', 'ice', '1', 'medium', 'banana', '1', '1/2', 'ounces', 'light', 'rum', '1/2', 'ounce', 'triple', 'sec', '1/2', 'ounce', 'lime', 'juice', '1', 'teaspoon', 'sugar', 'maraschino', 'cherries'], tags=[360]),\n",
              " TaggedDocument(words=['1', 'ounce', 'light', 'rum', '1', 'ounce', 'coconut', 'rum', '2', 'ounces', 'strawberries', '1', 'small', 'banana', '2', 'ounces', 'coconut', 'cream', '2', 'ounces', 'pineapple', 'juice', '1', 'cup', 'ice', 'pineapple', 'wedge'], tags=[361]),\n",
              " TaggedDocument(words=['6', 'ounces', 'silken', 'tofu', '1', 'medium', 'banana', '2/3', 'cup', 'soy', 'milk', '1', 'cup', 'blueberries', 'frozen', '1', 'tablespoon', 'honey', '2', 'to', '3', 'ice', 'cubes'], tags=[362]),\n",
              " TaggedDocument(words=['2', 'ounces', 'vodka', '3/4', 'ounce', 'black', 'raspberry', 'liqueur', '1/2', 'ounce', 'pineapple', 'juice'], tags=[363]),\n",
              " TaggedDocument(words=['2', 'medium', 'apples', '2', 'medium', 'carrots', '1', 'stalk', 'celery', '1-', 'inch', 'piece', 'fresh', 'ginger', '2', 'to', '4', 'leaves', 'greens', '1', 'to', '2', 'cups', 'non-dairy', 'milk', 'nuts', 'protein', 'powder', 'flax', 'seeds'], tags=[364]),\n",
              " TaggedDocument(words=['1', '16-ounce', 'package', 'soursop', '1', 'cup', 'diced', 'fresh', 'pineapple', '2', 'cups', 'diced', 'fresh0b', 'coconut', '4', 'large', 'kale', '1-inch', 'piece', 'fresh', 'ginger', 'peeled', '1', 'cup', 'water'], tags=[365]),\n",
              " TaggedDocument(words=['1', 'quince', '1', 'lemon', 'wedge', '1', 'orange', '1', 'apple', '1', 'cup', 'pumpkin', 'dash', 'cinnamon'], tags=[366]),\n",
              " TaggedDocument(words=['1/4', 'mini', 'watermelon', '1', 'carrot', '1/4', 'beet', '1', 'stalk', 'celery', '1/2', 'inch', 'wheatgrass', '1', 'sprig', 'fresh', 'mint'], tags=[367]),\n",
              " TaggedDocument(words=['2', 'medium', 'yellow', 'summer', 'squash', '1', 'teaspoon', 'kosher', 'salt', '1', 'small', 'onion', 'ground', 'black', 'pepper', '1', 'large', 'egg', '1', 'teaspoon', 'sugar', '3/4', 'cup', 'shredded', 'cheddar', 'cheese', '1/2', 'cup', 'mayonnaise', '4', 'tablespoons', 'butter', '1', 'cup', 'breadcrumbs'], tags=[368]),\n",
              " TaggedDocument(words=['1', '1/2', 'cups', 'all-purpose', 'flour', '1/4', 'teaspoon', 'salt', '1', 'tablespoon', 'granulated', 'sugar', '4', 'tablespoons', 'butter', '1/4', 'cup', 'shortening', '3', 'to', '4', 'tablespoons', 'ice', 'water', '5', 'medium', 'summer', 'squash', '1/2', 'teaspoon', 'salt', '2', 'large', 'eggs', '1', 'large', 'egg', 'yolk', '3/4', 'cup', 'granulated', 'sugar', '1/4', 'cup', 'heavy', 'cream', '1/4', 'cup', 'butter', '2', 'teaspoons', 'vanilla', 'extract', '2', 'tablespoons', 'all-purpose', 'flour', '1', 'teaspoon', 'grated', 'nutmeg'], tags=[369]),\n",
              " TaggedDocument(words=['2', 'teaspoons', 'olive', 'oil', '1', 'small', 'onion', '1', 'stalk', 'celery', '1', 'clove', 'garlic', '1/2', 'cup', 'fresh', 'basil', '1', 'teaspoon', 'fresh', 'thyme', 'leaves', '2', '14-ounce', 'cans', 'diced', 'tomatoes', '2', 'cups', 'non-fat', 'low-sodium', 'chicken', 'broth', 'celery', 'stalks', 'or', 'bread'], tags=[370]),\n",
              " TaggedDocument(words=['1', 'cup', 'granulated', 'sugar', '3/4', 'cup', 'water', '1', 'cup', 'ginger', 'root'], tags=[371]),\n",
              " TaggedDocument(words=['2', 'ounces', 'ginger', 'vodka', '1', 'ounce', 'lemon', 'juice', '1/2', 'ounce', 'egg', 'white', '1/2', 'ounce', 'maple', 'syrup', 'lemon', 'twist'], tags=[372]),\n",
              " TaggedDocument(words=['1', 'ounce', 'raspberry', 'juice', '1/4', 'ounce', 'lemon', 'juice', '6', 'ounces', 'vanilla', 'porter', '3', 'ounces', 'hard', 'apple', 'cider'], tags=[373]),\n",
              " TaggedDocument(words=['5', 'pounds', 'oranges', '4', 'cups', 'water', '6', 'cups', 'sugar', '1', '3-inch', 'piece', 'fresh', 'ginger'], tags=[374]),\n",
              " TaggedDocument(words=['2', 'cups', 'water', '1', 'cup', 'raw', 'sugar', '1', 'cup', 'fresh', 'ginger', '1', '1/2', 'cups', 'ginger', 'syrup', '1', '1/2', 'cups', 'lemon', 'juice', '4', 'to', '5', 'cups', 'water'], tags=[375]),\n",
              " TaggedDocument(words=['1', '1/2', 'cups', 'cranberry', 'juice', '1', '12-ounce', 'bottle', 'ginger', 'beer', '1/2', 'cup', 'lemon', 'juice', '2', '12-ounce', 'bottles', 'pale', 'ale', 'ginger', 'sugar', 'lemon', 'wedges'], tags=[376]),\n",
              " TaggedDocument(words=['2', 'to', '3', 'tablespoons', 'fresh', 'ginger', '2', 'to', '3', 'tablespoons', 'granulated', 'sugar', '2', 'cups', 'water', '2', 'tablespoons', 'fresh', 'ginger', '2', 'tablespoons', 'granulated', 'sugar', '1/2', 'cup', 'ginger', 'bug', 'liquid', '7', '1/2', 'cups', 'sweet', 'tea'], tags=[377]),\n",
              " TaggedDocument(words=['1', '750-milliliter', 'bottle', 'pinot', 'grigio', '1', '1/4', 'cups', 'mango', 'rum', '1', '1/4', 'cups', 'peach', 'schnapps', '3', 'tablespoons', 'lemon', 'juice', '3', 'tablespoons', 'lime', 'juice', '3', 'tablespoons', 'orange', 'juice', '2', '1/2', 'cups', 'lemon-lime', 'soda', 'peach', 'slices', 'mango', 'slices'], tags=[378]),\n",
              " TaggedDocument(words=['3', 'mangoes', '2', 'cloves', 'garlic', '1', 'habanero', 'pepper', '3', 'tablespoons', 'apple', 'cider', 'vinegar', '1', 'tablespoon', 'ginger', '1', 'tablespoon', 'lime', 'juice', '1', 'tablespoon', 'orange', 'juice', '1/2', 'teaspoon', 'salt'], tags=[379]),\n",
              " TaggedDocument(words=['5', 'to', '6', 'fresh', 'mint', 'leaves', '3', 'to', '4', 'raspberries', '2', 'lime', 'wedges', '2', 'ounces', 'light', 'rum', '1/2', 'ounce', 'raspberry', 'liqueur', '2', 'to', '3', 'ounces', 'ginger', 'ale', 'mint', 'sprig'], tags=[380]),\n",
              " TaggedDocument(words=['2', 'dozen', 'limes', '3/4', 'cup', 'sea', 'salt', '1/4', 'cup', 'black', 'rock', 'salt', '8', 'teaspoons', 'fennel', 'seeds', '8', 'teaspoons', 'mustard', 'seeds', '8', 'teaspoons', 'chili', 'powder', '3', 'teaspoons', 'turmeric', '2', 'cups', 'mustard', 'oil', '2', 'teaspoons', 'mustard', 'seeds', '1', 'teaspoon', 'asafetida'], tags=[381]),\n",
              " TaggedDocument(words=['4', 'to', '6', 'fresh', 'mint', 'leaves', '1', 'teaspoon', 'sugar', '1/2', 'ounce', 'club', 'soda', '2', 'ounces', 'brandy', 'orange', 'slice', 'maraschino', 'cherry', 'mint'], tags=[382]),\n",
              " TaggedDocument(words=['4', 'to', '6', 'fresh', 'mint', 'leaves', '3', 'lime', 'wedges', '1/2', 'ounce', 'simple', 'syrup', '1', '1/2', 'ounces', 'irish', 'whiskey', '3', 'ounces', 'hard', 'apple', 'cider', 'fresh', 'mint', 'sprig'], tags=[383]),\n",
              " TaggedDocument(words=['1', 'lime', '5', 'strawberries', '1', 'sprig', 'fresh', 'mint', '1', 'teaspoon', 'white', 'sugar', '2', 'ounces', 'white', 'rum', '2', 'to', '3', 'ounces', 'club', 'soda'], tags=[384]),\n",
              " TaggedDocument(words=['butter', 'for', 'the', 'cookie', 'sheet', '1', 'cup', 'mango', 'preserves', '1/4', 'cup', 'cashews', '1', 'pound', 'puff', 'pastry', 'ground', 'cinnamon', 'nutmeg', 'and', 'cloves', 'to', 'taste', '1', 'large', 'egg', 'confectioners', 'sugar'], tags=[385]),\n",
              " TaggedDocument(words=['15', 'dried', 'tamarind', 'pods', '2', 'quarts', 'water', '1', 'cup', 'granulated', 'sugar'], tags=[386]),\n",
              " TaggedDocument(words=['1', '1/2', 'ounces', 'blanco', 'tequila', '1', '1/2', 'ounces', 'tamarind', 'nectar', '1/2', 'ounce', 'simple', 'syrup', '3', 'to', '5', 'ounces', 'ginger', 'ale'], tags=[387]),\n",
              " TaggedDocument(words=['1', 'gallon', 'water', '1', 'pound', 'brown', 'sugar', '1', 'fresh', 'pineapple', '1', 'cinnamon', 'stick'], tags=[388]),\n",
              " TaggedDocument(words=['1', 'pound', 'corn', 'on', 'the', 'cob', '1', 'gallon', 'water', '1', 'large', 'stick', 'cinnamon', '6', 'whole', 'cloves', '1/2', 'cup', 'white', 'sugar', '3', 'green', 'apples', '4', 'key', 'limes'], tags=[389]),\n",
              " TaggedDocument(words=['1', 'cup', 'freshly', 'squeezed', 'lime', 'juice', '4', 'ounces', 'simple', 'syrup', '12', 'ounces', 'seltzer', 'water', 'lime', 'wedges', 'for', 'garnish'], tags=[390]),\n",
              " TaggedDocument(words=['1/2', 'cup', 'pineapple', 'juice', '1/3', 'cup', 'coconut', 'milk', '3', 'cups', 'frozen', 'pineapple', '1', 'cup', 'vanilla', 'ice', 'cream'], tags=[391]),\n",
              " TaggedDocument(words=['1', 'cup', 'diced', 'mango', '1', 'cup', 'plain', 'nonfat', 'yogurt', '1/2', 'cup', 'ice', 'milk'], tags=[392]),\n",
              " TaggedDocument(words=['1', 'cup', 'vanilla', 'soy', '1', 'large', 'banana', '2', 'tablespoons', 'peanut', 'butter', '1/2', 'teaspoon', 'cinnamon', '1', 'teaspoon', 'honey', '3', 'large', 'ice', 'cubes'], tags=[393]),\n",
              " TaggedDocument(words=['1', 'tablespoon', 'butter', '1', 'cup', 'steel', 'cut', 'oats', '1/4', 'teaspoon', 'salt', '2', 'cups', 'water', '1', 'cup', 'milk', '2', 'tablespoons', 'brown', 'sugar', '1/2', 'cup', 'plain', 'yogurt', '1', 'large', 'grapefruit', '1', 'tablespoon', 'honey', '1', 'to', '2', 'tablespoons', 'shelled', 'pistachios'], tags=[394]),\n",
              " TaggedDocument(words=['1', 'cup', 'rolled', 'oats', '1', 'tablespoon', 'chia', 'seeds', '1/2', 'teaspoon', 'ground', 'cinnamon', '1', 'pinch', 'salt', '1/4', 'cup', 'dried', 'cherries', '1/2', 'cup', 'plain', 'greek', 'yogurt', '1', 'cup', 'milk', '2', 'tablespoons', 'maple', 'syrup', '1/4', 'teaspoon', 'vanilla', 'extract', '1', 'medium', 'banana', '1/4', 'cup', 'almonds'], tags=[395]),\n",
              " TaggedDocument(words=['1', '1/2', 'cups', 'milk', '2', 'scoops', 'chocolate', 'protein', 'powder', '1', 'tablespoon', 'peanut', 'butter', 'powder', '1/2', 'cup', 'old-fashioned', 'oats', '4', 'ice', 'cubes'], tags=[396]),\n",
              " TaggedDocument(words=['2', 'cups', 'banana', '2', 'cups', 'orange', 'juice', '1', '1/2', 'cups', 'kale', '1/4', 'cup', 'parsley', '1/4', 'cup', 'cilantro', '1/4', 'cup', 'mint', 'leaves'], tags=[397]),\n",
              " TaggedDocument(words=['1', 'large', 'bunch', 'kale', '1', 'large', 'bunch', 'spinach', '2', 'to', '3', 'cloves', 'garlic', '1', 'tablespoon', 'olive', 'oil', '3', 'large', 'green', 'onions', 'green', 'onions', 'sea', 'or', 'kosher', 'salt', 'to', 'taste', 'freshly', 'ground', 'black', 'pepper', 'to', 'taste'], tags=[398]),\n",
              " TaggedDocument(words=['1/2', 'gallon', 'whole', 'milk', '1/4', 'cup', 'white', 'vinegar', '3', 'tablespoons', 'fresh', 'dill', '1', 'teaspoon', 'kosher', 'salt'], tags=[399]),\n",
              " TaggedDocument(words=['5', 'pounds', 'oranges', '4', 'cups', 'water', '6', 'cups', 'sugar'], tags=[400]),\n",
              " TaggedDocument(words=['1', 'head', 'red', 'cabbage', '4', 'cups', 'water', '1', 'tablespoon', 'sea', 'salt', '1', 'teaspoon', 'caraway', 'seeds', '8', 'to', '10', 'dried', 'juniper', 'berries'], tags=[401]),\n",
              " TaggedDocument(words=['1', '750-milliliter', 'bottle', 'blanco', 'tequila', '1', 'cup', 'raspberries', '1/3', 'cup', 'kiwi', 'granulated', 'sugar', 'gummy', 'bears', '1', '1/2', 'ounces', 'tequila', '1', 'ounce', 'watermelon', 'liqueur', '1/2', 'ounce', 'triple', 'sec', '1', 'ounce', 'sour', 'mix', '1', 'ounce', 'cranberry', 'juice', '1', 'dash', 'grenadine'], tags=[402]),\n",
              " TaggedDocument(words=['7', 'pounds', 'whole', 'strawberries', '2', 'gallons', 'boiling', 'water', '1', 'lemon', 'juiced', '2', 'teaspoons', 'wine', 'yeast', '5', 'pounds', 'sugar'], tags=[403]),\n",
              " TaggedDocument(words=['1', 'cup', 'plain', 'yogurt'], tags=[404]),\n",
              " TaggedDocument(words=['4', 'beets', '4', 'cups', 'stock', '1', 'clove', 'garlic', '1', 'teaspoon', 'sugar', '2', 'tablespoons', 'fresh', 'lemon', 'juice', 'black', 'pepper', 'salt', 'boiled', 'potatoes', 'fresh', 'dill'], tags=[405]),\n",
              " TaggedDocument(words=['5', 'pounds', 'oranges', '4', 'cups', 'water', '6', 'cups', 'sugar'], tags=[406]),\n",
              " TaggedDocument(words=['1', 'cup', 'rolled', 'oats', '1', 'cup', 'natural', 'peanut', 'butter', '1/4', 'cup', 'honey', '2', 'tablespoons', 'ground', 'flaxseed', '1', 'tablespoon', 'chia', 'seeds', '1/2', 'teaspoon', 'vanilla', 'extract', '1/4', 'teaspoon', 'kosher', 'salt', '1/4', 'cup', 'mini', 'chocolate', 'chips'], tags=[407]),\n",
              " TaggedDocument(words=['3', 'tablespoons', 'cocoa', 'powder', '1', 'pinch', 'salt', '2', 'to', '4', 'tablespoons', 'honey', '1/2', 'teaspoon', 'vanilla', 'extract', '1', 'cup', 'milk', '1/4', 'cup', 'chia', 'seeds', '2', 'tablespoons', 'whipped', 'cream'], tags=[408]),\n",
              " TaggedDocument(words=['2', 'ounces', 'vodka', '4', 'ounces', 'grapefruit', 'juice', '1', 'ounce', 'grenadine'], tags=[409]),\n",
              " TaggedDocument(words=['1', '1/2', 'ounces', 'light', 'rum', '1', '1/2', 'ounces', 'grapefruit', 'juice', '1', 'ounce', 'lime', 'juice', '2', 'teaspoons', 'superfine', 'sugar', '1', 'dash', 'bitters', 'lime', 'wedge'], tags=[410]),\n",
              " TaggedDocument(words=['coarse', 'salt', '1', '1/2', 'ounces', 'tequila', '1/2', 'ounce', 'lime', 'juice', '1/2', 'ounce', 'lemon', 'juice', '1/2', 'ounce', 'orange', 'juice', '4', 'to', '6', 'ounces', 'grapefruit', 'soda', 'lemon', 'wedge'], tags=[411]),\n",
              " TaggedDocument(words=['2', 'cups', 'gin', '1', '1/4', 'cups', 'pineapple', 'juice', '1', 'cup', 'lime', 'juice', '1', 'cup', 'pineapple', 'chunks', '3/4', 'cup', 'simple', 'syrup', '14', 'sage', 'leaves', 'pineapple', 'wedges'], tags=[412]),\n",
              " TaggedDocument(words=['1', '1/2', 'ounces', 'silver', 'tequila', '3/4', 'ounce', 'premium', 'triple', 'sec', '2', 'ounces', 'pineapple', 'juice', '3/4', 'ounce', 'lime', 'juice', '1', 'dash', 'hot', 'sauce', 'coarse', 'salt', 'pineapple', 'wedge', 'lime', 'wheel'], tags=[413]),\n",
              " TaggedDocument(words=['2', 'ounces', 'blanco', 'or', 'reposado', 'tequila', '1/2', 'ounce', 'triple', 'sec', '1', 'ounce', 'lime', 'juice', '1/2', 'ounce', 'grapefruit', 'juice', '3', 'dashes', 'aromatic', 'bitters', '2', 'ounces', 'lemon-lime', 'soda', 'grapefruit', 'slice'], tags=[414]),\n",
              " TaggedDocument(words=['1', '1/2', 'ounces', 'tequila', '1', 'ounce', 'pineapple', 'juice', '1/2', 'ounce', 'sour', 'mix', '1/2', 'ounce', 'lime', 'juice', '1/2', 'ounce', 'cream', 'of', 'coconut', 'pineapple', 'wedge'], tags=[415]),\n",
              " TaggedDocument(words=['2', 'cups', 'orange', 'juice', '1', 'tablespoon', 'orange', 'zest', '1', 'cup', 'granulated', 'sugar', '1/2', 'cup', 'heavy', 'cream', '1/2', 'cup', 'milk'], tags=[416]),\n",
              " TaggedDocument(words=['1', 'pound', 'strawberries', '2', 'tablespoons', 'granulated', 'sugar', '3', 'tablespoons', 'orange', 'juice', 'cornstarch'], tags=[417]),\n",
              " TaggedDocument(words=['2', 'cups', 'milk', '1', 'medium', 'apple', '1', 'medium', 'banana', '2', 'tablespoons', 'sugar', 'ice'], tags=[418]),\n",
              " TaggedDocument(words=['1/2', 'cup', 'milk', '1', 'cup', 'pineapple', 'cubes', '2', 'cups', 'vanilla', 'ice', 'cream', '1', 'slice', 'pineapple', '2', 'tablespoons', 'whipped', 'cream'], tags=[419]),\n",
              " TaggedDocument(words=['1/2', 'pound', 'strawberries', '2', 'cups', 'milk', '3', 'tablespoons', 'sugar', 'ice', 'cubes'], tags=[420]),\n",
              " TaggedDocument(words=['4', 'avocados', '3/4', 'cup', 'honey', '1/2', 'cup', 'coconut', 'milk', '2', 'tablespoons', 'lime', 'juice', '1/2', 'tablespoon', 'pink', 'himalayan', 'salt'], tags=[421]),\n",
              " TaggedDocument(words=['2', 'to', '3', 'bananas', '3/4', 'cup', 'soy', 'milk', '1', 'teaspoon', 'pumpkin', 'pie', 'spice', '1', 'teaspoon', 'pure', 'vanilla', 'extract', '8', 'to', '10', 'slices', 'bread', 'vegan', 'margarine', 'maple', 'syrup', 'banana', 'slices'], tags=[422]),\n",
              " TaggedDocument(words=['8', 'cranberries', '3/4', 'ounce', 'simple', 'syrup', '1/2', 'ounce', 'lemon', 'juice', '1', 'pinch', 'pumpkin', 'spice', '1', '1/2', 'ounces', 'vanilla', 'vodka', '1', 'large', 'egg', 'white'], tags=[423]),\n",
              " TaggedDocument(words=['2', 'cups', 'heavy', 'whipping', 'cream', '1/2', 'cup', 'allulose', 'syrup', '1', 'teaspoon', 'vanilla', 'extract', '1/2', 'teaspoon', 'salt'], tags=[424]),\n",
              " TaggedDocument(words=['1/2', 'pound', 'fresh', 'strawberries', '1', 'tablespoon', 'sugar', '1', 'teaspoon', 'vanilla', 'extract', '1', 'pint', 'vanilla', 'ice', 'cream', '1/2', 'cup', 'milk', 'small', 'whole', 'strawberries'], tags=[425]),\n",
              " TaggedDocument(words=['grated', 'chocolate', '3/4', 'ounce', 'cream', '3/4', 'ounce', 'white', 'crème', 'de', 'cacao', 'liqueur', '3/4', 'ounce', 'green', 'crème', 'de', 'menthe', 'liqueur'], tags=[426]),\n",
              " TaggedDocument(words=['1/2', 'cup', 'sugar-free', 'chocolate', 'chips', '2', 'tablespoons', 'coconut', 'oil', '14', 'large', 'strawberries', '1/4', 'cup', 'shredded', 'unsweetened', 'coconut'], tags=[427]),\n",
              " TaggedDocument(words=['1/2', 'ounce', 'green', 'crème', 'de', 'menthe', 'liqueur', '1/2', 'ounce', 'white', 'crème', 'de', 'cacao', 'liqueur', '1/2', 'ounce', 'light', 'cream'], tags=[428]),\n",
              " TaggedDocument(words=['2', 'cups', 'vanilla', 'ice', 'cream', '3/4', 'cup', 'whole', 'milk', '1/2', 'cup', 'creamy', 'peanut', 'butter', 'whipped', 'cream', 'chopped', 'peanuts'], tags=[429]),\n",
              " TaggedDocument(words=['1', 'ounce', 'vodka', '1', 'ounce', 'coffee', 'liqueur', '1', 'ounce', 'dark', 'crème', 'de', 'cacao', 'liqueur', '2', 'scoops', 'chocolate', 'ice', 'cream', '2', 'tablespoons', 'chocolate', 'syrup', '1', 'cup', 'crushed', 'ice', 'whipped', 'cream', 'maraschino', 'cherry'], tags=[430]),\n",
              " TaggedDocument(words=['1', 'pint', 'vanilla', 'ice', 'cream', '1', 'cup', 'milk', '8', 'oreo', 'cookies', '1', 'tablespoon', 'chocolate', 'sauce', '2', 'oreo', 'cookies'], tags=[431]),\n",
              " TaggedDocument(words=['1', 'cup', 'low-fat', 'milk', '1', 'cup', 'ice', 'cream', '4', 'tablespoons', 'malted', 'milk', 'powder', '1/2', 'teaspoon', 'vanilla', 'extract'], tags=[432]),\n",
              " TaggedDocument(words=['finely', 'crushed', 'graham', 'crackers', 'chocolate', 'syrup', '1', '1/2', 'ounces', 'marshmallow', 'vodka', '1', 'ounce', 'chocolate', 'liqueur', '1', 'ounce', 'drambuie', 'liqueur', '1/2', 'ounce', 'rumchata', 'liqueur', '2', 'scoops', 'vanilla', 'ice', 'cream', 'toasted', 'marshmallow', 'chocolate', 'shavings'], tags=[433]),\n",
              " TaggedDocument(words=['1', '1/2', 'cups', 'frozen', 'pineapple', 'chunks', '1/4', 'cup', 'ice', '3/4', 'cup', 'unsweetened', 'pineapple', 'juice', '3/4', 'cup', 'unsweetened', 'coconut', 'milk', '1', 'to', '3', 'tablespoons', 'brown', 'sugar', 'fresh', 'pineapple', 'wedges', 'maraschino', 'cherries'], tags=[434]),\n",
              " TaggedDocument(words=['2', 'ounces', 'peach', 'nectar', '4', 'to', '5', 'ounces', 'sparkling', 'cider', 'peach', 'slice'], tags=[435]),\n",
              " TaggedDocument(words=['1', '1/2', 'ounces', 'vanilla', 'or', 'whipped', 'cream', 'vodka', '1/2', 'ounce', 'triple', 'sec', '1', 'ounce', 'half-and-half', '1', 'ounce', 'orange', 'juice', 'orange', 'slice'], tags=[436]),\n",
              " TaggedDocument(words=['1', '1/2', 'ounces', 'tequila', '1/2', 'ounce', 'triple', 'sec', '1', 'dash', 'lime', 'juice', '1', 'scoop', 'orange', 'sherbet', '1/2', 'cup', 'ice', 'orange', 'slice', 'lime', 'wedge'], tags=[437]),\n",
              " TaggedDocument(words=['4', 'medium', 'figs', '1/2', 'medium', 'banana', '7', 'to', '8', 'ounces', 'yogurt', '1', 'tablespoon', 'honey', '1', 'pinch', 'salt', '1/4', 'to', '1/2', 'cup', 'milk'], tags=[438]),\n",
              " TaggedDocument(words=['3', 'tablespoons', 'tahini', '3', 'tablespoons', 'plain', 'yogurt', '2', 'tablespoons', 'extra', 'virgin', 'olive', 'oil', 'juice', '2', '2', 'tablespoons', '1/4', 'teaspoon', 'salt', '1', 'teaspoon', 'freshly-ground', 'pepper'], tags=[439]),\n",
              " TaggedDocument(words=['1/3', 'cup', 'apple', 'juice', '1/3', 'cup', 'cranberry', 'juice', '1', 'tablespoon', 'honey'], tags=[440]),\n",
              " TaggedDocument(words=['2', 'carrots', '1', 'apple', '1', 'cup', 'gooseberries', '1', 'slice', 'fresh', 'ginger', '1/2', 'cup', 'almond', 'milk', '1/4', 'cup', 'baby', 'spinach', 'almonds', 'walnuts', 'flaxseeds', 'hemp', 'seeds'], tags=[441]),\n",
              " TaggedDocument(words=['2', 'tablespoons', 'pineapple', 'juice', '2', 'tablespoons', 'coconut', 'cream', '1', 'tablespoon', 'half-and-half', '1', 'cup', 'ice', '3', 'tablespoons', 'strawberry', 'purée', '3', 'tablespoons', 'lime', 'juice', '1/2', 'tablespoon', 'simple', 'syrup', 'strawberry'], tags=[442]),\n",
              " TaggedDocument(words=['2', 'cups', 'blood', 'orange', 'juice', '1', 'cup', 'strawberries', '6', 'ounces', 'vanilla', 'yogurt', '2', 'tablespoons', 'honey', '4', 'ounces', 'ice', '4', 'large', 'strawberries', '4', 'orange', 'slices', '4', 'sprigs', 'mint'], tags=[443]),\n",
              " TaggedDocument(words=['3', 'cups', 'seedless', 'watermelon', '1', 'cup', 'peeled', 'cucumber', '1/4', 'cup', 'red', 'onion', '1/4', 'cup', 'jalapeño', 'pepper', '1/4', 'cup', 'fresh', 'cilantro', '2', 'tablespoons', 'fresh', 'mint', '2', 'tablespoons', 'honey', '1', 'tablespoon', 'lime', 'zest', '2', 'tablespoons', 'lime', 'juice', '1/2', 'teaspoon', 'kosher', 'salt', 'tortilla', 'chips'], tags=[444]),\n",
              " TaggedDocument(words=['1', '1/2', 'ounces', 'watermelon', 'juice', '3', 'slices', 'cucumber', '1', '1/2', 'ounces', 'gin', '1/2', 'ounce', 'simple', 'syrup', '3/4', 'ounce', 'lime', 'juice', '1', 'pinch', 'kosher', 'salt', '1', '1/2', 'ounces', 'soda', 'water'], tags=[445]),\n",
              " TaggedDocument(words=['3/4', 'cup', 'watermelon', '1/2', 'ounce', 'vanilla', 'syrup', '6', 'ounces', 'wheat', 'beer'], tags=[446]),\n",
              " TaggedDocument(words=['1/4', 'cup', 'sea', 'salt', '1', 'teaspoon', 'chili', 'powder', '1', 'cup', 'watermelon', 'cubes', '2', 'ounces', 'reposado', 'tequila', '1', 'ounce', 'triple', 'sec', '1', 'ounce', 'lime', 'juice', 'watermelon', 'wedges', 'lime', 'wedges', 'mint'], tags=[447]),\n",
              " TaggedDocument(words=['2', 'large', 'peaches', '2', 'cups', 'vanilla', 'ice', 'cream', '1/2', 'cup', 'milk'], tags=[448]),\n",
              " TaggedDocument(words=['1', 'cup', 'ice', '1', '1/2', 'ounces', 'vodka', '1', 'ounce', 'blue', 'curaçao', 'liqueur', '1/2', 'cup', 'pineapple', 'chunks', '2', 'ounces', 'grapefruit', 'juice', 'pineapple', 'wedge'], tags=[449]),\n",
              " TaggedDocument(words=['2', 'ounces', 'vodka', '1/2', 'ounce', 'blue', 'curaçao', '1/2', 'ounce', 'cream', 'of', 'coconut', '1/2', 'cup', 'pineapple', '1', 'scoop', 'vanilla', 'ice', 'cream', '1/2', 'cup', 'crushed', 'ice', 'pineapple', 'wedge'], tags=[450]),\n",
              " TaggedDocument(words=['2', 'ounces', 'brandy', '1', 'ounce', 'cream', 'of', 'coconut', '1/2', 'cup', 'pineapple', 'chunks', '1', 'tablespoon', 'vanilla', 'ice', 'cream', '1/2', 'cup', 'ice', 'maraschino', 'cherry'], tags=[451]),\n",
              " TaggedDocument(words=['1', 'cup', 'mango', 'juice', '1/4', 'cup', 'milk', '2', 'tablespoons', 'sugar', '1', 'teaspoon', 'pure', 'vanilla', 'extract', '1', 'scoop', 'vanilla', 'ice', 'cream', '1/2', 'cup', 'ice'], tags=[452]),\n",
              " TaggedDocument(words=['1', 'cup', 'orange', 'juice', '1/4', 'cup', 'milk', '2', 'tablespoons', 'granulated', 'sugar', '1', 'teaspoon', 'pure', 'vanilla', 'extract', '1', 'scoop', 'vanilla', 'ice', 'cream', '1/2', 'cup', 'crushed', 'ice'], tags=[453]),\n",
              " TaggedDocument(words=['1', '1/2', 'ounces', 'chocolate', 'vodka', '1', 'ounce', 'strawberry', 'vodka', '1', 'medium', 'banana', '1', 'scoop', 'vanilla', 'ice', 'cream', '4', 'ounces', 'milk', '1/2', 'ounce', 'pineapple', 'juice', 'whipped', 'cream', 'chocolate', 'sauce', 'for', 'optional', 'garnish', 'maraschino', 'cherry'], tags=[454]),\n",
              " TaggedDocument(words=['1', '1/4', 'cups', 'whiskey', '1/4', 'cup', 'pineapple', '1/2', 'cup', 'water', '1/2', 'cup', 'pineapple', 'juice', '1', 'cup', 'sugar', '1/4', 'cup', 'coriander', 'seeds', '2', 'to', '3', 'lemons', '4', 'cups', 'pineapple', '1', '1/4', 'cups', 'pineapple-infused', 'whiskey', '3/4', 'cup', 'coriander-pineapple', 'syrup', '1/4', 'cup', 'lemon', 'juice'], tags=[455]),\n",
              " TaggedDocument(words=['1', 'cup', 'ice', '1', '1/2', 'ounces', 'tequila', '1/2', 'ounce', 'triple', 'sec', '1/4', 'cup', 'strawberries', '1/4', 'cup', 'pineapple', 'chunks', '2', 'dashes', 'sour', 'mix', 'strawberry', 'slices', 'pineapple', 'wedge'], tags=[456]),\n",
              " TaggedDocument(words=['2', 'small', 'bananas', '1', 'can', 'coconut', 'milk', '1/4', 'to', '1/3', 'cup', 'brown', 'sugar', '1', 'pinch', 'salt', '8', 'to', '10', 'lychees'], tags=[457]),\n",
              " TaggedDocument(words=['2', 'cups', 'lychee', 'fruit', '1', 'lime', '375', 'milliliters', 'vodka', '1', 'cup', 'simple', 'syrup', '1', 'cup', 'sugar', '1', 'cup', 'water', '1/2', 'cup', 'lychee', 'fruit', '1', '1/2', 'ounces', 'vodka', '1', '1/2', 'ounces', 'lychee', 'liqueur', '1', 'splash', 'lime', 'juice', 'pitted', 'lychee'], tags=[458]),\n",
              " TaggedDocument(words=['1', 'lychee', '1/4', 'teaspoon', 'red', 'fruit', 'preserves', '1', 'blueberry', '1', 'ounce', 'vodka', '1/2', 'ounce', 'hpnotiq', 'liqueur', '2', 'ounces', 'lychee', 'juice', 'lychee', 'eyeball'], tags=[459]),\n",
              " TaggedDocument(words=['1', '1/2', 'cups', 'blanco', 'tequila', '1/2', 'cup', 'lime', 'juice', '1/2', 'cup', 'lychee', 'simple', 'syrup', '12', 'to', '20', 'sprigs', 'cilantro', '8', 'jalapeño', 'pepper', 'slices', 'coarse', 'salt', 'lychee', 'fruits'], tags=[460]),\n",
              " TaggedDocument(words=['1/2', 'ounce', 'citrus', 'vodka', '1', '1/2', 'ounces', 'amarula', 'cream', '2', '1/2', 'ounces', 'lychee', 'juice', '3/4', 'ounce', 'ruby', 'red', 'grapefruit', 'juice', 'lychee', 'fruit'], tags=[461]),\n",
              " TaggedDocument(words=['3/4', 'ounce', 'blanco', 'tequila', '3/4', 'ounce', 'lychee', 'liqueur'], tags=[462]),\n",
              " TaggedDocument(words=['1/2', 'stalk', 'lemongrass', '1', 'mint', 'sprig', '2', 'ounces', 'gin', '1', 'ounce', 'lime', 'juice', '1', 'ounce', 'agave', 'nectar', '1/4', 'teaspoon', 'ground', 'ginger', '2', 'to', '3', 'ounces', 'ginger', 'ale', 'lime', 'wheel', 'lemongrass'], tags=[463]),\n",
              " TaggedDocument(words=['1', '1/2', 'ounces', 'light', 'rum', '3/4', 'ounce', 'premium', 'triple', 'sec', '1/2', 'ounce', 'lime', 'juice', '1', 'dash', 'orange', 'bitters', '3', 'fresh', 'mint', 'leaves', 'fresh', 'mint', 'sprig', 'lime', 'slice'], tags=[464]),\n",
              " TaggedDocument(words=['8', 'mint', 'leaves', '1', 'ounce', 'simple', 'syrup', '3/4', 'ounce', 'lime', 'juice', '1', '1/2', 'ounces', 'gin', '4', 'to', '5', 'ounces', 'ginger', 'beer', 'mint', 'sprig'], tags=[465]),\n",
              " TaggedDocument(words=['10', 'fresh', 'mint', 'leaves', '6', 'raspberries', '3', 'watermelon', 'cubes', '1', '1/2', 'ounces', 'light', 'rum', '1/2', 'ounce', 'lime', 'juice', '1/2', 'ounce', 'simple', 'syrup', '1', '1/2', 'ounces', 'club', 'soda', 'fresh', 'mint', 'sprig'], tags=[466]),\n",
              " TaggedDocument(words=['1/2', 'cup', 'yogurt', '1', 'to', '2', 'teaspoons', 'lemon', 'juice', '1', 'to', '2', 'cloves', 'garlic', 'dash', 'sea', 'salt', 'dash', 'black', 'pepper'], tags=[467]),\n",
              " TaggedDocument(words=['1', 'gallon', 'whole', 'milk', '1', 'teaspoon', 'liquid', 'rennet', '1', 'teaspoon', 'kosher', 'salt'], tags=[468]),\n",
              " TaggedDocument(words=['1/2', 'gallon', 'whole', 'milk', '1/2', 'cup', 'whipping', 'cream', '1', 'cup', 'buttermilk', '1', 'tablespoon', 'kosher', 'salt', '4', 'to', '5', 'tablespoons', 'vinegar', 'apple', 'cider'], tags=[469]),\n",
              " TaggedDocument(words=['1', 'gallon', 'whole', 'milk', '1', 'packet', 'mesophilic', 'starter', 'culture', '1', '1/4', 'teaspoons', 'calcium', 'chloride', '1/2', 'tablet', 'rennet', '2', 'quarts', 'water', '1/4', 'cup', 'water', '1', 'to', '1', '1/4', 'pounds', 'salt', '2', '1/2', 'teaspoons', 'vinegar'], tags=[470]),\n",
              " TaggedDocument(words=['4', 'cups', 'goats', 'milk', '1/3', 'cup', 'fresh', 'lemon', 'juice', 'salt'], tags=[471]),\n",
              " TaggedDocument(words=['1', 'whole', 'watermelon', '1', '750-milliliter', 'bottle', 'vodka'], tags=[472]),\n",
              " TaggedDocument(words=['1', '750-milliliter', 'bottle', 'vodka', '1', 'watermelon'], tags=[473]),\n",
              " TaggedDocument(words=['granulated', 'sugar', '1', 'slice', 'watermelon', '5', 'parsley', 'leaves', '1', '1/2', 'ounces', 'vodka', '3/4', 'ounce', 'lemon', 'juice', '3/4', 'ounce', 'agave', 'nectar', '1', 'splash', 'pink', 'lemonade', 'seasonal', 'fruits'], tags=[474]),\n",
              " TaggedDocument(words=['1', 'cup', 'sugar', '1', 'cup', 'water', '1', 'large', 'cantaloupe'], tags=[475]),\n",
              " TaggedDocument(words=['1/2', 'ounce', 'vodka', '1/4', 'ounce', 'melon', 'liqueur', '1/4', 'ounce', 'pineapple', 'juice'], tags=[476]),\n",
              " TaggedDocument(words=['1', '1/2', 'ounces', 'tequila', '1', '1/2', 'ounces', 'melon', 'liqueur', '1', 'ounce', 'sour', 'mix', '1', 'ounce', 'lime', 'juice', 'lime', 'wedge'], tags=[477]),\n",
              " TaggedDocument(words=['1/2', 'ounce', 'water', '1/2', 'ounce', 'honey', 'freshly', 'ground', 'black', 'pepper', '1', '1/2', 'ounces', 'gin', '1', 'ounce', 'watermelon', 'juice', '3/4', 'ounce', 'black', 'pepper', 'honey', 'syrup', '1/2', 'ounce', 'lemon', 'juice', 'watermelon', 'cube'], tags=[478]),\n",
              " TaggedDocument(words=['1', '1/4', 'cups', 'dark', 'rum', '1', '1/4', 'cups', 'light', 'rum', '1', '1/4', 'cups', 'melon', 'liqueur', '2', '1/2', 'cups', 'white', 'cranberry', 'juice', '1', '1/4', 'cups', 'apple', 'juice', '1', '1/4', 'cups', 'simple', 'syrup', '1/4', 'cup', 'lemon', 'juice', 'apple', 'slices', 'blueberries', 'melon', 'balls'], tags=[479]),\n",
              " TaggedDocument(words=['2', 'cups', 'apple', 'cider', '1/2', 'cup', 'brown', 'sugar', '3', 'to', '4', 'cinnamon', 'sticks', '3', 'to', '4', 'whole', 'cloves', '3', 'pods', 'green', 'cardamom', '1', 'whole', 'star', 'anise', '1/4', 'teaspoon', 'ground', 'ginger', '1/4', 'teaspoon', 'ground', 'nutmeg', '2', '1/2', 'to', '3', 'cups', '100-proof', 'moonshine', '1/2', 'teaspoon', 'pure', 'vanilla', 'extract'], tags=[480]),\n",
              " TaggedDocument(words=['3', 'ounces', 'vodka', '1', 'splash', 'limoncello', 'lemon', 'twist'], tags=[481]),\n",
              " TaggedDocument(words=['2', 'slices', 'cucumber', '1/2', 'ounce', 'lemon', 'juice', '1/2', 'ounce', 'simple', 'syrup', '1', '1/2', 'ounce', 'pear', 'vodka', '1/2', 'ounce', 'elderflower', 'liqueur', '3', 'to', '5', 'ounces', 'lemonade', 'fresh', 'mint', 'sprig', 'lemon', 'twist'], tags=[482]),\n",
              " TaggedDocument(words=['granulated', 'sugar', 'lemon', 'wedge', '2', 'ounces', 'vodka', '1', 'ounce', 'lemon', 'juice', '1/2', 'to', '3/4', 'ounce', 'simple', 'syrup', 'lemon', 'twist'], tags=[483]),\n",
              " TaggedDocument(words=['granulated', 'sugar', 'orange', 'wedge', '1', '1/2', 'ounces', 'pear', 'vodka', '3/4', 'ounce', 'limoncello', '3/4', 'ounce', 'ginger', 'liqueur', '1/2', 'ounce', 'simple', 'syrup', '1', 'ounce', 'orange', 'juice', 'mint', 'leaves', 'dried', 'pears'], tags=[484]),\n",
              " TaggedDocument(words=['granulated', 'sugar', '1', '1/2', 'ounces', 'bourbon', 'whiskey', '3/4', 'ounce', 'limoncello', '2', 'ounces', 'lemon', 'sour', '5', 'to', '6', 'spearmint', 'leaves', 'lemon', 'wheel'], tags=[485]),\n",
              " TaggedDocument(words=['3', 'lychees', '1/2', 'ounce', 'simple', 'syrup', '1', 'lime', 'wedge', '1', '1/2', 'ounces', 'pear', 'vodka', '1', 'ounce', 'sake', 'pear', 'slice'], tags=[486]),\n",
              " TaggedDocument(words=['2', 'ounces', 'tequila', '1', 'ounce', 'orange', 'liqueur', '1', 'ounce', 'limoncello', '1', 'ounce', 'sour', 'mix', '1', 'dash', 'orange', 'juice'], tags=[487]),\n",
              " TaggedDocument(words=['3', 'ounces', 'rumchata', 'cream', 'liqueur', '1', 'ounce', 'limoncello'], tags=[488]),\n",
              " TaggedDocument(words=['2', '1/2', 'cups', 'all-purpose', 'flour', '1', 'teaspoon', 'baking', 'soda', '1/2', 'teaspoon', 'salt', '1/2', 'cup', 'butter', '1', '1/2', 'cups', 'sugar', '3', 'large', 'eggs', '1/2', 'cup', 'limoncello', '1', 'lemon', 'zested', 'and', 'juiced', '1/2', 'cup', 'buttermilk', 'white', 'chocolate', 'shavings', '16', 'ounces', 'mascarpone', 'cheese', '1', '1/4', 'cups', 'lemon', 'curd', '2', 'cups', 'whipping', 'cream', '2/3', 'cup', 'powdered', 'sugar'], tags=[489]),\n",
              " TaggedDocument(words=['1', '1/2', 'cups', 'granulated', 'sugar', '3', 'cups', 'water', '1', 'tablespoon', 'lemon', 'zest', '1/2', 'cup', 'vodka', '3', '1/2', 'tablespoons', 'lemon', 'juice', 'lemon', 'wedges'], tags=[490]),\n",
              " TaggedDocument(words=['1', '1/2', 'ounces', 'vodka', '1', 'ounce', 'lemon', 'juice', '1/2', 'ounce', 'simple', 'syrup', '3', 'to', '5', 'ounces', 'club', 'soda', 'orange', 'slice', 'maraschino', 'cherry'], tags=[491]),\n",
              " TaggedDocument(words=['1', 'teaspoon', 'lavender', 'buds', '1', 'tablespoon', 'simple', 'syrup', '2', 'ounces', 'lemon', 'vodka', '1', 'ounce', 'lemon', 'juice', 'lavender', 'sprig'], tags=[492]),\n",
              " TaggedDocument(words=['2', '1/2', 'ounces', 'gin', '1/2', 'ounce', 'dry', 'vermouth', '1', 'or', '3', 'cocktail', 'onions'], tags=[493]),\n",
              " TaggedDocument(words=['1', '1/2', 'ounces', 'gin', '1', 'ounce', 'lemon', 'juice', '1/2', 'ounce', 'simple', 'syrup', '3', 'ounces', 'club', 'soda', 'maraschino', 'cherry', 'lemon', 'slice'], tags=[494]),\n",
              " TaggedDocument(words=['2', 'ounces', 'gin', '1/2', 'ounce', 'lime', 'juice', '4', 'ounces', 'ginger', 'beer', 'lime', 'wedge'], tags=[495]),\n",
              " TaggedDocument(words=['2', 'ounces', 'gin', '4', 'to', '6', 'ounces', 'ginger', 'ale', 'lemon', 'wedge'], tags=[496]),\n",
              " TaggedDocument(words=['2', 'ounces', 'gin', '4', 'to', '6', 'ounces', 'tonic', 'water', 'lime', 'wedge'], tags=[497]),\n",
              " TaggedDocument(words=['1', '1/2', 'ounces', 'gin', '1', 'ounce', 'sweet', 'vermouth', '1', 'ounce', 'simple', 'syrup', '3/4', 'ounce', 'lemon', 'juice', '1', 'dash', 'aromatic', 'bitters', '3', 'to', '4', 'ounces', 'soda', 'water', 'lemon', 'twist'], tags=[498]),\n",
              " TaggedDocument(words=['2', 'ounces', 'gin', '3/4', 'ounce', 'sweet', 'vermouth', '1/4', 'ounce', 'maraschino', 'liqueur', '1', 'dash', 'aromatic', 'bitters', 'lemon', 'twist'], tags=[499]),\n",
              " TaggedDocument(words=['2', 'cups', 'water', '2', 'cups', 'sugar', '1/3', 'cup', 'eucalyptus', '1', '1/2', 'ounces', 'gin', '3/4', 'ounce', 'eucalyptus', 'syrup', '1/2', 'ounce', 'lime', 'juice', '3', 'drops', 'egg', 'white', 'eucalyptus', 'leaf'], tags=[500]),\n",
              " TaggedDocument(words=['1', 'to', '2', 'ounces', 'gin', '1', 'teaspoon', 'simple', 'syrup', '1/2', 'ounce', 'lemon', 'juice', '4', 'ounces', 'champagne', 'lemon', 'twist'], tags=[501]),\n",
              " TaggedDocument(words=['1', '1/2', 'ounces', 'gin', '1', 'ounce', 'lemon', 'juice', '1', 'ounce', 'orange', 'juice', '1', 'dash', 'grenadine', 'lemon', 'twist'], tags=[502]),\n",
              " TaggedDocument(words=['3/4', 'ounce', 'gin', '3/4', 'ounce', 'sweet', 'vermouth', '3/4', 'ounce', 'orange', 'juice'], tags=[503]),\n",
              " TaggedDocument(words=['3/4', 'ounce', 'gin', '3/4', 'ounce', 'apricot', 'liqueur', '3/4', 'ounce', 'sloe', 'gin', '3/4', 'ounce', 'lemon', 'juice', '2', 'ounces', 'champagne'], tags=[504]),\n",
              " TaggedDocument(words=['3/4', 'cup', 'guinness', 'stout', '4', '025-ounce', 'envelopes', 'unflavored', 'gelatin', '1/4', 'cup', 'irish', 'whiskey', '1', '1/2', 'cups', 'water', '1/2', 'cup', 'irish', 'cream', 'liqueur', '4', 'drops', 'green', 'food', 'coloring'], tags=[505]),\n",
              " TaggedDocument(words=['2', 'ounces', 'irish', 'whiskey', '3', 'lime', 'wedges', '3', 'ounces', 'ginger', 'beer'], tags=[506]),\n",
              " TaggedDocument(words=['1', '1/2', 'ounces', 'irish', 'whiskey', '1', '1/2', 'ounces', 'pickle', 'juice'], tags=[507]),\n",
              " TaggedDocument(words=['2', 'ounces', 'irish', 'whiskey', '4', 'to', '6', 'ounces', 'tonic', 'water', 'lemon', 'wedge'], tags=[508]),\n",
              " TaggedDocument(words=['6', 'ounces', 'pale', 'ale', 'beer', '6', 'ounces', 'guinness', 'stout', 'beer'], tags=[509]),\n",
              " TaggedDocument(words=['1', '1/2', 'ounces', 'irish', 'whiskey', '5', 'ounces', 'ginger', 'ale', '1', 'lime', 'wedge'], tags=[510]),\n",
              " TaggedDocument(words=['1', 'ounce', 'irish', 'whiskey', '1', 'ounce', 'peach', 'schnapps', '1', 'ounce', 'sour', 'mix', 'splash', 'lemon-lime', 'soda'], tags=[511]),\n",
              " TaggedDocument(words=['6', 'ounces', 'guinness', 'stout', '6', 'ounces', 'coke'], tags=[512]),\n",
              " TaggedDocument(words=['8', 'blueberries', '4', 'bing', 'cherries', '3/4', 'ounce', 'simple', 'syrup', '1/2', 'ounce', 'lemon', 'juice', '1', '1/2', 'ounces', 'gin', '4', 'to', '6', 'ounces', 'club', 'soda', 'bing', 'cherry', 'lemon', 'wheel'], tags=[513]),\n",
              " TaggedDocument(words=['3', 'ounces', 'brandy', '1/2', 'to', '1', 'ounce', 'simple', 'syrup', '1', 'to', '2', 'ounces', 'club', 'soda', 'orange', 'slices', 'lemon', 'slices', 'cherry'], tags=[514]),\n",
              " TaggedDocument(words=['2', 'ounces', 'whiskey', '4', 'to', '6', 'ounces', 'ginger', 'ale'], tags=[515]),\n",
              " TaggedDocument(words=['2', 'ounces', 'whiskey', '3/4', 'ounce', 'lemon', 'juice', '1/2', 'to', '3/4', 'ounce', 'simple', 'syrup', 'maraschino', 'cherry'], tags=[516]),\n",
              " TaggedDocument(words=['1', 'ounce', 'rye', 'whiskey', '1', 'ounce', 'cognac', '1', 'teaspoon', 'orange', 'curaçao', 'liqueur', '1', 'dash', 'absinthe', '1', 'teaspoon', 'simple', 'syrup', '2', 'dashes', 'aromatic', 'bitters', '1', 'to', '2', 'ounces', 'club', 'soda', 'lemon', 'twist'], tags=[517]),\n",
              " TaggedDocument(words=['2', 'ounces', 'gin', '1/2', 'ounce', 'lime', 'juice', '4', 'ounces', 'club', 'soda', 'lime', 'wedge'], tags=[518]),\n",
              " TaggedDocument(words=['1', '1/2', 'ounces', 'blended', 'scotch', 'whisky', '3/4', 'ounce', 'lemon', 'juice'], tags=[519]),\n",
              " TaggedDocument(words=['1', '1/2', 'ounces', 'scotch', 'whisky', '1/2', 'ounce', 'dry', 'vermouth', '1/2', 'ounce', 'sweet', 'vermouth', '2', 'dashes', 'orange', 'bitters'], tags=[520]),\n",
              " TaggedDocument(words=['1', 'sugar', 'pumpkin', '1', 'pinch', 'salt', '1', '750-milliliter', 'bottle', 'scotch', 'whisky', '1', 'ounce', 'pumpkin-infused', 'scotch', 'whisky', '1', 'ounce', 'ginger', 'liqueur', '1/2', 'ounce', 'lemon', 'juice', '1/2', 'ounce', 'maple', 'syrup', 'ground', 'cinnamon'], tags=[521]),\n",
              " TaggedDocument(words=['1', '1/2', 'ounces', 'scotch', 'whisky', '3/4', 'ounce', 'drambuie'], tags=[522]),\n",
              " TaggedDocument(words=['1', '1/2', 'ounces', 'scotch', 'whisky', '3/4', 'ounce', 'peach', 'brandy', '1/3', 'ounce', 'aged', 'rum', '1', 'ounce', 'lemon', 'juice', '1', 'ounce', 'simple', 'syrup', 'lemon', 'wheel'], tags=[523]),\n",
              " TaggedDocument(words=['2', 'ounces', 'scotch', 'whisky', '3/4', 'ounce', 'sweet', 'vermouth', '1', 'dash', 'orange', 'bitters', '1', 'dash', 'absinthe'], tags=[524]),\n",
              " TaggedDocument(words=['2', 'ounces', 'cachaça', '1', 'ounce', 'passion', 'fruit', 'syrup', '1/2', 'ounce', 'coconut', 'milk', '1/2', 'ounce', 'lime', 'juice', '1/2', 'cup', 'ice'], tags=[525]),\n",
              " TaggedDocument(words=['1/2', 'ounce', 'scotch', 'whisky', '1/2', 'ounce', 'jack', 'daniels', 'tennessee', 'whiskey', '1/2', 'ounce', 'bourbon', 'whiskey'], tags=[526]),\n",
              " TaggedDocument(words=['1', '1/2', 'ounces', 'scotch', 'whisky', '1/2', 'ounce', 'dry', 'vermouth', '1/4', 'ounce', 'strega', 'liqueur', '1', 'ounce', 'lemonade'], tags=[527]),\n",
              " TaggedDocument(words=['1', '1/2', 'ounces', 'scotch', 'whisky', '3/4', 'ounce', 'sweet', 'vermouth', '2', 'dashes', 'bitters', 'maraschino', 'cherry'], tags=[528]),\n",
              " TaggedDocument(words=['2', 'to', '3', 'ounces', 'dry', 'vermouth', '3/4', 'ounce', 'crème', 'de', 'cassis', 'liqueur', '3', 'ounces', 'club', 'soda'], tags=[529]),\n",
              " TaggedDocument(words=['1', '1/2', 'ounces', 'gin', '1/2', 'ounce', 'lime', 'juice', '1/2', 'ounce', 'strawberry', 'syrup', '1', 'dash', 'orange', 'bitters', '4', 'to', '5', 'ounces', 'tonic', 'water', 'strawberry'], tags=[530]),\n",
              " TaggedDocument(words=['2', 'ounces', 'vodka', '1/4', 'ounce', 'lime', 'juice', '4', 'to', '6', 'ounces', 'tonic', 'water', 'lime', 'wedge'], tags=[531]),\n",
              " TaggedDocument(words=['1', 'medium', 'red', 'apple', '1', 'medium', 'pear', '1', '750-milliliter', 'bottle', 'vodka', '1', 'cinnamon', 'stick', '1', '1/2', 'ounces', 'vodka', '1', 'splash', 'simple', 'syrup', '3', 'to', '5', 'ounces', 'tonic', 'water', 'apple', 'slice'], tags=[532]),\n",
              " TaggedDocument(words=['2', 'ounces', 'vodka', '4', 'ounces', 'grapefruit', 'juice', 'lemon', 'wedge'], tags=[533]),\n",
              " TaggedDocument(words=['1', 'ounce', 'light', 'rum', '1', 'ounce', 'dark', 'rum', '1', 'ounce', 'orange', 'curaçao', 'liqueur', '1', '1/2', 'ounces', 'passion', 'fruit', 'purée', '1', '1/2', 'ounces', 'orange', 'juice', '1/2', 'ounce', 'lemon', 'juice', '1/2', 'ounce', 'lime', 'juice', '1/4', 'ounce', 'grenadine', '2', 'dashes', 'aromatic', 'bitters', '1/2', 'ounce', '151-proof', 'dark', 'rum', 'mint', 'sprig', 'fruits'], tags=[534]),\n",
              " TaggedDocument(words=['2', 'ounces', 'light', 'rum', '2', 'ounces', 'pineapple', 'juice', '1', '1/2', 'ounces', 'cream', 'of', 'coconut', '1', 'lime', 'wedge', 'pineapple', 'wedge', 'maraschino', 'cherry'], tags=[535]),\n",
              " TaggedDocument(words=['3/4', 'cup', 'ice', '1', '1/2', 'ounces', 'jamaican', 'rum', '1', '1/2', 'ounces', 'gold', 'puerto', 'rican', 'rum', '1', 'ounce', '151-proof', 'demerara', 'rum', '1/2', 'ounce', 'falernum', '6', 'drops', 'herbsaint', '3/4', 'ounce', 'lime', 'juice', '2', 'teaspoons', 'grapefruit', 'juice', '1', 'teaspoon', 'cinnamon', 'syrup', '1', 'teaspoon', 'grenadine', '1', 'dash', 'aromatic', 'bitters', 'mint', 'sprig'], tags=[536]),\n",
              " TaggedDocument(words=['1', 'ounce', 'rhum', 'agricole', '1', 'ounce', 'jamaican', 'dark', 'rum', '1/2', 'ounce', 'orange', 'curaçao', 'liqueur', '1', 'ounce', 'lime', 'juice', '1/2', 'ounce', 'orgeat', 'syrup', '1/4', 'ounce', 'simple', 'syrup', 'lime', 'shell', 'fresh', 'mint', 'sprig'], tags=[537]),\n",
              " TaggedDocument(words=['1', '1/2', 'ounces', 'white', 'rum', '3/4', 'ounce', 'orange', 'liqueur', '1', '1/2', 'ounces', 'pineapple', 'juice', '1', '1/2', 'ounces', 'orange', 'juice', '1/2', 'ounce', 'lime', 'juice', '2', 'dashes', 'grenadine', '2/3', 'ounce', 'dark', 'rum'], tags=[538]),\n",
              " TaggedDocument(words=['2', 'ounces', 'light', 'rum', '1', 'ounce', 'pineapple', 'juice', '1', 'ounce', 'cream', 'of', 'coconut', '1/4', 'ounce', 'lime', 'juice', '1', '1/2', 'cups', 'ice', 'pineapple', 'wedge', 'maraschino', 'cherry'], tags=[539]),\n",
              " TaggedDocument(words=['3/4', 'ounce', 'brandy', '3/4', 'ounce', 'rum', '3/4', 'ounce', 'premium', 'triple', 'sec', '1/2', 'ounce', 'lime', 'juice', '1', 'dash', 'aromatic', 'bitters', 'lime', 'wedge'], tags=[540]),\n",
              " TaggedDocument(words=['2', 'ounces', 'light', 'rum', '2', 'ounces', 'pineapple', 'juice', '1', 'teaspoon', 'grenadine', 'maraschino', 'cherry'], tags=[541]),\n",
              " TaggedDocument(words=['1/2', 'lime', '2', 'ounces', 'light', 'rum', '2', 'ounces', 'dark', 'rum', '2', 'ounces', 'passion', 'fruit', 'juice', '1', 'ounce', 'orange', 'juice', '1/2', 'ounce', 'simple', 'syrup', '1/2', 'ounce', 'grenadine', 'orange', 'slice', 'maraschino', 'cherry'], tags=[542]),\n",
              " TaggedDocument(words=['1', '1/2', 'ounces', 'dark', 'rum', '2', 'ounces', 'pineapple', 'juice', '1/2', 'ounce', 'lime', 'juice', '1/4', 'ounce', 'grenadine', '2', 'ounces', 'club', 'soda', 'seasonal', 'fruit'], tags=[543]),\n",
              " TaggedDocument(words=['2', 'ounces', 'dark', 'or', 'navy', 'rum', '4', 'ounces', 'pineapple', 'juice', '1', 'ounce', 'orange', 'juice', '1', 'ounce', 'cream', 'of', 'coconut', 'pineapple', 'wedge', 'grated', 'nutmeg'], tags=[544]),\n",
              " TaggedDocument(words=['1', 'ounce', 'light', 'rum', '1', 'ounce', 'dark', 'or', 'aged', 'rum', '1', 'ounce', 'banana', 'liqueur', '1/2', 'ounce', 'blackberry', 'liqueur', '1', 'ounce', 'pineapple', 'juice', '1', 'splash', 'grenadine', 'fresh', 'fruit'], tags=[545]),\n",
              " TaggedDocument(words=['1', '1/2', 'ounces', 'jamaican', 'rum', '1/2', 'ounce', 'kummel', 'liqueur', '1/2', 'ounce', 'orange', 'juice', '1', 'dash', 'pimento', 'dram'], tags=[546]),\n",
              " TaggedDocument(words=['1', '1/2', 'ounces', 'coconut', 'rum', '3/4', 'ounce', 'banana', 'liqueur', '1/2', 'ounce', 'grenadine', '1/2', 'banana', '1', 'dash', 'pineapple', 'juice', '1', 'dash', 'orange', 'juice', '1', 'cup', 'ice', '1/4', 'ounce', 'dark', 'rum'], tags=[547]),\n",
              " TaggedDocument(words=['2', 'ounces', 'coconut', 'rum', '6', 'ounces', 'hot', 'chocolate', 'whipped', 'cream', 'shredded', 'coconut'], tags=[548]),\n",
              " TaggedDocument(words=['1', '1/2', 'ounces', 'vanilla', 'vodka', '1', 'ounce', 'coconut', 'rum', '1/2', 'ounce', 'cream', 'of', 'coconut', '1', 'splash', 'pineapple', 'juice', 'coconut', 'flakes', 'pineapple', 'wedge'], tags=[549]),\n",
              " TaggedDocument(words=['1/2', 'ounce', 'dark', 'rum', '1/4', 'ounce', '151-proof', 'rum', '1/2', 'ounce', 'coconut', 'liqueur0b', '1/4', 'ounce', 'coffee', 'liqueur', '4', 'ounces', 'pineapple', 'juice', '1/2', 'ounce', 'lemon', 'juice', 'strawberry'], tags=[550]),\n",
              " TaggedDocument(words=['1', 'cup', 'ice', '3/4', 'ounce', 'gin', '3/4', 'ounce', 'amaretto', 'liqueur', '1/4', 'ounce', 'orange', 'juice', '1/4', 'ounce', 'pineapple', 'juice', '1/4', 'ounce', 'cream'], tags=[551]),\n",
              " TaggedDocument(words=['1', '1/2', 'ounces', 'light', 'rum', '3/4', 'ounce', 'orange', 'curaçao', 'liqueur', '3/4', 'ounce', 'dry', 'vermouth', '1', 'dash', 'grenadine'], tags=[552]),\n",
              " TaggedDocument(words=['1', '1/2', 'ounces', 'coconut', 'vodka', '1', '1/2', 'ounces', 'unsweetened', 'coconut', 'water', '1', 'ounce', 'pineapple', 'juice', '1/4', 'ounce', 'lime', 'juice', 'lime', 'twist'], tags=[553]),\n",
              " TaggedDocument(words=['1', '1/2', 'ounces', 'vanilla', 'vodka', '1', 'ounce', 'amaretto', 'liqueur', '2', 'ounces', 'eggnog', 'ground', 'nutmeg', 'cinnamon', 'stick'], tags=[554]),\n",
              " TaggedDocument(words=['1', 'orange', 'slice', '3', 'ounces', 'prosecco', '2', 'ounces', 'aperol', '1/2', 'ounce', 'club', 'soda'], tags=[555]),\n",
              " TaggedDocument(words=['2', 'ounces', 'ginger', 'vodka', '1', 'ounce', 'honey', 'syrup', '3/4', 'ounce', 'lemon', 'juice', 'lemon', 'twist'], tags=[556]),\n",
              " TaggedDocument(words=['1', 'ounce', 'dark', 'rum', '1', 'ounce', 'ruby', 'port', '1/2', 'ounce', 'lemon', 'juice', '1/2', 'teaspoon', 'superfine', 'sugar', '1', 'egg', 'white', '3', 'to', '5', 'ounces', 'club', 'soda'], tags=[557]),\n",
              " TaggedDocument(words=['1/2', 'lime', '1', '1/2', 'to', '2', '1/2', 'teaspoons', 'superfine', 'sugar', '2', 'ounces', 'cachaça', 'lime', 'wheel'], tags=[558]),\n",
              " TaggedDocument(words=['2', 'ounces', 'vodka', '1', 'ounce', 'ginger', 'syrup', '3/4', 'ounce', 'lime', 'juice', '1', 'splash', 'club', 'soda', 'lime', 'twist'], tags=[559]),\n",
              " TaggedDocument(words=['2', 'ounces', 'gin', '1', 'ounce', 'lemon', 'juice', '1/2', 'ounce', 'simple', 'syrup', '1/2', 'ounce', 'egg', 'white', '3', 'dashes', 'aromatic', 'bitters'], tags=[560]),\n",
              " TaggedDocument(words=['2', 'ounces', 'rye', 'whiskey', '1', 'ounce', 'lemon', 'juice', '1/2', 'to', '3/4', 'ounce', 'simple', 'syrup', '1/2', 'to', '3/4', 'ounce', 'dry', 'red', 'wine'], tags=[561]),\n",
              " TaggedDocument(words=['1', '1/2', 'ounces', 'grapefruit', 'juice', '1', '1/2', 'ounces', 'simple', 'syrup', '3', 'ounces', 'water', '6', 'ounces', 'beer', 'grapefruit', 'slice'], tags=[562]),\n",
              " TaggedDocument(words=['1/2', 'ounce', 'vodka', '1', '1/2', 'ounces', 'dark', 'crème', 'de', 'cacao', 'liqueur', '1', 'teaspoon', 'cherry', 'brandy', '1', 'teaspoon', 'chocolate', 'syrup'], tags=[563]),\n",
              " TaggedDocument(words=['2', 'ounces', 'elderflower', 'liqueur', '3', 'ounces', 'champagne', '1', 'ounce', 'club', 'soda', 'lemon', 'twist'], tags=[564]),\n",
              " TaggedDocument(words=['2', 'ounces', 'gin', '3/4', 'ounce', 'honey', 'syrup', '1/2', 'ounce', 'lemon', 'juice'], tags=[565]),\n",
              " TaggedDocument(words=['2', 'ounces', 'brandy', '2', 'dashes', 'rum', '2', 'to', '3', 'dashes', 'orange', 'curaçao', 'liqueur', '3/4', 'ounce', 'lemon', 'juice', '3', 'to', '4', 'dashes', 'simple', 'syrup', '1', 'ounce', 'soda', 'water'], tags=[566]),\n",
              " TaggedDocument(words=['2', 'ounces', 'gin', '1', 'ounce', 'elderflower', 'liqueur', '2', 'to', '3', 'ounces', 'champagne', '1/4', 'ounce', 'raspberry', 'liqueur'], tags=[567]),\n",
              " TaggedDocument(words=['2', '1/2', 'ounces', 'gin', '3/4', 'ounce', 'lime', 'cordial', 'lime', 'wedge'], tags=[568]),\n",
              " TaggedDocument(words=['1', 'fresh', 'cherry', '3', 'ounces', 'amaretto', '1/2', 'ounce', 'apple', 'cider', '3', 'sage', 'leaves', '2', 'orange', 'twists', '1', 'teaspoon', 'orange', 'zest', '1', 'teaspoon', 'brown', 'sugar', '1', 'pinch', 'saffron', '1', '1/2', 'ounces', 'bourbon', 'whiskey'], tags=[569]),\n",
              " TaggedDocument(words=['colored', 'sugar', '1', '1/2', 'ounces', 'vanilla', 'vodka', '1', '1/2', 'ounces', 'irish', 'cream', 'liqueur', '1', 'ounce', 'amaretto', 'liqueur'], tags=[570]),\n",
              " TaggedDocument(words=['cream', 'cheese', 'frosting', 'crushed', 'walnuts', '1', 'ounce', 'butterscotch', 'schnapps', '1', 'ounce', 'coffee', 'liqueur', '1', 'ounce', 'irish', 'cream', '1', 'ounce', 'cinnamon', 'schnapps'], tags=[571]),\n",
              " TaggedDocument(words=['3/4', 'ounce', 'butterscotch', 'schnapps', '3/4', 'ounce', 'irish', 'cream', 'liqueur', '1/4', 'ounce', 'cinnamon', 'schnapps', '1', 'splash', 'jägermeister'], tags=[572]),\n",
              " TaggedDocument(words=['sandwich', 'cookie', '2', 'ounces', 'vanilla', 'vodka', '1', '1/2', 'ounces', 'pumpkin', 'spice', 'liqueur', '1', 'ounce', 'caramel', 'irish', 'cream', 'liqueur', '3', 'gummy', 'worms'], tags=[573]),\n",
              " TaggedDocument(words=['1/2', 'ounce', 'hazelnut', 'liqueur', '1/2', 'ounce', 'irish', 'cream', 'liqueur', '1/2', 'ounce', 'vodka'], tags=[574]),\n",
              " TaggedDocument(words=['3', 'ounces', 'honey', 'whiskey', 'liqueur', '1', 'fresh', 'cherry', '1', '1/2', 'ounces', 'bourbon', 'whiskey', '1/2', 'ounce', 'grapefruit', 'juice', '1/2', 'ounce', 'lime', 'juice', '1/2', 'ounce', 'honey', '1', 'teaspoon', 'egg', 'white'], tags=[575]),\n",
              " TaggedDocument(words=['3', 'cranberries', '1/2', 'tablespoon', 'white', 'granulated', 'sugar', '1', '1/2', 'ounces', 'citrus', 'vodka', '1/2', 'ounce', 'elderflower', 'liqueur', '1', 'ounce', 'white', 'cranberry', 'juice', '1/4', 'ounce', 'lemon', 'juice'], tags=[576]),\n",
              " TaggedDocument(words=['2', 'ounces', 'bourbon', 'whiskey', '1', 'ounce', 'orange', 'curaçao', 'liqueur', '1', 'teaspoon', 'crème', 'de', 'framboise', 'liqueur', '1', 'teaspoon', 'grenadine', '1', 'large', 'egg', 'white'], tags=[577]),\n",
              " TaggedDocument(words=['1', 'sugar', 'cube', '3', 'dashes', 'peychauds', 'bitters', '2', 'ounces', 'rye', 'whiskey', '1/4', 'ounce', 'absinthe', 'lemon', 'twist'], tags=[578]),\n",
              " TaggedDocument(words=['1', 'ounce', 'brandy', '1', 'ounce', 'whiskey', '1', 'ounce', 'sweet', 'vermouth', '2', 'dashes', 'bitters', 'lemon', 'twist'], tags=[579]),\n",
              " TaggedDocument(words=['1/4', 'ounce', 'absinthe', '2', 'ounces', 'rye', 'whiskey', '3/4', 'ounce', 'sweet', 'vermouth', '2', 'dashes', 'bitters'], tags=[580]),\n",
              " TaggedDocument(words=['2', 'ounces', 'bourbon', 'or', 'rye', 'whiskey', '3/4', 'ounce', 'lemon', 'juice', '3/4', 'ounce', 'orange', 'juice', '1', 'dash', 'grenadine', 'maraschino', 'cherry', 'orange', 'slice'], tags=[581]),\n",
              " TaggedDocument(words=['1', 'ounce', 'coffee', 'liqueur', '1', 'ounce', 'rye', 'whiskey', '4', 'ounces', 'milk'], tags=[582]),\n",
              " TaggedDocument(words=['2', 'ounces', 'rye', 'whiskey', '1', 'ounce', 'sweet', 'vermouth', '2', 'to', '3', 'dashes', 'aromatic', 'bitters', 'cherry'], tags=[583]),\n",
              " TaggedDocument(words=['3/4', 'ounce', 'rye', 'whiskey', '3/4', 'ounce', 'cognac', '3/4', 'ounce', 'sweet', 'vermouth', '1/2', 'ounce', 'bénédictine', 'liqueur', '1', 'to', '2', 'dashes', 'peychauds', 'bitters', '1', 'to', '2', 'dashes', 'angostura', 'bitters', 'cherry'], tags=[584]),\n",
              " TaggedDocument(words=['1', '750-milliliter', 'bottle', 'rye', 'whiskey', '1/4', 'cup', 'cacao', 'nibs', '2', 'brandied', 'cherries', '1', 'orange', 'slice', '1/2', 'ounce', 'demerara', 'syrup', '3', 'dashes', 'mole', 'bitters', '2', '1/2', 'ounces', 'rye', 'whiskey'], tags=[585]),\n",
              " TaggedDocument(words=['1', 'ounce', 'absinthe', '2', 'dashes', 'anisette', '2', 'dashes', 'aromatic', 'bitters', '1', 'ounce', 'ice-cold', 'water'], tags=[586]),\n",
              " TaggedDocument(words=['1', '1/2', 'ounces', 'light', 'rum', '1', 'ounce', 'apricot', 'brandy', '1/2', 'ounces', 'sweet', 'vermouth', '1', 'teaspoon', 'lemon', 'juice', '1', 'dash', 'grenadine', 'lemon', 'twist'], tags=[587]),\n",
              " TaggedDocument(words=['1', '1/2', 'ounces', 'gin', '1', 'ounce', 'bénédictine', 'liqueur', '1/2', 'ounce', 'cherry', 'liqueur', '1', 'ounce', 'lime', 'juice', '1/4', 'ounce', 'simple', 'syrup', '2', 'ounces', 'club', 'soda', 'lemon', 'slice', 'maraschino', 'cherry'], tags=[588]),\n",
              " TaggedDocument(words=['2', 'cups', 'vodka', '4', 'cups', 'tomato', 'juice', '1', 'tablespoon', 'horseradish', '5', 'dashes', 'hot', 'sauce', '1', 'dash', 'worcestershire', 'sauce', '1/8', 'teaspoon', 'black', 'pepper', '3/4', 'ounce', 'lemon', 'juice', '8', 'grilled', 'cheese', 'sandwiches', '8', 'dill', 'pickles', 'for', 'garnish', '8', 'bacon', 'straws', '8', 'slices', 'bacon', '4', 'slices', 'bread', '4', 'slices', 'cheese', '2', 'tablespoons', 'butter'], tags=[589]),\n",
              " TaggedDocument(words=['1', '1/2', 'ounces', 'cognac', '3/4', 'ounce', 'amaretto', 'liqueur'], tags=[590]),\n",
              " TaggedDocument(words=['1', '1/2', 'ounces', 'cognac', '1', '1/2', 'ounces', 'grand', 'marnier'], tags=[591]),\n",
              " TaggedDocument(words=['4', 'ounces', 'milk', '1', '1/2', 'ounces', 'cognac', '1', 'teaspoon', 'clover', 'honey', 'grated', 'nutmeg'], tags=[592]),\n",
              " TaggedDocument(words=['1', '1/2', 'ounces', 'brandy', '1', '1/2', 'ounces', 'bénédictine', 'liqueur'], tags=[593]),\n",
              " TaggedDocument(words=['2', 'ounces', 'cognac', '1/2', 'ounce', 'lime', 'juice', '1/2', 'ounce', 'orgeat', 'syrup', '1', 'dash', 'aromatic', 'bitters', 'lime', 'peel'], tags=[594]),\n",
              " TaggedDocument(words=['1', '1/2', 'ounces', 'cognac', '1/2', 'ounce', 'brandy-based', 'orange', 'liqueur', '1', 'ounce', 'orange', 'juice', '2', 'to', '3', 'ounces', 'ginger', 'ale', 'orange', 'wheel', 'lime', 'twist'], tags=[595]),\n",
              " TaggedDocument(words=['2', 'ounces', 'brandy', '1', 'ounce', 'triple', 'sec', '3/4', 'ounce', 'lemon', 'juice', 'lemon', 'or', 'orange', 'twist'], tags=[596]),\n",
              " TaggedDocument(words=['1', '1/2', 'ounces', 'vodka', '1', 'to', '2', 'grapefruit', 'wedges', '3', 'ounces', 'club', 'soda', 'fresh', 'thyme', 'sprig'], tags=[597]),\n",
              " TaggedDocument(words=['2', 'ounces', 'vodka', '1/2', 'ounce', 'lime', 'juice', '4', 'ounces', 'ginger', 'beer', 'lime', 'wedge'], tags=[598]),\n",
              " TaggedDocument(words=['1', '1/2', 'ounces', 'vodka', '1', '1/2', 'ounces', 'apple', 'cider', '1/2', 'ounce', 'lime', 'juice', '3', 'to', '4', 'ounces', 'ginger', 'beer', 'apple', 'slice', 'cinnamon', 'stick'], tags=[599]),\n",
              " TaggedDocument(words=['1', '1/2', 'ounces', 'orange', 'liqueur', '1/2', 'ounce', 'lime', 'juice', '3', 'dashes', 'bitters', '3', 'ounces', 'ginger', 'beer', '1', 'lime', 'wedge'], tags=[600]),\n",
              " TaggedDocument(words=['1', '1/2', 'cups', 'brown', 'sugar', '1', 'cup', 'cranberries', '3/4', 'cup', 'water', '4', 'cinnamon', 'sticks', '1', 'tablespoon', 'orange', 'zest', '1', 'teaspoon', 'allspice', 'berries', '1', 'teaspoon', 'whole', 'cloves', '1', '1/2', 'ounces', 'blanco', 'tequila', '1/2', 'ounce', 'lime', 'juice', '1/2', 'ounce', 'cranberry', 'spice', 'syrup', '2', 'to', '3', 'ounces', 'ginger', 'beer', 'lime', 'wheel'], tags=[601]),\n",
              " TaggedDocument(words=['2', 'ounces', 'dark', 'rum', '3', 'ounces', 'ginger', 'beer', '1/2', 'ounce', 'lime', 'juice', 'lime', 'wedge'], tags=[602]),\n",
              " TaggedDocument(words=['1', '1/2', 'ounces', 'pear', 'vodka', '4', 'ounces', 'ginger', 'beer', '1', 'cinnamon', 'stick'], tags=[603]),\n",
              " TaggedDocument(words=['2', 'ounces', 'vodka', '1', 'ounce', 'lingonberry', 'syrup', '1', 'ounce', 'grapefruit', 'juice', '2', 'to', '3', 'ounce', 'ginger', 'beer', 'lime', 'wedge'], tags=[604]),\n",
              " TaggedDocument(words=['2', 'ounces', 'blended', 'scotch', 'whisky', '1', 'tablespoon', 'lime', 'juice', '4', 'to', '6', 'ounces', 'ginger', 'ale', 'lime', 'wedge'], tags=[605]),\n",
              " TaggedDocument(words=['1', '1/2', 'ounces', 'light', 'rum', '3/4', 'ounce', 'lime', 'juice', '1/2', 'to', '3/4', 'ounce', 'simple', 'syrup'], tags=[606]),\n",
              " TaggedDocument(words=['1', 'jalapeño', 'pepper', '1', '1/2', 'ounces', 'reposado', 'tequila', '1/2', 'ounce', 'brandy-based', 'orange', 'liqueur', '1', 'ounce', 'lime', 'juice', '1/2', 'teaspoon', 'agave', 'nectar', '1', 'dash', 'orange', 'bitters', 'jalapeño', 'slice'], tags=[607]),\n",
              " TaggedDocument(words=['2', 'pints', 'blood', 'orange', 'juice', '1', 'habanero', 'pepper', '1/2', 'tablespoon', 'mole', 'negro', 'sauce', '1/4', 'ounce', 'lime', 'juice', '1', '1/2', 'ounces', 'tequila', '1', '1/2', 'ounces', 'sour', 'mix', '1', 'ounce', 'blood', 'orange-habanero', 'purée', 'lime', 'wedge'], tags=[608]),\n",
              " TaggedDocument(words=['1', '1/2', 'ounces', 'light', 'rum', '3/4', 'ounce', 'rhubarb', 'juice', '1/2', 'ounce', 'rosemary', 'syrup', '1/4', 'ounce', 'lemon', 'juice', 'lemon', 'wheel', 'fresh', 'rosemary', 'sprig'], tags=[609]),\n",
              " TaggedDocument(words=['4', 'slices', 'cucumber', '6', 'cilantro', 'leaves', '3/4', 'ounce', 'simple', 'syrup', '1', '1/2', 'ounces', 'reposado', 'tequila', '3/4', 'ounce', 'triple', 'sec', '1', 'ounce', 'lime', 'juice', '1/4', 'ounce', 'egg', 'white'], tags=[610]),\n",
              " TaggedDocument(words=['3', 'or', '4', 'ice', 'cubes', '2', 'ounces', 'aged', 'or', 'gold', 'rum', '1/2', 'ounce', 'triple', 'sec', '1', 'to', '1', '1/2', 'ounces', 'lime', 'juice', '1/2', 'ounce', 'simple', 'syrup', 'lime', 'wedge'], tags=[611]),\n",
              " TaggedDocument(words=['lime', 'wedge', 'coarse', 'salt', '1', '1/2', 'ounces', 'tequila', '1', 'ounce', 'premium', 'triple', 'sec', '3/4', 'ounce', 'lime', 'juice'], tags=[612]),\n",
              " TaggedDocument(words=['2', 'ounces', 'light', 'rum', '1/2', 'ounce', 'maraschino', 'liqueur', '1/2', 'ounce', 'grapefruit', 'juice', '3/4', 'ounce', 'lime', 'juice', '1/4', 'ounce', 'simple', 'syrup', 'lime', 'wheel'], tags=[613]),\n",
              " TaggedDocument(words=['2', 'cups', 'tomato', 'juice', '1/3', 'cup', 'sour', 'mix', '1/3', 'cup', 'roasted', 'red', 'pepper', 'purée', '1', 'dash', 'habanero', 'hot', 'sauce', '1', '1/2', 'ounces', 'blanco', 'tequila', '2', '1/2', 'ounces', 'pepper', 'mix', 'lime', 'wedge', 'red', 'bell', 'pepper', 'slice'], tags=[614]),\n",
              " TaggedDocument(words=['1', 'ounce', 'irish', 'whiskey', '1/4', 'ounce', 'crème', 'de', 'menthe', 'liqueur', '2', 'ounces', 'cream', 'maraschino', 'cherry'], tags=[615]),\n",
              " TaggedDocument(words=['1', 'ounce', 'chocolate', 'vodka', '2', 'ounces', 'cream', 'liqueur', '1/2', 'ounce', 'green', 'crème', 'de', 'menthe', 'liqueur'], tags=[616]),\n",
              " TaggedDocument(words=['2', 'ounces', 'white', 'crème', 'de', 'menthe', 'liqueur', '5', 'to', '6', 'ounces', 'hot', 'chocolate', '1', 'tablespoon', 'whipped', 'cream', '1/2', 'ounce', 'green', 'crème', 'de', 'menthe', 'liqueur'], tags=[617]),\n",
              " TaggedDocument(words=['1', '3/4', 'ounces', 'brandy', '3/4', 'ounce', 'white', 'crème', 'de', 'menthe', 'liqueur'], tags=[618]),\n",
              " TaggedDocument(words=['2', 'ounces', 'chocolate', 'vodka', '3/4', 'ounce', 'cream', 'liqueur', '1/2', 'ounce', 'peppermint', 'schnapps', 'peppermint', 'patty', 'candy'], tags=[619]),\n",
              " TaggedDocument(words=['1', 'ounce', 'peppermint', 'schnapps', '1/2', 'ounce', 'dark', 'crème', 'de', 'cacao', 'liqueur', '1/4', 'ounce', 'crème', 'de', 'menthe', 'liqueur', '6', 'ounces', 'hot', 'chocolate', 'whipped', 'cream', 'chocolate', 'shavings'], tags=[620]),\n",
              " TaggedDocument(words=['2', 'ounces', 'peppermint', 'schnapps', '6', 'to', '8', 'ounces', 'hot', 'chocolate', 'whipped', 'cream', 'grated', 'chocolate'], tags=[621]),\n",
              " TaggedDocument(words=['1', 'ounce', 'melon', 'liqueur', '1/2', 'ounce', 'green', 'crème', 'de', 'menthe', 'liqueur', '1/2', 'ounce', 'white', 'crème', 'de', 'cacao', 'liqueur', '2', 'ounces', 'half-and-half', '2', 'fresh', 'mint', 'leaves', 'fresh', 'raspberry'], tags=[622]),\n",
              " TaggedDocument(words=['1/2', 'ounce', 'crème', 'de', 'cacao', 'liqueur', '1/2', 'ounce', 'peppermint', 'schnapps', '1', 'ounce', 'irish', 'cream', 'liqueur'], tags=[623]),\n",
              " TaggedDocument(words=['1', '1/2', 'ounces', 'gin', '1', 'teaspoon', 'crème', 'de', 'menthe', 'liqueur', '2', 'dashes', 'bitters'], tags=[624]),\n",
              " TaggedDocument(words=['1/2', 'ounce', 'white', 'crème', 'de', 'cacao', '1/2', 'ounce', 'peppermint', 'schnapps'], tags=[625]),\n",
              " TaggedDocument(words=['1/2', 'ounce', 'grenadine', '1/2', 'ounce', 'green', 'crème', 'de', 'menthe', 'liqueur', '1/2', 'ounce', 'peppermint', 'schnapps'], tags=[626]),\n",
              " TaggedDocument(words=['4', 'medium', 'strawberries', '1', '1/2', 'ounces', 'vodka', '3', 'ounces', 'lemonade', 'sliced', 'strawberry'], tags=[627]),\n",
              " TaggedDocument(words=['1', '1/2', 'ounces', 'spiced', 'rum', '1', '1/2', 'ounces', 'orange', 'juice', '3', 'to', '4', 'ounces', 'mountain', 'dew'], tags=[628]),\n",
              " TaggedDocument(words=['1', '19-ounce', 'bottle', 'barbecue', 'sauce', '19', 'ounces', 'hot', 'water', '1', '1/2', 'ounces', 'bourbon', 'whiskey', '1', 'ounce', 'honey', 'whiskey', 'liqueur', '1', 'ounce', 'bbq', 'water', '3/4', 'ounce', 'orange', 'juice', '3', 'ounces', 'hefeweizen', 'beer'], tags=[629]),\n",
              " TaggedDocument(words=['1', 'scoop', 'raspberry', 'sherbet', '1', '1/2', 'ounces', 'uv', 'blue', 'raspberry', 'vodka', '2', 'ounces', 'lemon-lime', 'soda'], tags=[630]),\n",
              " TaggedDocument(words=['2', 'ounces', 'bacardi', 'light', 'rum', '1/2', 'ounce', 'lime', 'juice', '1/2', 'ounce', 'grenadine'], tags=[631]),\n",
              " TaggedDocument(words=['1', '1/2', 'ounces', 'gin', '3/4', 'ounce', 'premium', 'triple', 'sec', '3/4', 'ounce', 'lemon', 'juice'], tags=[632]),\n",
              " TaggedDocument(words=['1', 'dash', 'absinthe', '2', 'ounces', 'gin', '1', 'ounce', 'orange', 'juice', '1', 'to', '1', '1/2', 'teaspoons', 'grenadine', 'orange', 'slice'], tags=[633]),\n",
              " TaggedDocument(words=['1', 'ounce', 'brandy', '1', 'ounce', 'light', 'rum', '1', 'ounce', 'triple', 'sec', '1/2', 'ounce', 'lemon', 'juice', 'lemon', 'twist'], tags=[634]),\n",
              " TaggedDocument(words=['1', '1/2', 'ounces', 'light', 'rum', '3/4', 'ounce', 'orange', 'juice', '1', 'dash', 'grenadine'], tags=[635]),\n",
              " TaggedDocument(words=['2', '750-milliliter', 'bottles', 'red', 'wine', '1', 'cup', 'pomegranate', 'liqueur', '1', '1/4', 'cups', 'water', '2', 'cups', 'sugar', '12', 'whole', 'cloves', '4', 'cinnamon', 'sticks', '1/2', 'teaspoon', 'ground', 'nutmeg', '4', 'lemons', '2', 'oranges'], tags=[636]),\n",
              " TaggedDocument(words=['3', 'ounces', 'cinnamon', 'sticks', '6', 'whole', 'nutmeg', '1/3', 'cup', 'orange', 'peel', '1/3', 'cup', 'lemon', 'peel', '1/4', 'cup', 'allspice', 'berries', '1/4', 'cup', 'whole', 'cloves', '2', 'tablespoons', 'crystallized', 'ginger', '14', '5-inch', 'double-layer', 'cheesecloth', '14', '10-inch', 'kitchen', 'twine'], tags=[637]),\n",
              " TaggedDocument(words=['2', 'medium', 'oranges', '20', 'cloves', '4', 'quarts', 'apple', 'cider', '2', 'quarts', 'cranberry', 'juice', '1', 'tablespoon', 'bitters', '4', 'stick', 'cinnamon', '1', 'tablespoon', 'allspice', '2', 'cups', 'rum', 'cinnamon', 'sticks', 'star', 'anise', 'pods', 'orange', 'slices'], tags=[638]),\n",
              " TaggedDocument(words=['1', '1/2', 'cups', 'dark', 'rum', '1', '1/2', 'cups', 'goldschläger', 'cinnamon', 'schnapps', '4', 'cups', 'apple', 'cider', '4', 'cinnamon', 'sticks', '6', 'whole', 'allspice', 'berries', '10', 'whole', 'cloves', '1', 'orange'], tags=[639]),\n",
              " TaggedDocument(words=['1', '750-milliliter', 'bottle', 'red', 'wine', '2', 'cups', 'pomegranate', 'liqueur', '1', 'cup', 'jägermeister', 'spice', 'liqueur', '12', 'ounces', 'cranberries', '2', 'cups', '0b0bpomegranate', 'arils', '1', '1/2', 'cups', 'cranberry-pomegranate', 'juice', '1', 'cup', 'club', 'soda', '1', 'sachet', 'mulling', 'spices'], tags=[640]),\n",
              " TaggedDocument(words=['12', 'cups', 'apple', 'cider', '1/3', 'cup', 'brown', 'sugar', '1/2', 'teaspoon', 'ground', 'cloves', '1/4', 'teaspoon', 'ground', 'allspice', '3', '3-inch', 'sticks', 'cinnamon', '1', 'small', 'orange', 'star', 'anise'], tags=[641]),\n",
              " TaggedDocument(words=['1', 'medium', 'orange', '8', 'to', '10', 'whole', 'cloves', '3', 'medium', 'cinnamon', '2', 'teaspoons', 'ground', 'ginger', '1/3', 'cup', 'honey', '1/4', 'cup', 'brandy', '750', '-milliliter', 'red', 'wine'], tags=[642]),\n",
              " TaggedDocument(words=['cinnamon', 'sugar', 'lime', 'wedge', '1', '1/2', 'ounces', 'pear', 'vodka', '1', '1/2', 'ounces', 'apple', 'cider', '4', 'to', '5', 'ounces', 'sparkling', 'wine', 'apple', 'slice'], tags=[643]),\n",
              " TaggedDocument(words=['1', 'cup', 'brandy', '4', 'cups', 'water', '10', 'cardamom', 'pods', '4', 'cinnamon', 'sticks', '2', 'tablespoons', 'orange', 'peel', '1', '1/2-inch', 'piece', 'fresh', 'ginger', '2', 'tablespoons', 'whole', 'cloves', '2', 'teaspoons', 'pure', 'vanilla', 'extract', '1/2', 'teaspoon', 'nutmeg', '1', '750-milliliter', 'bottle', 'dry', 'red', 'wine', '1', 'cup', 'vodka', '2/3', 'cup', 'brown', 'sugar', 'raisins', 'almonds'], tags=[644]),\n",
              " TaggedDocument(words=['2', 'to', '3', 'pears', '1', 'lemon', '2', 'cups', 'cranberries', '1', 'cup', 'pomegranate', 'arils', '1', '750-milliliter', 'bottle', 'white', 'wine', '1/2', 'cup', 'pear', 'brandy', '1/2', 'cup', 'white', 'cranberry', 'juice', '1/2', 'cup', 'sugar', '12', 'to', '24', 'ounces', 'ginger', 'beer', 'fresh', 'rosemary', 'sprigs'], tags=[645]),\n",
              " TaggedDocument(words=['1', 'cup', 'raspberries', '1', 'cup', 'water', '2', 'cups', 'sugar', '1', 'tablespoon', 'lavenderbuds', '6', 'blueberries', '1', '1/2', 'ounces', 'raspberry-lavender', 'syrup', '1', '1/2', 'ounces', 'tequila', '1/2', 'ounce', 'lime', 'juice', '2', 'drops', 'acid', 'phosphate', '2', 'to', '3', 'ounces', 'lavender', 'soda', 'fresh', 'berries'], tags=[646]),\n",
              " TaggedDocument(words=['1', 'cup', 'water', '1', 'cup', 'granulated', 'sugar', '1/2', 'cup', 'borage', 'leaves', '10', 'to', '12', 'borage', 'flowers', '1', 'cup', 'water', '1', '1/2', 'ounces', 'premium', 'gin', '1/2', 'ounce', 'elderflower', 'liqueur', '1/2', 'ounce', 'borage', 'simple', 'syrup', '1', 'splash', 'lime', 'juice', '1', 'splash', 'club', 'soda', 'ice', 'cube'], tags=[647]),\n",
              " TaggedDocument(words=['3', 'cups', 'water', '1', 'cup', 'sugar', '1/4', 'cup', 'basil', 'leaves', '1/4', 'cup', 'rosemary', 'leaves', '2', '2-inch', 'pieces', 'orange', 'peel', '4', 'cups', 'orange', 'juice', '6', 'ounces', 'basil-rosemary', 'orangeade', '6', 'ounces', 'wheat', 'ale', 'orange', 'slice'], tags=[648]),\n",
              " TaggedDocument(words=['5', 'basil', 'leaves', '1/2', 'ounce', 'lemon', 'juice', '1/2', 'ounce', 'simple', 'syrup', '2', 'ounces', 'plymouth', 'gin', '1/2', 'ounce', 'elderflower', 'liqueur', '1', 'dash', 'orange', 'bitters', '1', 'dash', 'peychauds', 'bitters', 'orange', 'twist'], tags=[649]),\n",
              " TaggedDocument(words=['1', 'tablespoon', 'simple', 'syrup', '5', 'dashes', 'bitters', '2', 'slices', 'peach', '2', '1/2', 'ounces', 'bourbon', 'whiskey', '2', 'blackberries', '1', 'splash', 'sparkling', 'water'], tags=[650]),\n",
              " TaggedDocument(words=['granulated', 'sugar', '1', '1/2', 'ounces', 'vodka', '3/4', 'ounce', 'lemon', 'juice', '1/2', 'ounce', 'simple', 'syrup', 'lemon', 'twist'], tags=[651]),\n",
              " TaggedDocument(words=['1', '1/2', 'ounces', 'gin', '3/4', 'ounce', 'lemon', 'juice', '1/2', 'ounce', 'lavender', 'syrup', '3', 'to', '5', 'ounces', 'club', 'soda', 'lemon', 'wedge'], tags=[652]),\n",
              " TaggedDocument(words=['1', 'pound', 'tomatoes', '1', 'sprig', 'fresh', 'basil', '1', 'sprig', 'fresh', 'oregano', '1', '750-milliliter', 'bottle', 'vodka', '1', 'cup', 'water', '1', 'cup', 'sugar', '1', 'sprig', 'fresh', 'basil', '3', 'lime', 'wedges', '2', 'cherry', 'tomatoes', '1/2', 'ounce', 'basil', 'syrup', '2', 'ounces', 'tomato', 'vodka', '1', '1/2', 'ounces', 'soda', 'water'], tags=[653]),\n",
              " TaggedDocument(words=['3/4', 'cup', 'elderflower', 'liqueur', '1', '1/2', 'cups', 'cranberry', 'juice', '1/2', 'cup', 'lemon', 'juice', '1/2', 'cup', 'simple', 'syrup', '1', '750-milliliter', 'bottle', 'sparkling', 'wine', '1', '1/2', 'cups', 'club', 'soda', 'seasonal', 'fruit'], tags=[654]),\n",
              " TaggedDocument(words=['1', '750-milliliter', 'bottle', 'premium', 'vodka', '1', 'sprig', 'fresh', 'rosemary', '2', 'sprigs', 'lavender'], tags=[655]),\n",
              " TaggedDocument(words=['1', '750-milliliter', 'bottle', 'vodka', '10', 'drops', 'food', 'coloring', '10', 'drops', 'food', 'coloring', '8', 'drops', 'food', 'coloring'], tags=[656]),\n",
              " TaggedDocument(words=['1/2', 'vanilla', 'bean', '1/2', 'ounce', 'lavender', 'simple', 'syrup', '2', 'ounces', 'rosemary-infused', 'vodka', '3/4', 'ounce', 'dry', 'vermouth', '1', 'splash', 'lemon', 'juice', 'lemon', 'twist'], tags=[657]),\n",
              " TaggedDocument(words=['2', 'cups', 'pumpkin', '1/4', 'cup', 'honey', '2', 'bay', 'leaves', '1', 'cup', 'water', '2', 'cups', 'vodka', '1', 'ounce', 'spiced', 'syrup', '2', 'slices', 'ginger', '2', 'ounces', 'spiced', 'pumpkin', 'vodka'], tags=[658]),\n",
              " TaggedDocument(words=['1/2', 'kiwi', '1', 'teaspoon', 'simple', 'syrup', '1', '1/2', 'ounces', 'vodka', 'kiwi', 'slice'], tags=[659]),\n",
              " TaggedDocument(words=['cinnamon', 'sugar', '2', 'ounces', 'pumpkin', 'vodka', '1', 'ounce', 'irish', 'cream', 'liqueur', '1', 'splash', 'half-and-half', 'cinnamon', 'stick'], tags=[660]),\n",
              " TaggedDocument(words=['3', 'slices', 'bacon', '375', 'milliliters', 'vodka', '4', 'ounces', 'hard', 'cider', '1', 'ounce', 'vodka', '1', 'splash', 'maple', 'syrup', '1', 'dash', 'bitters', 'brandied', 'cherry', 'bacon', 'slice'], tags=[661]),\n",
              " TaggedDocument(words=['1/2', 'cup', 'ice', '1/2', 'cup', 'strawberries', '1', 'scoop', 'vanilla', 'ice', 'cream', '1', 'ounce', 'vodka', '1/2', 'ounce', 'white', 'crème', 'de', 'cacao', 'liqueur', 'strawberry'], tags=[662]),\n",
              " TaggedDocument(words=['2', 'scoops', 'vanilla', 'ice', 'cream', '1', 'ounce', 'spiced', 'rum', '1/2', 'ounce', 'dark', 'crème', 'de', 'cacao', 'liqueur', '2', 'ounces', 'stout', 'beer', '1', 'tablespoon', 'chocolate', 'syrup', '1', 'tablespoon', 'salted', 'caramel', 'syrup', 'whipped', 'cream', 'bacon', 'crumbles'], tags=[663]),\n",
              " TaggedDocument(words=['1', 'spritz', 'yellow', 'chartreuse', 'liqueur', '2', 'ounces', 'jâgermeister', 'liqueur', '4', 'ounces', 'root', 'beer', '1', 'scoop', 'vanilla', 'ice', 'cream', '3', 'dashes', 'root', 'beer', 'bitters', 'orange', 'peel'], tags=[664]),\n",
              " TaggedDocument(words=['1', '1/2', 'ounces', 'vodka', '3/4', 'ounce', 'crème', 'de', 'banane', 'liqueur', '3/4', 'ounce', 'crème', 'de', 'cacao', 'liqueur', 'banana', 'slices'], tags=[665]),\n",
              " TaggedDocument(words=['2', 'ounces', 'marshmallow', 'vodka', '2', 'ounces', 'chocolate', 'liqueur', '1', 'ounce', 'cream', '4', 'mini', 'marshmallows', 'cocoa', 'powder'], tags=[666]),\n",
              " TaggedDocument(words=['1', '1/2', 'ounces', 'brandy', '1', 'ounce', 'vodka', '1', 'ounce', 'dark', 'crème', 'de', 'cacao', 'liqueur', '2', 'to', '4', 'scoops', 'vanilla', 'ice', 'cream'], tags=[667]),\n",
              " TaggedDocument(words=['1', 'cup', 'ice', '1', 'ounce', 'dark', 'rum', '1', 'ounce', 'coffee', 'liqueur', '1', 'ounce', 'dark', 'crème', 'de', 'cacao', 'liqueur', '2', 'ounces', 'cream', 'of', 'coconut', '2', 'ounces', 'milk'], tags=[668]),\n",
              " TaggedDocument(words=['1', 'ounce', 'vanilla', 'vodka', '1', 'ounce', 'galliano', 'lautentico', 'liqueur', '1', 'ounce', 'cream', '3', 'to', '5', 'ounces', 'root', 'beer', 'whipped', 'cream', 'maraschino', 'cherry'], tags=[669]),\n",
              " TaggedDocument(words=['cocoa', 'powder', '2', 'ounces', 'vodka', '1', '1/2', 'ounces', 'crème', 'de', 'cacao', 'chocolate', 'candy'], tags=[670]),\n",
              " TaggedDocument(words=['1/2', 'cup', 'chocolate', '1', '1/2', 'ounces', 'vodka', '3/4', 'ounce', 'white', 'crème', 'de', 'cacao', 'liqueur', '1', 'splash', 'orange', 'liqueur'], tags=[671]),\n",
              " TaggedDocument(words=['1', 'ounce', 'brandy', '1', 'ounce', 'dark', 'crème', 'de', 'cacao', 'liqueur', '1', 'ounce', 'cream', 'nutmeg'], tags=[672]),\n",
              " TaggedDocument(words=['1/2', 'ounce', 'crème', 'de', 'cacao', 'liqueur', '1/2', 'ounce', 'coffee', 'liqueur', '1/2', 'ounce', 'orange', 'juice'], tags=[673]),\n",
              " TaggedDocument(words=['2', 'ounces', 'cointreau', 'orange', 'liqueur', '2', 'ounces', 'coffee', 'liqueur', '2', 'ounces', 'half-and-half'], tags=[674]),\n",
              " TaggedDocument(words=['1', '1/2', 'ounces', 'berry', 'vodka', '3/4', 'ounce', 'white', 'crème', 'de', 'cacao', '3/4', 'ounce', 'lemonade', 'lemon', 'peel'], tags=[675]),\n",
              " TaggedDocument(words=['1', 'ounce', 'melon', 'liqueur', '1', 'ounce', 'triple', 'sec', '1', 'ounce', 'lemon', 'juice', 'honeydew', 'melon', 'ball'], tags=[676]),\n",
              " TaggedDocument(words=['1/3', 'cup', 'rooibos', 'tea', '3', 'tablespoons', 'pineapple-orange-banana', 'juice', '1', 'tablespoon', 'lemon', 'zest', 'syrup', '1/4', 'to', '1/3', 'cup', 'sparkling', 'water'], tags=[677]),\n",
              " TaggedDocument(words=['1', '1/2', 'ounces', 'vodka', '4', 'ounces', 'lemonade', '1/2', 'ounce', 'black', 'raspberry', 'liqueur', 'honeydew', 'melon', 'balls'], tags=[678]),\n",
              " TaggedDocument(words=['2', 'ounces', 'melon', 'liqueur', '1/2', 'ounce', 'lemon', 'juice', '1', 'teaspoon', 'simple', 'syrup', 'maraschino', 'cherry'], tags=[679]),\n",
              " TaggedDocument(words=['4', 'ounces', 'ty', 'ku', 'liqueur', '2', 'ounces', 'pomegranate', 'juice', '4', 'ounces', 'rose', 'nectar', 'lime', 'wedges'], tags=[680]),\n",
              " TaggedDocument(words=['granulated', 'sugar', '1', 'ounce', 'citrus', 'vodka', '2', 'ounces', 'melon', 'liqueur', '1/2', 'ounce', 'elderflower', 'liqueur', '3/4', 'ounce', 'lemon', 'juice', 'melon', 'ball'], tags=[681]),\n",
              " TaggedDocument(words=['4', 'slices', 'cucumber', '2', 'ounces', 'melon', 'vodka', '1/2', 'ounce', 'simple', 'syrup'], tags=[682]),\n",
              " TaggedDocument(words=['1/2', '12-ounce', 'can', 'or', 'bottle', 'beer', '6', 'ounces', 'lemonade', 'lemon', 'slice'], tags=[683]),\n",
              " TaggedDocument(words=['1', 'cup', 'lilac', 'simple', 'syrup', '1', 'cup', 'lemon', 'juice', '2', 'cups', 'water', '6', 'ounces', 'light-flavored', 'beer', '6', 'ounces', 'lilac', 'lemonade', 'lemon', 'slice'], tags=[684]),\n",
              " TaggedDocument(words=['1', 'ounce', 'tequila', '2', 'ounces', 'pineapple', 'juice', '1/2', 'ounce', 'lemon', 'juice', '1/2', 'ounce', 'jalapeño', 'simple', 'syrup', '6', 'ounces', 'pale', 'ale', 'beer'], tags=[685]),\n",
              " TaggedDocument(words=['ice', '4', 'ounces', 'soda', 'water', '4', 'ounces', 'lemonade', '1/4', 'to', '1/2', 'teaspoon', 'bitters', '1', 'slice', 'lemon'], tags=[686]),\n",
              " TaggedDocument(words=['4', 'ounces', 'champagne', '4', 'ounces', 'stout'], tags=[687]),\n",
              " TaggedDocument(words=['6', 'ounces', 'blue', 'moon', 'beer', '6', 'ounces', 'guinness', 'stout'], tags=[688]),\n",
              " TaggedDocument(words=['coarse', 'salt', '2', 'ounces', 'blanco', 'tequila', '6', 'ounces', 'mexican', 'beer', 'lime', 'wedge'], tags=[689]),\n",
              " TaggedDocument(words=['1/2', 'cup', 'butter', '3', 'cups', 'self-rising', 'flour', '1/4', 'cup', 'sugar', '1/2', 'teaspoon', 'salt', '1', '12-ounce', 'can', 'beer'], tags=[690]),\n",
              " TaggedDocument(words=['1', 'large', 'lime', 'coarse', 'salt', '1', '12-ounce', 'bottle', 'light', 'lager', 'lime', 'wedge'], tags=[691]),\n",
              " TaggedDocument(words=['2', 'ounces', 'yukon', 'jack', 'splash', 'to', '1/2', 'ounce', 'lime', 'cordial'], tags=[692]),\n",
              " TaggedDocument(words=['2', 'teaspoons', 'chili', 'powder', '1', '1/2', 'teaspoons', 'salt', '1', 'teaspoon', 'onion', 'powder', '1', 'whole', 'chicken', '1', 'can', 'beer', '2', 'tablespoons', 'chopped', 'onion', '2', 'tablespoons', 'apple', 'cider', 'vinegar', '3', 'cloves', 'garlic'], tags=[693]),\n",
              " TaggedDocument(words=['6', 'ounceschilled', 'orange', 'juice', '6', 'ounceschilled', 'light', 'beer', '1', 'ounceamaretto', 'garnish', '1', 'slice', 'of', 'orange0b'], tags=[694]),\n",
              " TaggedDocument(words=['6', 'ounces', 'beer', '2', 'teaspoons', 'brown', 'sugar', '2', 'teaspoons', 'paprika', '1', 'teaspoon', 'onion', 'powder', '1', 'teaspoon', 'dried', 'thyme', 'leaves', '1', 'teaspoon', 'kosher', 'salt', '1/2', 'teaspoon', 'garlic', 'powder', '1/2', 'teaspoon', 'sage', '1/4', 'teaspoon', 'cayenne', 'pepper', '1/4', 'teaspoon', 'ground', 'cumin', '1', 'pound', 'whole', 'chicken', '3', 'to', '4', 'tablespoons', 'worcestershire', 'sauce'], tags=[695]),\n",
              " TaggedDocument(words=['1', 'egg', '1', 'cup', 'beer', '1', 'cup', 'cake', 'flour', '1/4', 'teaspoon', 'salt', '1/4', 'teaspoon', 'paprika', '1', 'to', '2', 'pounds', 'onions'], tags=[696]),\n",
              " TaggedDocument(words=['3', 'fresh', 'mint', 'leaves', '1', '1/2', 'ounces', 'ginger', 'simple', 'syrup', '10', 'ounces', 'club', 'soda'], tags=[697]),\n",
              " TaggedDocument(words=['1', 'lime', 'wedge', '1/4', 'cup', 'salt', 'for', 'the', 'rim', 'of', 'the', 'glass', '1light', 'beermexican', 'beer', 'is', 'best', '1/4', 'cup', 'tomato', 'juice', 'juice', 'of1/2', 'lime', '3', 'dashes', 'ofworcestershire', 'sauce', '2', 'dashes', 'soy', 'sauce', 'hot', 'sauce', 'to', 'taste', 'ground', 'black', 'pepperto', 'taste'], tags=[698]),\n",
              " TaggedDocument(words=['1/3', 'ounce', 'galliano', 'lautentico', 'liqueur', '1/3', 'ounce', 'orange', 'curaçao', 'liqueur', '1/3', 'ounce', 'cream'], tags=[699]),\n",
              " TaggedDocument(words=['4', 'cups', 'ice', '1', 'can', 'frozen', 'concentrated', 'limeade', '3/4', 'cup', 'tequila', '3/4', 'cup', 'mexican', 'light', 'beer', '1', 'lime', 'coarse', 'salt'], tags=[700]),\n",
              " TaggedDocument(words=['7', 'to', '8', 'large', 'elderflowers', 'honey', 'or', '1', '1/2', 'pounds', 'granulated', 'sugar', '4', 'cups', 'water', '12', 'cups', 'water', '1/4', 'cup', 'cider', 'vinegar', '1/4', 'teaspoon', 'wine'], tags=[701]),\n",
              " TaggedDocument(words=['2', '1/2', 'ounces', 'gin', '1', 'dash', 'scotch', 'whisky', 'lemon', 'twist'], tags=[702]),\n",
              " TaggedDocument(words=['1', '1/2', 'ounces', 'scotch', 'whisky', '1/2', 'ounce', 'amaretto', 'liqueur'], tags=[703]),\n",
              " TaggedDocument(words=['2', 'ounces', 'scotch', 'whisky', '1', 'to', '6', 'ounces', 'club', 'soda'], tags=[704]),\n",
              " TaggedDocument(words=['1', '1/2', 'ounces', 'whiskey', '2', 'ounces', 'club', 'soda', '2', 'ounces', 'ginger', 'ale', 'lemon', 'twist'], tags=[705]),\n",
              " TaggedDocument(words=['1', 'ounce', 'lime', 'juice', '3', 'dashes', 'hot', 'sauce', '3', 'dashes', 'soy', 'sauce', '2', 'dashes', 'worcestershire', 'sauce', 'ground', 'black', 'pepper', '1', '12-ounce', 'bottle', 'mexican', 'beer', 'lime', 'slice'], tags=[706]),\n",
              " TaggedDocument(words=['1/2', 'cup', 'allspice', '1/2', 'cup', 'brown', 'sugar', '2', 'bunches', 'scallions', '6', 'to', '8', 'cloves', 'garlic', '4', 'to', '6', 'scotch', 'bonnet', 'peppers', '2', 'tablespoons', 'soy', 'sauce', '1', 'tablespoon', 'dried', 'thyme', '1', 'teaspoon', 'cinnamon', '1/2', 'teaspoon', 'nutmeg', '1', 'teaspoon', 'kosher', 'salt', '1', 'teaspoon', 'ground', 'black', 'pepper'], tags=[707]),\n",
              " TaggedDocument(words=['1', 'ounce', 'campari', '1/2', 'ounce', 'raspberry', 'liqueur', '1', 'ounce', 'lime', 'juice', '1/2', 'ounce', 'honey', 'syrup', '1', '1/2', 'ounces', 'ipa', 'beer', 'orange', 'slice', 'lime', 'slice'], tags=[708]),\n",
              " TaggedDocument(words=['4', 'ounces', 'ice', '3', 'ounces', 'wine', '3', 'ounces', 'soda', 'seasonal', 'fruit'], tags=[709]),\n",
              " TaggedDocument(words=['1', '1/2', 'ounces', 'sloe', 'gin', '4', 'to', '6', 'ounces', 'orange', 'juice', 'orange', 'slice'], tags=[710]),\n",
              " TaggedDocument(words=['1/4', 'cup', 'coarse', 'salt', 'for', 'the', 'rim', '1', 'cup', 'ice', 'cubes', 'or', 'coarsely', 'crushed', 'ice', '1/4', 'cup', 'fresh-squeezed', 'lime', 'juice', '1', 'to', '2', 'dashes', 'bottled', 'hot', 'chili', 'sauce', 'such', 'as', 'tabasco', 'tapatio', 'or', 'cholula', '1', 'to', '2', 'dashes', 'soy', 'sauce', '1', 'to', '2', 'dashes', 'worcestershire', 'sauce', '1', 'bottle', 'beer', 'cold', 'preferably', 'a', 'dark', 'mexican', 'beer', 'garnish', '1', 'lime', 'wedge'], tags=[711]),\n",
              " TaggedDocument(words=['1', '1/2', 'ounces', 'gin', '1/2', 'ounce', 'crème', 'de', 'framboise', 'liqueur', '1/2', 'ounce', 'lime', 'juice', '4', 'ounces', 'ginger', 'ale', 'lime', 'wedge'], tags=[712]),\n",
              " TaggedDocument(words=['1', '1/2', 'ounces', 'tennessee', 'whiskey', '1', 'ounce', 'triple', 'sec', '1', 'ounce', 'lemon', 'juice', '4', 'ounces', 'lemon-lime', 'soda', 'lemon', 'slices'], tags=[713]),\n",
              " TaggedDocument(words=['1', 'ounce', 'cake-flavored', 'vodka', '1', 'ounce', 'spiced', 'whiskey', '2', 'ounces', 'apple', 'juice', '1/2', 'ounce', 'maple', 'syrup', 'ground', 'cinnamon'], tags=[714]),\n",
              " TaggedDocument(words=['1', 'teaspoon', 'honey', '2', 'ounces', 'whiskey', '5', 'ounces', 'apple', 'cider', 'lemon', 'wedge', 'cinnamon', 'stick', '2', 'to', '3', 'whole', 'cloves'], tags=[715]),\n",
              " TaggedDocument(words=['1/2', 'cup', 'jack', 'daniels', 'tennessee', 'whiskey', '1', 'small', 'onion', '4', 'cloves', 'garlic', '2', 'cups', 'ketchup', '3/4', 'cup', 'molasses', '1/2', 'cup', 'brown', 'sugar', '1/3', 'cup', 'vinegar', '1/4', 'cup', 'tomato', 'paste', '3', 'tablespoons', 'worcestershire', 'sauce', '1', '1/2', 'teaspoons', 'kosher', 'salt', '1/2', 'teaspoon', 'pepper', '1', 'teaspoon', 'liquid', 'smoke', '1/2', 'teaspoon', 'tabasco', 'sauce'], tags=[716]),\n",
              " TaggedDocument(words=['8', 'ounces', 'apple', 'cider', '1', '1/2', 'ounces', 'bourbon', 'whiskey', '1', '1/2', 'ounces', 'cinnamon', 'schnapps', '1/2', 'ounce', 'lemon', 'juice', '1', 'teaspoon', 'agave', 'nectar', 'apple', 'slice'], tags=[717]),\n",
              " TaggedDocument(words=['2', 'ounces', 'tuaca', 'liqueur', '1/2', 'cup', 'apple', 'cider', 'whipped', 'cream', 'cinnamon', 'stick'], tags=[718]),\n",
              " TaggedDocument(words=['6', 'ouncesbeer', '6', 'ounces', 'lemonade', 'garnish', 'lemon', 'slice'], tags=[719]),\n",
              " TaggedDocument(words=['12', 'ounces', 'beer', '1', 'drop', 'green', 'food', 'coloring'], tags=[720]),\n",
              " TaggedDocument(words=['3', 'tablespoons', 'sweetpaprika', '3', 'tablespoons', 'garlic', 'powder', '1', 'tablespoon', 'ground', 'allspice', '1', '1/2', 'teaspoons', 'ground', 'nutmeg', '3/4', 'teaspoon', 'cayenne', 'pepper', 'more', 'or', 'less', 'depending', 'on', 'preferred', 'spice', 'level', '1', 'tablespoon', 'kosher', 'salt', '3/4', 'teaspoon', 'freshly', 'ground', 'black', 'pepper'], tags=[721]),\n",
              " TaggedDocument(words=['70bounces', 'chocolate', 'stoutmore', 'or', 'less', 'to', 'fill', 'glass', '70bounces', 'fruited', 'lambicmore', 'or', 'less', 'to', 'fill', 'glass'], tags=[722]),\n",
              " TaggedDocument(words=['1', '1/2', 'ounces', 'bourbon', 'whiskey', '1', 'ouncesweet', 'vermouth', '1', 'ounce', 'campari', 'garnish', 'orange', 'twist'], tags=[723]),\n",
              " TaggedDocument(words=['1', 'cup', '/', '240', 'milliliters', 'jack', 'daniels', 'tennessee', 'whiskey', '1', 'cup', '/', '240', 'milliliters', 'ketchup', '1/2', 'cup', '/', '120', 'milliliters', 'sugar', 'dark', 'brown', '1/4', 'cup', '/', '60', 'milliliters', 'vinegar', '1', 'tablespoon', '/', '15', 'milliliters', 'lemon', 'juice', '2', 'teaspoons', '/', '10', 'milliliters', 'worcestershire', 'sauce', '3', 'cloves', 'garlic', 'minced', '1/2', 'teaspoon', '/', '25', 'milliliters', 'dry', 'mustard', '1/2', 'teaspoon', '/', '25', 'milliliters', 'salt', '1/2', 'teaspoon', '/', '25', 'milliliters', 'black', 'pepper'], tags=[724]),\n",
              " TaggedDocument(words=['6', 'cups', 'rice', 'krispies', 'cereal', 'about', '160', 'grams', '1', 'stick/4', 'ounces', 'unsalted', 'butter', '10', 'ounces', 'marshmallows', '1/4', 'teaspoon', 'kosher', 'salt', '6', 'ounces', 'white', 'chocolate', 'melting', 'wafers', 'food', 'coloring', 'sprinkles'], tags=[725]),\n",
              " TaggedDocument(words=['2', '14-ounce', 'cans', 'condensed', 'milk', '1', '12-ounce', 'can', 'evaporated', 'goat', '’', 's', 'milk', 'or', 'cow', '’', 's', 'milk', '6', 'tablespoons', 'butter', 'unsalted', '2', 'teaspoons', 'vanilla', 'extractpure', '2', 'teaspoons', 'cinnamon', '1', 'pinch', 'of', 'salt', 'decoration', 'food', 'coloring', 'optional', 'flavorings'], tags=[726]),\n",
              " TaggedDocument(words=['1', '10', 'oz', 'bag', 'marshmallows', '3', 'tablespoons', 'butter', '3', 'cups', 'kellogs', 'rice', 'krispies', '1/4', 'cup', 'rainbow', 'sprinkles', 'plus', 'more', 'for', 'garnish'], tags=[727]),\n",
              " TaggedDocument(words=['1/2', 'cup', 'white', 'chocolate', 'chips', 'or', 'white', 'candy', 'coating', '1', 'pound', 'rainbow', 'licorice', '1', 'cup', 'cold', 'water', 'divided', '3/4', 'ounce/3', 'envelopes', 'unflavored', 'powdered', 'gelatin', '1/3', 'cup', 'light', 'corn', 'syrup', '2', '1/4', 'cup', 'sugar', '1/8', 'teaspoon', 'salt', '1', 'tablespoon', 'vanilla', 'extract', 'optional', 'blue', 'food', 'coloring'], tags=[728]),\n",
              " TaggedDocument(words=['for', 'the', 'rice', 'krispie', 'treats', '1/2', 'cup', 'unsalted', 'butter', '3/4', 'cup', 'tahini', 'stirred', '1/3', 'cup', 'sweetened', 'condensed', 'milk', '10-ounce', 'bag', 'mini', 'marshmallows', 'plus', '1', 'cup', '1', 'tablespoon', 'vanilla', '1', '1/2', 'teaspoons', 'kosher', 'salt', '6', 'cups', 'rice', 'krispies', 'for', 'the', 'milk', 'chocolate', 'glaze', '3/4', 'cupmilk', 'chocolate', 'chips', '1', '1/2teaspoonslight', 'corn', 'syrup', '6', 'tablespoons', 'unsalted', 'butter', '1/4teaspoonkosher', 'salt', 'flaky', 'sea', 'salt', 'for', 'serving', 'optional'], tags=[729]),\n",
              " TaggedDocument(words=['for', 'the', 'cupcakes', '1', '1/2', 'cups', 'all-purpose', 'flour', '1', '1/2', 'teaspoons', 'baking', 'powder', '1/4', 'teaspoon', 'salt', '2', 'eggs', '2/3', 'cup', 'sugar', '3/4', 'cup', 'unsalted', 'butter', 'melted', '2', 'teaspoons', 'vanilla', 'extract', '1/2', 'cup', 'milk', 'for', 'the', 'buttercream', 'frosting', '1', 'cup', 'unsalted', 'butter', 'softened', '3', '1/3', 'cups', 'powdered', 'sugar', '1/4', 'cup', 'heavy', 'cream', '2', 'teaspoons', 'vanilla', 'extract', '1/4', 'teaspoon', 'salt', 'for', 'the', 'unicorn', 'decorations', 'pastel-colored', 'sprinkles', 'pink', 'sanding', 'sugar', '12', 'mini', 'marshmallows', '12', 'gold', 'spiral', 'candles'], tags=[730]),\n",
              " TaggedDocument(words=['1', '1/2', 'ounces', 'white', 'overproof', 'rum', '1', '1/2', 'ounces', 'pineapple', 'juice', '1', '1/2', 'ounces', 'orange', 'juice', '1/2', 'ounce', 'lime', 'juice', '1/2', 'ounce', 'grenadine', 'garnish', 'pineapple', 'wedge', 'garnish', 'maraschino', 'cherries'], tags=[731]),\n",
              " TaggedDocument(words=['for', 'the', 'cocktail', '1', 'to', '2', 'ouncesrum', '1', 'to', '2', 'ounces', 'coffee-friendly', 'liqueurroom', 'temperature', 'kahlua', 'amaretto', 'or', 'cointreau', '3', 'ounces', 'dark', 'brewed', 'coffee', 'lukewarm', 'for', 'the', 'glass', '2', 'tablespoon', 'lemon', 'juice', '2', 'tablespoons', 'sugar', 'brown', 'sugar', 'or', 'spiced', 'sugar', '1', 'pinch', 'groundcinnamon', '1', 'pinchground', 'nutmeg', 'garnishes', 'optional', 'choices', 'whipped', 'creamor', 'heavy', 'cream', 'to', 'taste', 'ground', 'cinnamon', 'ground', 'nutmeg', 'zest', 'of', 'lemon', 'lime', 'or', 'orange', 'chocolate', 'shavings', 'chocolate', 'syrup', 'brandied', 'cherries', 'or', 'maraschino', 'cherries'], tags=[732]),\n",
              " TaggedDocument(words=['2', 'ounces', 'uncle', 'nearest', '1856', 'tennessee', 'whiskey', '1', 'ounce', 'foro', 'amaro', 'or', 'averna', '2', 'dashes', 'chocolate', 'bitters', '1/2', 'to', '1', 'ounce', 'club', 'soda', '1', 'bay', 'leaf', 'garnish', 'orange', 'twist', 'and', 'bay', 'leaf'], tags=[733]),\n",
              " TaggedDocument(words=['1', '1/2', 'ounces', 'cognac', '1/2', 'ounce', 'brandy-based', 'orange', 'liqueur', '1', 'ounce', 'orange', 'juice', '2', 'to', '3', 'ounces', 'ginger', 'ale', 'lime', 'twist', 'orange', 'wheel'], tags=[734]),\n",
              " TaggedDocument(words=['2', 'ounces', 'unsweetened', 'chocolate', '1/3', 'cup', 'white', 'granulated', 'sugar', '4', 'cups', 'whole', 'milk', '1', 'pinch', 'salt', '1/2', 'teaspoon', 'vanilla', 'extract', 'garnish', 'marshmallow', 'creme', 'or', 'fluff', 'or', 'whipped', 'cream'], tags=[735]),\n",
              " TaggedDocument(words=['32', 'ounces', 'cherry', 'juice', '8', 'ounces', 'bourbon', 'whiskey', '1/4', 'teaspoon', 'cinnamon', '1/8', 'teaspoon', 'nutmeg', 'pinch', 'allspice', '1/2', 'ounce', 'root', 'beer', 'garnish', 'cinnamon', 'sticks', 'garnish', 'orange', 'slices'], tags=[736]),\n",
              " TaggedDocument(words=['1', 'bottle', 'red', 'wine', 'optional', '1', '1/2', 'cup', 'of', 'bourbon', 'or', 'vodka', '1/2', 'cup', 'sugar', '2', 'tablespoons', 'orange', 'zest', '2', 'tablespoons', 'raisins', 'plus', '1', 'teaspoon', 'for', 'serving', '1', 'tablespoon', 'cardamom', 'pods', 'green', '2', 'tablespoons', 'ginger', 'root', 'sliced', '1', 'stick', 'cinnamon', '8', 'cloves', '2', 'tablespoons', 'almonds', 'blanchedandslivered', 'garnish', 'orange', 'slices'], tags=[737]),\n",
              " TaggedDocument(words=['1', '1/2', 'ounces', 'somrus', 'cream', 'liqueur', '1', 'ounce', 'gin', '1/2', 'ounce', 'limoncello', '1', 'egg', 'white', '3', 'drops', 'orange', 'blossom', 'water', '2', 'drops', 'rose', 'water', '1/2', 'teaspoon', 'superfine', 'sugar', '1/2', 'scoop', 'of', 'ice'], tags=[738]),\n",
              " TaggedDocument(words=['1', '1/2', 'ounces', 'irish', 'whiskey', '3/4', 'ounce', 'sweet', 'vermouth', '2', 'dashes', 'bitters', 'maraschino', 'cherry'], tags=[739]),\n",
              " TaggedDocument(words=['2', 'ounces', 'bourbon', 'whiskey', '1', 'splash', 'mineral', 'water'], tags=[740]),\n",
              " TaggedDocument(words=['2', '1/2', 'ounces', 'gin', '1/2', 'ounce', 'dry', 'vermouth', '1', 'dash', 'bitters', 'lemon', 'twist'], tags=[741]),\n",
              " TaggedDocument(words=['1', '1/2', 'ounces', 'brandy', '3/4', 'ounce', 'coffee', 'liqueur'], tags=[742]),\n",
              " TaggedDocument(words=['1', 'sugar', 'cube', '3', 'dashes', 'bitters', '2', 'ounces', '0bbourbon', 'or', 'rye', 'whiskey', 'orange', 'peel', 'maraschino', 'cherry'], tags=[743]),\n",
              " TaggedDocument(words=['1', '1/2', 'ounces', 'bourbon', 'whiskey', '1', 'ounce', 'lemon', 'juice', '1/2', 'ounce', 'simple', 'syrup', '2', 'ounces', 'club', 'soda', 'maraschino', 'cherry', 'orange', 'slice'], tags=[744]),\n",
              " TaggedDocument(words=['4', 'to', '5', 'mint', 'sprigs', '2', 'sugar', 'cubes', '2', '1/2', 'ounces', 'bourbon', 'whiskey', 'mint', 'sprig'], tags=[745]),\n",
              " TaggedDocument(words=['2', 'ounces', 'blended', 'whiskey', '1/2', 'ounce', 'triple', 'sec', '1/2', 'teaspoon', 'superfine', 'sugar', '1', 'dash', 'bitters', 'orange', 'twist'], tags=[746]),\n",
              " TaggedDocument(words=['1', '1/2', 'ounces', 'rye', 'whiskey', '3/4', 'ounce', 'dry', 'vermouth', '3/4', 'ounce', 'pineapple', 'juice'], tags=[747]),\n",
              " TaggedDocument(words=['6', 'ripe', 'sweet', 'cherries', '1/4', 'cup', 'gin', '2', 'teaspoons', 'lime', 'juice', 'or', 'to', 'taste', 'tonic', 'water0b', 'to', 'taste', 'sliced', 'lime', 'optional'], tags=[748]),\n",
              " TaggedDocument(words=['3', 'ounces', 'of', 'white', 'port', '3', 'ounces', 'of', 'tonic', 'water', '1', 'orange', 'slice', '1/2', 'glass', 'of', 'ice'], tags=[749]),\n",
              " TaggedDocument(words=['2', 'ounces', 'campari', '6', 'ounces', 'soda', 'water', 'lemon', 'slice'], tags=[750]),\n",
              " TaggedDocument(words=['1', 'ounce', 'coconut', 'rum', '1', 'ounce', 'jägermeister', '1', 'ounce', 'pineapple', 'juice'], tags=[751]),\n",
              " TaggedDocument(words=['1', '750', 'ml', 'bottle', 'white', 'wine', 'chardonnay', 'viognier', 'riesling', 'gewurztraminer', 'sauvignon', 'blanc', '1', 'medium', 'orange', 'sliced', 'into', 'wedges', '1', 'lemon', 'sliced', 'into', 'wedges', '1', 'fresh', 'pineapple', 'cut', 'to', 'your', 'preference', '1/4', 'cupsugar', '4', 'cups', 'ginger', 'ale', '3', 'shots', 'coconut', 'rum', 'ice', 'to', 'taste', 'optional', 'sprig', 'of', 'mint'], tags=[752]),\n",
              " TaggedDocument(words=['1', 'canfull-fat', 'coconut', 'milk', 'or', 'coconut', 'cream', '1/4', 'cup', 'limejuice', '1', 'handful', 'fresh', 'mint', 'leaves', 'about', '15', 'to', '20', '6', 'cups', 'chopped', 'watermelon', 'placed', 'in', 'the', 'freezer', 'overnight', 'to', 'freeze', '1/2', 'cup', 'coconut', 'rum', 'or', 'more', 'to', 'taste0b', 'garnish', 'shredded', 'coconut', 'garnish', 'lime', 'wedge', 'garnish', 'mint', 'sprig', 'garnish', 'watermelonwedge'], tags=[753]),\n",
              " TaggedDocument(words=['finely', 'crushed', 'graham', 'crackers', '1', '1/2', 'ounces', 'black', 'cherry', 'bourbon', 'whiskey', '1/4', 'ounce', 'coconut', 'rum', '1/2', 'ounce', 'amaretto', 'liqueur', '1', 'ounce', 'pineapple', 'juice', '1', 'tablespoon', 'cherry', 'purée', '1', 'splash', 'cinnamon', 'schnapps'], tags=[754]),\n",
              " TaggedDocument(words=['1', '1/2', 'cups', 'fresh', 'strawberries', '1', '750-milliliter', 'bottle', 'vodka', '2', 'tablespoons', 'simple', 'syrup', '1', 'cup', 'sugar', '1', 'cup', 'water', '1/2', 'cup', 'basil', 'leaves', '1', '1/2', 'ounces', 'strawberry', 'vodka', '3/4', 'ounce', 'pear', 'nectar', '1/2', 'ounce', 'lemon', 'juice', '1/2', 'ounce', '0b0bbasil', 'simple', 'syrup', '2', 'ounces', 'sparkling', 'rosé', 'wine', 'basil', 'leaf', 'seasonal', 'fruits'], tags=[755]),\n",
              " TaggedDocument(words=['2', 'ounces', 'apricot', 'brandy', '2', 'ounces', 'sour', 'mix', 'maraschino', 'cherry'], tags=[756]),\n",
              " TaggedDocument(words=['1', '750-ml', 'bottle', 'white', 'wine', 'moscato', '2', 'cups', 'fresh', 'raspberries', 'or', 'frozen', '2', 'lemons', 'sliced', '12', 'ounces', 'lemonade', '1/3', 'cup', 'sugar', '12', 'ounces', '1', '1/2', 'cups', 'lemon-lime', 'soda', 'lemon', 'slices', 'garnish'], tags=[757]),\n",
              " TaggedDocument(words=['1', '1/2', 'ounces', 'reposado', 'tequila', '3/4', 'ounce', 'lime', 'juice', '3/4', 'ounce', 'lavender', 'syrup', 'candied', 'lavender'], tags=[758]),\n",
              " TaggedDocument(words=['1', 'bottle', 'prosecco', 'or', 'other', 'sparkling', 'wine', '24', 'ounces', 'orange', 'juice', '8', 'splashes', 'pomegranate', 'juice', '8', 'ounces', 'tequila', 'garnish', 'orange', 'slices'], tags=[759]),\n",
              " TaggedDocument(words=['2', 'ounces', 'whiskey', '1', 'ounce', 'lemon', 'juice', '1/4', 'ounce', 'simple', 'syrup', '1/2', 'ounce', 'orange', 'liqueur', 'sparkling', 'water', 'or', 'club', 'soda'], tags=[760]),\n",
              " TaggedDocument(words=['1', '1/2', 'ounces', 'vanilla', 'vodka', '1', '1/4', 'ounces', 'irish', 'cream', 'liqueur', '1/4', 'ounce', 'chocolate', 'liqueur', 'chocolate'], tags=[761]),\n",
              " TaggedDocument(words=['1', 'cup', 'ice', '3', 'ounces', 'coconut', 'milk', '1/3', 'banana', '1', '1/2', 'ounce', 'aged', 'rum', '1/2', 'ounce', 'irish', 'cream', 'liqueur', 'whipped', 'cream', 'coconut', 'flakes'], tags=[762]),\n",
              " TaggedDocument(words=['chocolate', 'sauce', 'caramel', 'sauce', '1', '1/2', 'ounces', 'caramel', 'vodka', '1/2', 'ounce', 'amaretto', '1/2', 'ounce', 'chocolate', 'liqueur', '1/2', 'ounce', 'irish', 'cream', 'liqueur', '1', 'splash', 'cream'], tags=[763]),\n",
              " TaggedDocument(words=['5', 'to', '8', 'leaves', 'spearmint', 'to', 'taste', '1/4lemon', 'cut', 'into', '3', 'pieces', '1', 'ouncesimple', 'syrup', '2', 'ouncesbourbon', 'whiskey', 'mint', 'sprig', 'for', 'garnish'], tags=[764]),\n",
              " TaggedDocument(words=['1', '1/2', 'ounces', 'rye', 'whiskey', 'or', 'bourbon', '1/2', 'ounce', 'sweet', 'vermouth', '1/4', 'ounce', 'amaro', 'liqueur', '2', 'dashes', 'orange', 'bitters', 'garnish0blemon', 'twist'], tags=[765]),\n",
              " TaggedDocument(words=['1', '750-milliliter', 'bottle', 'of', 'rye', 'whiskey', '1', '6-inch', 'string', 'rock', 'candy', '1', 'wholeclove', '1', 'teaspoon', 'horehound', '2', 'orange', 'slices', '2', 'lemon', 'slices', '1', 'dried', 'apricot', '1', 'cinnamon', 'stick'], tags=[766]),\n",
              " TaggedDocument(words=['1', 'tablespoon', 'bacon', 'fat', '500', 'milliliters', 'rye', 'whiskey', '1', 'tablespoon', 'creamy', 'peanut', 'butter', '250', 'milliliters', 'amaretto', 'liqueur', '1', 'teaspoon', 'maple', 'syrup', '1', 'ounce', 'rye', 'whiskey', '1/2', 'ounce', 'amaretto', 'liqueur', '1', 'pinch', 'sea', 'salt'], tags=[767]),\n",
              " TaggedDocument(words=['1', 'ounce', 'green', 'apple', 'vodka', '1', 'ounce', 'peach', 'schnapps', '4', 'ounces', 'cranberry', 'juice', 'orange', 'wedge'], tags=[768]),\n",
              " TaggedDocument(words=['1', 'ounce', 'gin', '1', 'ounce', 'sweet', 'vermouth', '1', 'ounce', 'campari', 'orange', 'twist', 'slice'], tags=[769]),\n",
              " TaggedDocument(words=['1', '1/2', 'ouncesbourbon', 'whiskey', '2', 'ounceslemonade', '1', 'ouncepomegranate', 'juice', 'lemon', 'wedge', 'orange', 'zest', 'or0bcherry', 'for', 'garnish'], tags=[770]),\n",
              " TaggedDocument(words=['3', 'ounces', 'rum', '1', 'ounce', 'red', 'wine', '1', 'teaspoon', 'simple', 'syrup', '1/2', 'tablespoon', 'lime', 'juice'], tags=[771]),\n",
              " TaggedDocument(words=['2', '1/2', 'ounces', 'vodka', '1', 'ounce', 'cranberry', 'liqueur', 'cranberries'], tags=[772]),\n",
              " TaggedDocument(words=['1', '1/2', 'ounces', 'vodka', '1', '1/2', 'ounces', 'lychee', 'liqueur', '1', 'ounce', 'cranberry', 'juice'], tags=[773]),\n",
              " TaggedDocument(words=['1', '1/2', 'ounces', 'vodka', '1', '1/2', 'ounces', 'pomegranate', 'liqueur', '1/2', 'ounce', 'grapefruit', 'juice', '1/2', 'ounce', 'sour', 'mix', '1/2', 'ounce', 'ginger', 'syrup', 'lemon', 'twist'], tags=[774]),\n",
              " TaggedDocument(words=['2', 'large', 'strawberries', '1', '1/2', 'ounces', 'zing', 'red', 'velvet', 'vodka', '1', 'splash', 'lemon', 'juice', '3', 'to', '5', 'ounces', 'cream', 'soda', 'fresh', 'strawberry'], tags=[775]),\n",
              " TaggedDocument(words=['1/2', 'ounce', 'orange', 'liqueur', '3', 'ounces', 'cranberry', 'juice', '3', 'ounces', 'champagne', 'rosemary', 'sprig', 'cranberries', 'for', 'garnish'], tags=[776]),\n",
              " TaggedDocument(words=['2', 'large', 'apples', '2', 'cinnamon', 'sticks', '2', 'to', '3', 'cups', 'reposado', 'or', 'blanco', 'tequila', '2', 'ounces', 'apple-cinnamon', 'tequila', '1/2', 'ounce', 'triple', 'sec', '1', 'ounce', 'cranberry', 'juice', '1/2', 'ounce', 'lime', 'juice', 'apple', 'wedge'], tags=[777]),\n",
              " TaggedDocument(words=['1', '1/2', 'ounces', 'gin', '3/4', 'ounce', 'dubonnet', 'rouge', 'lemon', 'twist'], tags=[778]),\n",
              " TaggedDocument(words=['2', 'ounces', 'light', 'rum', '1', 'large', 'egg', 'white', '1/2', 'teaspoon', 'sugar', '1', 'dash', 'lemon', 'juice', '1', 'dash', 'grenadine', '1', 'dash', 'raspberry', 'liqueur'], tags=[779]),\n",
              " TaggedDocument(words=['3/4', 'ounce', 'triple', 'sec', '1/2', 'ounce', 'lemon', 'juice', '4', 'blackberries', '1', '1/2', 'ounces', 'gin', '1', 'dash', 'plum', 'bitters', 'lemon', 'twist'], tags=[780]),\n",
              " TaggedDocument(words=['3', 'large', 'strawberries', '1/2', 'ounce', 'simple', 'syrup', '1/2', 'ounce', 'cognac', '1', 'ounce', 'white', 'wine', '3', 'to', '4', 'ounces', 'sparkling', 'wine', 'strawberry'], tags=[781]),\n",
              " TaggedDocument(words=['granulated', 'or', 'superfine', 'sugar', '2', 'ounces', 'reposado', 'tequila', '1', 'ounce', 'cognac', '1', 'ounce', 'premium', 'triple', 'sec', '1/2', 'ounce', 'lime', 'juice', '1', 'tablespoon', 'agave', 'nectar', 'lime', 'wedge'], tags=[782]),\n",
              " TaggedDocument(words=['1', '1/2', 'ounces', 'cognac', '3/4', 'ounce', 'spiced', 'syrup', '3', 'tsp', 'pure', 'vanilla', 'extract', '5', 'ounces', 'hot', 'chocolate', '1', 'ounce', 'heavy', 'cream', 'grated', 'nutmeg', 'grated', 'dark', 'chocolate'], tags=[783]),\n",
              " TaggedDocument(words=['1/2', '750-milliliter', 'bottle', 'cognac', '1', '750-milliliter', 'bottle', 'sparkling', 'wine', '3', 'cups', 'apricot', 'liqueur', '1', '1/2', 'cups', 'apricot', 'nectar', '1', '1/2', 'cups', 'lemon', 'juice', '4', 'cups', 'blood', 'orange', 'juice', '4', 'to', '6', 'apricots', '5', 'lemons', '1', 'blood', 'orange', '12', 'brandied', 'cherries'], tags=[784]),\n",
              " TaggedDocument(words=['1', 'navel', 'orange', '1', '750-milliliter', 'bottle', 'red', 'wine', '1/4', 'cup', 'granulated', 'sugar', '5', 'whole', 'cloves', '4', '3-inch', 'cinnamon', 'sticks', '2', 'cardamon', 'pods', '1/4', 'cup', 'cognac'], tags=[785]),\n",
              " TaggedDocument(words=['1', '1/2', 'ounces', 'añejo', 'rum', '1/2', 'ounce', 'orange', 'curaçao', 'liqueur', '1/2', 'ounce', 'lime', 'juice', '2', 'dashes', 'aromatic', 'bitters', '2', 'ounces', 'ginger', 'beer', 'lime', 'wheel', 'orange', 'slice'], tags=[786]),\n",
              " TaggedDocument(words=['1', '1/2', 'ounces', 'tequila', '1/2', 'ounce', 'crème', 'de', 'cassis', '1/2', 'ounce', 'lime', 'juice', '4', 'ounces', 'ginger', 'beer', '1', 'lime', 'wedge', 'or', 'cheek', 'wedge', 'or', 'cheek'], tags=[787]),\n",
              " TaggedDocument(words=['4', 'fresh', 'blueberries', '1', 'ounce', 'blueberry', 'vodka', '1/4', 'ounce', 'absinthe', '1/4', 'ounce', 'simple', 'syrup', '1', 'splash', 'lemon', 'juice', '1', 'teaspoon', 'raspberry', 'liqueur', '3', 'to', '4', 'ounces', 'ginger', 'beer', 'sugar', 'cube'], tags=[788]),\n",
              " TaggedDocument(words=['1', '1/4', 'ounces', 'bourbon', 'whiskey', '3/4', 'ounce', 'elderflower', 'liqueur', '1/2', 'ounce', 'lemon', 'juice', '3', 'to', '5', 'ounces', 'ginger', 'beer', '8', 'dashes', 'bitters'], tags=[789]),\n",
              " TaggedDocument(words=['1', '1/2', 'ounces', 'apple-', 'and', 'pear-infused', 'gin', '1/2', 'ounce', 'absinthe', '1/2', 'ounce', 'pear', 'brandy', '1', 'ounce', 'apple', 'cider', '1/2', 'ounce', 'lemon', 'juice', '2', 'dashes', 'chocolate', 'bitters', '2', 'ounces', 'ginger', 'beer', 'lemon', 'peel', 'cinnamon', 'stick'], tags=[790]),\n",
              " TaggedDocument(words=['5', 'cucumber', 'slices', '8', 'fresh', 'mint', 'leaves', '2', 'ounces', 'vodka', '1/2', 'ounce', 'elderflower', 'liqueur', 'or', 'syrup', '1', 'ounce', 'ginger', 'beer', 'mint', 'sprig'], tags=[791]),\n",
              " TaggedDocument(words=['coarse', 'salt', '2', '1/2', 'ounces', 'reposado', 'tequila', '1/2', 'ounce', 'orange', 'liqueur', '2', 'ounces', 'key', 'lime', 'juice', '1/2', 'cup', 'cucumber', '2', 'tablespoons', 'sugar', '6', 'mint', 'leaves', '2', 'dashes', 'tabasco', 'hot', 'sauce', '6', 'ice', 'cubes', '2', 'cucumber', 'slices'], tags=[792]),\n",
              " TaggedDocument(words=['1', '1/2', 'ounces', 'aged', 'rum', '3/4', 'ounce', 'blueberry', 'shrub', '3/4', 'ounce', 'lavender', 'honey', '2', 'to', '3', 'ounces', 'sparkling', 'water', 'fresh', 'lavender', 'sprig', 'lime', 'wheel'], tags=[793]),\n",
              " TaggedDocument(words=['coarse', 'salt', '2', 'ounces', 'blanco', 'or', 'reposado', 'tequila', '1/2', 'ounce', 'drambuie', '1/2', 'ounce', 'premium', 'orange', 'liqueur', '1/2', 'ounce', 'lime', 'juice', 'lime', 'wedge'], tags=[794]),\n",
              " TaggedDocument(words=['2', 'ounces', 'brandy', '1/2', 'ounce', 'white', 'crème', 'de', 'menthe', 'liqueur', '1', 'pinch', 'ground', 'cayenne', 'pepper'], tags=[795]),\n",
              " TaggedDocument(words=['1/2', 'ounce', 'gin', '1/2', 'ounce', 'light', 'rum', '1/2', 'ounce', 'tequila', '1/2', 'ounce', 'vodka', '1/2', 'ounce', 'triple', 'sec', '1', 'ounce', 'sour', 'mix', '2', 'ounces', 'pineapple', 'juice'], tags=[796]),\n",
              " TaggedDocument(words=['lime', 'wedge', 'coarse', 'salt', '2', 'ounces', 'tequila', '1/4', 'to', '/2', 'ounce', 'lime', 'juice', '4', 'ounces', 'grapefruit', 'soda'], tags=[797]),\n",
              " TaggedDocument(words=['2', 'ounces', 'raspberry', 'vodka', '1', 'splash', 'club', 'soda', '1', 'splash', 'lemon-lime', 'soda', 'lime', 'wedge'], tags=[798]),\n",
              " TaggedDocument(words=['1', '1/2', 'cups', 'rhubarb', 'juice', '1/2', 'cup', 'sugar', '2', '1/2', 'ounces', 'gin', '1', 'ounce', 'rhubarb', 'syrup', '1', 'ounce', 'lime', 'juice', '1', 'dash', 'rhubarb', 'bitters', '2', 'to', '3', 'ounces', 'club', 'soda', '4', 'dashes', 'cardamom', 'bitters'], tags=[799]),\n",
              " TaggedDocument(words=['2', 'papaya', 'slices', '3/4', 'ounce', 'agave', 'nectar', '1', '1/2', 'ounces', 'añejo', 'tequila', '1/2', 'ounce', 'aperol', '3/4', 'ounce', 'lime', 'juice', '1/2', 'ounce', 'orange', 'juice'], tags=[800]),\n",
              " TaggedDocument(words=['2', 'slices', 'fresh', 'pineapple', '4', 'to', '5', 'lime', 'wedges', '6', 'to', '8', 'fresh', 'mint', 'leaves', '3', 'ounces', 'aged', 'rum', '1', 'ounce', 'triple', 'sec', '1', 'ounce', 'pineapple', 'juice', 'mint', 'sprig'], tags=[801]),\n",
              " TaggedDocument(words=['1', 'ounce', 'vodka', '1', 'ounce', 'black', 'raspberry', 'liqueur', '1', 'ounce', 'lemon-lime', 'soda', 'fresh', 'berries', 'mint', 'sprig'], tags=[802]),\n",
              " TaggedDocument(words=['2', 'teaspoons', 'superfine', 'sugar', '6', 'to', '8', 'fresh', 'mint', 'leaves', '2', 'to', '3', 'ounces', 'club', 'soda', '1', 'lime', '2', 'ounces', 'light', 'rum', 'mint', 'sprig'], tags=[803]),\n",
              " TaggedDocument(words=['3/4', 'ounce', 'gin', '3/4', 'ounce', 'green', 'chartreuse', 'liqueur', '3/4', 'ounce', 'maraschino', 'liqueur', '3/4', 'ounce', 'lime', 'juice'], tags=[804]),\n",
              " TaggedDocument(words=['2', '1/2', 'ounces', 'applejack', '3/4', 'ounce', 'lemon', 'juice', '1/2', 'ounce', 'grenadine', 'lemon', 'twist'], tags=[805]),\n",
              " TaggedDocument(words=['2', 'bottles', 'dry', 'red', 'wine', '1/2', 'cup', 'corn', 'syrup', 'or', 'golden', 'syrup', '1/2', 'cup', 'honey', '1/2', 'cup', 'water', '1/2', 'cup', 'orange', 'peel', '1', 'cinnamon', 'stick', '1/4', 'teaspoon', 'ground', 'allspice', '1/2', 'teaspoon', 'ground', 'nutmeg'], tags=[806]),\n",
              " TaggedDocument(words=['1', 'cup', 'water', '2', 'cinnamon', 'sticks', '5', 'to', '6', 'whole', 'cloves', '1/4', 'teaspoon', 'ground', 'cardamom', '1/4', 'teaspoon', 'ground', 'ginger', '1/4', 'teaspoon', 'ground', 'nutmeg', '2', '750-milliliter', 'bottles', 'dry', 'sherry', '1', 'cup', 'sugar', '1/2', 'cup', 'brandy', '3', 'large', 'egg', 'yolks', '6', 'large', 'egg', 'whites', 'apple', 'slices'], tags=[807]),\n",
              " TaggedDocument(words=['1/3', 'cup', 'sugar', 'or', 'honey', '2', 'tablespoons', 'orange', 'zest', '4', 'tablespoons', 'orange', 'juice', 'juice', 'of', '1', 'orange–use', 'a', 'vegetable', 'peeler', 'to', 'create', 'the', 'strips', 'of', 'zest', 'being', 'careful', 'to', 'make', 'them', 'thin', 'and', 'avoiding', 'the', 'bitter', 'white', 'pith', '1', 'tablespoon', 'lemon', 'zest', '0bzest', 'of', '1', 'lemon', 'same', 'method', 'as', 'for', 'the', 'orange', '2', 'cinnamon', 'sticks', '4', 'whole', 'cloves', '1', 'pinch', 'nutmeg', 'freshly', 'grated', '1', 'bottle', 'of', 'full-bodied', 'red', 'wine', '1/4-inch', 'ginger', 'fresh', 'peeled', 'and', 'bruised', 'with', 'the', 'back', 'of', 'a', 'chefs', 'knife', '1', 'whole', 'star', 'anise', '1/2', 'vanilla', 'pod', '10', 'whole', 'allspice', 'berries', '5', 'whole', 'black', 'peppercorns', '1', 'to', '2', 'bay', 'leaves'], tags=[808]),\n",
              " TaggedDocument(words=['1', 'quartdry', 'red', 'wine', '1/2', 'cup', 'sugar', '5', 'clovespartially', 'crushed', '1', 'cinnamon', 'stick', '1', 'bay', 'leaf', 'cracked', 'in', 'half'], tags=[809]),\n",
              " TaggedDocument(words=['1', '1/2', 'bottles', 'of', 'red', 'wine', 'eg', 'a', 'cabernet', 'sauvignon', '2', 'oranges', '1', 'lemon', '15', 'cloves', 'approximately', '4', 'cinnamon', 'sticks', '1/2', 'cup', 'white', 'sugar'], tags=[810]),\n",
              " TaggedDocument(words=['1', 'cup', 'brown', 'sugar', '2', 'tsp', 'ground', 'cinnamon', '1', 'tsp', 'ground', 'cloves', '1', 'tsp', 'dried', 'ground', 'orange', 'peel', '1', 'tsp', 'ground', 'allspice', '1/2', 'tsp', 'ground', 'nutmeg'], tags=[811]),\n",
              " TaggedDocument(words=['6', 'sugar', 'snap', 'peas', '1', 'sprig', 'tarragon', '3/4', 'ounce', 'honey', '2', 'ounces', 'organic', 'vodka', '1/2', 'ounce', 'dry', 'vermouth', '1', 'ounce', 'lemon', 'juice'], tags=[812]),\n",
              " TaggedDocument(words=['1/4', 'cup', 'fresh', 'cilantro', '1', '2-inch', 'piece', 'celery', 'stalk', '1', '1-inch', 'slice', 'english', 'cucumber', '1', 'ounce', 'lemon', 'juice', '1', '1/2', 'ounces', 'cucumber', 'vodka', '1/2', 'ounce', 'pimms', 'cup', 'no', '1', '3/4', 'ounce', 'agave', 'nectar'], tags=[813]),\n",
              " TaggedDocument(words=['1', '1/2', 'ounces', 'scotch', 'whisky', '1', 'ounces', 'red', 'beet', 'juice', '3/4', 'ounce', 'honey', 'syrup', '3/4', 'ounce', 'lemon', 'juice', 'fresh', 'dill', 'sprig', 'lemon', 'twist'], tags=[814]),\n",
              " TaggedDocument(words=['1', 'butternut', 'squash', '1', 'teaspoon', 'ground', 'cinnamon', '1', 'teaspoon', 'sugar', '1', '750-milliliter', 'bottle', 'bourbon', 'whiskey', '2', 'ounces', 'butternut-infused', 'bourbon', '1/4', 'ounce', 'maple', 'syrup', '1', 'splash', 'maple', 'bitters', '1', 'splash', 'aromatic', 'bitters', 'orange', 'peel'], tags=[815]),\n",
              " TaggedDocument(words=['1', '1/2', 'ounces', 'pear', 'vodka', '3/4', 'ounce', 'amaretto', 'liqueur', '1/2', 'ounce', 'spiced', 'simple', 'syrup', '1/4', 'ounce', 'lemon', 'juice', 'pear', 'slice'], tags=[816]),\n",
              " TaggedDocument(words=['1', 'large', 'garden', 'or', 'english', 'hothousecucumber', '1', '750', 'ml', 'bottle', 'ofvodka'], tags=[817]),\n",
              " TaggedDocument(words=['750', 'ml', 'bottle', 'of', 'vodka', '6', 'level', 'teaspoons', 'good', 'quality', 'green', 'tea', 'leaves'], tags=[818]),\n",
              " TaggedDocument(words=['1', 'medium', 'garlic', 'bulb', '1', 'habanero', 'pepper', '1', '750-milliliter', 'bottle', 'vodka'], tags=[819]),\n",
              " TaggedDocument(words=['1', 'bottle/750', 'ml', 'vodka', '1', 'piece', 'about', '3', 'inches', 'fresh', 'horseradish'], tags=[820]),\n",
              " TaggedDocument(words=['1', '1-liter', 'bottle', 'vodka', '1', 'cup', 'candy', 'corn', '2', 'ounces', 'candy', 'corn-infused', 'vodka', '3/4', 'ounce', 'lemon', 'juice', '3/4', 'ounce', 'cinnamon', 'simple', 'syrup', '3', 'to', '5', 'ounces', 'seltzer', 'water', 'lemon', 'wheel', 'candy', 'corn'], tags=[821]),\n",
              " TaggedDocument(words=['1', '1/2', 'ounces', 'vanilla', 'vodka', '1', 'ounce', 'white', 'chocolate', 'liqueur', '1', 'ounce', 'cream', 'white', 'chocolate', 'shavings'], tags=[822]),\n",
              " TaggedDocument(words=['granulated', 'sugar', 'cocoa', 'powder', '1', 'cup', 'ice', '2', 'ounces', 'blanco', 'tequila', '1', 'ounce', 'chocolate', 'liqueur', '1', 'ounce', 'cream', '1', 'dash', 'chocolate', 'bitters', '1', 'splash', 'lime', 'juice', '1', 'splash', 'orange', 'juice', 'chocolate', 'shavings'], tags=[823]),\n",
              " TaggedDocument(words=['1', '1/2', 'ounces', 'chocolate', 'liqueur', '1/2', 'ounce', 'amaretto', 'liqueur', '1', 'ounce', 'espresso', 'milk', 'foam'], tags=[824]),\n",
              " TaggedDocument(words=['1', 'ounce', 'hazelnut', 'liqueur', '1', 'ounce', 'dark', 'crème', 'de', 'cacao', 'liqueur', '2', 'ounces', 'cream', 'grated', 'or', 'ground', 'nutmeg'], tags=[825]),\n",
              " TaggedDocument(words=['3/4', 'ounce', 'cream', '3/4', 'ounce', 'white', 'crème', 'de', 'cacao', 'liqueur', '3/4', 'ounce', 'galliano', 'lautentico', 'liqueur'], tags=[826]),\n",
              " TaggedDocument(words=['2', 'ounces', 'bourbon', 'whiskey', '1', 'ounce', 'white', 'crème', 'de', 'cacao', 'liqueur', '1/4', 'ounce', 'hazelnut', 'liqueur', 'chocolate', 'shavings'], tags=[827]),\n",
              " TaggedDocument(words=['1/2', 'cup', 'frozen', 'raspberries', '1/2', 'cup', 'frozen', 'pineapple', 'chunks', '1', 'banana', 'fresh', 'or', 'frozen', '1', 'cup', 'orange', 'pineapple', 'juice', 'optional', '1/2', 'cup', 'of', 'yogurt'], tags=[828]),\n",
              " TaggedDocument(words=['5', 'carrots', '1', 'apple', '1', 'thin', 'slice', 'fresh', 'ginger', '1/4', 'teaspoon', 'turmeric', '2/3', 'cups', 'water'], tags=[829]),\n",
              " TaggedDocument(words=['1', 'zucchini', 'with', 'the', 'skin', '2', 'carrots', '3-4', 'leaves', 'of', 'your', 'favorite', 'leafy', 'greens', 'such', 'as', 'baby', 'kale', 'or', 'baby', 'spinach', 'or', 'a', 'thumb', 'of', 'wheatgrass', '1', 'apple', '1/2', 'beet', 'optional', '1', 'teaspoon', 'honey', 'stevia', 'or', 'agave', 'for', 'the', 'smoothie', 'same', 'as', 'above', 'plus', '1-2', 'cups', 'of', 'oat', 'almond', 'rice', 'soy', 'or', 'dairy', 'milk'], tags=[830]),\n",
              " TaggedDocument(words=['4', 'medium-sized', 'raw', 'green', 'mangoes', '2', 'cups', 'sugar', '1', 'cup', 'water', '1', 'tablespoon', 'coarsely', 'ground', 'black', 'rock', 'salt', '1', 'teaspoon', 'freshly', 'ground', 'pepper', '2', 'tablespoons', 'fennel', 'seedsground', 'coarsely', '2', 'tablespoons', 'cumin', 'seeds', 'roasted', 'and', 'ground', 'coarsely', '6', 'sprigs', 'of', 'mint', 'to', 'garnish'], tags=[831]),\n",
              " TaggedDocument(words=['1', 'large', 'turnip', '1', 'large', 'beet', '2', 'pounds', 'carrots', 'juice', 'of', '2', 'lemons', 'or', '1', '1/2', 'tsp', 'crystal', 'citric', 'acid', '1/3', 'cup', 'pickling', 'salt', '1/2', 'loaf', 'of', 'breaditalian', '5', 'cups', 'purified', 'water'], tags=[832]),\n",
              " TaggedDocument(words=['2', 'cupsroyal', 'hawaiian', 'orchards', 'macadamia', 'nut', 'milk', '1/4', 'cup', 'almond', 'butter', '2', 'tbsp', 'honey', '2', 'cups', 'fresh', 'baby', 'spinach', '1', 'banana', 'sliced', '1', 'fuiji', 'apple', 'cored', 'and', 'seeds', 'removed', '1-2', 'tbsp', 'flax', 'seed', 'or', 'chia', 'seeds'], tags=[833]),\n",
              " TaggedDocument(words=['10', 'kumquats', '1', 'pear', '1', 'orange', '1/2', 'lime', 'for', 'smoothie', 'add', '1', 'to', '2', 'cups', 'of', 'your', 'favorite', 'milk', 'such', 'as', 'soyoatalmond', 'orcoconut'], tags=[834]),\n",
              " TaggedDocument(words=['about', '1/3', 'cup/200', 'grams', 'frozen', 'açaí', 'puree', 'thawed', 'slightly', 'look', 'for', 'smoothie', 'packs', 'in', 'the', 'freezer', 'section', 'of', 'health', 'food', 'stores', '2', 'bananas', '1', 'tablespoon', 'sugar', 'optional', '1/4', 'cup', 'frozen', 'passionfruit', 'puree', 'or', '1/4', 'cup', 'orange', 'juice', '1/4', 'cup', 'granola'], tags=[835]),\n",
              " TaggedDocument(words=['1/2', 'cup', 'pumpkin', 'pie', 'filling', 'or', 'regular', 'canned', 'pumpkin', 'and', '1/2', 'teaspoon', 'of', 'pumpkin', 'pie', 'spice', '1/2', 'cup', 'whole', 'milk', 'or', 'substitute', 'almond', 'coconut', 'or', 'soy', 'milk', '1', 'teaspoon', 'maple', 'syrup', '1', 'scoop', 'vanilla', 'protein', 'powder', '1/2', 'teaspoon', 'vanilla', 'extract', 'optional', 'for', 'a', 'thicker', 'shake', 'add', '1/2', 'frozen', 'banana', 'cut', 'into', 'chunks', 'optional', 'for', 'more', 'protein', 'and', 'texture', 'add', '1/4', 'cup', 'of', 'chopped', 'pecans'], tags=[836]),\n",
              " TaggedDocument(words=['2', 'cups', 'sugar-freeice', 'cream', '1', 'cup', 'fresh', 'spinach', '1/2', 'teaspoon', 'mint', 'extract', 'or', 'to', 'taste', '1/4', 'cup', 'sugar-free', 'chocolate', 'syrup', 'such', 'asnunaturals', 'cocoa', 'syrup', '1/4', 'teaspoon', 'peppermint', 'liquid', 'stevia', 'optional', 'optional', '1', 'cup', 'sugar-free', 'whipped', 'cream'], tags=[837]),\n",
              " TaggedDocument(words=['1', 'apple', 'cored', 'and', 'cut', 'into', 'chunks', '1', 'kiwi', 'peeled', 'and', 'quartered', '2', 'cups', 'tender', 'kale', 'leaves', 'chopped', '1/2', 'cup', 'cilantro', 'leaves', '1', '1/4', 'inch', 'slice', 'of', 'ginger', 'peeled', 'and', 'chopped', '1', 'cup', 'filtered', 'water'], tags=[838]),\n",
              " TaggedDocument(words=['1', 'can', 'of', 'coconut', 'milk', 'light', 'or', 'regular', '1', 'cup', 'of', 'raspberries', 'frozen', '1/3cup', 'of', 'orange', 'juice', 'no', 'pulp', 'works', 'best', '1', 'tablespoon', 'of', 'honey', '1', 'cup', 'of', 'ice', 'you', 'can', 'also', 'add', 'a', 'frozen', 'banana'], tags=[839]),\n",
              " TaggedDocument(words=['1', '11-ounce', 'can', 'mandarin', 'oranges', 'in', 'juice', '1/2', 'cup', 'pineapple', 'frozen', 'chunks', '1/2', 'cup', 'yogurt', 'vanilla', 'or', 'vanilla', 'soy', 'yogurt', '1', 'tablespoon', 'honey', '1', 'cup', 'soy', 'milk', 'vanilla'], tags=[840]),\n",
              " TaggedDocument(words=['1', 'frozen', 'banana', '1', 'cup', 'plain', 'greek', 'style', 'yogurt', '1/2cup', 'milk', '2', 'tablespoons', 'honey', '2', 'tablespoons', 'tahini', 'sesame', 'paste', '1/4', 'teaspoon', 'cinnamon', 'pinch', 'of', 'salt', '4', 'large', 'ice', 'cubes'], tags=[841]),\n",
              " TaggedDocument(words=['2', 'cups', 'frozen', 'sliced', 'strawberries', '1/2', 'cup', 'non-fat', 'milk', '1/2', 'cup', 'pineapple', 'juice', '1/2', 'cup', 'non-fat', 'vanilla', 'yogurt', '1', 'tbsp', 'semisweet', 'chocolate', 'chips', '1', 'tbsp', 'unsweetened', 'cocoa', 'powder'], tags=[842]),\n",
              " TaggedDocument(words=['2', 'cups', 'of', 'chopped', 'watermelon', 'juice', 'of', '1', 'small', 'lime', '1', 'tablespoon', 'chopped', 'fresh', 'mint', 'optional', '1', 'teaspoon', 'grated', 'fresh', 'ginger', 'root', 'optional'], tags=[843]),\n",
              " TaggedDocument(words=['1', 'cup', 'sliced', 'fresh', 'peaches', 'or', 'frozen', 'thawed', 'peaches', '1/4', 'cup', 'pineapple', 'juice', '1/4', 'cup', 'sugar', '2', 'cups', 'vanilla', 'ice', 'cream', '3/4', 'cup', 'milk'], tags=[844]),\n",
              " TaggedDocument(words=['1', 'large', 'banana', 'frozen', '3/4', 'cup', 'orange', 'juice', '1/4', 'cup', 'whole', 'milk', '1/4', 'teaspoon', 'vanilla', 'extract', 'garnish', 'orange', 'slice'], tags=[845]),\n",
              " TaggedDocument(words=['5', 'longans', '1', 'cup', 'coconut', 'milkor', 'water', '1banana'], tags=[846]),\n",
              " TaggedDocument(words=['3', 'rambutans', 'peeled', 'and', 'pitted', '2', 'cups', 'coconut', 'meat', '1', 'banana'], tags=[847]),\n",
              " TaggedDocument(words=['1', 'cup', 'loosely', 'packed', 'mint', 'leavesplus', 'sprigs', 'for', 'garnish', '2', 'cups0bplain', 'unsweetened', 'whole', 'milk', 'yogurt', '2', 'tablespoons', 'sugar', 'honey', 'or', 'agave', 'syrup', 'plus', 'more', 'to', 'taste', 'optional'], tags=[848]),\n",
              " TaggedDocument(words=['2', 'heaped', 'tablespoons', 'dried', 'choke', 'from', 'wild', 'artichokescynara', 'humilis', '4', 'cups/1', 'liter', 'milk', 'fresh', 'raw', 'milk', '4', 'tablespoons', 'sugar', 'or', 'to', 'taste', '1/2', 'teaspoon', 'orange', 'flower', 'wateror', 'vanilla', 'or', 'more', 'to', 'taste'], tags=[849]),\n",
              " TaggedDocument(words=['1', 'applecored', 'and', 'sliced', '3', 'carrotschopped', '1/2', 'cucumber', '3', 'to', '4', 'leaves', 'of', 'your', 'favorite', 'leafy', 'green', 'wheatgrass', '1', 'to', '2', 'tablespoons', 'pumpkin', 'seed', '1', 'to', '2', 'cups', 'milk', 'or', 'milk', 'alternative'], tags=[850]),\n",
              " TaggedDocument(words=['2', 'bananas', '3', 'to', '4', 'tablespoons', 'cocoa', 'powder', '1', 'tablespoon', 'maple', 'syrup', '1/4', 'cup', 'creamy', 'peanut', 'butter', '3', 'cups', 'vanilla', 'almond', 'milk', '1/2', 'cup', 'ice', 'cubes'], tags=[851]),\n",
              " TaggedDocument(words=['1', 'frozen', 'banana', 'preferably', 'a', 'very', 'ripe', 'banana', 'peeled', '1/2', 'cup', 'low-fat', 'milk', 'or', 'coconut', 'milk', 'creameror', 'another', 'dairy', 'alternative', '1/2', 'teaspoon', 'good-quality', 'matcha', 'powder', 'optional', '1/4', 'teaspoon', 'pure', 'vanilla', 'extract', 'optional', 'sweetener', 'to', 'taste'], tags=[852]),\n",
              " TaggedDocument(words=['1', 'fully', 'ripened', 'avocado', 'halved', 'pitted', 'and', 'peeled', '2', 'cups', 'frozen', 'mango', 'cubes', 'not', 'thawed', '1', 'cup', 'orange', 'juice'], tags=[853]),\n",
              " TaggedDocument(words=['1', '1/2', 'cups', 'tomato', 'juice', '1/3', 'cup', 'carrot', 'juice', '1', 'stalk', 'celery', 'with', 'leaves', '1/2', 'cup', 'spinach', 'leaves', '1/2cucumberpeeled', '1', 'cup', 'ice', 'garnish', 'slice', 'of', 'cucumber', 'or', 'celery', 'stalk'], tags=[854]),\n",
              " TaggedDocument(words=['3/4', 'cup', 'orange', 'juice', '1', 'cup', 'berries', 'fresh', 'or', 'frozen', '1/2', 'cup', 'plain', 'unsweetened', 'yogurt'], tags=[855]),\n",
              " TaggedDocument(words=['4', 'cups', 'of', 'ice', '1', 'cup', 'of', 'pineapple', 'freshly', 'cut', '1', 'large', 'banana', '1/3', 'cup', 'limeade', 'pineapple', 'juice', 'also', 'works', 'garnish', 'sliced', 'pineapple'], tags=[856]),\n",
              " TaggedDocument(words=['1large', 'frozen', 'banana', '8', 'oz', 'plain', 'greek', 'style', 'yogurt', '2pitted', 'dates', '1', 'inchpiece', 'fresh', 'ginger', 'peeled', '1/4', 'cup', 'milk', '1/4', 'teaspoon', 'ground', 'cardamom', '1', 'pinch', 'salt'], tags=[857]),\n",
              " TaggedDocument(words=['4', 'cups', 'apple', 'juice', '1', 'cup', 'water', '1/2', 'cup', 'brown', 'sugar', 'packed', '1/2', 'lemon', 'thinly', 'sliced', 'with', 'seeds', 'removed', '1/2', 'orange', 'thinly', 'sliced', 'with', 'seeds', 'removed', '1', 'stick', 'cinnamon', 'more', 'for', 'serving', 'if', 'desired', '1/4', 'teaspoon', 'ground', 'nutmeg', 'garnish', 'lemon', 'slices'], tags=[858]),\n",
              " TaggedDocument(words=['1', 'banana', 'peeled', 'and', 'sliced', '10', 'canned', 'lychees', 'gently', 'squeezed', 'to', 'remove', 'excess', 'juice', '2/3', 'cup', 'silken', 'tofu', '1/2', 'cup', 'soy', 'milk', '1/4', 'cup', 'canned', 'reserved', 'lychee', 'juice', '1/4', 'cup', 'orange', 'juice', '1', 'teaspoon', 'vanilla', 'extract', '2', 'teaspoons', 'honey', 'or', 'agave', 'nectar', 'or', 'to', 'taste', 'optional', 'ice', 'cubes'], tags=[859]),\n",
              " TaggedDocument(words=['12', 'ounces', 'cold', 'fresh', 'drinking', 'water', '1', 'large', 'lemon', 'to', 'make', 'about', '3', 'tablespoons', 'of', 'juice', '2', 'teaspoons', 'sugar', 'or', 'sweetener', 'of', 'choice', '1', 'teaspoon', 'fresh', 'chia', 'seed', 'garnish', 'lemon', 'slice', 'or', 'wedge', 'and/or', 'a', 'sprig', 'of', 'mint', 'optional', 'ice'], tags=[860]),\n",
              " TaggedDocument(words=['1', 'cup', 'long-grain', 'white', 'rice', 'uncooked', '1', 'cinnamon', 'stick', 'approximately', '5', 'inches', 'broken', 'into', 'several', 'pieces', '1', 'teaspoon0blime', 'zest', '5', 'cups', 'drinking', 'water', 'divided', '1/2', 'cup', 'granulated', 'sugar'], tags=[861]),\n",
              " TaggedDocument(words=['3', 'cups', 'pineapple', 'chunks', 'unsweetened', 'frozen', '1/2', 'cup', 'coconut', 'milk', 'unsweetened', 'not', 'cream', 'of', 'coconut', '1/2', 'cup', 'pineapple', 'juice', '2', 'tablespoon', 'coconut', 'unsweetened', 'shredded', '1/2', 'cup', 'yogurt', 'vanilla', '1', 'tablespoon', 'honey', 'garnish', '1', 'tablespoon', 'pineapple', 'chunks'], tags=[862]),\n",
              " TaggedDocument(words=['ice', 'about', 'a', 'handful', 'or', 'two', '2', 'large', 'bananas', '1', '1/2', 'cups', 'non-fat', 'vanilla', 'soy', 'milk', '1/4', 'cup', 'low-fat', 'or', 'non-fat', 'vanilla', 'yogurt', '1', 'tbspchocolate', 'hazelnut', 'spreadsuch', 'as', 'nutella'], tags=[863]),\n",
              " TaggedDocument(words=['1/2', 'cup', 'pumpkin', 'puree', '1/2', 'very', 'ripe', 'medium-sized', 'banana', '3/4', 'cup', 'fat-free', 'vanilla', 'yogurt', 'eg', 'oikos', '0', '%', 'fat', 'greek', 'vanilla', 'yogurt', '1', 'tbsp', 'honey', '1/2', 'tsp', 'pumpkin', 'pie', 'spice', '1/4', 'tsp', 'vanilla', 'extract', '1', 'cup', 'crushed', 'ice'], tags=[864]),\n",
              " TaggedDocument(words=['1', 'cup', 'ice', '1/2', 'cup', 'strawberries', '1', '1/2', 'ounces', 'tequila', '1', 'ounce', 'triple', 'sec', '1', 'ounce', 'lime', 'juice', 'strawberry'], tags=[865]),\n",
              " TaggedDocument(words=['1', '1/2', 'ounces', 'tequila', '1', 'ounce', 'triple', 'sec', '1', 'ounce', 'lime', 'juice', '1/2', 'cup', 'raspberries', '1', 'cup', 'ice'], tags=[866]),\n",
              " TaggedDocument(words=['cinnamon', 'sugar', '1', 'ounce', 'tequila', '1', 'ounce', 'apple', 'schnapps', 'or', 'liqueur', '1', 'ounce', 'apple', 'juice', '1/2', 'ounce', 'sour', 'mix', '1', 'cup', 'ice', 'green', 'apple', 'slice'], tags=[867]),\n",
              " TaggedDocument(words=['for', 'the', 'simple', 'syrup', '1', 'cup', 'sugar', '1', 'cup', 'water', '10', 'cinnamon', 'sticks', 'for', 'the', 'margarita', '2', 'ounces', 'tequila', '1/2', 'ounce', 'orange', 'liqueur', 'such', 'as', 'cointreau', '1/2', 'ounce', 'lime', 'juice', '1/2', 'ounce', 'cranberry', 'juice', '1/2', 'ounce', 'cinnamon', 'simple', 'syrup', 'optional', 'cinnamon', 'stick', 'and', 'orange', 'slice', 'for', 'garnish'], tags=[868]),\n",
              " TaggedDocument(words=['1', 'cup', 'ice', '1', '1/2', 'ounces', 'tequila', '1/2', 'ounce', 'triple', 'sec', '1/2', 'ounce', '0blime', 'juice', '1', 'tablespoon', 'sugar', 'or', '1/2', 'ounce', 'peach', 'schnapps', '1', 'cup', 'sliced', 'peaches', 'fresh', 'skinned', 'canned', 'or', 'frozen', 'garnish', 'peach', 'slice', 'or', 'lime', 'twist'], tags=[869]),\n",
              " TaggedDocument(words=['1', '1/2', 'ounces', 'tequila', '1', 'ounce', 'blue', 'curaçao', 'liqueur', '1', 'ounce', 'peach', 'schnapps', '1/2', 'ounce', 'sour', 'mix'], tags=[870]),\n",
              " TaggedDocument(words=['10', 'pomegranate', 'arils', '2', 'ounces', 'tequila', '1', 'ounce', 'passion', 'fruit', 'juice', '1/2', 'ounce', 'simple', 'syrup'], tags=[871]),\n",
              " TaggedDocument(words=['1', '1/2', 'ounces', 'tequila', '1', 'ounce', 'mango', 'liqueur', '1/2', 'ounce', 'lime', 'juice'], tags=[872]),\n",
              " TaggedDocument(words=['1', '1/2', 'ounces', 'tequila', '3/4', 'ounce', 'premium', 'triple', 'sec', '1', 'ounce', 'blood', 'orange', 'juice', '1/2', 'ounce', 'lime', 'juice'], tags=[873]),\n",
              " TaggedDocument(words=['coarse', 'salt', '2', 'ounces', 'tequila', '1', 'ounce', 'orange', 'liqueur', '1/2', 'ounce', 'lime', 'juice', '1/2', 'ounce', 'tangerine', 'juice'], tags=[874]),\n",
              " TaggedDocument(words=['cinnamon', 'sugar', '2', 'ounces', 'tequila', '1', '1/2', 'ounces', 'tamarind', 'nectar', '1', '1/2', 'ounces', 'pineapple', 'juice', '1', 'splash', 'lime', 'juice', '1', 'cup', 'ice'], tags=[875]),\n",
              " TaggedDocument(words=['granulated', 'sugar', 'lemon', 'wedge', '2', 'ounces', 'lime', 'tequila', '1/2', 'ounce', 'melon', 'liqueur', '1/2', 'ounce', 'triple', 'sec', '1', 'ounce', 'sour', 'mix', '1', 'ounce', 'orange', 'juice', '1', 'splash', 'lime', 'juice'], tags=[876]),\n",
              " TaggedDocument(words=['10', 'prickly', 'pears', '1', '750-milliliter', 'bottle', 'silver', 'tequila', 'granulated', 'sugar', '2', 'ounces', 'sake', '1', '1/2', 'ounces', 'prickly', 'pear', 'tequila', '1', 'ounce', 'sour', 'mix', '1/2', 'ounce', 'cherry', 'syrup', '1/2', 'ounce', 'lemon', 'juice', 'cherry', 'lemon', 'twist'], tags=[877]),\n",
              " TaggedDocument(words=['1', 'medium', 'pineapple', '1', 'mango', 'or', 'papaya', '15', 'strawberries', '1', '1/2', 'cups', 'green', 'or', 'red', 'grapes', '2', 'ripe', 'bananas', '3', 'oranges', '2', 'to', '3', 'cups', 'orange', 'juice', '1', 'can', 'frozen', 'limeade', 'mix', '1/4', 'grenadine'], tags=[878]),\n",
              " TaggedDocument(words=['3/4', 'to', '1', 'cup', 'orange', 'juice', '1/2', 'to', '3/4', 'cup', 'blueberriesfresh', 'or', 'frozen', '2', 'cups', 'kale', 'loosely', 'packed', 'chopped', '0bleaves'], tags=[879]),\n",
              " TaggedDocument(words=['1ripe', 'plumfresh', 'or', 'frozen', 'pitted', 'but', 'not', 'peeled', '1/2', 'cup', 'orange', 'juiceor', 'other', 'fruit', 'juice', '1/2', 'cup', 'plain', 'yogurtor', '1', 'banana', '1', 'teaspoongrated', 'fresh0b', 'ginger0b'], tags=[880]),\n",
              " TaggedDocument(words=['1', 'cup', 'fresh', 'or', 'frozen', 'strawberries', '2', 'cups', 'plain', 'or', 'vanilla-flavored', 'almond', 'milk', '1', 'cup', 'plain', 'unsweetened', 'yogurt', '1/2', 'cup', 'orange', 'juice', '2', 'tablespoons', 'blanched', 'slivered', 'almonds'], tags=[881]),\n",
              " TaggedDocument(words=['1', 'ounce', 'espresso', '1', 'tablespoon', 'brown', 'sugar', '1/4', 'teaspoon', 'ground', 'cinnamon', '2', 'cups', 'ice', '1', 'cup', 'oat', 'milk'], tags=[882]),\n",
              " TaggedDocument(words=['1', 'tablespoon', 'instant', 'coffee', '2', 'tablespoons', 'water', 'divided', 'optional', '1/2', 'teaspoon', 'xanthan', 'gum', '1', 'cup', 'whole', 'milk', '4', 'tablespoons', 'caramel', 'sauce', 'or', 'syrup', '6', 'ice', 'cubes', 'garnish', 'whipped', 'cream', 'garnish', 'caramel', 'sauce'], tags=[883]),\n",
              " TaggedDocument(words=['1', 'cup', 'powdered', 'non-dairy', 'creamer', '2/3', 'cup', 'instant', 'coffee', '1/3', 'cup', 'cocoa', 'powder', '1/4', 'cup', 'confectioners', 'sugar', 'optional', '1', 'teaspoon', 'cardamom'], tags=[884]),\n",
              " TaggedDocument(words=['4', 'tablespoons', 'ground', 'coffee', '1/4', 'cup', 'whole', 'milk', '1', 'tablespoon', 'heavy', 'cream', '1', 'tablespoon', 'unsweetened', 'cocoa', 'powder', '1', 'tablespoon', 'sugar', '1/2', 'teaspoon', 'vanilla', 'extract', 'garnish', 'whipped', 'cream', 'chocolate', 'shavings'], tags=[885]),\n",
              " TaggedDocument(words=['1', '12-ounce', 'bag', 'semisweet', 'chocolate', 'chips', '1', 'teaspoon', 'coconut', 'oil', '1', 'cup', 'coffee', 'beans', 'optional', '1/4', 'cup', 'unsweetened', 'cocoa'], tags=[886]),\n",
              " TaggedDocument(words=['2', 'cups', 'heavy', 'whipping', 'cream', '1/3', 'cup', 'granulated', 'sugar', 'or', 'up', 'to', '1/2', 'cup', 'for', 'a', 'sweeter', 'creme', 'brulée', '2', 'teaspoons', 'instant', 'espresso', 'powder', '1', 'teaspoon', 'vanilla', 'extract', 'or', 'vanilla', 'bean', 'paste', '5', 'large', 'egg', 'yolks', '1/2', 'teaspoon', 'ground', 'cinnamon', 'for', 'the', 'topping', '3', 'to', '4', 'tablespoons', 'granulated', 'sugar', 'preferably', 'superfine', 'sugar', 'or', 'raw', 'sugar'], tags=[887]),\n",
              " TaggedDocument(words=['1/2', 'cup', 'coffee', 'beansor', 'espresso', 'beans', '1', 'tablespoon', 'ground', 'cinnamon', '1', 'or', '2', 'whole', 'cloves', 'seeds', 'from', '3', 'or', '4', 'cardamom', 'pods', '1/4', 'teaspoon', 'nutmegfreshly', 'grated', 'optional', '1/4', 'teaspoon', 'ground', 'ginger', 'optional', '1/4', 'teaspoon', 'black', 'pepper'], tags=[888]),\n",
              " TaggedDocument(words=['2', 'glasses', 'full', 'cream', 'milk', 'or', 'whole', 'milk', 'chilled', '2', 'teaspoons', 'instant', 'coffee', 'your', 'choice', 'sugar', 'to', 'taste', '1/2', 'glass', 'crushed', 'ice'], tags=[889]),\n",
              " TaggedDocument(words=['1', '2-', 'to', '4-ounce', 'portion', 'strong', 'coffee', '2', 'sugar', 'cubes', 'more', 'or', 'less', 'to', 'taste', '1', '1', '1/2', 'ounces/40', 'ml', 'jigger', 'dark', 'jamaican', 'rum', '2', 'tablespoons', 'whipped', 'cream'], tags=[890]),\n",
              " TaggedDocument(words=['1', 'cup', 'water', '6', 'teaspoons', 'coffee', 'extra', 'fine', 'grind', '4', 'teaspoons', 'sugar', '1', '1/2', 'teaspoons', 'ground', 'ginger'], tags=[891]),\n",
              " TaggedDocument(words=['1', '8', 'to', '10-inch', 'prepared', 'angel', 'food', 'cake', '3/4', 'cup', 'black', 'coffee', '1/4', 'cup', 'coffee', 'liqueur', '8', 'ounces', 'cream', 'cheese', '1/2', 'cup', 'confectioners', 'sugar', '3', 'tablespoons', 'coffee', 'liqueur', '1/4', 'cup', 'confectioners', 'sugar', '1', 'tablespoon', 'instant', 'coffee', 'powder', '8', 'ounces', 'frozen', 'whipped', 'topping', '1/4', 'cup', 'hot', 'fudge', 'topping', '1', 'tablespoon', 'coffee', 'liqueur'], tags=[892]),\n",
              " TaggedDocument(words=['2', 'cups', 'all-purpose', 'flour', '2', 'cups', 'sugar', '1/2', 'cup', 'unsalted', 'butter', '1/2', 'cup', 'shortening', '1', 'cup', 'brewed', 'strong', 'coffee', '1/4', 'cup', 'unsweetened', 'cocoa', 'powder', '1/2', 'cup', 'buttermilk', '2', 'large', 'eggs', '1', 'teaspoon', 'baking', 'soda', '1', 'teaspoon', 'vanilla', 'extract', '1/2', 'cup', 'unsalted', 'butter', '2', 'tablespoons', 'unsweetened', 'cocoa', 'powder', '1/4', 'cup', 'milk', '1', '1/2', 'cups', 'powdered', 'sugar', '1', 'teaspoon', 'vanilla', 'extract'], tags=[893]),\n",
              " TaggedDocument(words=['1/2', 'cup', 'sugar', '3/4', 'cup', 'whipping', 'cream', '3/4', 'cup', 'low-fat', 'milk', '1/2', 'cup', 'espresso', 'coffee', '1', 'teaspoon', 'vanilla', 'extract', '3', 'eggs', '1/4', 'cup', 'sugar', '20', 'whole', 'coffee', 'beans'], tags=[894]),\n",
              " TaggedDocument(words=['4', 'large', 'egg', 'whites', 'reserve', 'the', 'yolks', 'for', 'another', 'use', 'if', 'desired', '1/4', 'teaspoon', 'salt', '1', 'cup', 'sugar', '3', 'tablespoons', 'instant', 'coffee', 'granules', '1', 'teaspoon', 'vanilla', 'extract'], tags=[895]),\n",
              " TaggedDocument(words=['2', 'cups', 'evaporated', 'milk', '2/3', 'cup', 'strong', 'coffee', '2/3', 'cup', 'brown', 'sugar', '3', 'egg', 'yolks', '1', 'envelope', 'unflavored', 'gelatin', 'softened', 'in', '3', 'tablespoons', 'cold', 'water', '1', '1/2', 'cups', 'heavy', 'cream'], tags=[896]),\n",
              " TaggedDocument(words=['2', 'pints', 'vanilla', 'ice', 'cream', '2', 'tablespoons', 'bourbon', 'or', 'a', 'flavored', 'syrup', 'davinci', 'type', 'such', 'as', 'vanilla', 'or', 'kahlua', 'flavor', '1', 'chocolate', 'cookie', 'crumb', 'crust', 'or', 'graham', 'cracker', 'crumb', 'crust', '4', 'ounces', 'unsweetened', 'chocolate', 'coarsely', 'chopped', '1/2', 'cup', 'firmly', 'packed', 'brown', 'sugar', '1/4', 'cup', 'granulated', 'sugar', '3/4', 'cup', 'heavy', 'cream', '1/4', 'cup', 'light', 'corn', 'syrup', '2', 'tablespoons', 'butter', '1/2', 'teaspoon', 'vanilla', 'extract', '1', 'tablespoon', 'bourbon', 'or', 'use', '1', 'teaspoon', 'vanilla', 'and', 'an', 'extra', 'tablespoon', 'of', 'cream', '1/2', 'cup', 'chopped', 'pecans', '2', 'pints', 'coffee', 'ice', 'cream', 'garnish', 'sweetened', 'whipped', 'cream', 'or', 'purchased', 'whipped', 'topping'], tags=[897]),\n",
              " TaggedDocument(words=['1', 'tablespoon', 'unflavored', 'gelatin', 'powder', '1/4', 'cup', 'water', '2', 'cups', 'brewed', 'strong', 'black', 'coffee', '2', 'tablespoons', 'sugar', 'whipped', 'cream'], tags=[898]),\n",
              " TaggedDocument(words=['1/2', 'cup', '1', 'stick', 'dairy-free', 'soy', 'margarine', '3', 'cups', 'confectioners', 'sugar', '1/4', 'cup', 'espresso', 'good-quality', '2', 'tablespoonsplain', 'soy', 'milk', 'or', 'almond', 'milk'], tags=[899]),\n",
              " TaggedDocument(words=['1', 'cup', 'sugar', '1/2', 'cup', 'dark', 'brown', 'sugar', '1/4', 'cup', 'light', 'corn', 'syrup', '1/4', 'cup', 'honey', '15', 'cups', 'half', 'and', 'half', 'not', 'fat-free', '2', 'tablespoons', 'instant', 'coffee', '1/4', 'cup', 'butter', 'cut', 'into', '4', 'pieces', '1', 'teaspoon', 'vanilla', 'extract'], tags=[900]),\n",
              " TaggedDocument(words=['1', '1/2', 'tablespoons', 'instant', 'coffee', '1', 'tablespoon', 'hot', 'water', '4', 'ounces', 'unsalted', 'butter1/2', 'cup', 'or', '1', 'stick', '2', 'cups', 'sugar', '3/4', 'cup', 'heavy', 'cream', '1', 'teaspoon', 'salt', '1', 'package', 'white', 'chocolate', 'chips12', 'oz', '1', 'jar', 'marshmallow', 'cream', '7', 'oz', '1', 'teaspoon', 'vanilla', 'extract'], tags=[901]),\n",
              " TaggedDocument(words=['3', 'cups', 'all-purpose', 'flour', '1', '3/4', 'cups', 'sugar', '1/2', 'cup', 'unsweetened', 'cocoa', 'powder', 'or', 'carob', 'powder', '1', 'teaspoon', 'salt', '2', 'teaspoons', 'baking', 'soda', '1', '3/4', 'cups', 'coffee', 'cold', 'or', 'room', 'temperature', '3/4', 'cups', 'canola', 'oil', '1/4', 'cup', 'maple', 'syrup', '2', 'tablespoons', 'white', 'distilled', 'vinegar', '2', 'teaspoons', 'vanilla', 'extract'], tags=[902]),\n",
              " TaggedDocument(words=['10', 'egg', 'yolks', '1/2', 'cup', 'plus', '1/4', 'cup', 'granulated', 'sugardivided', '2', 'cups', 'heavy', 'cream', '1/2', 'cup', 'strongly-brewed', 'espressocooled', 'to', 'room', 'temperature'], tags=[903]),\n",
              " TaggedDocument(words=['2', 'cups', 'all-purpose', 'flour', 'sifted', '1', 'teaspoon', 'baking', 'powder', 'double-acting', '1/2', 'cup', 'cocoa', 'powder', 'unsweetened', '1/2', 'teaspoon', 'salt', '1', 'cup', 'minus', '1', 'tablespoon', 'milk', '1', 'tablespoon', 'vinegar', '1', 'teaspoon', 'baking', 'soda', '5', '1/2', 'tablespoons', 'butter', 'softened', '1', 'cup', 'granulated', 'sugar', '1', 'egg', 'slightly', 'beaten', '1', '1/2', 'teaspoons', 'vanilla', 'extract', 'for', 'the', 'mocha', 'glaze', '1', '1/2', 'cups', 'confectioners', 'sugar', '2', '1/2', 'tablespoons', 'butter', 'melted', '2', 'tablespoons', 'cocoa', 'powder', 'unsweetened', '2', '1/2', 'tablespoons', 'hot', 'coffee', 'or', 'espresso', 'or', 'more', 'for', 'drizzling', '1/4', 'teaspoon', 'salt'], tags=[904]),\n",
              " TaggedDocument(words=['for', 'the', 'whoopie', 'pies', '4', 'large', 'egg', 'yolks', '2/3', 'cup', 'milk', '1', 'teaspoon', 'vanilla', 'extract', '1', 'cup', 'granulated', 'sugar', '2', 'cups', 'all-purpose', 'flour', '2', 'teaspoons', 'baking', 'powder', '1/4', 'teaspoon', 'salt', '8', 'tablespoons', 'butter', 'softened', 'for', 'the', 'chocolate', 'filling', '5', 'tablespoons', 'buttersoftened', '3', 'cups', 'confectioners', 'sugar', '3', 'tablespoons', 'unsweetened', 'cocoa', 'powder', '1', 'teaspoon', 'vanilla', 'extract', '2', 'tablespoons', 'heavy', 'cream', '2', 'to', '4', 'tablespoons', 'coffee', 'hot', 'and', 'strong', 'or', 'espresso', 'or', 'very', 'hot', 'water', '1/4', 'cup', 'confectioners', 'sugar', '1', 'tablespoon', 'unsweetened', 'cocoa', 'powder', 'for', 'topping', 'optional'], tags=[905]),\n",
              " TaggedDocument(words=['2', 'cupscold', 'coffee', '1/4', 'cup', 'evaporated', 'milk', '2', 'to', '3', 'teaspoons', 'sugar', '1', 'cup', 'vanilla', 'ice', 'cream'], tags=[906]),\n",
              " TaggedDocument(words=['9', 'ounces/252', 'grams', 'heavy', 'whipping', 'cream', '1/4', 'teaspoon', 'vanilla', 'extract', '8', 'ounces/250', 'milliliters', 'espresso', 'coffee', '8', 'ounces/224', 'grams', 'sweetened', 'condensed', 'milk', '4', 'tablespoon', 'cocoa', 'powder'], tags=[907]),\n",
              " TaggedDocument(words=['2', 'ounces', 'cold', 'brew', 'coffee', '3/4', 'ounce', 'fernet-vallet', '1', '1/2', 'ounces', 'st', 'germain', 'liqueur', '4', 'to', '5', 'ounces', 'tonic', '1', 'lemon', 'twist'], tags=[908]),\n",
              " TaggedDocument(words=['2', 'oz', 'whiskey', 'irish', '4', 'oz', 'coffee', 'warm', '05', 'oz', 'simple', 'syrup', 'garnish', 'whipped', 'cream', 'fresh', 'garnish', 'nutmeg', 'fresh', 'grated'], tags=[909]),\n",
              " TaggedDocument(words=['1', '1/2', 'ounces', 'vodka', '3/4', 'ounce', 'coffee', 'liqueur', '1/4', 'ounce', 'crème', 'de', 'cacao', '1', 'ouncechilled', 'espresso', 'garnish', '3', 'coffee', 'beans'], tags=[910]),\n",
              " TaggedDocument(words=['2/3', 'cup', 'coffee', 'strong', 'brewed', 'hot', '2', 'tbsp', 'irishwhiskey', '2', 'tsp', 'raw', 'sugar', 'optional', 'vegan', 'whipped', 'cream', 'or', 'whipped', 'topping'], tags=[911]),\n",
              " TaggedDocument(words=['5', 'green', 'tea', 'ice', 'cubes', '1/2', 'cup', 'plain', 'yogurt', 'or', 'kephir', '/', 'kefir', '1/2', 'banana', '1/2', 'peach', 'sliced', '1/2', 'cup', 'blueberries', 'or', 'strawberries'], tags=[912]),\n",
              " TaggedDocument(words=['1', '1/2', 'ounces', 'pumpkin', 'vodka', '4', 'to', '6', 'ounces', 'apple', 'cider', '1', 'splash', 'club', 'soda', 'lemon', 'wedge'], tags=[913]),\n",
              " TaggedDocument(words=['for', 'the', 'pumpkin', 'ginger', 'scones', '2', 'cups', 'all-purpose', 'flour', '1/2cup', 'granulated', 'sugar', '1', 'teaspoon', 'baking', 'powder', '1/2', 'teaspoon', 'baking', 'soda', '1', 'teaspoon', 'salt', '1', 'teaspoon', 'ground', 'cinnamon', '1', 'teaspoon', 'ground', 'ginger', '1', 'stick', '8', 'tablespoons', 'unsalted', 'butter', 'chilled', 'and', 'cut', 'into', '1/2', 'pieces', '1/2', 'cup', 'unsweetened', 'pumpkin', 'puree', 'do', 'not', 'use', 'pumpkin', 'pie', 'filling', '1/2', 'cup', 'heavy', 'cream', '1', 'teaspoon', 'vanilla', 'extract', 'for', 'the', 'sweet', 'tahini', 'glaze', '1/2', 'cup', 'powdered', 'confectioners', 'sugar', '2', 'tablespoons', 'milk', 'or', 'cream', '1', 'tablespoon', 'plain', 'tahini', 'sesame', 'paste', 'pinch', 'of', 'sea', 'salt'], tags=[914]),\n",
              " TaggedDocument(words=['1', 'liter', 'cooled', 'green', 'or', 'oolong', 'tea', '1', 'liter', 'cooledlemongrass', 'brew', '1/2', 'cup', 'sugar', 'syrup', 'or', 'to', 'taste', '1', 'tablespoon', 'kalamansi', 'juice', 'or', 'to', 'taste'], tags=[915]),\n",
              " TaggedDocument(words=['1', '12', 'ounce', 'bottle', 'lager-style', 'beer', '½', 'cup', 'prepared', 'lemonade'], tags=[916]),\n",
              " TaggedDocument(words=['1', '12', 'fluid', 'ounce', 'can', 'beer', '3', 'dashes', 'hot', 'pepper', 'sauce', 'eg', 'tabasco™'], tags=[917]),\n",
              " TaggedDocument(words=['½', 'cup', 'cherry', 'juice', '1', '12', 'fluid', 'ounce', 'can', 'or', 'bottle', 'wheat', 'beer', 'hefeweizen'], tags=[918]),\n",
              " TaggedDocument(words=['1', 'pound', 'fresh', 'strawberries', 'hulled', 'and', 'cut', 'into', 'chunks', '12', 'fluid', 'ounces', 'white', 'tequila', '1', '12', 'fluid', 'ounce', 'can', 'or', 'bottle', 'lemon-lime', 'flavored', 'carbonated', 'beverage', '1', '12', 'fluid', 'ounce', 'can', 'or', 'bottle', 'light', 'beer', '1', '12', 'fluid', 'ounce', 'can', 'frozen', 'limeade', 'concentrate', 'thawed', 'ice', 'or', 'as', 'needed', '1', 'teaspoon', 'kosher', 'salt', 'for', 'rimming', 'glasses', 'optional'], tags=[919]),\n",
              " TaggedDocument(words=['1', '12', 'fluid', 'ounce', 'can', 'frozen', 'limeade', 'concentrate', '12', 'fluid', 'ounces', 'tequila', '12', 'fluid', 'ounces', 'water', '12', 'fluid', 'ounces', 'beer', 'ice', '1', 'lime', 'cut', 'into', 'wedges'], tags=[920]),\n",
              " TaggedDocument(words=['1', '12', 'fluid', 'ounce', 'can', 'or', 'bottle', 'beer', '4', 'fluid', 'ounces', 'orange', 'juice'], tags=[921]),\n",
              " TaggedDocument(words=['1', '12', 'fluid', 'ounce', 'bottle', 'lager', 'beer', 'such', 'as', 'harp®', '1', '12', 'fluid', 'ounce', 'can', 'or', 'bottle', 'irish', 'stout', 'beer', 'such', 'as', 'guinness®'], tags=[922]),\n",
              " TaggedDocument(words=['1', '12', 'fluid', 'ounce', 'can', 'frozen', 'pink', 'lemonade', 'concentrate', 'thawed', '12', 'fluid', 'ounces', 'water', '12', 'fluid', 'ounces', 'vodka', '1', '12', 'fluid', 'ounce', 'can', 'or', 'bottle', 'beer'], tags=[923]),\n",
              " TaggedDocument(words=['6', '12', 'fluid', 'ounce', 'cans', 'or', 'bottles', 'beer', '1', '12', 'fluid', 'ounce', 'can', 'frozen', 'limeade', 'concentrate', 'such', 'as', 'minute', 'maid®', '12', 'fluid', 'ounces', 'tequila', '6', 'cups', 'ice', 'cubes'], tags=[924]),\n",
              " TaggedDocument(words=['1', 'cup', 'chocolate', 'stout', 'beer', '1', 'scoop', 'coffee', 'ice', 'cream', '1', 'pinch', 'unsweetened', 'cocoa', 'powder', '1', 'cup', 'belgian-style', 'raspberry', 'sour', 'beer', '1', 'scoop', 'vanilla', 'ice', 'cream'], tags=[925]),\n",
              " TaggedDocument(words=['1', 'lime', 'juiced', '1', 'teaspoon', 'chile-lime', 'seasoning', 'such', 'as', 'tajin®', 'or', 'more', 'to', 'taste', 'ice', '½', 'cup', 'tomato', 'juice', 'cocktail', 'such', 'as', 'clamato®', 'chilled', '1', 'tablespoon', 'chamoy', 'mexican', 'chili', 'fruit', 'condiment', 'optional', '1', 'teaspoon', 'hot', 'pepper', 'sauce', 'such', 'as', 'tapatio®', '1', 'teaspoon', 'worcestershire', 'sauce', '1', 'teaspoon', 'soy', 'sauce', '¼', 'teaspoon', 'cayenne', 'pepper', 'optional', '1', '12', 'fluid', 'ounce', 'can', 'or', 'bottle', 'dark', 'beer', 'such', 'as', 'dos', 'equis', 'xx', 'cerveza'], tags=[926]),\n",
              " TaggedDocument(words=['1', '12', 'fluid', 'ounce', 'can', 'or', 'bottle', 'beer', '1', '6', 'ounce', 'can', 'frozen', 'lemonade', 'concentrate', '3', 'fluid', 'ounces', 'vodka'], tags=[927]),\n",
              " TaggedDocument(words=['1', '12', 'ounce', 'bottle', 'lager', 'beer', 'such', 'as', 'corona®', '1', 'fluid', 'ounce', 'tequila', '1', 'fluid', 'ounce', 'orange', 'juice', '2', 'teaspoons', 'grenadine', 'syrup', '1', 'teaspoon', 'lime', 'juice'], tags=[928]),\n",
              " TaggedDocument(words=['4', 'cups', 'ice', 'cubes', '1', '6', 'ounce', 'can', 'frozen', 'lemonade', 'concentrate', '1', '12', 'fluid', 'ounce', 'can', 'or', 'bottle', 'beer', '12', 'fluid', 'ounces', 'vodka'], tags=[929]),\n",
              " TaggedDocument(words=['coarse', 'salt', 'for', 'rim', 'of', 'mug', 'or', 'as', 'needed', 'ice', 'cubes', '¼', 'teaspoon', 'salt', '1', 'lemon', 'juiced', '1', 'dash', 'hot', 'pepper', 'sauce', 'such', 'as', 'tabasco®', 'or', 'to', 'taste', '½', 'teaspoon', 'soy', 'sauce', '109½', 'cups', 'tomato', 'and', 'clam', 'juice', 'cocktail', 'such', 'as', 'clamato®', 'or', 'as', 'needed', '½', 'cup', 'cold', 'beer'], tags=[930]),\n",
              " TaggedDocument(words=['1', 'cup', 'beer', '1', 'fluid', 'ounce', 'amaretto', 'liqueur', '¼', 'fluid', 'ounce', '151', 'proof', 'rum'], tags=[931]),\n",
              " TaggedDocument(words=['6', '12', 'fluid', 'ounce', 'cans', 'or', 'bottles', 'beer', '1', '12', 'fluid', 'ounce', 'can', 'frozen', 'lemonade', 'concentrate', '1', 'pint', 'whiskey'], tags=[932]),\n",
              " TaggedDocument(words=['2', '12', 'fluid', 'ounce', 'cans', 'or', 'bottles', 'lemon-lime', 'soda', 'or', 'more', 'to', 'taste', '1', '12', 'ounce', 'bottle', 'mexican', 'beer', 'such', 'as', 'corona®', '1', '12', 'fluid', 'ounce', 'can', 'frozen', 'limeade', 'concentrate', '12', 'fluid', 'ounces', 'tequila', 'ice', '2', 'leaves', 'mint', 'chopped', 'or', 'more', 'to', 'taste', 'optional'], tags=[933]),\n",
              " TaggedDocument(words=['coarse', 'salt', '3', 'cubes', 'ice', '1', 'lime', 'juiced', '1', '12', 'fluid', 'ounce', 'can', 'or', 'bottle', 'mexican', 'beer', '½', 'teaspoon', 'steak', 'sauce', '1', 'dash', 'cayenne', 'pepper', '1', 'dash', 'black', 'pepper', '1', 'pinch', 'dried', 'oregano', '1', 'pinch', 'dried', 'basil'], tags=[934]),\n",
              " TaggedDocument(words=['1', '64', 'ounce', 'bottle', 'tomato', 'and', 'clam', 'juice', 'cocktail', 'such', 'as', 'clamato®', '1', '12', 'fluid', 'ounce', 'can', 'frozen', 'orange', 'juice', 'concentrate', 'thawed', '5', 'limes', 'juiced', '⅓', 'cup', 'worcestershire', 'sauce', '½', 'cup', 'hot', 'sauce', 'such', 'as', 'valentina®', 'or', 'tabasco®', '3', 'tablespoons', 'ground', 'black', 'pepper', '109½', 'teaspoons', 'cayenne', 'pepper', 'or', 'to', 'taste', '2', 'tablespoons', 'salt', 'salt', 'for', 'rimming', 'glasses', '24', 'wedges', 'lime', 'ice', 'cubes', '24', '12', 'fluid', 'ounce', 'cans', 'mexican', 'beer'], tags=[935]),\n",
              " TaggedDocument(words=['1', '12', 'fluid', 'ounce', 'can', 'or', 'bottle', 'beer', '1', '55', 'ounce', 'can', 'tomato-vegetable', 'juice', 'cocktail', '1', 'dash', 'louisiana-style', 'hot', 'sauce', '1', 'dash', 'worcestershire', 'sauce', '1', 'pinch', 'seasoning', 'salt'], tags=[936]),\n",
              " TaggedDocument(words=['1', 'fluid', 'ounce', 'montenegro', 'amaro', 'liqueur', '1', 'fluid', 'ounce', 'freshly', 'squeezed', 'grapefruit', 'juice', '5', 'fluid', 'ounces', 'lager', 'beer', 'chilled'], tags=[937]),\n",
              " TaggedDocument(words=['1', 'teaspoon', 'chili-lime', 'seasoning', 'such', 'as', 'tajin®', '½', 'lime', 'cut', 'into', '2', 'wedges', 'ice', 'as', 'needed', '¾', 'teaspoon', 'soy-based', 'liquid', 'seasoning', 'such', 'as', 'maggi®', 'jugo', '¾', 'teaspoon', 'mexican-style', 'hot', 'sauce', 'such', 'as', 'valentina®', '3', 'fluid', 'ounces', 'tomato', 'and', 'clam', 'juice', 'cocktail', 'such', 'as', 'clamato®', '1', '12', 'fluid', 'ounce', 'bottle', 'light', 'mexican', 'beer', 'such', 'as', 'modelo®'], tags=[938]),\n",
              " TaggedDocument(words=['1', 'pint', 'beer', '1', '15', 'fluid', 'ounce', 'jigger', 'whiskey', '½', '15', 'fluid', 'ounce', 'jigger', 'grenadine', 'syrup'], tags=[939]),\n",
              " TaggedDocument(words=['4', '12', 'fluid', 'ounce', 'cans', 'or', 'bottles', 'light', 'beer', '2', '12', 'ounce', 'cans', 'frozen', 'lemonade', 'concentrate', 'such', 'as', 'minute', 'maid®', '12', 'fluid', 'ounces', 'vodka'], tags=[940]),\n",
              " TaggedDocument(words=['1', '12', 'fluid', 'ounce', 'can', 'or', 'bottle', 'irish', 'stout', 'beer', '1', '15', 'fluid', 'ounce', 'jigger', 'irish', 'whiskey'], tags=[941]),\n",
              " TaggedDocument(words=['1', '12', 'fluid', 'ounce', 'can', 'or', 'bottle', 'clear', 'malt', 'liquor', '1', '15', 'fluid', 'ounce', 'jigger', 'blackberry', 'brandy'], tags=[942]),\n",
              " TaggedDocument(words=['1', '12', 'ounce', 'bottle', 'mexican', 'beer', '½', '15', 'fluid', 'ounce', 'jigger', 'full-flavored', 'gin', 'such', 'as', 'tanqueray', 'or', 'plymouth', '3', 'tablespoons', 'fresh', 'lemon', 'juice'], tags=[943]),\n",
              " TaggedDocument(words=['2', 'quarts', 'apple', 'cider', '2', 'cups', 'orange', 'juice', '1', '46', 'fluid', 'ounce', 'can', 'pineapple', 'juice', '2', '3', 'inch', 'cinnamon', 'sticks', '1', 'tablespoon', 'whole', 'cloves', '½', 'cup', 'honey'], tags=[944]),\n",
              " TaggedDocument(words=['1', 'quart', 'water', '3', 'orange', 'spice', 'tea', 'bags', '½', 'cup', 'light', 'brown', 'sugar', '2', 'cups', 'apple', 'cider', '109½', 'cups', 'light', 'rum', '8', 'cinnamon', 'sticks', '3', 'teaspoons', 'butter'], tags=[945]),\n",
              " TaggedDocument(words=['1', '64', 'fluid', 'ounce', 'bottle', 'apple', 'cider', '3', 'cinnamon', 'sticks', '1', 'teaspoon', 'whole', 'allspice', '1', 'teaspoon', 'whole', 'cloves', '⅓', 'cup', 'brown', 'sugar'], tags=[946]),\n",
              " TaggedDocument(words=['6', 'cups', 'apple', 'cider', '¼', 'cup', 'real', 'maple', 'syrup', '2', 'cinnamon', 'sticks', '6', 'whole', 'cloves', '6', 'whole', 'allspice', 'berries', '1', 'orange', 'peel', 'cut', 'into', 'strips', '1', 'lemon', 'peel', 'cut', 'into', 'strips'], tags=[947]),\n",
              " TaggedDocument(words=['1', 'gallon', 'apple', 'cider', '1', 'gallon', 'apple', 'juice', '6', '3', 'inch', 'cinnamon', 'sticks', '109½', 'cups', 'white', 'sugar', 'or', 'to', 'taste', '1', '1', 'liter', 'bottle', '190', 'proof', 'grain', 'alcohol', 'such', 'as', 'everclear™'], tags=[948]),\n",
              " TaggedDocument(words=['10', 'apples', 'quartered', '¾', 'cup', 'white', 'sugar', '1', 'tablespoon', 'ground', 'cinnamon', '1', 'tablespoon', 'ground', 'allspice'], tags=[949]),\n",
              " TaggedDocument(words=['¼', 'cup', 'packed', 'brown', 'sugar', '½', 'teaspoon', 'whole', 'allspice', '1', 'teaspoon', 'whole', 'cloves', '1', 'cinnamon', 'stick', '¼', 'teaspoon', 'salt', '1', 'pinch', 'ground', 'nutmeg', '1', 'large', 'orange', 'quartered', 'with', 'peel', '2', 'quarts', 'apple', 'cider'], tags=[950]),\n",
              " TaggedDocument(words=['½', 'gallon', 'apple', 'cider', '½', 'gallon', 'cranberry', 'juice', '1', 'cup', 'lemon', 'juice', '109¼', 'cups', 'pineapple', 'juice', '1', 'large', 'orange', 'thinly', 'sliced', '24', 'whole', 'cloves', '¼', 'cup', 'clover', 'honey', '½', 'cup', 'white', 'sugar', '4', 'cinnamon', 'sticks', '1', 'teaspoon', 'ground', 'nutmeg', '1', 'teaspoon', 'ground', 'allspice', '½', 'teaspoon', 'ground', 'ginger', '12', 'fresh', 'mint', 'leaves', '12', 'orange', 'slices', 'for', 'garnish'], tags=[951]),\n",
              " TaggedDocument(words=['2', 'quarts', 'apple', 'cider', '6', 'cups', 'cranberry', 'juice', '¼', 'cup', 'packed', 'brown', 'sugar', '4', 'cinnamon', 'sticks', '109½', 'teaspoons', 'whole', 'cloves', '1', 'lemon', 'thinly', 'sliced'], tags=[952]),\n",
              " TaggedDocument(words=['1', 'gallon', 'apple', 'cider', '1', 'quart', 'pineapple', 'juice', '1', 'pinch', 'ground', 'nutmeg', 'or', 'more', 'to', 'taste', '20', 'whole', 'cloves', '1', 'orange', '5', 'cinnamon', 'sticks', 'or', 'more', 'to', 'taste'], tags=[953]),\n",
              " TaggedDocument(words=['2', 'gallons', 'apple', 'cider', '2', 'cups', 'fresh', 'orange', 'juice', '1', 'cup', 'lemon', 'juice', '1', 'cup', 'pineapple', 'juice', '1', 'cup', 'white', 'sugar', '1', 'teaspoon', 'whole', 'cloves', '1', 'cinnamon', 'stick', 'broken', 'into', 'pieces'], tags=[954]),\n",
              " TaggedDocument(words=['½', 'gallon', 'apple', 'cider', '1', '46', 'fluid', 'ounce', 'can', 'pineapple', 'juice', '46', 'fluid', 'ounces', 'cranberry', 'juice', 'cocktail', '1', 'orange', 'thinly', 'sliced', '5', 'cinnamon', 'sticks', '1', 'tablespoon', 'whole', 'allspice', 'berries', '1', 'tablespoon', 'whole', 'cloves'], tags=[955]),\n",
              " TaggedDocument(words=['2', 'cups', 'apple', 'cider', '½', 'cup', 'spiced', 'rum', '¼', 'cup', 'cinnamon', 'schnapps', '4', 'cubes', 'ice', 'cubes'], tags=[956]),\n",
              " TaggedDocument(words=['½', 'gallon', 'fresh', 'apple', 'cider', '1', 'cup', 'apple', 'brandy', 'optional', '¼', 'cup', 'brown', 'sugar', '1', 'tablespoon', 'brown', 'sugar', '¼', 'cup', 'honey', '1', 'teaspoon', 'ground', 'cinnamon', '¾', 'teaspoon', 'ground', 'ginger', '½', 'teaspoon', 'ground', 'nutmeg', '½', 'teaspoon', 'ground', 'cloves', '½', 'teaspoon', 'ground', 'black', 'pepper', '1', 'pinch', 'salt', '10', 'thin', 'strips', 'orange', 'zest', '10', 'small', 'cinnamon', 'sticks'], tags=[957]),\n",
              " TaggedDocument(words=['1', '16', 'ounce', 'bottle', 'apple', 'cider', '½', 'cup', 'pure', 'maple', 'syrup', '½', 'cup', 'butter', 'softened', '½', 'teaspoon', 'ground', 'nutmeg', '½', 'teaspoon', 'ground', 'allspice'], tags=[958]),\n",
              " TaggedDocument(words=['2', 'cups', 'apple', 'cider', '½', 'cup', 'orange', 'juice', '¼', 'cup', 'peach', 'schnapps', '¼', 'cup', 'triple', 'sec', 'orange-flavored', 'liqueur', '1', 'pinch', 'ground', 'cinnamon', '1', 'pinch', 'ground', 'nutmeg'], tags=[959]),\n",
              " TaggedDocument(words=['1', 'cup', 'white', 'sugar', '1', 'cup', 'orange', 'flavored', 'drink', 'mix', 'such', 'as', 'tang®', '½', 'cup', 'instant', 'tea', 'powder', '½', 'teaspoon', 'ground', 'cinnamon', '½', 'teaspoon', 'ground', 'cloves'], tags=[960]),\n",
              " TaggedDocument(words=['7', 'cups', 'apple', 'cider', '⅓', 'cup', 'brown', 'sugar', '4', 'cinnamon', 'sticks', '1', 'teaspoon', 'whole', 'allspice', '1', 'teaspoon', 'whole', 'cloves', '1', 'tablespoon', 'lemon', 'zest', '109½', 'cups', 'dark', 'rum', '½', 'cup', 'butterscotch', 'schnapps'], tags=[961]),\n",
              " TaggedDocument(words=['3', 'cups', 'apple', 'juice', '209½', 'cups', 'unsweetened', 'pineapple', 'juice', '2', 'cups', 'cranberry', 'juice', '¼', 'cup', 'brown', 'sugar', '2', 'cinnamon', 'sticks', '2', 'teaspoons', 'whole', 'cloves', '2', 'teaspoons', 'ground', 'allspice'], tags=[962]),\n",
              " TaggedDocument(words=['2', 'oranges', '60', 'whole', 'cloves', '2', '6', 'ounce', 'cans', 'frozen', 'apple', 'juice', 'concentrate', 'thawed', '309½', 'cups', 'water', '4', '2', 'inch', 'sticks', 'cinnamon', 'sticks'], tags=[963]),\n",
              " TaggedDocument(words=['4', 'cups', 'apple', 'cider', '3', 'cinnamon', 'sticks', 'plus', 'more', 'for', 'garnish', '½', 'lemon', 'zested', 'optional', '½', 'teaspoon', 'whole', 'cloves', 'or', 'to', 'taste', '⅛', 'teaspoon', 'ground', 'nutmeg', '⅛', 'teaspoon', 'ground', 'allspice', '1', 'tablespoon', 'honey', 'or', 'to', 'taste', '½', 'lemon', 'sliced', 'optional'], tags=[964]),\n",
              " TaggedDocument(words=['1', 'gallon', 'fresh', 'apple', 'cider', '16', 'fluid', 'ounces', 'brandy', '5', 'fluid', 'ounces', 'moonshine', 'clear', 'or', 'white', 'whiskey', '2', 'cinnamon', 'sticks', '2', 'teaspoons', 'ground', 'cinnamon', '1', 'teaspoon', 'nutmeg'], tags=[965]),\n",
              " TaggedDocument(words=['409½', 'cups', 'pineapple', 'juice', '109⅛', 'cups', 'orange', 'juice', '⅓', 'cup', 'lime', 'juice', '¼', 'fresh', 'pineapple', 'sliced', '½', 'blood', 'orange', 'sliced', '½', 'lime', 'sliced', '1', '750', 'milliliter', 'bottle', 'prosecco', 'italian', 'sparkling', 'wine', '¼', 'cup', 'campari', '4', 'slices', 'pineapple', 'and', 'orange', 'slices', 'for', 'garnish'], tags=[966]),\n",
              " TaggedDocument(words=['5', 'fluid', 'ounces', 'tequila', '3', 'fluid', 'ounces', 'fresh', 'lime', 'juice', '1', 'fluid', 'ounce', 'sweetened', 'lime', 'juice', '3', 'fluid', 'ounces', 'triple', 'sec', 'orange-flavored', 'liqueur', 'ice', 'cubes', '1', 'lime', 'cut', 'into', 'wedges', 'rimming', 'salt'], tags=[967]),\n",
              " TaggedDocument(words=['2', 'limes', '¼', 'cup', 'white', 'sugar', '1', 'red', 'grapefruit', 'halved', 'widthwise', '¼', 'cup', 'kosher', 'salt', '1', 'cup', 'ice', 'cubes', 'or', 'as', 'needed', '4', 'fluid', 'ounces', 'tequila', '2', 'tablespoons', 'simple', 'syrup', 'or', 'to', 'taste', '4', 'fluid', 'ounces', 'club', 'soda'], tags=[968]),\n",
              " TaggedDocument(words=['1', 'fluid', 'ounce', 'coconut', 'rum', '¾', 'fluid', 'ounce', 'vodka', '1', 'fluid', 'ounce', 'pineapple', 'juice', '1', 'dash', 'grenadine', 'syrup'], tags=[969]),\n",
              " TaggedDocument(words=['6', 'mint', 'leaves', '4', 'teaspoons', 'white', 'sugar', '1', 'lime', 'cut', 'into', '6', 'wedges', '2', '15', 'fluid', 'ounce', 'jiggers', 'lemon-flavored', 'rum', '1', 'cup', 'ice', 'cubes', 'or', 'as', 'needed', '½', 'cup', 'carbonated', 'water', 'or', 'as', 'needed'], tags=[970]),\n",
              " TaggedDocument(words=['3', 'cups', 'bottled', 'bloody', 'mary', 'mix', '1', 'tablespoon', 'prepared', 'horseradish', '1', 'teaspoon', 'chopped', 'fresh', 'dill', '1', 'teaspoon', 'hot', 'pepper', 'sauce', 'such', 'as', 'franks', 'redhot®', '2', 'tablespoons', 'dill', 'pickle', 'juice', '½', 'cup', 'kosher', 'salt', '1', 'teaspoon', 'ground', 'black', 'pepper', '1', 'teaspoon', 'celery', 'seed', '1', 'lime', 'juiced', '6', '15', 'fluid', 'ounce', 'jiggers', 'vodka', 'optional', '6', 'dill', 'pickle', 'spears', '1', 'fresh', 'lime', 'cut', 'into', 'wedges'], tags=[971]),\n",
              " TaggedDocument(words=['2', 'cups', 'water', '2', 'cups', 'white', 'sugar', '½', 'cup', 'roughly', 'chopped', 'fresh', 'mint', 'leaves', '32', 'fluid', 'ounces', 'kentucky', 'bourbon', '8', 'sprigs', 'fresh', 'mint', 'leaves', 'for', 'garnish'], tags=[972]),\n",
              " TaggedDocument(words=['1', 'cup', 'pimms', 'no', '1™', 'gin-based', 'liqueur', '2', 'quarts', 'lemonade', '1', '4', 'inch', 'wedge', 'of', 'cucumber', '1', 'red', 'apple', 'cored', 'and', 'thinly', 'sliced', '1', 'orange', 'sliced', '½', 'lemon', 'sliced', '½', 'lime', 'sliced', '2', 'slices', 'fresh', 'pineapple', 'optional', '2', 'strawberries', 'sliced', 'optional', '3', 'leaves', 'fresh', 'mint'], tags=[973]),\n",
              " TaggedDocument(words=['1', '15', 'fluid', 'ounce', 'jigger', 'pear', 'brandy', '½', 'fluid', 'ounce', 'lemon', 'juice', '½', 'fluid', 'ounce', 'simple', 'syrup', '1', 'fluid', 'ounce', 'pear', 'nectar'], tags=[974]),\n",
              " TaggedDocument(words=['2', 'fluid', 'ounces', 'vodka', '2', 'fluid', 'ounces', 'freshly', 'squeezed', 'grapefruit', 'juice', '109½', 'fluid', 'ounces', 'freshly', 'squeezed', 'pomegranate', 'juice', '½', 'fluid', 'ounce', 'sweet', 'french', 'vermouth', '½', 'ounce', 'cream', 'of', 'balsamic', 'balsamic', 'glaze', '¼', 'fluid', 'ounce', 'cold-pressed', 'cranberry', 'juice', '⅛', 'teaspoon', 'freshly', 'ground', 'pink', 'peppercorns', 'ice', 'cubes', '1', 'pinch', 'freshly', 'grated', 'orange', 'zest'], tags=[975]),\n",
              " TaggedDocument(words=['½', 'fluid', 'ounce', 'vodka', '½', 'fluid', 'ounce', 'rum', '½', 'fluid', 'ounce', 'gin', '½', 'fluid', 'ounce', 'tequila', '½', 'fluid', 'ounce', 'triple', 'sec', 'orange-flavored', 'liqueur', '1', 'fluid', 'ounce', 'sweet', 'and', 'sour', 'mix', '1', 'fluid', 'ounce', 'cola', 'or', 'to', 'taste', '1', 'lemon', 'slice'], tags=[976]),\n",
              " TaggedDocument(words=['1', '15', 'fluid', 'ounce', 'jigger', 'spiced', 'rum', '½', '15', 'fluid', 'ounce', 'jigger', 'coconut-flavored', 'rum', '1', 'teaspoon', 'grenadine', 'syrup', '3', 'fluid', 'ounces', 'pineapple', 'juice', '2', 'fluid', 'ounces', 'orange', 'juice', '1', 'cup', 'ice', 'cubes'], tags=[977]),\n",
              " TaggedDocument(words=['10', 'fresh', 'mint', 'leaves', '½', 'lime', 'cut', 'into', '4', 'wedges', '2', 'tablespoons', 'white', 'sugar', 'or', 'to', 'taste', '1', 'cup', 'ice', 'cubes', '109½', 'fluid', 'ounces', 'white', 'rum', '½', 'cup', 'club', 'soda'], tags=[978]),\n",
              " TaggedDocument(words=['6', 'cups', 'ice', '½', 'cup', 'white', 'sugar', '4', 'ounces', 'frozen', 'strawberries', '⅛', 'cup', 'lime', 'juice', '½', 'cup', 'lemon', 'juice', '¾', 'cup', 'rum', '¼', 'cup', 'lemon-lime', 'flavored', 'carbonated', 'beverage'], tags=[979]),\n",
              " TaggedDocument(words=['109½', 'fluid', 'ounces', 'vodka', '½', 'fluid', 'ounce', 'lime', 'juice', 'ice', 'cubes', '½', 'cup', 'ginger', 'beer', '1', 'lime', 'wedge', 'for', 'garnish'], tags=[980]),\n",
              " TaggedDocument(words=['2', 'teaspoons', 'simple', 'syrup', '1', 'teaspoon', 'water', '2', 'dashes', 'bitters', '1', 'cup', 'ice', 'cubes', '1', '15', 'fluid', 'ounce', 'jigger', 'bourbon', 'whiskey', '1', 'slice', 'orange', '1', 'maraschino', 'cherry'], tags=[981]),\n",
              " TaggedDocument(words=['½', 'cup', 'brandy', '¼', 'cup', 'lemon', 'juice', '⅓', 'cup', 'frozen', 'lemonade', 'concentrate', '⅓', 'cup', 'orange', 'juice', '1', '750', 'milliliter', 'bottle', 'dry', 'red', 'wine', '½', 'cup', 'triple', 'sec', '1', 'lemon', 'sliced', 'into', 'rounds', '1', 'orange', 'sliced', 'into', 'rounds', '1', 'lime', 'sliced', 'into', 'rounds', '¼', 'cup', 'white', 'sugar', 'optional', '8', 'maraschino', 'cherries', '2', 'cups', 'carbonated', 'water', 'optional'], tags=[982]),\n",
              " TaggedDocument(words=['3', 'fluid', 'ounces', 'vodka', '1', 'fluid', 'ounce', 'dry', 'vermouth', '1', 'cup', 'ice', 'cubes', '3', 'olives'], tags=[983]),\n",
              " TaggedDocument(words=['1', 'lime', 'wedge', '1', 'pinch', 'coarse', 'sea', 'salt', 'to', 'taste', '1', 'large', 'ice', 'cube', 'ice', '2', 'fluid', 'ounces', 'white', 'tequila', '109½', 'fluid', 'ounces', 'triple', 'sec', '1', 'fluid', 'ounce', 'freshly', 'squeezed', 'lime', 'juice', '1', 'slice', 'lime'], tags=[984]),\n",
              " TaggedDocument(words=['6', 'fluid', 'ounces', 'tequila', '2', 'fluid', 'ounces', 'triple', 'sec', '8', 'ounces', 'frozen', 'sliced', 'strawberries', 'in', 'syrup', '4', 'fluid', 'ounces', 'frozen', 'limeade', 'concentrate'], tags=[985]),\n",
              " TaggedDocument(words=['1', 'teaspoon', 'sea', 'salt', '1', 'cup', 'ice', 'cubes', '1', '15', 'fluid', 'ounce', 'jigger', 'vodka', '¾', 'cup', 'spicy', 'tomato-vegetable', 'juice', 'cocktail', 'eg', 'v-8', '2', 'dashes', 'worcestershire', 'sauce', '1', 'dash', 'hot', 'pepper', 'sauce', 'eg', 'tabasco™', 'salt', 'and', 'pepper', 'to', 'taste', '1', 'stalk', 'celery', '2', 'stuffed', 'green', 'olives'], tags=[986]),\n",
              " TaggedDocument(words=['109½', 'fluid', 'ounces', 'vodka', '¼', 'fluid', 'ounce', 'lime', 'juice', '¼', 'fluid', 'ounce', 'triple', 'sec', '¼', 'fluid', 'ounce', 'cranberry', 'juice', '1', 'cup', 'ice', '1', 'lime', 'wedge', 'for', 'garnish'], tags=[987]),\n",
              " TaggedDocument(words=['2', 'cups', 'ice', 'cubes', 'or', 'as', 'needed', '2', 'fluid', 'ounces', 'orange-flavored', 'vodka', '1', 'fluid', 'ounce', 'triple', 'sec', 'liqueur', '2', 'valencia', 'oranges', 'juiced', '1', 'splash', 'lemon-lime', 'soda', 'such', 'as', 'sprite®', 'optional', '1', 'slice', 'orange'], tags=[988]),\n",
              " TaggedDocument(words=['½', 'cup', 'white', 'sugar', '36', 'leaves', 'fresh', 'mint', 'or', 'to', 'taste', '3', 'limes', 'quartered', '1', 'cup', 'rum', 'such', 'as', 'bacardi®', '1', 'liter', 'club', 'soda'], tags=[989]),\n",
              " TaggedDocument(words=['2', 'cups', 'ice', 'divided', 'or', 'as', 'needed', '1', 'fluid', 'ounce', 'pineapple', 'juice', '1', 'fluid', 'ounce', 'orange', 'juice', '1', 'fluid', 'ounce', 'blackberry', 'liqueur', '1', 'fluid', 'ounce', 'banana', 'liqueur', '1', 'fluid', 'ounce', 'light', 'rum', '1', 'fluid', 'ounce', 'dark', 'rum', '1', 'splash', 'grenadine', 'syrup', 'or', 'more', 'to', 'taste', '1', 'fluid', 'ounce', 'high-proof', 'rum', 'such', 'as', 'bacardi®151', '1', 'slice', 'orange'], tags=[990]),\n",
              " TaggedDocument(words=['¾', 'cup', 'champagne', 'chilled', '¼', 'cup', 'orange', 'juice'], tags=[991]),\n",
              " TaggedDocument(words=['¼', 'cup', 'white', 'sugar', '¼', 'cup', 'water', '2', 'tablespoons', 'ground', 'coffee', 'beans', '½', 'cup', 'gold', 'rum', '5', 'ounces', 'pineapple', 'juice', '109¼', 'cups', 'freshly', 'squeezed', 'lemon', 'juice', '3', 'cups', 'crushed', 'ice'], tags=[992]),\n",
              " TaggedDocument(words=['1', 'lemon', '1', 'lime', '1', 'orange', '109½', 'cups', 'rum', '½', 'cup', 'white', 'sugar', '1', '750', 'milliliter', 'bottle', 'dry', 'red', 'wine', '1', 'cup', 'orange', 'juice'], tags=[993]),\n",
              " TaggedDocument(words=['1', '6', 'ounce', 'can', 'frozen', 'limeade', 'concentrate', '6', 'fluid', 'ounces', 'tequila', '2', 'fluid', 'ounces', 'triple', 'sec'], tags=[994]),\n",
              " TaggedDocument(words=['2', '15', 'fluid', 'ounce', 'jiggers', 'coconut', 'flavored', 'rum', '4', 'fluid', 'ounces', 'pineapple', 'juice', '1', 'tablespoon', 'cranberry', 'juice'], tags=[995]),\n",
              " TaggedDocument(words=['109½', 'cups', 'cold', 'coffee', '109½', 'cups', 'chocolate', 'ice', 'cream', '¼', 'cup', 'chocolate', 'syrup', 'crushed', 'ice', '1', 'cup', 'whipped', 'cream'], tags=[996]),\n",
              " TaggedDocument(words=['⅔', 'cup', 'nonfat', 'dry', 'milk', 'powder', '⅔', 'cup', 'instant', 'coffee', 'granules', '109⅓', 'cups', 'white', 'sugar', '⅓', 'cup', 'unsweetened', 'cocoa', 'powder', '109½', 'teaspoons', 'pumpkin', 'pie', 'spice', '½', 'teaspoon', 'ground', 'cinnamon', '¼', 'teaspoon', 'ground', 'red', 'pepper'], tags=[997]),\n",
              " TaggedDocument(words=['½', 'pound', 'coarsely', 'ground', 'coffee', 'beans', '409½', 'cups', 'cold', 'water', 'cheesecloth', 'coffee', 'filters'], tags=[998]),\n",
              " TaggedDocument(words=['109½', 'cups', 'cold', 'coffee', '2', 'cups', 'milk', '¼', 'cup', 'chocolate', 'syrup', '¼', 'cup', 'white', 'sugar'], tags=[999]),\n",
              " ...]"
            ]
          },
          "metadata": {
            "tags": []
          },
          "execution_count": 18
        }
      ]
    },
    {
      "cell_type": "markdown",
      "metadata": {
        "id": "gprEflRXtYBT"
      },
      "source": [
        "## 3.3. Training model"
      ]
    },
    {
      "cell_type": "markdown",
      "metadata": {
        "id": "nyEhhyjazNRu"
      },
      "source": [
        "Next, we train the model with the parameters\n"
      ]
    },
    {
      "cell_type": "code",
      "metadata": {
        "colab": {
          "base_uri": "https://localhost:8080/",
          "height": 52
        },
        "id": "YH9pTWLsWEMC",
        "outputId": "1fb17c77-b36a-4fd7-9f0a-7118d1901c95"
      },
      "source": [
        "## Train doc2vec model\n",
        "model = Doc2Vec(tagged_data, vector_size = 50, window = 2, min_count = 2, epochs = 30)\n",
        "\n",
        "'''\n",
        "vector_size = Dimensionality of the feature vectors.\n",
        "window = The maximum distance between the current and predicted word within a sentence.\n",
        "min_count = Ignores all words with total frequency lower than this.\n",
        "alpha = The initial learning rate.\n",
        "'''\n",
        "\n",
        "## Print model vocabulary\n",
        "# model.wv.vocab\n",
        "# model.wv.key_to_index"
      ],
      "execution_count": null,
      "outputs": [
        {
          "output_type": "execute_result",
          "data": {
            "application/vnd.google.colaboratory.intrinsic+json": {
              "type": "string"
            },
            "text/plain": [
              "'\\nvector_size = Dimensionality of the feature vectors.\\nwindow = The maximum distance between the current and predicted word within a sentence.\\nmin_count = Ignores all words with total frequency lower than this.\\nalpha = The initial learning rate.\\n'"
            ]
          },
          "metadata": {
            "tags": []
          },
          "execution_count": 20
        }
      ]
    },
    {
      "cell_type": "markdown",
      "metadata": {
        "id": "VPo8e9Witr4W"
      },
      "source": [
        "**Save model**"
      ]
    },
    {
      "cell_type": "code",
      "metadata": {
        "id": "d26gQhH5HlvW"
      },
      "source": [
        "# Save model\n",
        "model.save(\"./doc2vecmodel_4.0.mod\")"
      ],
      "execution_count": null,
      "outputs": []
    },
    {
      "cell_type": "code",
      "metadata": {
        "id": "2Ib9SWgcqcVo"
      },
      "source": [
        "# Load model\n",
        "model_path = '/content/gdrive/MyDrive/Colab Notebooks/Final Project/Model/doc2vecmodel_final.mod'\n",
        "model = Doc2Vec.load(model_path) "
      ],
      "execution_count": null,
      "outputs": []
    },
    {
      "cell_type": "markdown",
      "metadata": {
        "id": "5b0ipgwduVbX"
      },
      "source": [
        "## 3.4. Finding similar vectors"
      ]
    },
    {
      "cell_type": "markdown",
      "metadata": {
        "id": "9BQLugySvSiJ"
      },
      "source": [
        "Now, we give a test sentence. The infer_vector function returns the vectorized form of test sentence.\n",
        "\n",
        "Let's call the most_similar function, which returns top most similar sentences and its indices throughout the document."
      ]
    },
    {
      "cell_type": "code",
      "metadata": {
        "colab": {
          "base_uri": "https://localhost:8080/"
        },
        "id": "M5cll4j7WIU2",
        "outputId": "21719488-063b-4e02-e3ee-c8375088144d"
      },
      "source": [
        "# Input test sentence\n",
        "input = \"2 ounces gin, 4 ounces tonic, strawberry\"\n",
        "\n",
        "# Change input sentence into vector\n",
        "test_doc = word_tokenize(input.lower())\n",
        "test_doc_vector = model.infer_vector(test_doc)\n",
        "\n",
        "# Find similar vectors\n",
        "model.docvecs.most_similar(positive = [test_doc_vector]) #positive = List of sentences that contribute positively."
      ],
      "execution_count": null,
      "outputs": [
        {
          "output_type": "execute_result",
          "data": {
            "text/plain": [
              "[(513, 0.9193164706230164),\n",
              " (682, 0.9132674336433411),\n",
              " (494, 0.8971699476242065),\n",
              " (518, 0.8922135233879089),\n",
              " (680, 0.8858006596565247),\n",
              " (650, 0.8837151527404785),\n",
              " (568, 0.8755530118942261),\n",
              " (647, 0.8673471212387085),\n",
              " (756, 0.8666015267372131),\n",
              " (466, 0.8606708645820618)]"
            ]
          },
          "metadata": {
            "tags": []
          },
          "execution_count": 15
        }
      ]
    },
    {
      "cell_type": "code",
      "metadata": {
        "colab": {
          "base_uri": "https://localhost:8080/"
        },
        "id": "neXW1FxAyTnV",
        "outputId": "02962296-c9b8-43f9-bc08-b14646f1245b"
      },
      "source": [
        "# Print the indices of similar vectors\n",
        "similar_vector = model.docvecs.most_similar(positive = [test_doc_vector])\n",
        "for i in similar_vector:\n",
        "    print(i[0])"
      ],
      "execution_count": null,
      "outputs": [
        {
          "output_type": "stream",
          "text": [
            "495\n",
            "518\n",
            "497\n",
            "568\n",
            "494\n",
            "712\n",
            "465\n",
            "496\n",
            "1512\n",
            "565\n"
          ],
          "name": "stdout"
        }
      ]
    },
    {
      "cell_type": "code",
      "metadata": {
        "colab": {
          "base_uri": "https://localhost:8080/",
          "height": 35
        },
        "id": "_ZN03z8Vael2",
        "outputId": "5c041176-c66e-438e-a4eb-176adc20e2ee"
      },
      "source": [
        "# Check recipe of similar vector:\n",
        "df_clean['recipe'][495]"
      ],
      "execution_count": null,
      "outputs": [
        {
          "output_type": "execute_result",
          "data": {
            "application/vnd.google.colaboratory.intrinsic+json": {
              "type": "string"
            },
            "text/plain": [
              "'2 ounces gin, 1/2 ounce lime juice, 4 ounces ginger beer, lime wedge'"
            ]
          },
          "metadata": {
            "tags": []
          },
          "execution_count": 17
        }
      ]
    },
    {
      "cell_type": "markdown",
      "metadata": {
        "id": "c_GTp1Duoa-5"
      },
      "source": [
        "# 4. Doc2Vec: K-Means"
      ]
    },
    {
      "cell_type": "markdown",
      "metadata": {
        "id": "mrjhwfZ-1JeV"
      },
      "source": [
        "## 4.1. Preprocessing data"
      ]
    },
    {
      "cell_type": "code",
      "metadata": {
        "id": "2GZ1b03E9lmh"
      },
      "source": [
        "# Load model\n",
        "model_path = '/content/gdrive/MyDrive/Colab Notebooks/Final Project/Model/doc2vecmodel_final.mod'\n",
        "model = Doc2Vec.load(model_path) "
      ],
      "execution_count": null,
      "outputs": []
    },
    {
      "cell_type": "code",
      "metadata": {
        "id": "BA2vCtI88wqC"
      },
      "source": [
        "# Find vector of chosen recipe\n",
        "sentence = []\n",
        "for i in df_clean['recipe']:\n",
        "    sentence.append(i)\n",
        "\n",
        "# Tokenization of each document\n",
        "tokenized_sent = []\n",
        "for s in sentence:\n",
        "    tokenized_sent.append(word_tokenize(s))"
      ],
      "execution_count": null,
      "outputs": []
    },
    {
      "cell_type": "code",
      "metadata": {
        "id": "h_ZLh-q-tVNJ"
      },
      "source": [
        "X = [model.infer_vector(i).tolist() for i in tokenized_sent]\n",
        "X = np.array(X)"
      ],
      "execution_count": null,
      "outputs": []
    },
    {
      "cell_type": "markdown",
      "metadata": {
        "id": "HCINZfx1-x_X"
      },
      "source": [
        "## 4.2. Principal Components Analysis"
      ]
    },
    {
      "cell_type": "markdown",
      "metadata": {
        "id": "ER51OZK2_nR9"
      },
      "source": [
        "PCA reduces the dimensionality of the data set, allowing most of the variability to be explained using fewer variables.\n",
        "\n",
        "Let's generate a two-dimensional dataset"
      ]
    },
    {
      "cell_type": "code",
      "metadata": {
        "colab": {
          "base_uri": "https://localhost:8080/"
        },
        "id": "kG2xDrOFokIu",
        "outputId": "dd620115-6d24-4967-de68-de7c9922bf6b"
      },
      "source": [
        "from sklearn.decomposition import PCA\n",
        "n_components = 2\n",
        "pca = PCA(n_components= n_components) \n",
        "pca.fit(X)\n",
        "X_pca = pca.transform(X)\n",
        "# X_train_pca = pca.transform(X_train)\n",
        "# X_test_pca = pca.transform(X_test)\n",
        "print(X.shape)\n",
        "print(X_pca.shape)\n"
      ],
      "execution_count": null,
      "outputs": [
        {
          "output_type": "stream",
          "text": [
            "(1539, 50)\n",
            "(1539, 2)\n"
          ],
          "name": "stdout"
        }
      ]
    },
    {
      "cell_type": "markdown",
      "metadata": {
        "id": "Y44DVrxj_qZ1"
      },
      "source": [
        "- ``components_``: array, shape (n_components, n_features): Principal axes in feature space, representing the directions of maximum variance in the data. The components are sorted by explained_variance_.\n",
        "- ``explained_variance_ratio_``: array, shape (n_components,):\n",
        "Percentage of variance explained by each of the selected components."
      ]
    },
    {
      "cell_type": "code",
      "metadata": {
        "colab": {
          "base_uri": "https://localhost:8080/"
        },
        "id": "j0mWt_vMP2JU",
        "outputId": "b666b69d-12c4-4996-99fb-98bfc4d4781a"
      },
      "source": [
        "print(pca.components_)"
      ],
      "execution_count": null,
      "outputs": [
        {
          "output_type": "stream",
          "text": [
            "[[-0.07673658  0.08046439 -0.05818005 -0.11894281 -0.19325483 -0.07034108\n",
            "  -0.08776733 -0.00856599 -0.12477423 -0.12172503  0.07487708 -0.23434296\n",
            "   0.01298462  0.1639985  -0.02106548  0.02051555  0.19092354 -0.093711\n",
            "   0.04934776 -0.21613161 -0.0628687  -0.23875789  0.05895393 -0.17221007\n",
            "  -0.25801073  0.14534832 -0.0936882  -0.01175988 -0.00874661  0.0004636\n",
            "  -0.04032926 -0.12944619  0.38195351 -0.24313853  0.04792816 -0.1125421\n",
            "   0.06335632 -0.14494026 -0.10892584  0.0521277  -0.06154621  0.03768438\n",
            "  -0.10294232 -0.20242655  0.05573611  0.09392311  0.37549294  0.16518528\n",
            "   0.0276214  -0.01810577]\n",
            " [ 0.17844258  0.02999447 -0.10812841 -0.24277243  0.00095118 -0.20513334\n",
            "   0.22145611 -0.18527812  0.18522568  0.08781289  0.11790909 -0.09803245\n",
            "   0.01233953  0.16309537 -0.11208021  0.09728882 -0.16409878  0.18091846\n",
            "  -0.08132265  0.13126961 -0.0269735  -0.08687725  0.15636719 -0.18742798\n",
            "   0.1371536   0.19686418 -0.15335097  0.11114351  0.06185715 -0.22581405\n",
            "  -0.20305639  0.00724196 -0.06108383  0.24468925  0.02273282 -0.05423464\n",
            "  -0.21851382 -0.08748784  0.08305698  0.11102348  0.148538   -0.13127133\n",
            "  -0.02108907  0.06540416  0.17172994  0.02563457  0.00724403  0.2741514\n",
            "  -0.09829513 -0.12343816]]\n"
          ],
          "name": "stdout"
        }
      ]
    },
    {
      "cell_type": "code",
      "metadata": {
        "colab": {
          "base_uri": "https://localhost:8080/"
        },
        "id": "u5mJTQt6uurz",
        "outputId": "2284bf78-2bf3-44fc-fffa-e362863f4d5e"
      },
      "source": [
        "print(pca.explained_variance_ratio_)"
      ],
      "execution_count": null,
      "outputs": [
        {
          "output_type": "stream",
          "text": [
            "[0.12631563 0.09829983]\n"
          ],
          "name": "stdout"
        }
      ]
    },
    {
      "cell_type": "code",
      "metadata": {
        "colab": {
          "base_uri": "https://localhost:8080/",
          "height": 283
        },
        "id": "YOYdp_7fIlZl",
        "outputId": "a0fb6075-5cce-45d4-d61d-b8d9843bef0a"
      },
      "source": [
        "plt.scatter(X_pca[:, 0], X_pca[:, 1],\n",
        "             alpha=0.5)\n",
        "plt.xlabel('component 1')\n",
        "plt.ylabel('component 2')\n",
        "plt.colorbar();"
      ],
      "execution_count": null,
      "outputs": [
        {
          "output_type": "display_data",
          "data": {
            "image/png": "[encoded data removed]",
            "text/plain": [
              "<Figure size 432x288 with 2 Axes>"
            ]
          },
          "metadata": {
            "tags": [],
            "needs_background": "light"
          }
        }
      ]
    },
    {
      "cell_type": "code",
      "metadata": {
        "colab": {
          "base_uri": "https://localhost:8080/",
          "height": 268
        },
        "id": "7epVHtQJ9Lxh",
        "outputId": "811a172c-ae40-4231-af0c-7fe60455108a"
      },
      "source": [
        "X_new = pca.inverse_transform(X_pca)\n",
        "plt.scatter(X[:, 0], X[:, 1], alpha=0.2)\n",
        "plt.scatter(X_new[:, 0], X_new[:, 1], alpha=0.8)\n",
        "plt.axis('equal');"
      ],
      "execution_count": null,
      "outputs": [
        {
          "output_type": "display_data",
          "data": {
            "image/png": "[encoded data removed]",
            "text/plain": [
              "<Figure size 432x288 with 1 Axes>"
            ]
          },
          "metadata": {
            "tags": []
          }
        }
      ]
    },
    {
      "cell_type": "markdown",
      "metadata": {
        "id": "F4SWjMdZ_7CC"
      },
      "source": [
        "## 4.3. Visualize K-means Clustering"
      ]
    },
    {
      "cell_type": "markdown",
      "metadata": {
        "id": "7Y_GfTUqAnew"
      },
      "source": [
        "**Optiamal k in K-means**\n",
        "\n",
        "We can use the elbow method, which runs k-means for a range of possible k values, and for each k, we score the result. A common scoring is to calculate the sum of squared errors.\n",
        "\n",
        "We plot the scores and consider the \"elbow\" value to be the optimal k. The intuition is that we want to minimize our sum of squared error (sse), but the sse →0 as k→∞. So the goal is to minimize k while also choosing a small sse."
      ]
    },
    {
      "cell_type": "code",
      "metadata": {
        "colab": {
          "base_uri": "https://localhost:8080/",
          "height": 279
        },
        "id": "HSNQiVwU9tEv",
        "outputId": "7f108f13-fec7-4be4-aee8-66b389fe01c6"
      },
      "source": [
        "k_values = range(1,20)\n",
        "k_mean_models = [KMeans(n_clusters=k) for k in k_values]\n",
        "scores = [kmean.fit(X).score(X) for kmean in k_mean_models]\n",
        "\n",
        "norm_scores = [score/max(scores) for score in scores]\n",
        "\n",
        "plt.plot(k_values,norm_scores)\n",
        "plt.xlabel('k')\n",
        "plt.xticks(range(1, 20))\n",
        "plt.ylabel('score');"
      ],
      "execution_count": null,
      "outputs": [
        {
          "output_type": "display_data",
          "data": {
            "image/png": "[encoded data removed]",
            "text/plain": [
              "<Figure size 432x288 with 1 Axes>"
            ]
          },
          "metadata": {
            "tags": [],
            "needs_background": "light"
          }
        }
      ]
    },
    {
      "cell_type": "markdown",
      "metadata": {
        "id": "m93nS7rpDn6u"
      },
      "source": [
        "**K-means Clustering with k = 9**"
      ]
    },
    {
      "cell_type": "code",
      "metadata": {
        "id": "CgLv8mv2_CIp"
      },
      "source": [
        "from sklearn.cluster import KMeans\n",
        "# With k = 9\n",
        "kmeans = KMeans(n_clusters=9)\n",
        "kmeans.fit(X_pca)\n",
        "y_kmeans = kmeans.predict(X_pca)"
      ],
      "execution_count": null,
      "outputs": []
    },
    {
      "cell_type": "code",
      "metadata": {
        "colab": {
          "base_uri": "https://localhost:8080/"
        },
        "id": "dchICvnLAOhZ",
        "outputId": "a8360658-810d-4ddd-f594-6a734c707b18"
      },
      "source": [
        "y_kmeans[:20]"
      ],
      "execution_count": null,
      "outputs": [
        {
          "output_type": "execute_result",
          "data": {
            "text/plain": [
              "array([0, 5, 7, 6, 0, 7, 7, 7, 0, 4, 7, 7, 7, 0, 3, 7, 5, 6, 0, 6],\n",
              "      dtype=int32)"
            ]
          },
          "metadata": {
            "tags": []
          },
          "execution_count": 20
        }
      ]
    },
    {
      "cell_type": "code",
      "metadata": {
        "colab": {
          "base_uri": "https://localhost:8080/",
          "height": 690
        },
        "id": "aR-alwjzAS6E",
        "outputId": "f088c1e4-2026-4679-d03c-fb5742de911f"
      },
      "source": [
        "plt.figure(figsize=(12,9))\n",
        "plt.scatter(X_pca[:, 0], X_pca[:, 1], c=y_kmeans, s=50, cmap='BrBG')\n",
        "\n",
        "centers = kmeans.cluster_centers_\n",
        "print(centers)\n",
        "for i,j in centers:\n",
        "  plt.scatter(i,j, c='black', s=200, alpha=0.5);"
      ],
      "execution_count": null,
      "outputs": [
        {
          "output_type": "stream",
          "text": [
            "[[ 4.38971452e-01 -2.56599058e-01]\n",
            " [ 3.54110126e-04  8.26696779e-01]\n",
            " [ 2.53735658e+00  1.01533431e-01]\n",
            " [-3.43531053e-01 -5.12890428e-01]\n",
            " [ 1.28644230e+00 -4.61982557e-01]\n",
            " [-4.92360104e-01  3.23835669e-01]\n",
            " [ 4.93534600e-02  1.99838728e-01]\n",
            " [-1.54597906e-01 -1.82725124e-01]\n",
            " [ 1.05177787e+00  5.75717871e-01]]\n"
          ],
          "name": "stdout"
        },
        {
          "output_type": "display_data",
          "data": {
            "image/png": "[encoded data removed]",
            "text/plain": [
              "<Figure size 864x648 with 1 Axes>"
            ]
          },
          "metadata": {
            "tags": [],
            "needs_background": "light"
          }
        }
      ]
    },
    {
      "cell_type": "markdown",
      "metadata": {
        "id": "qNlWTBZjDHdT"
      },
      "source": [
        "**K-means Clustering with k = 5**"
      ]
    },
    {
      "cell_type": "code",
      "metadata": {
        "id": "JzZcLnfL9YRF"
      },
      "source": [
        "from sklearn.cluster import KMeans\n",
        "# with k = 5\n",
        "kmeans = KMeans(n_clusters=5)\n",
        "kmeans.fit(X_pca)\n",
        "y_kmeans = kmeans.predict(X_pca)"
      ],
      "execution_count": null,
      "outputs": []
    },
    {
      "cell_type": "code",
      "metadata": {
        "colab": {
          "base_uri": "https://localhost:8080/",
          "height": 622
        },
        "id": "1_qQm4Du9Tn7",
        "outputId": "01c49005-1caf-454d-fc00-b2ef39c45c4d"
      },
      "source": [
        "# Visualize \n",
        "plt.figure(figsize=(12,9))\n",
        "plt.scatter(X_pca[:, 0], X_pca[:, 1], c=y_kmeans, s=50, cmap='BrBG')\n",
        "\n",
        "centers = kmeans.cluster_centers_\n",
        "print(centers)\n",
        "for i,j in centers:\n",
        "  plt.scatter(i,j, c='black', s=200, alpha=0.5);"
      ],
      "execution_count": null,
      "outputs": [
        {
          "output_type": "stream",
          "text": [
            "[[-0.32957844  0.23896601]\n",
            " [ 1.35852389 -0.11394219]\n",
            " [ 0.21360911 -0.06895877]\n",
            " [-0.24820617 -0.38907613]\n",
            " [ 0.04295127  0.7725689 ]]\n"
          ],
          "name": "stdout"
        },
        {
          "output_type": "display_data",
          "data": {
            "image/png": "[encoded data removed]",
            "text/plain": [
              "<Figure size 864x648 with 1 Axes>"
            ]
          },
          "metadata": {
            "tags": [],
            "needs_background": "light"
          }
        }
      ]
    },
    {
      "cell_type": "markdown",
      "metadata": {
        "id": "4wCSgrYN01rL"
      },
      "source": [
        "# 5. LDA: Evaluate Topic Model\n",
        "(Latent Dirichlet Allocation)"
      ]
    },
    {
      "cell_type": "markdown",
      "metadata": {
        "id": "2HXitzN5Va9N"
      },
      "source": [
        "## 5.1. Import libraries and Load data"
      ]
    },
    {
      "cell_type": "code",
      "metadata": {
        "id": "HgHWgY5G5d4J"
      },
      "source": [
        "# Import libraries\n",
        "import gensim\n",
        "from gensim.models import Phrases\n",
        "from gensim.models.coherencemodel import CoherenceModel\n",
        "from gensim.models.ldamodel import LdaModel\n",
        "from gensim.corpora.dictionary import Dictionary\n",
        "from gensim.utils import simple_preprocess\n",
        "import pickle\n",
        "from pprint import pprint\n",
        "import nltk\n",
        "nltk.download('stopwords')\n",
        "from nltk.corpus import stopwords\n",
        "from nltk.stem import WordNetLemmatizer\n",
        "nltk.download('wordnet')\n"
      ],
      "execution_count": null,
      "outputs": []
    },
    {
      "cell_type": "code",
      "metadata": {
        "id": "AU7ZtxJDCbb1"
      },
      "source": [
        "# Load data\n",
        "path = r'/content/gdrive/MyDrive/Colab Notebooks/Final Project/Recipes/clean_recipe_training.csv'\n",
        "frame = pd.read_csv(path, index_col=None, header=0, encoding='utf-8')"
      ],
      "execution_count": null,
      "outputs": []
    },
    {
      "cell_type": "code",
      "metadata": {
        "id": "0QgjRMiYCcLd"
      },
      "source": [
        "# Copy data\n",
        "df_clean = frame.copy()"
      ],
      "execution_count": null,
      "outputs": []
    },
    {
      "cell_type": "markdown",
      "metadata": {
        "id": "r-hMQZUKWFcj"
      },
      "source": [
        "## 5.2. Functions"
      ]
    },
    {
      "cell_type": "code",
      "metadata": {
        "id": "KT2rgjWqCual"
      },
      "source": [
        "# Create stop_words:\n",
        "stop_words = stopwords.words('english')\n",
        "stop_words.extend(['tablespoons', 'tablespoon','cup', 'cups', 'ounce', 'ounces','teaspoon','teaspoons','coarse','grind',\n",
        "                   'kosher','sea','zest', 'ground', 'extract', 'frozen', 'bottle', 'whole', 'taste','fresh', 'white',\n",
        "                   'fluid','powder','sauce','syrup','large','small','chopped','granulated', 'cubes', 'concentrate', \n",
        "                   'wedge', 'flour', 'wedge', 'club', 'inch', 'dry', 'medium','red', 'whipped', 'yellow', 'milliliter', \n",
        "                   'triple', 'sec', 'optional', 'light', 'simple', 'slice', 'gram',  'instant',  'sliced',  'brown',\n",
        "                   'dark', 'heavy',  'peeled', 'chilled', 'stick', 'cut', 'sticks', 'dried', 'half', 'black', 'twist', 'green'])\n"
      ],
      "execution_count": null,
      "outputs": []
    },
    {
      "cell_type": "code",
      "metadata": {
        "id": "6XkeviP84N3t"
      },
      "source": [
        "# Lemmatization fuction:\n",
        "lemmatizer = WordNetLemmatizer()\n",
        "def lemma(row):\n",
        "    return ' '.join([lemmatizer.lemmatize(word) for word in row.split()])\n",
        "\n",
        "def lemma_stop(row):\n",
        "    return ' '.join([lemmatizer.lemmatize(word) for word in row.split() if word not in stop_words])"
      ],
      "execution_count": null,
      "outputs": []
    },
    {
      "cell_type": "code",
      "metadata": {
        "id": "c1ZnK73y3lZO"
      },
      "source": [
        "# Remove stop_words:\n",
        "df_clean['no_stop'] = df_clean['recipe'].apply(lemma_stop)"
      ],
      "execution_count": null,
      "outputs": []
    },
    {
      "cell_type": "code",
      "metadata": {
        "id": "8AvEA7365Avo"
      },
      "source": [
        "# Phrase modeling: Bi-grams and Tri-grams\n",
        "def docs_with_grams(docs):\n",
        "    \"\"\" Input a list of sentences.\n",
        "        Output the list of sentences including bigram and trigram.\n",
        "    \"\"\"\n",
        "    docs = np.array(list(map(lambda x: x.split(), docs)))\n",
        "    bigram = Phrases(docs, min_count=10)\n",
        "    trigram = Phrases(bigram[docs])\n",
        "\n",
        "    for idx in range(len(docs)):\n",
        "        for token in bigram[docs[idx]]:\n",
        "            if '_' in token:\n",
        "                # Token is a bigram, add to document.\n",
        "                docs[idx].append(token)\n",
        "        for token in trigram[docs[idx]]:\n",
        "            if '_' in token:\n",
        "                # Token is a bigram, add to document.\n",
        "                docs[idx].append(token)\n",
        "    return docs"
      ],
      "execution_count": null,
      "outputs": []
    },
    {
      "cell_type": "code",
      "metadata": {
        "id": "K3IFt9Fh5lak"
      },
      "source": [
        "def get_dict_corpus(docs):\n",
        "    # Create a dictionary representation of the documents.\n",
        "    dictionary = Dictionary(docs)\n",
        "    dictionary.filter_extremes(no_below=10, no_above=0.2)\n",
        "\n",
        "    # Getting corpus \n",
        "    corpus = [dictionary.doc2bow(doc) for doc in docs]\n",
        "\n",
        "    return dictionary, corpus"
      ],
      "execution_count": null,
      "outputs": []
    },
    {
      "cell_type": "markdown",
      "metadata": {
        "id": "vIunJaIMftMi"
      },
      "source": [
        "## 5.3. Data transformation: \n",
        "\n",
        "- Corpus and Dictionary\n",
        "\n",
        "- Bi-grams and Tri-grams"
      ]
    },
    {
      "cell_type": "code",
      "metadata": {
        "id": "qlS-rVWD5LSW"
      },
      "source": [
        "# # Phrase modeling: Bi-grams and Tri-grams\n",
        "docs = docs_with_grams(df_clean['no_stop'].values)"
      ],
      "execution_count": null,
      "outputs": []
    },
    {
      "cell_type": "code",
      "metadata": {
        "colab": {
          "base_uri": "https://localhost:8080/"
        },
        "id": "B_rCUv_B5oIS",
        "outputId": "a6852f5e-2021-410c-bae4-70efb5e32248"
      },
      "source": [
        "# Create corpus and dictionary\n",
        "dictionary, corpus = get_dict_corpus(docs)\n",
        "\n",
        "print('Number of unique tokens: %d' % len(dictionary))\n",
        "print('Number of documents: %d' % len(corpus))\n",
        "print(corpus[:1])"
      ],
      "execution_count": null,
      "outputs": [
        {
          "output_type": "stream",
          "text": [
            "Number of unique tokens: 366\n",
            "Number of documents: 1539\n",
            "[[(0, 1), (1, 1), (2, 1), (3, 2)]]\n"
          ],
          "name": "stdout"
        }
      ]
    },
    {
      "cell_type": "markdown",
      "metadata": {
        "id": "bqvDMhmZXyQx"
      },
      "source": [
        "## 5.4. LDA base model"
      ]
    },
    {
      "cell_type": "code",
      "metadata": {
        "id": "qCCd9qUgFcAa"
      },
      "source": [
        "# Build LDA model\n",
        "lda_model = gensim.models.LdaMulticore(corpus=corpus,\n",
        "                                       id2word=dictionary,\n",
        "                                       num_topics=9, \n",
        "                                       random_state=100,\n",
        "                                       chunksize=100,\n",
        "                                       passes=10,\n",
        "                                       per_word_topics=True)"
      ],
      "execution_count": null,
      "outputs": []
    },
    {
      "cell_type": "code",
      "metadata": {
        "colab": {
          "base_uri": "https://localhost:8080/"
        },
        "id": "2Q-zl_sWGQV4",
        "outputId": "644b7ad3-6dc4-48f7-c45a-d2c09b289420"
      },
      "source": [
        "# Print the Keyword in the 9 topics\n",
        "pprint(lda_model.print_topics())\n",
        "doc_lda = lda_model[corpus]"
      ],
      "execution_count": null,
      "outputs": [
        {
          "output_type": "stream",
          "text": [
            "[(0,\n",
            "  '0.160*\"balsamic\" + 0.112*\"dash\" + 0.083*\"cake\" + 0.077*\"part\" + '\n",
            "  '0.054*\"tomato\" + 0.050*\"leave\" + 0.032*\"piece\" + 0.031*\"kneading\" + '\n",
            "  '0.028*\"confectioner\" + 0.027*\"pureed\"'),\n",
            " (1,\n",
            "  '0.071*\"ribbon\" + 0.057*\"dash\" + 0.054*\"citric\" + 0.053*\"sprinkle\" + '\n",
            "  '0.052*\"fry\" + 0.044*\"cucumber\" + 0.041*\"home\" + 0.039*\"fill\" + '\n",
            "  '0.034*\"french\" + 0.032*\"aged\"'),\n",
            " (2,\n",
            "  '0.113*\"cheese\" + 0.103*\"citron\" + 0.058*\"fruit\" + 0.052*\"cook\" + '\n",
            "  '0.047*\"soften\" + 0.040*\"crush\" + 0.040*\"spice\" + 0.035*\"darjeele\" + '\n",
            "  '0.033*\"direction\" + 0.027*\"chinese\"'),\n",
            " (3,\n",
            "  '0.094*\"steam\" + 0.081*\"honey\" + 0.074*\"preserve\" + 0.051*\"splash\" + '\n",
            "  '0.050*\"potato\" + 0.050*\"citric\" + 0.038*\"cinnamon\" + 0.033*\"sugar\" + '\n",
            "  '0.030*\"dash\" + 0.029*\"irish\"'),\n",
            " (4,\n",
            "  '0.130*\"extra\" + 0.041*\"cider\" + 0.032*\"fill\" + 0.025*\"greek\" + 0.022*\"cool\" '\n",
            "  '+ 0.021*\"inch\" + 0.021*\"cacao\" + 0.019*\"fancy\" + 0.018*\"sage\" + '\n",
            "  '0.017*\"sweetened_condense\"'),\n",
            " (5,\n",
            "  '0.074*\"flavor\" + 0.043*\"season\" + 0.042*\"ring\" + 0.039*\"scallion\" + '\n",
            "  '0.033*\"tough\" + 0.027*\"sausage\" + 0.024*\"brush\" + 0.023*\"cherry\" + '\n",
            "  '0.023*\"wedge\" + 0.022*\"cantuna\"'),\n",
            " (6,\n",
            "  '0.101*\"salt\" + 0.073*\"apple\" + 0.051*\"cacao\" + 0.051*\"steam\" + '\n",
            "  '0.047*\"cider\" + 0.045*\"molasse\" + 0.039*\"cold\" + 0.038*\"sweeten\" + '\n",
            "  '0.032*\"tea\" + 0.030*\"yogurt\"'),\n",
            " (7,\n",
            "  '0.139*\"crush\" + 0.057*\"spearmint\" + 0.055*\"onion\" + 0.051*\"measure\" + '\n",
            "  '0.049*\"blackstrap\" + 0.047*\"cacao\" + 0.042*\"can\" + 0.041*\"store\" + '\n",
            "  '0.039*\"raspberry\" + 0.034*\"handful\"'),\n",
            " (8,\n",
            "  '0.088*\"asparagus\" + 0.079*\"greekhoney\" + 0.048*\"equal\" + 0.046*\"tapioca\" + '\n",
            "  '0.046*\"melt\" + 0.038*\"can\" + 0.036*\"steam\" + 0.034*\"celery\" + 0.033*\"wedge\" '\n",
            "  '+ 0.031*\"chestnut\"')]\n"
          ],
          "name": "stdout"
        }
      ]
    },
    {
      "cell_type": "markdown",
      "metadata": {
        "id": "pRVKhoyech08"
      },
      "source": [
        "## 5.5. Tuning model"
      ]
    },
    {
      "cell_type": "code",
      "metadata": {
        "colab": {
          "base_uri": "https://localhost:8080/"
        },
        "id": "pck8QQrOGf6Q",
        "outputId": "411207c9-bfb2-46ea-8e12-7e3629131590"
      },
      "source": [
        "from gensim.models import CoherenceModel\n",
        "\n",
        "# Compute Coherence Score: lda_model\n",
        "coherence_model_lda = CoherenceModel(model=lda_model, texts=data_lemmatized, dictionary=dictionary, coherence='c_v')\n",
        "coherence_lda = coherence_model_lda.get_coherence()\n",
        "print('\\nCoherence Score: ', coherence_lda)"
      ],
      "execution_count": null,
      "outputs": [
        {
          "output_type": "stream",
          "text": [
            "\n",
            "Coherence Score:  0.43694930598167375\n"
          ],
          "name": "stdout"
        }
      ]
    },
    {
      "cell_type": "code",
      "metadata": {
        "id": "UtFdS6OoHINE"
      },
      "source": [
        "# Supporting function to tune model\n",
        "def compute_coherence_values(corpus, dictionary, k, a, b):\n",
        "\n",
        "    lda_model = gensim.models.LdaMulticore(corpus=corpus,\n",
        "                                           id2word=dictionary,\n",
        "                                           num_topics=k, \n",
        "                                           random_state=100,\n",
        "                                           chunksize=100,\n",
        "                                           passes=10,\n",
        "                                           alpha=a,\n",
        "                                           eta=b)\n",
        "    \n",
        "    coherence_model_lda = CoherenceModel(model=lda_model, texts=data_lemmatized, dictionary=id2word, coherence='c_v')\n",
        "    \n",
        "    return coherence_model_lda.get_coherence()"
      ],
      "execution_count": null,
      "outputs": []
    },
    {
      "cell_type": "code",
      "metadata": {
        "colab": {
          "base_uri": "https://localhost:8080/"
        },
        "id": "fXVlK3wiHV5y",
        "outputId": "ceb37b5a-255c-417b-fc7a-be5ef43946d0"
      },
      "source": [
        "# Tuning model\n",
        "import numpy as np\n",
        "import tqdm\n",
        "grid = {}\n",
        "grid['Validation_Set'] = {}\n",
        "# Topics range\n",
        "min_topics = 2\n",
        "max_topics = 11\n",
        "step_size = 1\n",
        "topics_range = range(min_topics, max_topics, step_size)\n",
        "# Alpha parameter\n",
        "alpha = list(np.arange(0.01, 1, 0.3))\n",
        "alpha.append('symmetric')\n",
        "alpha.append('asymmetric')\n",
        "# Beta parameter\n",
        "beta = list(np.arange(0.01, 1, 0.3))\n",
        "beta.append('symmetric')\n",
        "# Validation sets\n",
        "num_of_docs = len(corpus)\n",
        "corpus_sets = [# gensim.utils.ClippedCorpus(corpus, num_of_docs*0.25), \n",
        "               # gensim.utils.ClippedCorpus(corpus, num_of_docs*0.5), \n",
        "               gensim.utils.ClippedCorpus(corpus, num_of_docs*0.75), \n",
        "               corpus]\n",
        "corpus_title = ['75% Corpus', '100% Corpus']\n",
        "model_results = {'Validation_Set': [],\n",
        "                 'Topics': [],\n",
        "                 'Alpha': [],\n",
        "                 'Beta': [],\n",
        "                 'Coherence': []\n",
        "                }\n",
        "# Can take a long time to run\n",
        "if 1 == 1:\n",
        "    pbar = tqdm.tqdm(total=270)\n",
        "    \n",
        "    # iterate through validation corpuses\n",
        "    for i in range(1,len(corpus_sets)):\n",
        "        # iterate through number of topics\n",
        "        for k in topics_range:\n",
        "            # iterate through alpha values\n",
        "            for a in alpha:\n",
        "                # iterare through beta values\n",
        "                for b in beta:\n",
        "                    # get the coherence score for the given parameters\n",
        "                    cv = compute_coherence_values(corpus=corpus_sets[i], dictionary=dictionary, \n",
        "                                                  k=k, a=a, b=b)\n",
        "                    # Save the model results\n",
        "                    model_results['Validation_Set'].append(corpus_title[i])\n",
        "                    model_results['Topics'].append(k)\n",
        "                    model_results['Alpha'].append(a)\n",
        "                    model_results['Beta'].append(b)\n",
        "                    model_results['Coherence'].append(cv)\n",
        "                    \n",
        "                    pbar.update(1)\n",
        "    pd.DataFrame(model_results).to_csv('lda_tuning_results.csv', index=False)\n",
        "    pbar.close()"
      ],
      "execution_count": null,
      "outputs": [
        {
          "output_type": "stream",
          "text": [
            " 50%|█████     | 270/540 [24:58<24:58,  5.55s/it]\n"
          ],
          "name": "stderr"
        }
      ]
    },
    {
      "cell_type": "code",
      "metadata": {
        "id": "DZ-KusuzQ7ol"
      },
      "source": [
        "# Save tuning results\n",
        "path = '/content/gdrive/MyDrive/Colab Notebooks/Final Project/Model/'\n",
        "pd.DataFrame(model_results).to_csv(path + 'lda_tuning_results.csv', index=False)"
      ],
      "execution_count": null,
      "outputs": []
    },
    {
      "cell_type": "code",
      "metadata": {
        "colab": {
          "base_uri": "https://localhost:8080/",
          "height": 419
        },
        "id": "iuTVDjRcSsWC",
        "outputId": "897d7567-ee9a-469e-e4b8-90d1166d42ad"
      },
      "source": [
        "# Tuning results\n",
        "results = pd.DataFrame(model_results)\n",
        "results"
      ],
      "execution_count": null,
      "outputs": [
        {
          "output_type": "execute_result",
          "data": {
            "text/html": [
              "<div>\n",
              "<style scoped>\n",
              "    .dataframe tbody tr th:only-of-type {\n",
              "        vertical-align: middle;\n",
              "    }\n",
              "\n",
              "    .dataframe tbody tr th {\n",
              "        vertical-align: top;\n",
              "    }\n",
              "\n",
              "    .dataframe thead th {\n",
              "        text-align: right;\n",
              "    }\n",
              "</style>\n",
              "<table border=\"1\" class=\"dataframe\">\n",
              "  <thead>\n",
              "    <tr style=\"text-align: right;\">\n",
              "      <th></th>\n",
              "      <th>Validation_Set</th>\n",
              "      <th>Topics</th>\n",
              "      <th>Alpha</th>\n",
              "      <th>Beta</th>\n",
              "      <th>Coherence</th>\n",
              "    </tr>\n",
              "  </thead>\n",
              "  <tbody>\n",
              "    <tr>\n",
              "      <th>0</th>\n",
              "      <td>100% Corpus</td>\n",
              "      <td>2</td>\n",
              "      <td>0.01</td>\n",
              "      <td>0.01</td>\n",
              "      <td>0.27</td>\n",
              "    </tr>\n",
              "    <tr>\n",
              "      <th>1</th>\n",
              "      <td>100% Corpus</td>\n",
              "      <td>2</td>\n",
              "      <td>0.01</td>\n",
              "      <td>0.31</td>\n",
              "      <td>0.33</td>\n",
              "    </tr>\n",
              "    <tr>\n",
              "      <th>2</th>\n",
              "      <td>100% Corpus</td>\n",
              "      <td>2</td>\n",
              "      <td>0.01</td>\n",
              "      <td>0.61</td>\n",
              "      <td>0.32</td>\n",
              "    </tr>\n",
              "    <tr>\n",
              "      <th>3</th>\n",
              "      <td>100% Corpus</td>\n",
              "      <td>2</td>\n",
              "      <td>0.01</td>\n",
              "      <td>0.91</td>\n",
              "      <td>0.32</td>\n",
              "    </tr>\n",
              "    <tr>\n",
              "      <th>4</th>\n",
              "      <td>100% Corpus</td>\n",
              "      <td>2</td>\n",
              "      <td>0.01</td>\n",
              "      <td>symmetric</td>\n",
              "      <td>0.32</td>\n",
              "    </tr>\n",
              "    <tr>\n",
              "      <th>...</th>\n",
              "      <td>...</td>\n",
              "      <td>...</td>\n",
              "      <td>...</td>\n",
              "      <td>...</td>\n",
              "      <td>...</td>\n",
              "    </tr>\n",
              "    <tr>\n",
              "      <th>265</th>\n",
              "      <td>100% Corpus</td>\n",
              "      <td>10</td>\n",
              "      <td>asymmetric</td>\n",
              "      <td>0.01</td>\n",
              "      <td>0.45</td>\n",
              "    </tr>\n",
              "    <tr>\n",
              "      <th>266</th>\n",
              "      <td>100% Corpus</td>\n",
              "      <td>10</td>\n",
              "      <td>asymmetric</td>\n",
              "      <td>0.31</td>\n",
              "      <td>0.45</td>\n",
              "    </tr>\n",
              "    <tr>\n",
              "      <th>267</th>\n",
              "      <td>100% Corpus</td>\n",
              "      <td>10</td>\n",
              "      <td>asymmetric</td>\n",
              "      <td>0.61</td>\n",
              "      <td>0.43</td>\n",
              "    </tr>\n",
              "    <tr>\n",
              "      <th>268</th>\n",
              "      <td>100% Corpus</td>\n",
              "      <td>10</td>\n",
              "      <td>asymmetric</td>\n",
              "      <td>0.91</td>\n",
              "      <td>0.37</td>\n",
              "    </tr>\n",
              "    <tr>\n",
              "      <th>269</th>\n",
              "      <td>100% Corpus</td>\n",
              "      <td>10</td>\n",
              "      <td>asymmetric</td>\n",
              "      <td>symmetric</td>\n",
              "      <td>0.43</td>\n",
              "    </tr>\n",
              "  </tbody>\n",
              "</table>\n",
              "<p>270 rows × 5 columns</p>\n",
              "</div>"
            ],
            "text/plain": [
              "    Validation_Set  Topics       Alpha       Beta  Coherence\n",
              "0      100% Corpus       2        0.01       0.01       0.27\n",
              "1      100% Corpus       2        0.01       0.31       0.33\n",
              "2      100% Corpus       2        0.01       0.61       0.32\n",
              "3      100% Corpus       2        0.01       0.91       0.32\n",
              "4      100% Corpus       2        0.01  symmetric       0.32\n",
              "..             ...     ...         ...        ...        ...\n",
              "265    100% Corpus      10  asymmetric       0.01       0.45\n",
              "266    100% Corpus      10  asymmetric       0.31       0.45\n",
              "267    100% Corpus      10  asymmetric       0.61       0.43\n",
              "268    100% Corpus      10  asymmetric       0.91       0.37\n",
              "269    100% Corpus      10  asymmetric  symmetric       0.43\n",
              "\n",
              "[270 rows x 5 columns]"
            ]
          },
          "metadata": {
            "tags": []
          },
          "execution_count": 30
        }
      ]
    },
    {
      "cell_type": "code",
      "metadata": {
        "colab": {
          "base_uri": "https://localhost:8080/",
          "height": 328
        },
        "id": "wgkkLA4tcqER",
        "outputId": "685b6fba-24a0-4044-9a1a-8a1958456e12"
      },
      "source": [
        "# Visualize tuning results\n",
        "plot_data = results[(results['Alpha'] == 0.01 )&(results['Beta'] == 0.9099999999999999 )]\n",
        "plot_data"
      ],
      "execution_count": null,
      "outputs": [
        {
          "output_type": "execute_result",
          "data": {
            "text/html": [
              "<div>\n",
              "<style scoped>\n",
              "    .dataframe tbody tr th:only-of-type {\n",
              "        vertical-align: middle;\n",
              "    }\n",
              "\n",
              "    .dataframe tbody tr th {\n",
              "        vertical-align: top;\n",
              "    }\n",
              "\n",
              "    .dataframe thead th {\n",
              "        text-align: right;\n",
              "    }\n",
              "</style>\n",
              "<table border=\"1\" class=\"dataframe\">\n",
              "  <thead>\n",
              "    <tr style=\"text-align: right;\">\n",
              "      <th></th>\n",
              "      <th>Validation_Set</th>\n",
              "      <th>Topics</th>\n",
              "      <th>Alpha</th>\n",
              "      <th>Beta</th>\n",
              "      <th>Coherence</th>\n",
              "    </tr>\n",
              "  </thead>\n",
              "  <tbody>\n",
              "    <tr>\n",
              "      <th>3</th>\n",
              "      <td>100% Corpus</td>\n",
              "      <td>2</td>\n",
              "      <td>0.01</td>\n",
              "      <td>0.91</td>\n",
              "      <td>0.32</td>\n",
              "    </tr>\n",
              "    <tr>\n",
              "      <th>33</th>\n",
              "      <td>100% Corpus</td>\n",
              "      <td>3</td>\n",
              "      <td>0.01</td>\n",
              "      <td>0.91</td>\n",
              "      <td>0.40</td>\n",
              "    </tr>\n",
              "    <tr>\n",
              "      <th>63</th>\n",
              "      <td>100% Corpus</td>\n",
              "      <td>4</td>\n",
              "      <td>0.01</td>\n",
              "      <td>0.91</td>\n",
              "      <td>0.35</td>\n",
              "    </tr>\n",
              "    <tr>\n",
              "      <th>93</th>\n",
              "      <td>100% Corpus</td>\n",
              "      <td>5</td>\n",
              "      <td>0.01</td>\n",
              "      <td>0.91</td>\n",
              "      <td>0.43</td>\n",
              "    </tr>\n",
              "    <tr>\n",
              "      <th>123</th>\n",
              "      <td>100% Corpus</td>\n",
              "      <td>6</td>\n",
              "      <td>0.01</td>\n",
              "      <td>0.91</td>\n",
              "      <td>0.40</td>\n",
              "    </tr>\n",
              "    <tr>\n",
              "      <th>153</th>\n",
              "      <td>100% Corpus</td>\n",
              "      <td>7</td>\n",
              "      <td>0.01</td>\n",
              "      <td>0.91</td>\n",
              "      <td>0.42</td>\n",
              "    </tr>\n",
              "    <tr>\n",
              "      <th>183</th>\n",
              "      <td>100% Corpus</td>\n",
              "      <td>8</td>\n",
              "      <td>0.01</td>\n",
              "      <td>0.91</td>\n",
              "      <td>0.43</td>\n",
              "    </tr>\n",
              "    <tr>\n",
              "      <th>213</th>\n",
              "      <td>100% Corpus</td>\n",
              "      <td>9</td>\n",
              "      <td>0.01</td>\n",
              "      <td>0.91</td>\n",
              "      <td>0.45</td>\n",
              "    </tr>\n",
              "    <tr>\n",
              "      <th>243</th>\n",
              "      <td>100% Corpus</td>\n",
              "      <td>10</td>\n",
              "      <td>0.01</td>\n",
              "      <td>0.91</td>\n",
              "      <td>0.39</td>\n",
              "    </tr>\n",
              "  </tbody>\n",
              "</table>\n",
              "</div>"
            ],
            "text/plain": [
              "    Validation_Set  Topics Alpha Beta  Coherence\n",
              "3      100% Corpus       2  0.01 0.91       0.32\n",
              "33     100% Corpus       3  0.01 0.91       0.40\n",
              "63     100% Corpus       4  0.01 0.91       0.35\n",
              "93     100% Corpus       5  0.01 0.91       0.43\n",
              "123    100% Corpus       6  0.01 0.91       0.40\n",
              "153    100% Corpus       7  0.01 0.91       0.42\n",
              "183    100% Corpus       8  0.01 0.91       0.43\n",
              "213    100% Corpus       9  0.01 0.91       0.45\n",
              "243    100% Corpus      10  0.01 0.91       0.39"
            ]
          },
          "metadata": {
            "tags": []
          },
          "execution_count": 81
        }
      ]
    },
    {
      "cell_type": "code",
      "metadata": {
        "colab": {
          "base_uri": "https://localhost:8080/",
          "height": 320
        },
        "id": "G9rZNN2-gZMd",
        "outputId": "f2531a24-e77f-4242-9096-fdb65690762b"
      },
      "source": [
        "plt.figure(figsize=(8,5))\n",
        "plt.plot(plot_data['Topics'],\n",
        "         plot_data['Coherence'], marker='o', linestyle='dashed')\n",
        "plt.show()"
      ],
      "execution_count": null,
      "outputs": [
        {
          "output_type": "display_data",
          "data": {
            "image/png": "[encoded data removed]",
            "text/plain": [
              "<Figure size 576x360 with 1 Axes>"
            ]
          },
          "metadata": {
            "tags": [],
            "needs_background": "light"
          }
        }
      ]
    },
    {
      "cell_type": "code",
      "metadata": {
        "id": "fKQW54jhpg8P"
      },
      "source": [
        "# Final model\n",
        "lda_model = gensim.models.LdaMulticore(corpus=corpus,\n",
        "                                           id2word=dictionary,\n",
        "                                           num_topics=5, \n",
        "                                           random_state=100,\n",
        "                                           chunksize=100,\n",
        "                                           passes=10,\n",
        "                                           alpha=0.01,\n",
        "                                           eta=0.9)"
      ],
      "execution_count": null,
      "outputs": []
    },
    {
      "cell_type": "markdown",
      "metadata": {
        "id": "cWRjGLXkbT-2"
      },
      "source": [
        "## 5.6. Save final model"
      ]
    },
    {
      "cell_type": "code",
      "metadata": {
        "id": "-Go4eKFRDfMj"
      },
      "source": [
        "# Save model\n",
        "lda_model.save('/content/gdrive/MyDrive/Colab Notebooks/Final Project/Model/lda_5.model')"
      ],
      "execution_count": null,
      "outputs": []
    },
    {
      "cell_type": "code",
      "metadata": {
        "id": "0GMTGfS4qRoP"
      },
      "source": [
        "# Save model\n",
        "lda_model.save('/content/gdrive/MyDrive/Colab Notebooks/Final Project/Model/lda_final.model')"
      ],
      "execution_count": null,
      "outputs": []
    },
    {
      "cell_type": "code",
      "metadata": {
        "id": "sfn0yqMU6Xq4"
      },
      "source": [
        "# Save corpus and dictionary:\n",
        "corpus_path = '/content/gdrive/MyDrive/Colab Notebooks/Final Project/Model/corpus.pkl'\n",
        "dictionary_path = '/content/gdrive/MyDrive/Colab Notebooks/Final Project/Model/dict.pkl'\n",
        "pickle.dump(corpus, open(corpus_path, 'wb'))  \n",
        "pickle.dump(dictionary, open(dictionary_path, 'wb'))"
      ],
      "execution_count": null,
      "outputs": []
    },
    {
      "cell_type": "markdown",
      "metadata": {
        "id": "akQ47zmLbdzq"
      },
      "source": [
        "## 5.7. Visualize the topics"
      ]
    },
    {
      "cell_type": "code",
      "metadata": {
        "id": "3EUioc7qtK4G"
      },
      "source": [
        "# Load model\n",
        "lda_model = gensim.models.LdaModel.load('/content/gdrive/MyDrive/Colab Notebooks/Final Project/Model/lda_5.model')"
      ],
      "execution_count": null,
      "outputs": []
    },
    {
      "cell_type": "code",
      "metadata": {
        "colab": {
          "base_uri": "https://localhost:8080/",
          "height": 915
        },
        "id": "591z3d3qJvre",
        "outputId": "1e01cdbe-5591-4be0-a7f4-660090dcf507"
      },
      "source": [
        "# Visualize the topics\n",
        "import pyLDAvis\n",
        "import pyLDAvis.gensim_models as gensimvis\n",
        "import pickle \n",
        "import os\n",
        "\n",
        "pyLDAvis.enable_notebook()\n",
        "num_topics = 5\n",
        "LDAvis_data_filepath = '/content/gdrive/MyDrive/Colab Notebooks/Final Project/Model/ldavis_prepared_'+str(num_topics)\n",
        "if 1 == 1:\n",
        "    LDAvis_prepared = gensimvis.prepare(lda_model, corpus, id2word)\n",
        "    with open(LDAvis_data_filepath, 'wb') as f:\n",
        "        pickle.dump(LDAvis_prepared, f)\n",
        "\n",
        "# load the pre-prepared pyLDAvis data from disk        \n",
        "with open(LDAvis_data_filepath, 'rb') as f:\n",
        "    LDAvis_prepared = pickle.load(f)\n",
        "\n",
        "pyLDAvis.save_html(LDAvis_prepared, '/content/gdrive/MyDrive/Colab Notebooks/Final Project/Model/ldavis_prepared_' + str(num_topics) +'.html')\n",
        "\n",
        "LDAvis_prepared"
      ],
      "execution_count": null,
      "outputs": [
        {
          "output_type": "stream",
          "text": [
            "/usr/local/lib/python3.7/dist-packages/past/types/oldstr.py:5: DeprecationWarning: Using or importing the ABCs from 'collections' instead of from 'collections.abc' is deprecated since Python 3.3,and in 3.9 it will stop working\n",
            "  from collections import Iterable\n"
          ],
          "name": "stderr"
        },
        {
          "output_type": "execute_result",
          "data": {
            "text/html": [
              "\n",
              "<link rel=\"stylesheet\" type=\"text/css\" href=\"https://cdn.jsdelivr.net/gh/bmabey/pyLDAvis@3.3.1/pyLDAvis/js/ldavis.v1.0.0.css\">\n",
              "\n",
              "\n",
              "<div id=\"ldavis_el594139892545183824804643342\"></div>\n",
              "<script type=\"text/javascript\">\n",
              "\n",
              "var ldavis_el594139892545183824804643342_data = {\"mdsDat\": {\"x\": [0.011465208118407573, -0.1979644826672747, 0.02783056250782029, 0.10942943829050325, 0.04923927375054355], \"y\": [-0.17607818950079202, 0.02034478510567118, 0.08846940078940202, 0.004521238186364802, 0.06274276541935399], \"topics\": [1, 2, 3, 4, 5], \"cluster\": [1, 1, 1, 1, 1], \"Freq\": [36.43357686611684, 30.662921845651407, 17.04851294409588, 8.212836269174833, 7.642152074961034]}, \"tinfo\": {\"Term\": [\"milk\", \"cream\", \"vanilla\", \"vodka\", \"water\", \"coffee\", \"dash\", \"clove\", \"lemon\", \"seed\", \"liqueur\", \"lime\", \"leave\", \"chocolate\", \"juice\", \"whiskey\", \"tea\", \"sugar\", \"apple\", \"ice\", \"flavor\", \"wine\", \"cider\", \"irish\", \"chunk\", \"strawberry\", \"cinnamon\", \"egg\", \"salt\", \"soda\", \"milk\", \"vanilla\", \"cocoa\", \"egg\", \"sweetened_condense\", \"powder\", \"butter\", \"chocolate\", \"confectioner\", \"whip\", \"yolk\", \"chip\", \"purpose\", \"creamer\", \"bake\", \"unsweetened\", \"evaporate\", \"pudding\", \"pure\", \"granule\", \"white\", \"unsalte\", \"marshmallow\", \"coconut\", \"shot\", \"beat\", \"unsalted\", \"greek\", \"scoop\", \"yogurt\", \"cream\", \"plain\", \"ice\", \"coffee\", \"salt\", \"sugar\", \"pinch\", \"mix\", \"brew\", \"cinnamon\", \"package\", \"water\", \"crush\", \"flavor\", \"hot\", \"grate\", \"tea\", \"lime\", \"pineapple\", \"strawberry\", \"liter\", \"lemonade\", \"wedge\", \"orange\", \"bottle\", \"peach\", \"carbonated_beverage\", \"bag\", \"sparkle\", \"soda\", \"rise\", \"round\", \"mint\", \"grape\", \"wine\", \"blueberry\", \"fruit\", \"cranberry\", \"boil\", \"ale\", \"juice\", \"cube\", \"food_coloring\", \"limes\", \"garnish\", \"pink\", \"water\", \"lemon\", \"strawberrie\", \"flavor\", \"sugar\", \"vodka\", \"thaw\", \"package\", \"ice\", \"chunk\", \"need\", \"ginger\", \"leave\", \"slice\", \"dash\", \"cider\", \"apple\", \"pepper\", \"pear\", \"bitter\", \"worcestershire\", \"skin\", \"infuse\", \"clove\", \"raisin\", \"thick\", \"peel\", \"kettle\", \"juniper\", \"strip\", \"dill\", \"gin\", \"cocktail\", \"desire\", \"pod\", \"elderflower\", \"vinegar\", \"beef\", \"champagne\", \"spice\", \"thin\", \"onion\", \"corn\", \"base\", \"proof\", \"cardamom\", \"cinnamon\", \"beer\", \"slice\", \"salt\", \"lemon\", \"hot\", \"thinly\", \"gallon\", \"juice\", \"berry\", \"sugar\", \"vodka\", \"wine\", \"liqueur\", \"whiskey\", \"irish\", \"creme_de\", \"menthe\", \"comfort\", \"cassis\", \"bailey\", \"bourbon\", \"grand\", \"canadian\", \"color\", \"peppermint\", \"marnier\", \"sprinkle\", \"eggnog\", \"melon\", \"splash\", \"whisky\", \"strong\", \"rye\", \"birthday\", \"different\", \"dropsfood\", \"garnishfroste\", \"glitter\", \"deluxe\", \"multi\", \"velvet\", \"coffee\", \"vodka\", \"grenadine\", \"cream\", \"brew\", \"flavor\", \"cherry\", \"thaw\", \"chocolate\", \"hot\", \"garnish\", \"seed\", \"tequila\", \"yeast\", \"spinach\", \"root\", \"hop\", \"meal\", \"turmeric\", \"substitute\", \"sour\", \"almondmilk\", \"banana\", \"roll\", \"flax\", \"active\", \"original\", \"fennel\", \"leave\", \"breakfast\", \"muscadine\", \"fuggle\", \"pack\", \"quarter\", \"packet\", \"baby\", \"blend\", \"coriander\", \"malt\", \"thread\", \"loosely\", \"remove\", \"pound\", \"chunk\", \"gallon\", \"piece\", \"ginger\", \"break\", \"mix\", \"water\", \"slice\"], \"Freq\": [315.0, 159.0, 187.0, 117.0, 286.0, 79.0, 67.0, 81.0, 126.0, 34.0, 32.0, 80.0, 45.0, 93.0, 99.0, 28.0, 71.0, 400.0, 39.0, 175.0, 115.0, 78.0, 28.0, 18.0, 33.0, 50.0, 53.0, 58.0, 69.0, 58.0, 312.43333126691357, 184.7085735341607, 42.61774701582796, 55.28058953616744, 35.65736601795928, 30.440211506495753, 36.6894599756744, 85.62288798104328, 21.98093616078224, 21.384123480407567, 18.78401344729989, 17.02592303546463, 17.109202057982955, 15.747714934427762, 14.382241057362975, 48.06210019150039, 13.904632924069668, 13.935949922033188, 12.490275802105028, 10.877718093413232, 10.378112615629586, 9.357147316221244, 8.829542763625152, 9.897111730413835, 8.01276203836152, 8.667229129929405, 8.139430948244517, 7.548856055965544, 8.661924772899226, 8.379328132097651, 119.46585840815062, 13.693824075082295, 110.54328188165714, 49.224029010414945, 43.5199721693958, 198.99683891185285, 17.109492115900835, 35.08833409752801, 19.40831837256135, 26.153192508889745, 28.38911014031799, 64.51032505480643, 19.711158896025225, 32.564972155202554, 17.03774906706333, 15.485653777067634, 67.92913715017798, 75.34053358748413, 38.23432304893455, 46.55799699260146, 34.85254354303489, 43.02333847073624, 32.87543673382209, 33.690132718389926, 30.043058725231287, 20.951272124931624, 16.801199472292364, 37.823987231212904, 15.468991605767807, 49.477075176975546, 17.351328123988498, 12.820770639715382, 11.807477105571786, 10.819817062069761, 62.73787810019307, 16.2511526254648, 14.114460099553774, 10.328676862306693, 20.393001941077916, 11.630183881053327, 75.07845675838887, 9.404432472315284, 9.253725180836735, 10.31148810123239, 23.230284346312928, 10.364491812860152, 211.92170842195375, 89.91715873220286, 19.252604417017857, 71.13498944301529, 173.08925414384282, 62.73224265369166, 19.374239167149998, 33.95894611348734, 63.39575545020427, 20.763823410300823, 18.812951292589084, 20.38658740059013, 21.17580311633371, 20.830271037908396, 64.76613372435673, 26.105419172206084, 35.75090858816131, 19.6616707443156, 16.051568994792728, 10.792746858997107, 7.663415309843314, 9.49483279063557, 10.199888441275794, 58.4678178380741, 9.891918021495155, 6.551996553857539, 5.321761298574782, 5.1190970283756805, 5.1190970283756805, 7.4008877763473855, 4.596676383918979, 11.31092816962908, 6.051524497151609, 8.78837365481904, 19.77174325662038, 4.889343472793145, 7.21955518130484, 3.6589291720763732, 5.739045092459126, 11.933583934923295, 5.0924463321098425, 4.610158938274706, 11.38991103062351, 4.639384495590596, 10.406837528615524, 17.85575207676511, 25.202085864500113, 9.561479565617883, 16.672774347679947, 23.04824582078971, 34.24614722845277, 13.529379068467275, 9.76399655650836, 10.140059831933936, 22.441551811546404, 9.34868478924906, 27.309193606017942, 15.98684118256691, 14.049098870308459, 29.78026467483609, 23.55275675886657, 15.269452583307983, 10.321256674570872, 7.974632784549654, 5.659568833127809, 5.975653039654097, 4.247960640540829, 6.682001080935349, 3.0513314015663626, 2.774933268319142, 2.87198762657502, 4.021940716607681, 3.0513314015663626, 3.216077522466392, 2.2696565437302665, 3.4482220443755485, 4.872492260728148, 1.6985447382857077, 4.68573167062395, 1.5467456558044117, 1.5962128268221667, 1.5962128268221667, 1.5962128268221667, 1.5962128268221667, 1.5962128268221667, 1.4502609790638488, 1.4502607182206642, 1.4502607182206642, 28.001002534741183, 37.5171684587883, 2.7373746320542276, 38.053590033522006, 9.054970828189878, 10.07120405076605, 3.2293693955752563, 3.993597148370724, 5.7077437870087175, 3.3063619567073923, 2.9534199126056646, 29.829041627341887, 8.31748863690495, 5.15606194657359, 3.941268980484261, 4.506982204982329, 3.0364812834363533, 3.7209509291697485, 3.099419034593172, 3.792645622543951, 5.9805853863345, 2.7266572438432384, 7.314469724514509, 3.031209448234713, 2.1762124385530144, 2.627316969001871, 3.8021520779796893, 2.0630561690823765, 19.03854448244396, 2.9851694013884185, 2.3529593706303986, 1.7122627855193882, 5.2802416590495, 4.878433965720216, 6.3691400290083156, 1.6140212142083812, 2.502679166732965, 1.8728545685882836, 3.2455527529873667, 1.4169008559011596, 1.6228571206853843, 3.142586918307818, 7.700819840399278, 9.215975050760031, 6.545752657119544, 5.85138820713261, 7.351786162416948, 3.2185029633315105, 6.846581243596342, 8.014485944296498, 4.109974826665073], \"Total\": [315.0, 159.0, 187.0, 117.0, 286.0, 79.0, 67.0, 81.0, 126.0, 34.0, 32.0, 80.0, 45.0, 93.0, 99.0, 28.0, 71.0, 400.0, 39.0, 175.0, 115.0, 78.0, 28.0, 18.0, 33.0, 50.0, 53.0, 58.0, 69.0, 58.0, 315.1309803514133, 187.2515273967743, 44.83497233065694, 58.293321593308455, 38.14685131001072, 32.638898275995025, 39.883322329212184, 93.1712858986519, 24.46145751123012, 23.946258198903564, 21.187041402109084, 19.345334742414774, 19.498632748578213, 17.95280646053729, 16.559377006142004, 55.53692730852955, 16.15952786742549, 16.394722123974116, 14.957412325590283, 13.234546687017422, 12.715783531425929, 11.571078237623245, 11.013334661278096, 12.481465828057463, 10.21165726690201, 11.089179792853594, 10.509876317754003, 9.787906387497367, 11.246875264507377, 10.91018391507288, 159.39954375361498, 17.953659700821273, 175.9675085051387, 79.01990523135582, 69.51648708284459, 400.95487688197807, 24.20844816983207, 62.19191168753804, 33.30510086230954, 53.180627181809584, 64.52895975311583, 286.93627390350576, 38.471592324157825, 115.07680509153587, 35.13362679399392, 28.28115970579274, 71.70327118053956, 80.04963731328249, 41.03685128199631, 50.51235305061723, 37.85873656056613, 47.14271931977556, 36.06761335755418, 37.44697268373406, 33.68635404604923, 24.002677230905615, 19.479822184069143, 44.0971754699262, 18.06361406214752, 58.04344480870155, 20.415865716699493, 15.534217003399323, 14.458435695515288, 13.525344216672934, 78.75185624062392, 20.41668748148171, 17.91873514518059, 13.149892050523224, 26.33286899107474, 15.15892148227229, 99.44410817168097, 12.49265582805467, 12.354083791947927, 13.774211109348908, 31.073354850367235, 13.878048085289654, 286.93627390350576, 126.17280458566849, 26.41771746162599, 115.07680509153587, 400.95487688197807, 117.73609643413437, 29.467947959378808, 64.52895975311583, 175.9675085051387, 33.08624557488676, 28.7985729801491, 39.13051746822283, 45.4752787814144, 42.997041707573146, 67.44789932665711, 28.55572517258127, 39.144208628525455, 22.735415308367852, 19.05668737140832, 13.253847653278584, 10.00844117037336, 12.676732444315517, 14.121449668101642, 81.89714691281125, 14.013092487312003, 9.436600557139965, 7.752744461015656, 7.458764562554234, 7.600630529705811, 11.207893795812918, 6.965127079811119, 17.63283299278931, 9.467251444923889, 13.782501160165562, 31.122963380877042, 7.792375258559229, 11.810663938029425, 6.014271212422315, 9.44909617997228, 19.898323630146837, 8.556428308995006, 7.841368113426803, 19.4510743701928, 8.044368199574446, 18.39027635141398, 33.312495157636604, 53.180627181809584, 18.04963009029549, 42.997041707573146, 69.51648708284459, 126.17280458566849, 35.13362679399392, 21.858465890428878, 23.729955840626094, 99.44410817168097, 21.098665739899086, 400.95487688197807, 117.73609643413437, 78.75185624062392, 32.79823580565554, 28.60627936865941, 18.873208224419436, 12.961191132342291, 10.63081605460277, 8.299503290899226, 8.76641368189261, 6.977871488725681, 11.423405378542835, 5.691265859337781, 5.417701071798806, 5.827095276477012, 8.992254006449782, 6.930808749591597, 7.5423965403053455, 5.325997626802023, 8.324781998828795, 12.197100412269318, 4.338479196057126, 12.86794912512041, 4.284596291950148, 4.446148734995048, 4.446148734995048, 4.446148734995048, 4.446148734995048, 4.446148734995048, 4.090195436835267, 4.090195175992083, 4.090195175992083, 79.01990523135582, 117.73609643413437, 7.935547906127476, 159.39954375361498, 33.30510086230954, 115.07680509153587, 17.75278837180908, 29.467947959378808, 93.1712858986519, 35.13362679399392, 31.073354850367235, 34.67642610313986, 11.71031135660853, 8.0964364029724, 6.820157301399499, 8.061068399206, 5.722753079159666, 7.0180776696885765, 5.886142623275812, 7.504257879128456, 12.457088055848427, 5.798074817144787, 15.589956320280383, 6.531040191100803, 4.842659014055429, 5.962151402916843, 8.714290538825951, 4.912020746444352, 45.4752787814144, 7.332998231704946, 5.888701023180349, 4.378433128578604, 13.751989099842191, 12.957291135346052, 17.037642484443012, 4.383262766184838, 6.81537698866983, 5.1149658323323655, 8.964122008910405, 4.119339182091363, 4.721730649774418, 9.569035513554999, 25.16314450247095, 33.08624557488676, 23.729955840626094, 23.305326952512424, 39.13051746822283, 10.880867835385622, 62.19191168753804, 286.93627390350576, 42.997041707573146], \"Category\": [\"Default\", \"Default\", \"Default\", \"Default\", \"Default\", \"Default\", \"Default\", \"Default\", \"Default\", \"Default\", \"Default\", \"Default\", \"Default\", \"Default\", \"Default\", \"Default\", \"Default\", \"Default\", \"Default\", \"Default\", \"Default\", \"Default\", \"Default\", \"Default\", \"Default\", \"Default\", \"Default\", \"Default\", \"Default\", \"Default\", \"Topic1\", \"Topic1\", \"Topic1\", \"Topic1\", \"Topic1\", \"Topic1\", \"Topic1\", \"Topic1\", \"Topic1\", \"Topic1\", \"Topic1\", \"Topic1\", \"Topic1\", \"Topic1\", \"Topic1\", \"Topic1\", \"Topic1\", \"Topic1\", \"Topic1\", \"Topic1\", \"Topic1\", \"Topic1\", \"Topic1\", \"Topic1\", \"Topic1\", \"Topic1\", \"Topic1\", \"Topic1\", \"Topic1\", \"Topic1\", \"Topic1\", \"Topic1\", \"Topic1\", \"Topic1\", \"Topic1\", \"Topic1\", \"Topic1\", \"Topic1\", \"Topic1\", \"Topic1\", \"Topic1\", \"Topic1\", \"Topic1\", \"Topic1\", \"Topic1\", \"Topic1\", \"Topic2\", \"Topic2\", \"Topic2\", \"Topic2\", \"Topic2\", \"Topic2\", \"Topic2\", \"Topic2\", \"Topic2\", \"Topic2\", \"Topic2\", \"Topic2\", \"Topic2\", \"Topic2\", \"Topic2\", \"Topic2\", \"Topic2\", \"Topic2\", \"Topic2\", \"Topic2\", \"Topic2\", \"Topic2\", \"Topic2\", \"Topic2\", \"Topic2\", \"Topic2\", \"Topic2\", \"Topic2\", \"Topic2\", \"Topic2\", \"Topic2\", \"Topic2\", \"Topic2\", \"Topic2\", \"Topic2\", \"Topic2\", \"Topic2\", \"Topic2\", \"Topic2\", \"Topic2\", \"Topic2\", \"Topic2\", \"Topic2\", \"Topic2\", \"Topic3\", \"Topic3\", \"Topic3\", \"Topic3\", \"Topic3\", \"Topic3\", \"Topic3\", \"Topic3\", \"Topic3\", \"Topic3\", \"Topic3\", \"Topic3\", \"Topic3\", \"Topic3\", \"Topic3\", \"Topic3\", \"Topic3\", \"Topic3\", \"Topic3\", \"Topic3\", \"Topic3\", \"Topic3\", \"Topic3\", \"Topic3\", \"Topic3\", \"Topic3\", \"Topic3\", \"Topic3\", \"Topic3\", \"Topic3\", \"Topic3\", \"Topic3\", \"Topic3\", \"Topic3\", \"Topic3\", \"Topic3\", \"Topic3\", \"Topic3\", \"Topic3\", \"Topic3\", \"Topic3\", \"Topic3\", \"Topic3\", \"Topic3\", \"Topic3\", \"Topic4\", \"Topic4\", \"Topic4\", \"Topic4\", \"Topic4\", \"Topic4\", \"Topic4\", \"Topic4\", \"Topic4\", \"Topic4\", \"Topic4\", \"Topic4\", \"Topic4\", \"Topic4\", \"Topic4\", \"Topic4\", \"Topic4\", \"Topic4\", \"Topic4\", \"Topic4\", \"Topic4\", \"Topic4\", \"Topic4\", \"Topic4\", \"Topic4\", \"Topic4\", \"Topic4\", \"Topic4\", \"Topic4\", \"Topic4\", \"Topic4\", \"Topic4\", \"Topic4\", \"Topic4\", \"Topic4\", \"Topic4\", \"Topic4\", \"Topic4\", \"Topic4\", \"Topic4\", \"Topic5\", \"Topic5\", \"Topic5\", \"Topic5\", \"Topic5\", \"Topic5\", \"Topic5\", \"Topic5\", \"Topic5\", \"Topic5\", \"Topic5\", \"Topic5\", \"Topic5\", \"Topic5\", \"Topic5\", \"Topic5\", \"Topic5\", \"Topic5\", \"Topic5\", \"Topic5\", \"Topic5\", \"Topic5\", \"Topic5\", \"Topic5\", \"Topic5\", \"Topic5\", \"Topic5\", \"Topic5\", \"Topic5\", \"Topic5\", \"Topic5\", \"Topic5\", \"Topic5\", \"Topic5\", \"Topic5\", \"Topic5\", \"Topic5\", \"Topic5\", \"Topic5\", \"Topic5\"], \"logprob\": [30.0, 29.0, 28.0, 27.0, 26.0, 25.0, 24.0, 23.0, 22.0, 21.0, 20.0, 19.0, 18.0, 17.0, 16.0, 15.0, 14.0, 13.0, 12.0, 11.0, 10.0, 9.0, 8.0, 7.0, 6.0, 5.0, 4.0, 3.0, 2.0, 1.0, -2.3613, -2.8869, -4.3534, -4.0933, -4.5317, -4.6899, -4.5032, -3.6557, -5.0155, -5.043, -5.1727, -5.271, -5.2661, -5.349, -5.4397, -4.2332, -5.4735, -5.4712, -5.5807, -5.719, -5.766, -5.8696, -5.9276, -5.8134, -6.0247, -5.9461, -6.009, -6.0843, -5.9468, -5.9799, -3.3227, -5.4887, -3.4003, -4.2093, -4.3325, -2.8124, -5.2661, -4.5478, -5.14, -4.8417, -4.7597, -3.9389, -5.1245, -4.6225, -5.2703, -5.3658, -3.7148, -3.6112, -4.2895, -4.0926, -4.3821, -4.1715, -4.4405, -4.416, -4.5306, -4.8911, -5.1118, -4.3003, -5.1944, -4.0317, -5.0796, -5.3822, -5.4645, -5.5519, -3.7943, -5.1451, -5.2861, -5.5983, -4.9181, -5.4797, -3.6147, -5.6921, -5.7082, -5.6, -4.7878, -5.5949, -2.577, -3.4344, -4.9756, -3.6687, -2.7794, -3.7944, -4.9693, -4.4081, -3.7839, -4.9, -4.9987, -4.9184, -4.8804, -4.8968, -3.1755, -4.0841, -3.7697, -4.3676, -4.5705, -4.9674, -5.3098, -5.0955, -5.0239, -3.2778, -5.0545, -5.4665, -5.6745, -5.7133, -5.7133, -5.3447, -5.8209, -4.9205, -5.546, -5.1728, -4.362, -5.7592, -5.3695, -6.0491, -5.599, -4.8669, -5.7185, -5.818, -4.9135, -5.8117, -5.0038, -4.4639, -4.1193, -5.0885, -4.5325, -4.2087, -3.8127, -4.7414, -5.0676, -5.0298, -4.2353, -5.111, -4.039, -4.5745, -4.7037, -3.2221, -3.4567, -3.89, -4.2817, -4.5396, -4.8826, -4.8282, -5.1695, -4.7165, -5.5003, -5.5953, -5.5609, -5.2241, -5.5003, -5.4477, -5.7963, -5.378, -5.0323, -6.0861, -5.0714, -6.1797, -6.1483, -6.1483, -6.1483, -6.1483, -6.1483, -6.2442, -6.2442, -6.2442, -3.2837, -2.9911, -5.6089, -2.9769, -4.4126, -4.3062, -5.4436, -5.2312, -4.8741, -5.42, -5.5329, -3.1484, -4.4255, -4.9037, -5.1724, -5.0383, -5.4332, -5.2299, -5.4127, -5.2108, -4.7554, -5.5408, -4.554, -5.4349, -5.7663, -5.5779, -5.2083, -5.8197, -3.5974, -5.4502, -5.6882, -6.0061, -4.8799, -4.9591, -4.6924, -6.0652, -5.6265, -5.9164, -5.3666, -6.1954, -6.0597, -5.3988, -4.5026, -4.3229, -4.6651, -4.7772, -4.5489, -5.375, -4.6201, -4.4626, -5.1305], \"loglift\": [30.0, 29.0, 28.0, 27.0, 26.0, 25.0, 24.0, 23.0, 22.0, 21.0, 20.0, 19.0, 18.0, 17.0, 16.0, 15.0, 14.0, 13.0, 12.0, 11.0, 10.0, 9.0, 8.0, 7.0, 6.0, 5.0, 4.0, 3.0, 2.0, 1.0, 1.0011, 0.996, 0.959, 0.9566, 0.9422, 0.9399, 0.9262, 0.9252, 0.9028, 0.8965, 0.8893, 0.882, 0.879, 0.8786, 0.8687, 0.8651, 0.8594, 0.8472, 0.8294, 0.8136, 0.8065, 0.7973, 0.7887, 0.7777, 0.7672, 0.7633, 0.7541, 0.7499, 0.7485, 0.7458, 0.7213, 0.7388, 0.5448, 0.5364, 0.5413, 0.3091, 0.6626, 0.4373, 0.4697, 0.3, 0.1886, -0.4828, 0.3409, -0.2527, 0.286, 0.4074, 1.128, 1.1215, 1.1114, 1.1006, 1.0994, 1.0907, 1.0894, 1.0764, 1.0677, 1.0462, 1.0342, 1.0287, 1.0271, 1.0224, 1.0195, 0.9901, 0.9796, 0.9589, 0.9548, 0.9539, 0.9435, 0.9406, 0.9265, 0.9171, 0.9011, 0.8982, 0.8932, 0.8926, 0.8912, 0.8902, 0.8791, 0.8434, 0.8657, 0.7011, 0.3421, 0.5525, 0.7628, 0.5402, 0.1612, 0.7162, 0.7563, 0.5301, 0.4178, 0.4574, 1.7285, 1.6794, 1.6784, 1.6239, 1.5975, 1.5637, 1.5021, 1.4801, 1.4438, 1.4321, 1.4208, 1.4043, 1.3929, 1.3927, 1.3739, 1.3541, 1.3535, 1.3251, 1.3216, 1.3191, 1.3154, 1.303, 1.2769, 1.2721, 1.2705, 1.2578, 1.2502, 1.238, 1.2339, 1.2187, 1.1997, 1.1455, 1.0223, 1.1337, 0.8218, 0.6651, 0.465, 0.8148, 0.9632, 0.9189, 0.2804, 0.9551, -0.9175, -0.2276, 0.0454, 2.4029, 2.3051, 2.2876, 2.2717, 2.212, 2.1166, 2.1162, 2.0032, 1.9632, 1.8761, 1.8304, 1.792, 1.6949, 1.6791, 1.6471, 1.6465, 1.6181, 1.5819, 1.5617, 1.4893, 1.4806, 1.4751, 1.4751, 1.4751, 1.4751, 1.4751, 1.4626, 1.4626, 1.4626, 1.462, 1.3558, 1.4351, 1.0671, 1.1971, 0.0636, 0.7952, 0.5009, -0.2931, 0.1362, 0.1461, 2.4209, 2.2294, 2.1202, 2.0231, 1.9901, 1.9377, 1.937, 1.9301, 1.8891, 1.8377, 1.817, 1.8147, 1.8039, 1.7716, 1.752, 1.7421, 1.704, 1.7008, 1.6728, 1.6541, 1.6326, 1.6143, 1.5947, 1.5875, 1.5724, 1.5697, 1.5668, 1.5555, 1.5043, 1.5035, 1.458, 1.3874, 1.2933, 1.2836, 1.1895, 0.8995, 1.3534, 0.365, -1.0065, 0.2238]}, \"token.table\": {\"Topic\": [1, 2, 3, 5, 1, 2, 3, 4, 5, 1, 2, 3, 5, 1, 2, 3, 5, 1, 2, 3, 5, 1, 2, 3, 1, 2, 3, 4, 1, 2, 3, 1, 2, 3, 4, 5, 1, 2, 3, 4, 1, 2, 3, 5, 1, 2, 3, 1, 2, 3, 4, 1, 2, 3, 5, 1, 2, 3, 4, 1, 2, 3, 1, 2, 3, 5, 1, 2, 3, 5, 1, 2, 3, 5, 1, 2, 3, 1, 2, 3, 4, 1, 2, 3, 4, 5, 1, 2, 3, 5, 1, 2, 3, 4, 1, 2, 3, 5, 1, 2, 3, 4, 1, 2, 3, 4, 1, 2, 3, 5, 1, 2, 3, 4, 1, 2, 3, 4, 1, 2, 3, 4, 5, 1, 2, 3, 1, 2, 3, 4, 1, 2, 3, 5, 1, 2, 3, 1, 2, 3, 4, 1, 2, 3, 5, 1, 2, 3, 4, 1, 2, 3, 1, 2, 3, 5, 1, 2, 3, 4, 1, 2, 3, 4, 1, 2, 3, 4, 1, 2, 3, 1, 2, 3, 5, 1, 2, 3, 4, 5, 1, 2, 3, 1, 2, 3, 4, 1, 2, 3, 1, 2, 3, 4, 1, 2, 3, 4, 5, 1, 2, 3, 1, 2, 3, 5, 1, 2, 3, 4, 1, 2, 3, 5, 1, 2, 3, 4, 1, 2, 3, 1, 2, 3, 4, 1, 2, 3, 1, 2, 3, 4, 1, 2, 3, 4, 1, 2, 3, 1, 2, 3, 5, 1, 2, 3, 4, 5, 1, 2, 3, 5, 1, 2, 3, 1, 2, 3, 4, 1, 2, 3, 5, 1, 2, 3, 4, 5, 1, 2, 3, 4, 5, 1, 2, 3, 4, 1, 2, 3, 1, 2, 3, 4, 5, 1, 2, 3, 4, 1, 2, 3, 4, 1, 2, 3, 4, 5, 1, 2, 3, 5, 1, 2, 3, 4, 5, 1, 2, 3, 1, 2, 3, 4, 1, 2, 3, 5, 1, 2, 3, 4, 1, 2, 3, 4, 5, 1, 2, 3, 1, 2, 3, 4, 5, 1, 2, 3, 1, 2, 3, 5, 1, 2, 3, 1, 2, 3, 5, 1, 2, 3, 5, 1, 2, 3, 4, 1, 2, 3, 1, 2, 3, 1, 2, 3, 4, 1, 2, 3, 1, 2, 3, 5, 1, 2, 3, 5, 1, 2, 3, 4, 1, 2, 3, 1, 2, 3, 5, 1, 2, 3, 4, 5, 1, 2, 3, 4, 1, 2, 3, 5, 1, 2, 3, 1, 2, 3, 4, 5, 1, 2, 3, 4, 1, 2, 3, 5, 1, 2, 3, 5, 1, 2, 3, 5, 1, 2, 3, 5, 1, 2, 3, 4, 5, 1, 2, 3, 5, 1, 2, 3, 4, 5, 1, 2, 3, 4, 5, 1, 2, 3, 4, 5, 1, 2, 3, 4, 1, 2, 3, 1, 2, 3, 5, 1, 2, 3, 4, 1, 2, 3, 5, 1, 2, 3, 4, 5, 1, 2, 3, 5, 1, 2, 3, 1, 2, 3, 5, 1, 2, 3, 5, 1, 2, 3, 5, 1, 2, 3, 1, 2, 3, 5, 1, 2, 3, 4, 1, 2, 3, 1, 2, 3, 1, 2, 3, 5, 1, 2, 3, 5, 1, 2, 3, 5, 1, 2, 3, 1, 2, 3, 5, 1, 2, 3, 5, 1, 2, 3, 1, 2, 3, 4, 1, 2, 3, 5, 1, 2, 3, 1, 2, 3, 5, 1, 2, 3, 1, 2, 3, 5, 1, 2, 3, 5, 1, 2, 3, 4, 1, 2, 3, 5, 1, 2, 3, 1, 2, 3, 4, 5, 1, 2, 3, 5, 1, 2, 3, 4, 1, 2, 3, 4, 1, 2, 3, 5, 1, 2, 3, 5, 1, 2, 3, 5, 1, 2, 3, 4, 1, 2, 3, 5, 1, 2, 3, 4, 5, 1, 2, 3, 4, 1, 2, 3, 5, 1, 2, 3, 4, 5, 1, 2, 3, 4, 1, 2, 3, 1, 2, 3, 5, 1, 2, 3, 5, 1, 2, 3, 5, 1, 2, 3, 5, 1, 2, 3, 1, 2, 3, 1, 2, 3, 5, 1, 2, 3, 4, 5, 1, 2, 3, 4, 1, 2, 3, 5, 1, 2, 3, 4, 1, 2, 3, 5, 1, 2, 3, 1, 2, 3, 4, 5, 1, 2, 3, 4, 5, 1, 2, 3, 4, 1, 2, 3, 1, 2, 3, 4, 1, 2, 3, 1, 2, 3, 5, 1, 2, 3, 1, 2, 3, 5], \"Freq\": [0.16772469070657503, 0.16772469070657503, 0.16772469070657503, 0.5031740721197251, 0.06596775378574637, 0.7916130454289565, 0.06596775378574637, 0.06596775378574637, 0.06596775378574637, 0.17247104108470981, 0.17247104108470981, 0.17247104108470981, 0.5174131232541295, 0.025546563209130065, 0.025546563209130065, 0.9196762755286824, 0.025546563209130065, 0.2281405549570539, 0.2281405549570539, 0.2281405549570539, 0.4562811099141078, 0.09070875758761368, 0.86173319708233, 0.02267718939690342, 0.14331017726762735, 0.14331017726762735, 0.14331017726762735, 0.5732407090705094, 0.8454424339035997, 0.06038874527882855, 0.06038874527882855, 0.192431584692602, 0.2565754462568026, 0.06414386156420065, 0.06414386156420065, 0.44900703094940464, 0.12431057047499403, 0.12431057047499403, 0.6215528523749702, 0.12431057047499403, 0.8116019550697552, 0.09017799500775057, 0.09017799500775057, 0.09017799500775057, 0.16627118476707983, 0.16627118476707983, 0.6650847390683193, 0.055402797453320496, 0.332416784719923, 0.554027974533205, 0.055402797453320496, 0.23698181020729867, 0.18958544816583894, 0.4265672583731376, 0.1421890861243792, 0.2249137533634744, 0.2249137533634744, 0.2249137533634744, 0.4498275067269488, 0.0754497883301557, 0.0754497883301557, 0.8299476716317127, 0.14672702649647146, 0.2934540529929429, 0.14672702649647146, 0.4401810794894144, 0.04897954190203565, 0.7836726704325704, 0.04897954190203565, 0.0979590838040713, 0.11392605951963759, 0.7595070634642507, 0.07595070634642506, 0.03797535317321253, 0.029685610934118915, 0.8905683280235674, 0.05937122186823783, 0.08753957045754071, 0.08753957045754071, 0.2626187113726221, 0.612776993202785, 0.5514266040882719, 0.09190443401471199, 0.09190443401471199, 0.09190443401471199, 0.27571330204413597, 0.13636986787701663, 0.27273973575403326, 0.13636986787701663, 0.40910960363104987, 0.5704831844992782, 0.12010172305247961, 0.030025430763119903, 0.2702288768680791, 0.9277060645697432, 0.02507313688026333, 0.02507313688026333, 0.02507313688026333, 0.18458013588187436, 0.18458013588187436, 0.18458013588187436, 0.553740407645623, 0.05133517085273054, 0.8726979044964192, 0.05133517085273054, 0.05133517085273054, 0.39024395916557036, 0.03001876608965926, 0.5403377896138667, 0.03001876608965926, 0.11407173289865859, 0.11407173289865859, 0.11407173289865859, 0.6844303973919516, 0.10583022766976785, 0.2116604553395357, 0.6349813660186071, 0.10583022766976785, 0.11265835868217429, 0.3379750760465229, 0.3379750760465229, 0.16898753802326144, 0.056329179341087145, 0.8787648405342601, 0.051692049443191765, 0.051692049443191765, 0.9230311589082011, 0.010732920452420943, 0.010732920452420943, 0.06439752271452566, 0.060448079413339274, 0.6347048338400624, 0.030224039706669637, 0.2720163573600267, 0.0350192472422372, 0.0350192472422372, 0.9105004282981672, 0.4888998377381546, 0.018803839913005948, 0.47009599782514866, 0.018803839913005948, 0.1709461260586352, 0.09768350060493441, 0.7082053793857744, 0.012210437575616802, 0.10562727797159922, 0.10562727797159922, 0.6337636678295954, 0.10562727797159922, 0.9590727453309426, 0.022304017333277734, 0.022304017333277734, 0.8011879484155378, 0.08011879484155378, 0.08011879484155378, 0.08011879484155378, 0.6200969218646487, 0.012655039221727525, 0.012655039221727525, 0.35434109820837073, 0.1716120901672621, 0.1716120901672621, 0.1716120901672621, 0.5148362705017863, 0.12048913831946358, 0.12048913831946358, 0.12048913831946358, 0.7229348299167815, 0.8993740454713266, 0.04088063843051484, 0.04088063843051484, 0.19550472726110305, 0.19550472726110305, 0.19550472726110305, 0.3910094545222061, 0.2570552096424091, 0.05141104192848182, 0.5655214612132999, 0.05141104192848182, 0.10282208385696363, 0.07604625164662175, 0.7604625164662175, 0.07604625164662175, 0.7465516976882892, 0.00627354367805285, 0.00627354367805285, 0.23839465976600832, 0.8912255604810411, 0.05570159753006507, 0.05570159753006507, 0.07715340278446185, 0.07715340278446185, 0.07715340278446185, 0.7715340278446186, 0.5198641072997963, 0.44188449120482676, 0.02599320536498981, 0.02599320536498981, 0.02599320536498981, 0.08004703033235791, 0.7204232729912212, 0.08004703033235791, 0.014826258637899117, 0.014826258637899117, 0.9637068114634426, 0.014826258637899117, 0.2444870949183143, 0.2444870949183143, 0.2444870949183143, 0.2444870949183143, 0.21766731343877227, 0.07255577114625743, 0.6530019403163169, 0.07255577114625743, 0.2249137533634744, 0.2249137533634744, 0.2249137533634744, 0.4498275067269488, 0.143572398398669, 0.143572398398669, 0.717861991993345, 0.2249137533634744, 0.2249137533634744, 0.2249137533634744, 0.4498275067269488, 0.943504307126556, 0.01715462376593738, 0.01715462376593738, 0.18775825114297817, 0.18775825114297817, 0.18775825114297817, 0.37551650228595634, 0.12833057531483602, 0.12833057531483602, 0.6416528765741801, 0.12833057531483602, 0.8663619454019642, 0.0618829961001403, 0.0618829961001403, 0.20358220203444105, 0.20358220203444105, 0.20358220203444105, 0.4071644040688821, 0.2867649998950763, 0.6169792421984974, 0.008689848481668979, 0.08689848481668978, 0.008689848481668979, 0.2064981236749439, 0.2064981236749439, 0.2064981236749439, 0.4129962473498878, 0.08094489375665188, 0.728504043809867, 0.08094489375665188, 0.05580751051331652, 0.7813051471864313, 0.11161502102663304, 0.05580751051331652, 0.22839220575800726, 0.22839220575800726, 0.22839220575800726, 0.4567844115160145, 0.04214082852560487, 0.21070414262802437, 0.42140828525604873, 0.04214082852560487, 0.2949857996792341, 0.03218191292235643, 0.7401839972141978, 0.09654573876706928, 0.09654573876706928, 0.03218191292235643, 0.2249137533634744, 0.2249137533634744, 0.2249137533634744, 0.4498275067269488, 0.056712384244150406, 0.283561921220752, 0.6238362266856545, 0.17888851088372576, 0.5111100310963593, 0.10222200621927185, 0.025555501554817964, 0.17888851088372576, 0.2249137533634744, 0.2249137533634744, 0.2249137533634744, 0.4498275067269488, 0.17570783455130262, 0.17570783455130262, 0.17570783455130262, 0.5271235036539079, 0.8311580487143223, 0.07555982261039294, 0.07555982261039294, 0.07555982261039294, 0.07555982261039294, 0.07393527173728281, 0.813287989110111, 0.07393527173728281, 0.07393527173728281, 0.530388433715029, 0.17679614457167633, 0.17679614457167633, 0.07071845782867053, 0.03535922891433527, 0.8173351565988455, 0.10216689457485569, 0.10216689457485569, 0.12601524328620645, 0.2520304865724129, 0.2520304865724129, 0.37804572985861934, 0.1747410706293903, 0.1747410706293903, 0.1747410706293903, 0.5242232118881709, 0.483866926112682, 0.02846276035956953, 0.3984786450339734, 0.08538828107870859, 0.6307982703338583, 0.3580206399192169, 0.00568286730030503, 0.00568286730030503, 0.00568286730030503, 0.07081425940701107, 0.14162851881402214, 0.7081425940701107, 0.052985162252707635, 0.052985162252707635, 0.052985162252707635, 0.7947774337906145, 0.052985162252707635, 0.010055899925952308, 0.7541924944464231, 0.2212297983709508, 0.1315680319009936, 0.1315680319009936, 0.657840159504968, 0.1315680319009936, 0.13407046054521832, 0.13407046054521832, 0.6703523027260916, 0.021989969644973274, 0.4617893625444388, 0.0879598785798931, 0.4178094232544922, 0.007925638201384535, 0.7133074381246082, 0.26947169884707417, 0.007925638201384535, 0.02121218322636126, 0.9121238787335342, 0.02121218322636126, 0.04242436645272252, 0.012492248979047802, 0.9369186734285851, 0.0374767469371434, 0.1451988781152446, 0.725994390576223, 0.0725994390576223, 0.030489444795916913, 0.030489444795916913, 0.030489444795916913, 0.9146833438775074, 0.026413982368381664, 0.9244893828933582, 0.026413982368381664, 0.2117867523950726, 0.2117867523950726, 0.2117867523950726, 0.4235735047901452, 0.4462232883514939, 0.11155582208787347, 0.11155582208787347, 0.33466746626362043, 0.14428330605124917, 0.14428330605124917, 0.28856661210249834, 0.43284991815374757, 0.8171911847592536, 0.09079902052880595, 0.09079902052880595, 0.2849783222887513, 0.14248916114437565, 0.14248916114437565, 0.5699566445775026, 0.12012326570722079, 0.3603697971216624, 0.12012326570722079, 0.3603697971216624, 0.12012326570722079, 0.09406615586834796, 0.09406615586834796, 0.09406615586834796, 0.7525292469467837, 0.9900645111187677, 0.00317328368948323, 0.00317328368948323, 0.00317328368948323, 0.0691637754636333, 0.8299653055635995, 0.0691637754636333, 0.5627741461919601, 0.30550596507563543, 0.016079261319770288, 0.016079261319770288, 0.11255482923839201, 0.24448711050994004, 0.24448711050994004, 0.24448711050994004, 0.24448711050994004, 0.16981673820144522, 0.16981673820144522, 0.16981673820144522, 0.33963347640289043, 0.1388957710771713, 0.6597549126165636, 0.1388957710771713, 0.034723942769292825, 0.12752876609474517, 0.12752876609474517, 0.6376438304737259, 0.12752876609474517, 0.02670442837784782, 0.9079505648468259, 0.05340885675569564, 0.02670442837784782, 0.11475403482871789, 0.11475403482871789, 0.11475403482871789, 0.22950806965743578, 0.45901613931487156, 0.29086701356139827, 0.21815026017104872, 0.07271675339034957, 0.3635837669517478, 0.43391370490282855, 0.5268952130962917, 0.015496918032243876, 0.015496918032243876, 0.015496918032243876, 0.3521613982379646, 0.058693566372994097, 0.1760806991189823, 0.058693566372994097, 0.3521613982379646, 0.04166201921477366, 0.874902403510247, 0.04166201921477366, 0.04166201921477366, 0.04166201921477366, 0.05247501732648188, 0.05247501732648188, 0.8396002772237101, 0.05247501732648188, 0.12898658082030914, 0.12898658082030914, 0.6449329041015458, 0.04398424160881488, 0.04398424160881488, 0.8796848321762976, 0.04398424160881488, 0.22241364607421904, 0.22241364607421904, 0.11120682303710952, 0.4448272921484381, 0.5149037395807203, 0.12872593489518008, 0.08581728993012006, 0.25745186979036017, 0.7022341903428966, 0.04130789354958215, 0.20653946774791074, 0.04130789354958215, 0.04130789354958215, 0.024368341350758556, 0.9259969713288251, 0.024368341350758556, 0.024368341350758556, 0.07205624262535683, 0.7205624262535683, 0.07205624262535683, 0.7797853046841243, 0.055698950334580305, 0.055698950334580305, 0.11139790066916061, 0.2891755482875995, 0.03213061647639994, 0.6426123295279988, 0.03213061647639994, 0.23844396710477966, 0.23844396710477966, 0.19870330592064972, 0.31792528947303955, 0.9191486718185014, 0.030638289060616712, 0.030638289060616712, 0.16312968563788535, 0.21750624751718048, 0.5437656187929512, 0.05437656187929512, 0.8539333508756274, 0.0609952393482591, 0.0609952393482591, 0.0609952393482591, 0.8022778097431655, 0.0668564841452638, 0.0668564841452638, 0.8718560023773766, 0.05128564719866921, 0.05128564719866921, 0.07717662507961336, 0.3858831253980668, 0.1543532501592267, 0.3858831253980668, 0.14272367086786, 0.07136183543393, 0.7136183543393, 0.07136183543393, 0.10450374006695366, 0.41801496026781465, 0.10450374006695366, 0.313511220200861, 0.04898151339142252, 0.8326857276541827, 0.04898151339142252, 0.30622993297839457, 0.15311496648919729, 0.15311496648919729, 0.4593448994675918, 0.1240530349672381, 0.1240530349672381, 0.1240530349672381, 0.6202651748361905, 0.06437402025355844, 0.8368622632962598, 0.06437402025355844, 0.2333942177653444, 0.2333942177653444, 0.2333942177653444, 0.4667884355306888, 0.6329433756853113, 0.014385076720120713, 0.3308567645627764, 0.028770153440241426, 0.8002222651479017, 0.08891358501643352, 0.08891358501643352, 0.028838035298841037, 0.05767607059768207, 0.028838035298841037, 0.8651410589652311, 0.7834183806706453, 0.09792729758383066, 0.09792729758383066, 0.0788846813950403, 0.0788846813950403, 0.7099621325553627, 0.0788846813950403, 0.023257414005388846, 0.48840569411316576, 0.39537603809161037, 0.09302965602155538, 0.120599320441274, 0.844195243088918, 0.01722847434875343, 0.01722847434875343, 0.08027558250505536, 0.3211023300202214, 0.08027558250505536, 0.4816534950303321, 0.05535990730091548, 0.8303986095137322, 0.05535990730091548, 0.2512774489417179, 0.05025548978834357, 0.6030658774601229, 0.10051097957668714, 0.05025548978834357, 0.14662418413645673, 0.14662418413645673, 0.14662418413645673, 0.5864967365458269, 0.08198669898577526, 0.32794679594310105, 0.16397339797155053, 0.4099334949288763, 0.3977515613198651, 0.13258385377328838, 0.13258385377328838, 0.3977515613198651, 0.18926691934164752, 0.7192142934982606, 0.03785338386832951, 0.03785338386832951, 0.03959427504784518, 0.9304654636243617, 0.01979713752392259, 0.01979713752392259, 0.08922282975000917, 0.08922282975000917, 0.6245598082500642, 0.08922282975000917, 0.4662747685477701, 0.07771246142462836, 0.07771246142462836, 0.38856230712314177, 0.2665153613074235, 0.13325768065371174, 0.13325768065371174, 0.533030722614847, 0.49631520022283226, 0.43146999818366827, 0.06733924827143956, 0.002494046232275539, 0.002494046232275539, 0.9437214019955736, 0.026214483388765936, 0.026214483388765936, 0.026214483388765936, 0.027892730234918554, 0.9483528279872309, 0.013946365117459277, 0.013946365117459277, 0.08539482593993247, 0.08539482593993247, 0.08539482593993247, 0.08539482593993247, 0.6831586075194598, 0.1357407039510844, 0.6447683437676508, 0.0678703519755422, 0.1357407039510844, 0.10597036442783152, 0.10597036442783152, 0.7417925509948207, 0.11687119483590401, 0.11687119483590401, 0.58435597417952, 0.11687119483590401, 0.04574886476538447, 0.4574886476538447, 0.4574886476538447, 0.04574886476538447, 0.24275738311315898, 0.24275738311315898, 0.24275738311315898, 0.24275738311315898, 0.16989054870088596, 0.16989054870088596, 0.16989054870088596, 0.5096716461026579, 0.7778013263048028, 0.08642236958942252, 0.08642236958942252, 0.7611887864451699, 0.09514859830564623, 0.09514859830564623, 0.8642898036713673, 0.10803622545892091, 0.01800603757648682, 0.01800603757648682, 0.9879759197263932, 0.0053404103768994226, 0.0053404103768994226, 0.0053404103768994226, 0.0053404103768994226, 0.24448711050994004, 0.24448711050994004, 0.24448711050994004, 0.24448711050994004, 0.2540077353602647, 0.08466924512008824, 0.5926847158406177, 0.08466924512008824, 0.008493571897548298, 0.5350950295455428, 0.13589715036077277, 0.32275573210683534, 0.22653113569690722, 0.7388400118114512, 0.006970188790674068, 0.027880755162696273, 0.02772570477803891, 0.9149482576752841, 0.02772570477803891, 0.8769637337728837, 0.04176017779870875, 0.04176017779870875, 0.04176017779870875, 0.04176017779870875, 0.03495735978498428, 0.06991471956996856, 0.03495735978498428, 0.8389766348396227, 0.03495735978498428, 0.230495515780925, 0.230495515780925, 0.230495515780925, 0.46099103156185, 0.7864242085661406, 0.07864242085661405, 0.07864242085661405, 0.012698113387251853, 0.7999811433968668, 0.17777358742152594, 0.012698113387251853, 0.09991565948952823, 0.09991565948952823, 0.7993252759162258, 0.12351112887552301, 0.12351112887552301, 0.12351112887552301, 0.6175556443776151, 0.7332598664031376, 0.0916574833003922, 0.0916574833003922, 0.8967745726927511, 0.04719866172067111, 0.04719866172067111, 0.04719866172067111], \"Term\": [\"active\", \"active\", \"active\", \"active\", \"ale\", \"ale\", \"ale\", \"ale\", \"ale\", \"almondmilk\", \"almondmilk\", \"almondmilk\", \"almondmilk\", \"apple\", \"apple\", \"apple\", \"apple\", \"baby\", \"baby\", \"baby\", \"baby\", \"bag\", \"bag\", \"bag\", \"bailey\", \"bailey\", \"bailey\", \"bailey\", \"bake\", \"bake\", \"bake\", \"banana\", \"banana\", \"banana\", \"banana\", \"banana\", \"base\", \"base\", \"base\", \"base\", \"beat\", \"beat\", \"beat\", \"beat\", \"beef\", \"beef\", \"beef\", \"beer\", \"beer\", \"beer\", \"beer\", \"berry\", \"berry\", \"berry\", \"berry\", \"birthday\", \"birthday\", \"birthday\", \"birthday\", \"bitter\", \"bitter\", \"bitter\", \"blend\", \"blend\", \"blend\", \"blend\", \"blueberry\", \"blueberry\", \"blueberry\", \"blueberry\", \"boil\", \"boil\", \"boil\", \"boil\", \"bottle\", \"bottle\", \"bottle\", \"bourbon\", \"bourbon\", \"bourbon\", \"bourbon\", \"break\", \"break\", \"break\", \"break\", \"break\", \"breakfast\", \"breakfast\", \"breakfast\", \"breakfast\", \"brew\", \"brew\", \"brew\", \"brew\", \"butter\", \"butter\", \"butter\", \"butter\", \"canadian\", \"canadian\", \"canadian\", \"canadian\", \"carbonated_beverage\", \"carbonated_beverage\", \"carbonated_beverage\", \"carbonated_beverage\", \"cardamom\", \"cardamom\", \"cardamom\", \"cardamom\", \"cassis\", \"cassis\", \"cassis\", \"cassis\", \"champagne\", \"champagne\", \"champagne\", \"champagne\", \"cherry\", \"cherry\", \"cherry\", \"cherry\", \"cherry\", \"chip\", \"chip\", \"chip\", \"chocolate\", \"chocolate\", \"chocolate\", \"chocolate\", \"chunk\", \"chunk\", \"chunk\", \"chunk\", \"cider\", \"cider\", \"cider\", \"cinnamon\", \"cinnamon\", \"cinnamon\", \"cinnamon\", \"clove\", \"clove\", \"clove\", \"clove\", \"cocktail\", \"cocktail\", \"cocktail\", \"cocktail\", \"cocoa\", \"cocoa\", \"cocoa\", \"coconut\", \"coconut\", \"coconut\", \"coconut\", \"coffee\", \"coffee\", \"coffee\", \"coffee\", \"color\", \"color\", \"color\", \"color\", \"comfort\", \"comfort\", \"comfort\", \"comfort\", \"confectioner\", \"confectioner\", \"confectioner\", \"coriander\", \"coriander\", \"coriander\", \"coriander\", \"corn\", \"corn\", \"corn\", \"corn\", \"corn\", \"cranberry\", \"cranberry\", \"cranberry\", \"cream\", \"cream\", \"cream\", \"cream\", \"creamer\", \"creamer\", \"creamer\", \"creme_de\", \"creme_de\", \"creme_de\", \"creme_de\", \"crush\", \"crush\", \"crush\", \"crush\", \"crush\", \"cube\", \"cube\", \"cube\", \"dash\", \"dash\", \"dash\", \"dash\", \"deluxe\", \"deluxe\", \"deluxe\", \"deluxe\", \"desire\", \"desire\", \"desire\", \"desire\", \"different\", \"different\", \"different\", \"different\", \"dill\", \"dill\", \"dill\", \"dropsfood\", \"dropsfood\", \"dropsfood\", \"dropsfood\", \"egg\", \"egg\", \"egg\", \"eggnog\", \"eggnog\", \"eggnog\", \"eggnog\", \"elderflower\", \"elderflower\", \"elderflower\", \"elderflower\", \"evaporate\", \"evaporate\", \"evaporate\", \"fennel\", \"fennel\", \"fennel\", \"fennel\", \"flavor\", \"flavor\", \"flavor\", \"flavor\", \"flavor\", \"flax\", \"flax\", \"flax\", \"flax\", \"food_coloring\", \"food_coloring\", \"food_coloring\", \"fruit\", \"fruit\", \"fruit\", \"fruit\", \"fuggle\", \"fuggle\", \"fuggle\", \"fuggle\", \"gallon\", \"gallon\", \"gallon\", \"gallon\", \"gallon\", \"garnish\", \"garnish\", \"garnish\", \"garnish\", \"garnish\", \"garnishfroste\", \"garnishfroste\", \"garnishfroste\", \"garnishfroste\", \"gin\", \"gin\", \"gin\", \"ginger\", \"ginger\", \"ginger\", \"ginger\", \"ginger\", \"glitter\", \"glitter\", \"glitter\", \"glitter\", \"grand\", \"grand\", \"grand\", \"grand\", \"granule\", \"granule\", \"granule\", \"granule\", \"granule\", \"grape\", \"grape\", \"grape\", \"grape\", \"grate\", \"grate\", \"grate\", \"grate\", \"grate\", \"greek\", \"greek\", \"greek\", \"grenadine\", \"grenadine\", \"grenadine\", \"grenadine\", \"hop\", \"hop\", \"hop\", \"hop\", \"hot\", \"hot\", \"hot\", \"hot\", \"ice\", \"ice\", \"ice\", \"ice\", \"ice\", \"infuse\", \"infuse\", \"infuse\", \"irish\", \"irish\", \"irish\", \"irish\", \"irish\", \"juice\", \"juice\", \"juice\", \"juniper\", \"juniper\", \"juniper\", \"juniper\", \"kettle\", \"kettle\", \"kettle\", \"leave\", \"leave\", \"leave\", \"leave\", \"lemon\", \"lemon\", \"lemon\", \"lemon\", \"lemonade\", \"lemonade\", \"lemonade\", \"lemonade\", \"lime\", \"lime\", \"lime\", \"limes\", \"limes\", \"limes\", \"liqueur\", \"liqueur\", \"liqueur\", \"liqueur\", \"liter\", \"liter\", \"liter\", \"loosely\", \"loosely\", \"loosely\", \"loosely\", \"malt\", \"malt\", \"malt\", \"malt\", \"marnier\", \"marnier\", \"marnier\", \"marnier\", \"marshmallow\", \"marshmallow\", \"marshmallow\", \"meal\", \"meal\", \"meal\", \"meal\", \"melon\", \"melon\", \"melon\", \"melon\", \"melon\", \"menthe\", \"menthe\", \"menthe\", \"menthe\", \"milk\", \"milk\", \"milk\", \"milk\", \"mint\", \"mint\", \"mint\", \"mix\", \"mix\", \"mix\", \"mix\", \"mix\", \"multi\", \"multi\", \"multi\", \"multi\", \"muscadine\", \"muscadine\", \"muscadine\", \"muscadine\", \"need\", \"need\", \"need\", \"need\", \"onion\", \"onion\", \"onion\", \"onion\", \"orange\", \"orange\", \"orange\", \"orange\", \"original\", \"original\", \"original\", \"original\", \"original\", \"pack\", \"pack\", \"pack\", \"pack\", \"package\", \"package\", \"package\", \"package\", \"package\", \"packet\", \"packet\", \"packet\", \"packet\", \"packet\", \"peach\", \"peach\", \"peach\", \"peach\", \"peach\", \"pear\", \"pear\", \"pear\", \"pear\", \"peel\", \"peel\", \"peel\", \"pepper\", \"pepper\", \"pepper\", \"pepper\", \"peppermint\", \"peppermint\", \"peppermint\", \"peppermint\", \"piece\", \"piece\", \"piece\", \"piece\", \"pinch\", \"pinch\", \"pinch\", \"pinch\", \"pinch\", \"pineapple\", \"pineapple\", \"pineapple\", \"pineapple\", \"pink\", \"pink\", \"pink\", \"plain\", \"plain\", \"plain\", \"plain\", \"pod\", \"pod\", \"pod\", \"pod\", \"pound\", \"pound\", \"pound\", \"pound\", \"powder\", \"powder\", \"powder\", \"proof\", \"proof\", \"proof\", \"proof\", \"pudding\", \"pudding\", \"pudding\", \"pudding\", \"pure\", \"pure\", \"pure\", \"purpose\", \"purpose\", \"purpose\", \"quarter\", \"quarter\", \"quarter\", \"quarter\", \"raisin\", \"raisin\", \"raisin\", \"raisin\", \"remove\", \"remove\", \"remove\", \"remove\", \"rise\", \"rise\", \"rise\", \"roll\", \"roll\", \"roll\", \"roll\", \"root\", \"root\", \"root\", \"root\", \"round\", \"round\", \"round\", \"rye\", \"rye\", \"rye\", \"rye\", \"salt\", \"salt\", \"salt\", \"salt\", \"scoop\", \"scoop\", \"scoop\", \"seed\", \"seed\", \"seed\", \"seed\", \"shot\", \"shot\", \"shot\", \"skin\", \"skin\", \"skin\", \"skin\", \"slice\", \"slice\", \"slice\", \"slice\", \"soda\", \"soda\", \"soda\", \"soda\", \"sour\", \"sour\", \"sour\", \"sour\", \"sparkle\", \"sparkle\", \"sparkle\", \"spice\", \"spice\", \"spice\", \"spice\", \"spice\", \"spinach\", \"spinach\", \"spinach\", \"spinach\", \"splash\", \"splash\", \"splash\", \"splash\", \"sprinkle\", \"sprinkle\", \"sprinkle\", \"sprinkle\", \"strawberrie\", \"strawberrie\", \"strawberrie\", \"strawberrie\", \"strawberry\", \"strawberry\", \"strawberry\", \"strawberry\", \"strip\", \"strip\", \"strip\", \"strip\", \"strong\", \"strong\", \"strong\", \"strong\", \"substitute\", \"substitute\", \"substitute\", \"substitute\", \"sugar\", \"sugar\", \"sugar\", \"sugar\", \"sugar\", \"sweetened_condense\", \"sweetened_condense\", \"sweetened_condense\", \"sweetened_condense\", \"tea\", \"tea\", \"tea\", \"tea\", \"tequila\", \"tequila\", \"tequila\", \"tequila\", \"tequila\", \"thaw\", \"thaw\", \"thaw\", \"thaw\", \"thick\", \"thick\", \"thick\", \"thin\", \"thin\", \"thin\", \"thin\", \"thinly\", \"thinly\", \"thinly\", \"thinly\", \"thread\", \"thread\", \"thread\", \"thread\", \"turmeric\", \"turmeric\", \"turmeric\", \"turmeric\", \"unsalte\", \"unsalte\", \"unsalte\", \"unsalted\", \"unsalted\", \"unsalted\", \"unsweetened\", \"unsweetened\", \"unsweetened\", \"unsweetened\", \"vanilla\", \"vanilla\", \"vanilla\", \"vanilla\", \"vanilla\", \"velvet\", \"velvet\", \"velvet\", \"velvet\", \"vinegar\", \"vinegar\", \"vinegar\", \"vinegar\", \"vodka\", \"vodka\", \"vodka\", \"vodka\", \"water\", \"water\", \"water\", \"water\", \"wedge\", \"wedge\", \"wedge\", \"whip\", \"whip\", \"whip\", \"whip\", \"whip\", \"whiskey\", \"whiskey\", \"whiskey\", \"whiskey\", \"whiskey\", \"whisky\", \"whisky\", \"whisky\", \"whisky\", \"white\", \"white\", \"white\", \"wine\", \"wine\", \"wine\", \"wine\", \"worcestershire\", \"worcestershire\", \"worcestershire\", \"yeast\", \"yeast\", \"yeast\", \"yeast\", \"yogurt\", \"yogurt\", \"yogurt\", \"yolk\", \"yolk\", \"yolk\", \"yolk\"]}, \"R\": 30, \"lambda.step\": 0.01, \"plot.opts\": {\"xlab\": \"PC1\", \"ylab\": \"PC2\"}, \"topic.order\": [2, 5, 1, 4, 3]};\n",
              "\n",
              "function LDAvis_load_lib(url, callback){\n",
              "  var s = document.createElement('script');\n",
              "  s.src = url;\n",
              "  s.async = true;\n",
              "  s.onreadystatechange = s.onload = callback;\n",
              "  s.onerror = function(){console.warn(\"failed to load library \" + url);};\n",
              "  document.getElementsByTagName(\"head\")[0].appendChild(s);\n",
              "}\n",
              "\n",
              "if(typeof(LDAvis) !== \"undefined\"){\n",
              "   // already loaded: just create the visualization\n",
              "   !function(LDAvis){\n",
              "       new LDAvis(\"#\" + \"ldavis_el594139892545183824804643342\", ldavis_el594139892545183824804643342_data);\n",
              "   }(LDAvis);\n",
              "}else if(typeof define === \"function\" && define.amd){\n",
              "   // require.js is available: use it to load d3/LDAvis\n",
              "   require.config({paths: {d3: \"https://d3js.org/d3.v5\"}});\n",
              "   require([\"d3\"], function(d3){\n",
              "      window.d3 = d3;\n",
              "      LDAvis_load_lib(\"https://cdn.jsdelivr.net/gh/bmabey/pyLDAvis@3.3.1/pyLDAvis/js/ldavis.v3.0.0.js\", function(){\n",
              "        new LDAvis(\"#\" + \"ldavis_el594139892545183824804643342\", ldavis_el594139892545183824804643342_data);\n",
              "      });\n",
              "    });\n",
              "}else{\n",
              "    // require.js not available: dynamically load d3 & LDAvis\n",
              "    LDAvis_load_lib(\"https://d3js.org/d3.v5.js\", function(){\n",
              "         LDAvis_load_lib(\"https://cdn.jsdelivr.net/gh/bmabey/pyLDAvis@3.3.1/pyLDAvis/js/ldavis.v3.0.0.js\", function(){\n",
              "                 new LDAvis(\"#\" + \"ldavis_el594139892545183824804643342\", ldavis_el594139892545183824804643342_data);\n",
              "            })\n",
              "         });\n",
              "}\n",
              "</script>"
            ],
            "text/plain": [
              "PreparedData(topic_coordinates=          x     y  topics  cluster  Freq\n",
              "topic                                   \n",
              "1      0.01 -0.18       1        1 36.43\n",
              "4     -0.20  0.02       2        1 30.66\n",
              "0      0.03  0.09       3        1 17.05\n",
              "3      0.11  0.00       4        1  8.21\n",
              "2      0.05  0.06       5        1  7.64, topic_info=        Term   Freq  Total Category  logprob  loglift\n",
              "49      milk 315.00 315.00  Default    30.00    30.00\n",
              "13     cream 159.00 159.00  Default    29.00    29.00\n",
              "17   vanilla 187.00 187.00  Default    28.00    28.00\n",
              "18     vodka 117.00 117.00  Default    27.00    27.00\n",
              "7      water 286.00 286.00  Default    26.00    26.00\n",
              "..       ...    ...    ...      ...      ...      ...\n",
              "64    ginger   7.35  39.13   Topic5    -4.55     0.90\n",
              "711    break   3.22  10.88   Topic5    -5.38     1.35\n",
              "175      mix   6.85  62.19   Topic5    -4.62     0.36\n",
              "7      water   8.01 286.94   Topic5    -4.46    -1.01\n",
              "20     slice   4.11  43.00   Topic5    -5.13     0.22\n",
              "\n",
              "[245 rows x 6 columns], token_table=      Topic  Freq    Term\n",
              "term                     \n",
              "442       1  0.17  active\n",
              "442       2  0.17  active\n",
              "442       3  0.17  active\n",
              "442       5  0.50  active\n",
              "596       1  0.07     ale\n",
              "...     ...   ...     ...\n",
              "144       3  0.09  yogurt\n",
              "111       1  0.90    yolk\n",
              "111       2  0.05    yolk\n",
              "111       3  0.05    yolk\n",
              "111       5  0.05    yolk\n",
              "\n",
              "[724 rows x 3 columns], R=30, lambda_step=0.01, plot_opts={'xlab': 'PC1', 'ylab': 'PC2'}, topic_order=[2, 5, 1, 4, 3])"
            ]
          },
          "metadata": {
            "tags": []
          },
          "execution_count": 41
        }
      ]
    },
    {
      "cell_type": "markdown",
      "metadata": {
        "id": "56jpagrOh1G0"
      },
      "source": [
        "# 6. LDA: NearestNeighbors"
      ]
    },
    {
      "cell_type": "markdown",
      "metadata": {
        "id": "LntbGxAZ93VQ"
      },
      "source": [
        "## 6.1. Import libraries - Data - LDA Model"
      ]
    },
    {
      "cell_type": "code",
      "metadata": {
        "colab": {
          "base_uri": "https://localhost:8080/"
        },
        "id": "mBQkQ6RZfwvq",
        "outputId": "93d39f6c-e80e-499b-a8b6-3aa71c14f034"
      },
      "source": [
        "# Import libraries\n",
        "import gensim\n",
        "from gensim.models import Phrases\n",
        "from gensim.models.coherencemodel import CoherenceModel\n",
        "from gensim.models.ldamodel import LdaModel\n",
        "from gensim.corpora.dictionary import Dictionary\n",
        "from gensim.utils import simple_preprocess\n",
        "import pickle\n",
        "from pprint import pprint\n",
        "from sklearn.neighbors import NearestNeighbors\n",
        "\n",
        "from nltk.stem import WordNetLemmatizer\n",
        "nltk.download('wordnet')"
      ],
      "execution_count": null,
      "outputs": [
        {
          "output_type": "stream",
          "text": [
            "[nltk_data] Downloading package wordnet to /root/nltk_data...\n",
            "[nltk_data]   Package wordnet is already up-to-date!\n"
          ],
          "name": "stdout"
        },
        {
          "output_type": "execute_result",
          "data": {
            "text/plain": [
              "True"
            ]
          },
          "metadata": {
            "tags": []
          },
          "execution_count": 16
        }
      ]
    },
    {
      "cell_type": "code",
      "metadata": {
        "id": "jWuZACF80Qz_"
      },
      "source": [
        "# Paths\n",
        "model_path = '/content/gdrive/MyDrive/Colab Notebooks/Final Project/Model/lda_new.model'\n",
        "corpus_path = '/content/gdrive/MyDrive/Colab Notebooks/Final Project/Model/corpus.pkl'\n",
        "dictionary_path = '/content/gdrive/MyDrive/Colab Notebooks/Final Project/Model/dict.pkl'\n",
        "nbrs_path = '/content/gdrive/MyDrive/Colab Notebooks/Final Project/Model/nbrs.pkl'\n",
        "\n",
        "# Load model, corpus, dictionary:\n",
        "corpus = pickle.load(open(corpus_path, 'rb'))\n",
        "dictionary = pickle.load(open(dictionary_path, 'rb'))\n",
        "lda_model = gensim.models.ldamodel.LdaModel.load(model_path)\n",
        "nbrs = pickle.load(open(nbrs_path, 'rb'))"
      ],
      "execution_count": null,
      "outputs": []
    },
    {
      "cell_type": "markdown",
      "metadata": {
        "id": "GkQVN2XH-D_p"
      },
      "source": [
        "## 6.2. Vector of document topics and test_doc"
      ]
    },
    {
      "cell_type": "markdown",
      "metadata": {
        "id": "hA4NI2JPNk-d"
      },
      "source": [
        "**Converting topics to feature vectors**"
      ]
    },
    {
      "cell_type": "code",
      "metadata": {
        "id": "yjyHJNHMtFxn"
      },
      "source": [
        "# Document:\n",
        "text_array = df_clean['no_stop']\n",
        "\n",
        "# Topic vector in document:\n",
        "recipe_vecs = []\n",
        "for i in range(text_array.shape[0]):\n",
        "    top_topics = lda_model.get_document_topics(corpus[i], minimum_probability=0.0)\n",
        "    topic_vec = list(map(lambda x:x[1], top_topics))\n",
        "    recipe_vecs.append(topic_vec)"
      ],
      "execution_count": null,
      "outputs": []
    },
    {
      "cell_type": "code",
      "metadata": {
        "colab": {
          "base_uri": "https://localhost:8080/"
        },
        "id": "U28iXF_k0eGx",
        "outputId": "f818d028-9f18-45e4-c6f9-df23eb8591fb"
      },
      "source": [
        "recipe_vecs[1]"
      ],
      "execution_count": null,
      "outputs": [
        {
          "output_type": "execute_result",
          "data": {
            "text/plain": [
              "[0.746064, 0.000766325, 0.25163698, 0.000766325, 0.000766325]"
            ]
          },
          "metadata": {
            "tags": []
          },
          "execution_count": 32
        }
      ]
    },
    {
      "cell_type": "code",
      "metadata": {
        "id": "KSzGQxiEJCWa"
      },
      "source": [
        "# Nearest Neighbors:\n",
        "nbrs = NearestNeighbors(n_neighbors=5).fit(recipe_vecs)\n",
        "nbrs_path = '/content/gdrive/MyDrive/Colab Notebooks/Final Project/Model/nbrs_5.pkl'\n",
        "pickle.dump(nbrs, open(nbrs_path, 'wb'))"
      ],
      "execution_count": null,
      "outputs": []
    },
    {
      "cell_type": "markdown",
      "metadata": {
        "id": "8UnoYth9N2FG"
      },
      "source": [
        "**Converting test doc to vectors**"
      ]
    },
    {
      "cell_type": "code",
      "metadata": {
        "id": "6xJMl6IlIeMx"
      },
      "source": [
        "# Function to lemmatize for string input test doc\n",
        "def lemma_stop_input(row):\n",
        "    return ' '.join([lemmatizer.lemmatize(word) for word in row if word not in stop_words])\n",
        "\n",
        "# Function to lemmatize & remove stop_words of test doc:\n",
        "def preprocess_text(test_array):\n",
        "    ''' Preprocess input text\n",
        "        Output: list of vector of input text '''\n",
        "    # Lemmatize and remove stop words    \n",
        "    test_array = [lemma_stop(test_array)]\n",
        "    # List of sentence include bigram and trigram\n",
        "    docs = docs_with_grams(test_array)\n",
        "    # Get corpus\n",
        "    test_corpus = [dictionary.doc2bow(text) for text in docs] #id2word\n",
        "    return test_corpus\n",
        "\n",
        "# Function to find Vector of test doc\n",
        "def doc_vecs(test_array):\n",
        "    test_corpus = preprocess_text(test_array)\n",
        "    result_vecs = []\n",
        "    for i in range(len(test_corpus)):\n",
        "        top_topics = lda_model.get_document_topics(test_corpus[i], minimum_probability=0.0)\n",
        "        topic_vec = list(map(lambda x:x[1], top_topics))\n",
        "        result_vecs.append(topic_vec)\n",
        "    return result_vecs"
      ],
      "execution_count": null,
      "outputs": []
    },
    {
      "cell_type": "code",
      "metadata": {
        "colab": {
          "base_uri": "https://localhost:8080/"
        },
        "id": "RFGlc2cg-duH",
        "outputId": "5abe8bd4-4dd9-4841-8bc7-8506eef851b9"
      },
      "source": [
        "# Input and preprocess test doc\n",
        "test_array = text_array[5]\n",
        "\n",
        "# Vector of test doc\n",
        "result_vecs = doc_vecs(test_array)\n",
        "result_vecs"
      ],
      "execution_count": null,
      "outputs": [
        {
          "output_type": "execute_result",
          "data": {
            "text/plain": [
              "[[0.47674635, 0.5182949, 0.0016529313, 0.0016529313, 0.0016529313]]"
            ]
          },
          "metadata": {
            "tags": []
          },
          "execution_count": 44
        }
      ]
    },
    {
      "cell_type": "markdown",
      "metadata": {
        "id": "XPjA8jWgOEz3"
      },
      "source": [
        "## 6.3. Creat topics dictionary"
      ]
    },
    {
      "cell_type": "code",
      "metadata": {
        "colab": {
          "base_uri": "https://localhost:8080/",
          "height": 419
        },
        "id": "nZ0GfVc7AUQb",
        "outputId": "b9612f71-44d5-4884-ebcc-6871558d0c3b"
      },
      "source": [
        "# Recipe vector & their topics:\n",
        "topic_recipe = pd.DataFrame(recipe_vecs)\n",
        "topics = np.argmax(recipe_vecs,axis=1)\n",
        "topic_recipe['topics'] = topics\n",
        "topic_recipe"
      ],
      "execution_count": null,
      "outputs": [
        {
          "output_type": "execute_result",
          "data": {
            "text/html": [
              "<div>\n",
              "<style scoped>\n",
              "    .dataframe tbody tr th:only-of-type {\n",
              "        vertical-align: middle;\n",
              "    }\n",
              "\n",
              "    .dataframe tbody tr th {\n",
              "        vertical-align: top;\n",
              "    }\n",
              "\n",
              "    .dataframe thead th {\n",
              "        text-align: right;\n",
              "    }\n",
              "</style>\n",
              "<table border=\"1\" class=\"dataframe\">\n",
              "  <thead>\n",
              "    <tr style=\"text-align: right;\">\n",
              "      <th></th>\n",
              "      <th>0</th>\n",
              "      <th>1</th>\n",
              "      <th>2</th>\n",
              "      <th>3</th>\n",
              "      <th>4</th>\n",
              "      <th>topics</th>\n",
              "    </tr>\n",
              "  </thead>\n",
              "  <tbody>\n",
              "    <tr>\n",
              "      <th>0</th>\n",
              "      <td>0.51</td>\n",
              "      <td>0.00</td>\n",
              "      <td>0.00</td>\n",
              "      <td>0.48</td>\n",
              "      <td>0.00</td>\n",
              "      <td>0</td>\n",
              "    </tr>\n",
              "    <tr>\n",
              "      <th>1</th>\n",
              "      <td>0.75</td>\n",
              "      <td>0.00</td>\n",
              "      <td>0.25</td>\n",
              "      <td>0.00</td>\n",
              "      <td>0.00</td>\n",
              "      <td>0</td>\n",
              "    </tr>\n",
              "    <tr>\n",
              "      <th>2</th>\n",
              "      <td>0.00</td>\n",
              "      <td>0.00</td>\n",
              "      <td>1.00</td>\n",
              "      <td>0.00</td>\n",
              "      <td>0.00</td>\n",
              "      <td>2</td>\n",
              "    </tr>\n",
              "    <tr>\n",
              "      <th>3</th>\n",
              "      <td>0.00</td>\n",
              "      <td>0.98</td>\n",
              "      <td>0.00</td>\n",
              "      <td>0.00</td>\n",
              "      <td>0.00</td>\n",
              "      <td>1</td>\n",
              "    </tr>\n",
              "    <tr>\n",
              "      <th>4</th>\n",
              "      <td>0.00</td>\n",
              "      <td>0.00</td>\n",
              "      <td>0.56</td>\n",
              "      <td>0.00</td>\n",
              "      <td>0.44</td>\n",
              "      <td>2</td>\n",
              "    </tr>\n",
              "    <tr>\n",
              "      <th>...</th>\n",
              "      <td>...</td>\n",
              "      <td>...</td>\n",
              "      <td>...</td>\n",
              "      <td>...</td>\n",
              "      <td>...</td>\n",
              "      <td>...</td>\n",
              "    </tr>\n",
              "    <tr>\n",
              "      <th>1534</th>\n",
              "      <td>0.28</td>\n",
              "      <td>0.00</td>\n",
              "      <td>0.00</td>\n",
              "      <td>0.00</td>\n",
              "      <td>0.72</td>\n",
              "      <td>4</td>\n",
              "    </tr>\n",
              "    <tr>\n",
              "      <th>1535</th>\n",
              "      <td>0.70</td>\n",
              "      <td>0.30</td>\n",
              "      <td>0.00</td>\n",
              "      <td>0.00</td>\n",
              "      <td>0.00</td>\n",
              "      <td>0</td>\n",
              "    </tr>\n",
              "    <tr>\n",
              "      <th>1536</th>\n",
              "      <td>0.99</td>\n",
              "      <td>0.00</td>\n",
              "      <td>0.00</td>\n",
              "      <td>0.00</td>\n",
              "      <td>0.00</td>\n",
              "      <td>0</td>\n",
              "    </tr>\n",
              "    <tr>\n",
              "      <th>1537</th>\n",
              "      <td>0.63</td>\n",
              "      <td>0.00</td>\n",
              "      <td>0.37</td>\n",
              "      <td>0.00</td>\n",
              "      <td>0.00</td>\n",
              "      <td>0</td>\n",
              "    </tr>\n",
              "    <tr>\n",
              "      <th>1538</th>\n",
              "      <td>0.99</td>\n",
              "      <td>0.00</td>\n",
              "      <td>0.00</td>\n",
              "      <td>0.00</td>\n",
              "      <td>0.00</td>\n",
              "      <td>0</td>\n",
              "    </tr>\n",
              "  </tbody>\n",
              "</table>\n",
              "<p>1539 rows × 6 columns</p>\n",
              "</div>"
            ],
            "text/plain": [
              "        0    1    2    3    4  topics\n",
              "0    0.51 0.00 0.00 0.48 0.00       0\n",
              "1    0.75 0.00 0.25 0.00 0.00       0\n",
              "2    0.00 0.00 1.00 0.00 0.00       2\n",
              "3    0.00 0.98 0.00 0.00 0.00       1\n",
              "4    0.00 0.00 0.56 0.00 0.44       2\n",
              "...   ...  ...  ...  ...  ...     ...\n",
              "1534 0.28 0.00 0.00 0.00 0.72       4\n",
              "1535 0.70 0.30 0.00 0.00 0.00       0\n",
              "1536 0.99 0.00 0.00 0.00 0.00       0\n",
              "1537 0.63 0.00 0.37 0.00 0.00       0\n",
              "1538 0.99 0.00 0.00 0.00 0.00       0\n",
              "\n",
              "[1539 rows x 6 columns]"
            ]
          },
          "metadata": {
            "tags": []
          },
          "execution_count": 35
        }
      ]
    },
    {
      "cell_type": "code",
      "metadata": {
        "colab": {
          "base_uri": "https://localhost:8080/"
        },
        "id": "T-L9go-SKIma",
        "outputId": "d70557d7-5051-4126-abd4-53d75b27af6c"
      },
      "source": [
        "# Print the Keyword in the 5 topics\n",
        "pprint(lda_model.print_topics())\n",
        "doc_lda = lda_model[corpus]"
      ],
      "execution_count": null,
      "outputs": [
        {
          "output_type": "stream",
          "text": [
            "[(0,\n",
            "  '0.051*\"lime\" + 0.048*\"orange\" + 0.044*\"ginger_ale\" + 0.034*\"wine\" + '\n",
            "  '0.030*\"liqueur\" + 0.029*\"3/4\" + 0.029*\"vodka\" + 0.026*\"soda\" + '\n",
            "  '0.020*\"lemon-lime_soda\" + 0.019*\"peach\"'),\n",
            " (1,\n",
            "  '0.083*\"½\" + 0.039*\"¼\" + 0.036*\"tea_bag\" + 0.032*\"ice\" + '\n",
            "  '0.031*\"boiling_water\" + 0.028*\"15_jigger\" + 0.022*\"750_wine\" + 0.020*\"tea\" '\n",
            "  '+ 0.019*\"vanilla\" + 0.018*\"109½\"'),\n",
            " (2,\n",
            "  '0.040*\"liqueur\" + 0.037*\"irish_cream\" + 0.035*\"orange\" + 0.035*\"cinnamon\" + '\n",
            "  '0.029*\"cream\" + 0.027*\"amaretto_liqueur\" + 0.024*\"apple_cider\" + '\n",
            "  '0.022*\"apple\" + 0.022*\"maraschino_cherry\" + 0.021*\"pineapple\"'),\n",
            " (3,\n",
            "  '0.039*\"vanilla\" + 0.037*\"cream\" + 0.033*\"pinch_salt\" + 0.025*\"egg\" + '\n",
            "  '0.025*\"salt\" + 0.025*\"coffee\" + 0.022*\"egg_yolk\" + 0.022*\"chocolate\" + '\n",
            "  '0.020*\"1/4\" + 0.020*\"pinch\"'),\n",
            " (4,\n",
            "  '0.050*\"mint_leaf\" + 0.043*\"crème_de\" + 0.037*\"leaf\" + 0.033*\"mint\" + '\n",
            "  '0.028*\"mint_sprig\" + 0.027*\"pepper\" + 0.025*\"1/4\" + 0.025*\"de\" + '\n",
            "  '0.024*\"crème\" + 0.022*\"liqueur\"')]\n"
          ],
          "name": "stdout"
        }
      ]
    },
    {
      "cell_type": "code",
      "metadata": {
        "colab": {
          "base_uri": "https://localhost:8080/"
        },
        "id": "qDnfubE0HCtu",
        "outputId": "b5ebdb30-8622-4cbb-c81c-93f3ce4f0aff"
      },
      "source": [
        "# Print the Keyword in the 9 topics\n",
        "pprint(lda_model.print_topics())\n",
        "doc_lda = lda_model[corpus]"
      ],
      "execution_count": null,
      "outputs": [
        {
          "output_type": "stream",
          "text": [
            "[(0,\n",
            "  '0.160*\"balsamic\" + 0.112*\"dash\" + 0.083*\"cake\" + 0.077*\"part\" + '\n",
            "  '0.054*\"tomato\" + 0.050*\"leave\" + 0.032*\"piece\" + 0.031*\"kneading\" + '\n",
            "  '0.028*\"confectioner\" + 0.027*\"pureed\"'),\n",
            " (1,\n",
            "  '0.071*\"ribbon\" + 0.057*\"dash\" + 0.054*\"citric\" + 0.053*\"sprinkle\" + '\n",
            "  '0.052*\"fry\" + 0.044*\"cucumber\" + 0.041*\"home\" + 0.039*\"fill\" + '\n",
            "  '0.034*\"french\" + 0.032*\"aged\"'),\n",
            " (2,\n",
            "  '0.113*\"cheese\" + 0.103*\"citron\" + 0.058*\"fruit\" + 0.052*\"cook\" + '\n",
            "  '0.047*\"soften\" + 0.040*\"crush\" + 0.040*\"spice\" + 0.035*\"darjeele\" + '\n",
            "  '0.033*\"direction\" + 0.027*\"chinese\"'),\n",
            " (3,\n",
            "  '0.094*\"steam\" + 0.081*\"honey\" + 0.074*\"preserve\" + 0.051*\"splash\" + '\n",
            "  '0.050*\"potato\" + 0.050*\"citric\" + 0.038*\"cinnamon\" + 0.033*\"sugar\" + '\n",
            "  '0.030*\"dash\" + 0.029*\"irish\"'),\n",
            " (4,\n",
            "  '0.130*\"extra\" + 0.041*\"cider\" + 0.032*\"fill\" + 0.025*\"greek\" + 0.022*\"cool\" '\n",
            "  '+ 0.021*\"inch\" + 0.021*\"cacao\" + 0.019*\"fancy\" + 0.018*\"sage\" + '\n",
            "  '0.017*\"sweetened_condense\"'),\n",
            " (5,\n",
            "  '0.074*\"flavor\" + 0.043*\"season\" + 0.042*\"ring\" + 0.039*\"scallion\" + '\n",
            "  '0.033*\"tough\" + 0.027*\"sausage\" + 0.024*\"brush\" + 0.023*\"cherry\" + '\n",
            "  '0.023*\"wedge\" + 0.022*\"cantuna\"'),\n",
            " (6,\n",
            "  '0.101*\"salt\" + 0.073*\"apple\" + 0.051*\"cacao\" + 0.051*\"steam\" + '\n",
            "  '0.047*\"cider\" + 0.045*\"molasse\" + 0.039*\"cold\" + 0.038*\"sweeten\" + '\n",
            "  '0.032*\"tea\" + 0.030*\"yogurt\"'),\n",
            " (7,\n",
            "  '0.139*\"crush\" + 0.057*\"spearmint\" + 0.055*\"onion\" + 0.051*\"measure\" + '\n",
            "  '0.049*\"blackstrap\" + 0.047*\"cacao\" + 0.042*\"can\" + 0.041*\"store\" + '\n",
            "  '0.039*\"raspberry\" + 0.034*\"handful\"'),\n",
            " (8,\n",
            "  '0.088*\"asparagus\" + 0.079*\"greekhoney\" + 0.048*\"equal\" + 0.046*\"tapioca\" + '\n",
            "  '0.046*\"melt\" + 0.038*\"can\" + 0.036*\"steam\" + 0.034*\"celery\" + 0.033*\"wedge\" '\n",
            "  '+ 0.031*\"chestnut\"')]\n"
          ],
          "name": "stdout"
        }
      ]
    },
    {
      "cell_type": "code",
      "metadata": {
        "id": "ebiqAEv0EPXt"
      },
      "source": [
        "# Creat topic dictionary base on model\n",
        "topic_dict = {0: 'fruit_juice',\n",
        "              1: 'cocktail',\n",
        "              2: 'liqueur',\n",
        "              3: 'cream_milk_coffee',\n",
        "              4: 'spice'}"
      ],
      "execution_count": null,
      "outputs": []
    },
    {
      "cell_type": "markdown",
      "metadata": {
        "id": "k7hxZFymQuaQ"
      },
      "source": [
        "## 6.4. Recommended nearest topics"
      ]
    },
    {
      "cell_type": "code",
      "metadata": {
        "colab": {
          "base_uri": "https://localhost:8080/"
        },
        "id": "1EMYrguA_T4k",
        "outputId": "4b514e19-b1d7-4ab7-c196-bec02d48807c"
      },
      "source": [
        "# Find the nearest vector \n",
        "distances, indices = nbrs.kneighbors(result_vecs)\n",
        "print(distances)\n",
        "print(indices)"
      ],
      "execution_count": null,
      "outputs": [
        {
          "output_type": "stream",
          "text": [
            "[[0.00319164 0.00621646 0.01717708 0.02957187 0.03294551]]\n",
            "[[1240 1301 1272  991 1445]]\n"
          ],
          "name": "stdout"
        }
      ]
    },
    {
      "cell_type": "code",
      "metadata": {
        "colab": {
          "base_uri": "https://localhost:8080/"
        },
        "id": "j_gpw85uAGqG",
        "outputId": "6b1f7ff0-5403-46eb-c7df-32fb6e2b973e"
      },
      "source": [
        "# Recipe of test doc\n",
        "recipe_test = df_clean.loc[5]\n",
        "recipe_test"
      ],
      "execution_count": null,
      "outputs": [
        {
          "output_type": "execute_result",
          "data": {
            "text/plain": [
              "drink_name                                        spiked lemonade\n",
              "recipe          5 1/2 to 6 cups water 1 1/2 cups sugar 1 table...\n",
              "recipe_url      https://www.thespruceeats.com/spiked-lemonade-...\n",
              "url_of_image    https://www.thespruceeats.com/thmb/oxlHoBxYAYz...\n",
              "no_stop         5 1/2 6 water 1 1/2 sugar 1 lemon 6 8 lemon 1/...\n",
              "Name: 5, dtype: object"
            ]
          },
          "metadata": {
            "tags": []
          },
          "execution_count": 46
        }
      ]
    },
    {
      "cell_type": "code",
      "metadata": {
        "colab": {
          "base_uri": "https://localhost:8080/",
          "height": 272
        },
        "id": "uMbmz6uQ_7kf",
        "outputId": "c7d7dda3-4c13-4579-9c97-a4d852e7bee4"
      },
      "source": [
        "# Top 5 nearest recipes for the test doc\n",
        "top_vecs = df_clean.iloc[indices[0]]"
      ],
      "execution_count": null,
      "outputs": [
        {
          "output_type": "execute_result",
          "data": {
            "text/html": [
              "<div>\n",
              "<style scoped>\n",
              "    .dataframe tbody tr th:only-of-type {\n",
              "        vertical-align: middle;\n",
              "    }\n",
              "\n",
              "    .dataframe tbody tr th {\n",
              "        vertical-align: top;\n",
              "    }\n",
              "\n",
              "    .dataframe thead th {\n",
              "        text-align: right;\n",
              "    }\n",
              "</style>\n",
              "<table border=\"1\" class=\"dataframe\">\n",
              "  <thead>\n",
              "    <tr style=\"text-align: right;\">\n",
              "      <th></th>\n",
              "      <th>drink_name</th>\n",
              "      <th>recipe</th>\n",
              "      <th>recipe_url</th>\n",
              "      <th>url_of_image</th>\n",
              "      <th>no_stop</th>\n",
              "    </tr>\n",
              "  </thead>\n",
              "  <tbody>\n",
              "    <tr>\n",
              "      <th>1240</th>\n",
              "      <td>easy punch</td>\n",
              "      <td>4 013 ounce packages unsweetened strawberry-fl...</td>\n",
              "      <td>https://www.allrecipes.com/recipe/18935/easy-p...</td>\n",
              "      <td>https://imagesvc.meredithcorp.io/v3/mm/image?u...</td>\n",
              "      <td>4 013 package unsweetened strawberry-flavored ...</td>\n",
              "    </tr>\n",
              "    <tr>\n",
              "      <th>1301</th>\n",
              "      <td>georgia sunset</td>\n",
              "      <td>1 15 fluid ounce jigger brandy  1 15 fluid oun...</td>\n",
              "      <td>https://www.allrecipes.com/recipe/105670/georg...</td>\n",
              "      <td>https://imagesvc.meredithcorp.io/v3/mm/image?u...</td>\n",
              "      <td>1 15 jigger brandy 1 15 jigger peach schnapps ...</td>\n",
              "    </tr>\n",
              "    <tr>\n",
              "      <th>1272</th>\n",
              "      <td>white sangria with frozen fruit</td>\n",
              "      <td>1 750 milliliter bottle white wine  ½ cup peac...</td>\n",
              "      <td>https://www.allrecipes.com/recipe/280702/white...</td>\n",
              "      <td>https://imagesvc.meredithcorp.io/v3/mm/image?u...</td>\n",
              "      <td>1 750 wine ½ peach schnapps ¼ sugar ¼ peach ¼ ...</td>\n",
              "    </tr>\n",
              "    <tr>\n",
              "      <th>991</th>\n",
              "      <td>mimosa</td>\n",
              "      <td>¾ cup champagne chilled  ¼ cup orange juice</td>\n",
              "      <td>https://www.allrecipes.com/recipe/23758/mimosa/</td>\n",
              "      <td>https://imagesvc.meredithcorp.io/v3/mm/image?u...</td>\n",
              "      <td>¾ champagne ¼ orange juice</td>\n",
              "    </tr>\n",
              "    <tr>\n",
              "      <th>1445</th>\n",
              "      <td>lavender simple syrup recipe</td>\n",
              "      <td>1 cup water 3 tablespoons lavender flowers 2 c...</td>\n",
              "      <td>https://www.thespruceeats.com/diy-lavender-sim...</td>\n",
              "      <td>https://www.thespruceeats.com/thmb/traBxjTpHBb...</td>\n",
              "      <td>1 water 3 lavender flower 2 sugar</td>\n",
              "    </tr>\n",
              "  </tbody>\n",
              "</table>\n",
              "</div>"
            ],
            "text/plain": [
              "                           drink_name  ...                                            no_stop\n",
              "1240                       easy punch  ...  4 013 package unsweetened strawberry-flavored ...\n",
              "1301                   georgia sunset  ...  1 15 jigger brandy 1 15 jigger peach schnapps ...\n",
              "1272  white sangria with frozen fruit  ...  1 750 wine ½ peach schnapps ¼ sugar ¼ peach ¼ ...\n",
              "991                            mimosa  ...                         ¾ champagne ¼ orange juice\n",
              "1445     lavender simple syrup recipe  ...                  1 water 3 lavender flower 2 sugar\n",
              "\n",
              "[5 rows x 5 columns]"
            ]
          },
          "metadata": {
            "tags": []
          },
          "execution_count": 47
        }
      ]
    },
    {
      "cell_type": "code",
      "metadata": {
        "colab": {
          "base_uri": "https://localhost:8080/",
          "height": 204
        },
        "id": "QYkIIaVGBsBS",
        "outputId": "61f2caa2-8001-4ee9-d434-bac3b6b742ee"
      },
      "source": [
        "# Recommend topics for the test doc\n",
        "topic_recipe.iloc[indices[0]]"
      ],
      "execution_count": null,
      "outputs": [
        {
          "output_type": "execute_result",
          "data": {
            "text/html": [
              "<div>\n",
              "<style scoped>\n",
              "    .dataframe tbody tr th:only-of-type {\n",
              "        vertical-align: middle;\n",
              "    }\n",
              "\n",
              "    .dataframe tbody tr th {\n",
              "        vertical-align: top;\n",
              "    }\n",
              "\n",
              "    .dataframe thead th {\n",
              "        text-align: right;\n",
              "    }\n",
              "</style>\n",
              "<table border=\"1\" class=\"dataframe\">\n",
              "  <thead>\n",
              "    <tr style=\"text-align: right;\">\n",
              "      <th></th>\n",
              "      <th>0</th>\n",
              "      <th>1</th>\n",
              "      <th>2</th>\n",
              "      <th>3</th>\n",
              "      <th>4</th>\n",
              "      <th>topics</th>\n",
              "    </tr>\n",
              "  </thead>\n",
              "  <tbody>\n",
              "    <tr>\n",
              "      <th>1240</th>\n",
              "      <td>0.48</td>\n",
              "      <td>0.52</td>\n",
              "      <td>0.00</td>\n",
              "      <td>0.00</td>\n",
              "      <td>0.00</td>\n",
              "      <td>1</td>\n",
              "    </tr>\n",
              "    <tr>\n",
              "      <th>1301</th>\n",
              "      <td>0.48</td>\n",
              "      <td>0.52</td>\n",
              "      <td>0.00</td>\n",
              "      <td>0.00</td>\n",
              "      <td>0.00</td>\n",
              "      <td>1</td>\n",
              "    </tr>\n",
              "    <tr>\n",
              "      <th>1272</th>\n",
              "      <td>0.47</td>\n",
              "      <td>0.53</td>\n",
              "      <td>0.00</td>\n",
              "      <td>0.00</td>\n",
              "      <td>0.00</td>\n",
              "      <td>1</td>\n",
              "    </tr>\n",
              "    <tr>\n",
              "      <th>991</th>\n",
              "      <td>0.45</td>\n",
              "      <td>0.54</td>\n",
              "      <td>0.00</td>\n",
              "      <td>0.00</td>\n",
              "      <td>0.00</td>\n",
              "      <td>1</td>\n",
              "    </tr>\n",
              "    <tr>\n",
              "      <th>1445</th>\n",
              "      <td>0.49</td>\n",
              "      <td>0.49</td>\n",
              "      <td>0.00</td>\n",
              "      <td>0.00</td>\n",
              "      <td>0.00</td>\n",
              "      <td>0</td>\n",
              "    </tr>\n",
              "  </tbody>\n",
              "</table>\n",
              "</div>"
            ],
            "text/plain": [
              "        0    1    2    3    4  topics\n",
              "1240 0.48 0.52 0.00 0.00 0.00       1\n",
              "1301 0.48 0.52 0.00 0.00 0.00       1\n",
              "1272 0.47 0.53 0.00 0.00 0.00       1\n",
              "991  0.45 0.54 0.00 0.00 0.00       1\n",
              "1445 0.49 0.49 0.00 0.00 0.00       0"
            ]
          },
          "metadata": {
            "tags": []
          },
          "execution_count": 82
        }
      ]
    },
    {
      "cell_type": "code",
      "metadata": {
        "colab": {
          "base_uri": "https://localhost:8080/"
        },
        "id": "H365brm5EoUu",
        "outputId": "85671aec-e272-4afb-a307-55a8b05d267e"
      },
      "source": [
        "# Check top 5 recommended topics and recipes informations:\n",
        "for i in indices[0]:\n",
        "    print('Topic:' + topic_dict[topic_recipe['topics'][i]])\n",
        "    print(df_clean.iloc[i]['drink_name'] + ': ' + df_clean.iloc[i]['recipe'])"
      ],
      "execution_count": null,
      "outputs": [
        {
          "output_type": "stream",
          "text": [
            "Topic:cocktail\n",
            "easy punch: 4 013 ounce packages unsweetened strawberry-flavored drink mix powder  2 46 fluid ounce cans pineapple juice  3 cups white sugar  4 quarts water  2 liters ginger ale \n",
            "Topic:cocktail\n",
            "georgia sunset: 1 15 fluid ounce jigger brandy  1 15 fluid ounce jigger peach schnapps  1 fluid ounce grenadine syrup  ¼ cup chilled lemon-lime soda \n",
            "Topic:cocktail\n",
            "white sangria with frozen fruit: 1 750 milliliter bottle white wine  ½ cup peach schnapps  ¼ cup white sugar  ¼ cup frozen sliced peaches or to taste  ¼ cup frozen sliced mango or to taste  ¼ cup frozen raspberries or to taste \n",
            "Topic:cocktail\n",
            "mimosa: ¾ cup champagne chilled  ¼ cup orange juice \n",
            "Topic:fruit_juice\n",
            "lavender simple syrup recipe: 1 cup water 3 tablespoons lavender flowers 2 cups sugar\n"
          ],
          "name": "stdout"
        }
      ]
    }
  ]
}
