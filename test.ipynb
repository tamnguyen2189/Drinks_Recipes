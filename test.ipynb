{
 "metadata": {
  "language_info": {
   "codemirror_mode": {
    "name": "ipython",
    "version": 3
   },
   "file_extension": ".py",
   "mimetype": "text/x-python",
   "name": "python",
   "nbconvert_exporter": "python",
   "pygments_lexer": "ipython3",
   "version": "3.9.2"
  },
  "orig_nbformat": 2,
  "kernelspec": {
   "name": "python392jvsc74a57bd0e885cd74143ad494932267455ab53278514454996393c47fe6c2589217b9edf3",
   "display_name": "Python 3.9.2 64-bit"
  },
  "metadata": {
   "interpreter": {
    "hash": "e885cd74143ad494932267455ab53278514454996393c47fe6c2589217b9edf3"
   }
  }
 },
 "nbformat": 4,
 "nbformat_minor": 2,
 "cells": [
  {
   "cell_type": "code",
   "execution_count": 1,
   "metadata": {},
   "outputs": [],
   "source": [
    "import pandas as pd\n",
    "import numpy as np\n",
    "import glob\n"
   ]
  },
  {
   "cell_type": "code",
   "execution_count": 2,
   "metadata": {},
   "outputs": [],
   "source": [
    "# Load data\n",
    "path = r'C:/Users/pc/Desktop/my_git/final_project/recipes' # use your path\n",
    "files = glob.glob(path + \"/*.csv\")\n",
    "\n",
    "all_files = []\n",
    "\n",
    "for filename in files:\n",
    "    df_sub = pd.read_csv(filename, index_col=None, header=0)\n",
    "    all_files.append(df_sub)\n",
    "\n",
    "df = pd.concat(all_files, axis=0, ignore_index=True)"
   ]
  },
  {
   "cell_type": "code",
   "execution_count": 3,
   "metadata": {},
   "outputs": [
    {
     "output_type": "execute_result",
     "data": {
      "text/plain": [
       "                                drink_name  \\\n",
       "0                      French Cafe au Lait   \n",
       "1                         Pour-Over Coffee   \n",
       "2                  Cuban Coffee (Cafecito)   \n",
       "3                   The Perfect Cappuccino   \n",
       "4           New Orleans Coffee (Cafe Noir)   \n",
       "5                         Cold Brew Coffee   \n",
       "6                                 Affogato   \n",
       "7                        Maple Pecan Latte   \n",
       "8                    White Chocolate Mocha   \n",
       "9                     Homemade Frappuccino   \n",
       "10    Hong Kong Yuanyang (Coffee With Tea)   \n",
       "11                              Cafe Latte   \n",
       "12                          Turkish Coffee   \n",
       "13                     Pumpkin Spice Latte   \n",
       "14                Keto Pumpkin Spice Latte   \n",
       "15                     Flat White Espresso   \n",
       "16  Vietnamese Iced Coffee (Cà Phê Sữa Dá)   \n",
       "17                 Vegan Gingerbread Latte   \n",
       "18                   Vietnamese Egg Coffee   \n",
       "19                Greek Iced Coffee Frappe   \n",
       "20                    Caramel Irish Coffee   \n",
       "21                          Cafe Con Leche   \n",
       "22                          Mexican Coffee   \n",
       "\n",
       "                                               recipe  \\\n",
       "0   ['1 part hot strong coffee (French roast)', '1...   \n",
       "1                                                  []   \n",
       "2                                                  []   \n",
       "3                                                  []   \n",
       "4                                                  []   \n",
       "5                                                  []   \n",
       "6                                                  []   \n",
       "7   ['For the Maple Pecan Syrup:', '1/4 cup maple ...   \n",
       "8   ['3/4 cup milk (whole or low-fat)', '3 tablesp...   \n",
       "9                                                  []   \n",
       "10                                                 []   \n",
       "11                                                 []   \n",
       "12                                                 []   \n",
       "13  ['1 cup milk', '2 tablespoons\\xa0unsweetened p...   \n",
       "14  ['2 shots espresso', '2 tablespoons pumpkin pu...   \n",
       "15                                                 []   \n",
       "16  ['30 grams ground Vietnamese coffee (about 4 t...   \n",
       "17  ['1 1/2 cups unsweetened almond milk (or your ...   \n",
       "18                                                 []   \n",
       "19                                                NaN   \n",
       "20                                                 []   \n",
       "21                                                 []   \n",
       "22                                                 []   \n",
       "\n",
       "                                           recipe_url  \\\n",
       "0   https://www.thespruceeats.com/cafe-au-lait-rec...   \n",
       "1   https://www.thespruceeats.com/pour-over-coffee...   \n",
       "2   https://www.thespruceeats.com/cuban-coffee-479...   \n",
       "3   https://www.thespruceeats.com/how-to-make-capp...   \n",
       "4   https://www.thespruceeats.com/new-orleans-coff...   \n",
       "5   https://www.thespruceeats.com/cold-brew-coffee...   \n",
       "6      https://www.thespruceeats.com/affogato-4776668   \n",
       "7   https://www.thespruceeats.com/maple-pecan-latt...   \n",
       "8   https://www.thespruceeats.com/white-chocolate-...   \n",
       "9   https://www.thespruceeats.com/homemade-frappuc...   \n",
       "10  https://www.thespruceeats.com/yuanyang-coffee-...   \n",
       "11  https://www.thespruceeats.com/how-to-make-caff...   \n",
       "12  https://www.thespruceeats.com/turkish-coffee-r...   \n",
       "13  https://www.thespruceeats.com/pumpkin-spice-la...   \n",
       "14  https://www.thespruceeats.com/keto-pumpkin-spi...   \n",
       "15  https://www.thespruceeats.com/flat-white-recip...   \n",
       "16  https://www.thespruceeats.com/vietnamese-coffe...   \n",
       "17  https://www.thespruceeats.com/vegan-gingerbrea...   \n",
       "18  https://www.thespruceeats.com/vietnamese-egg-c...   \n",
       "19                                                NaN   \n",
       "20  https://www.thespruceeats.com/caramel-irish-co...   \n",
       "21  https://www.thespruceeats.com/cafe-con-leche-4...   \n",
       "22  https://www.thespruceeats.com/mexican-coffee-4...   \n",
       "\n",
       "                                         url_of_image  \n",
       "0   https://www.thespruceeats.com/thmb/cRrwUsC6WNB...  \n",
       "1   https://www.thespruceeats.com/thmb/-XzLvlXHASj...  \n",
       "2   https://www.thespruceeats.com/thmb/vJGEfrc8S_h...  \n",
       "3   https://www.thespruceeats.com/thmb/DWhiIPBDVVq...  \n",
       "4   https://www.thespruceeats.com/thmb/bogvGb8qhPt...  \n",
       "5   https://www.thespruceeats.com/thmb/0Xzdt3WeOET...  \n",
       "6   https://www.thespruceeats.com/thmb/oOeJGjN6KIE...  \n",
       "7   https://www.thespruceeats.com/thmb/SGkLou30cAX...  \n",
       "8   https://www.thespruceeats.com/thmb/54gY1oTpz3l...  \n",
       "9   https://www.thespruceeats.com/thmb/JVI7maPtJvg...  \n",
       "10  https://www.thespruceeats.com/thmb/ADSlMqZzqsD...  \n",
       "11  https://www.thespruceeats.com/thmb/jYPrZfZdGrU...  \n",
       "12  https://www.thespruceeats.com/thmb/5g_NsAeJv9j...  \n",
       "13  https://www.thespruceeats.com/thmb/1PFvjBxGa-p...  \n",
       "14  https://www.thespruceeats.com/thmb/1wfAyEcDjlt...  \n",
       "15  https://www.thespruceeats.com/thmb/cVGogyhRuh0...  \n",
       "16  https://www.thespruceeats.com/thmb/pkIkWJe_H_k...  \n",
       "17  https://www.thespruceeats.com/thmb/lbCCiY0b61N...  \n",
       "18  https://www.thespruceeats.com/thmb/Lw3sKyqdsBp...  \n",
       "19                                                NaN  \n",
       "20  https://www.thespruceeats.com/thmb/T7TDD4SArkc...  \n",
       "21  https://www.thespruceeats.com/thmb/AS3-cxbjDIH...  \n",
       "22  https://www.thespruceeats.com/thmb/fNi0feVRI-7...  "
      ],
      "text/html": "<div>\n<style scoped>\n    .dataframe tbody tr th:only-of-type {\n        vertical-align: middle;\n    }\n\n    .dataframe tbody tr th {\n        vertical-align: top;\n    }\n\n    .dataframe thead th {\n        text-align: right;\n    }\n</style>\n<table border=\"1\" class=\"dataframe\">\n  <thead>\n    <tr style=\"text-align: right;\">\n      <th></th>\n      <th>drink_name</th>\n      <th>recipe</th>\n      <th>recipe_url</th>\n      <th>url_of_image</th>\n    </tr>\n  </thead>\n  <tbody>\n    <tr>\n      <th>0</th>\n      <td>French Cafe au Lait</td>\n      <td>['1 part hot strong coffee (French roast)', '1...</td>\n      <td>https://www.thespruceeats.com/cafe-au-lait-rec...</td>\n      <td>https://www.thespruceeats.com/thmb/cRrwUsC6WNB...</td>\n    </tr>\n    <tr>\n      <th>1</th>\n      <td>Pour-Over Coffee</td>\n      <td>[]</td>\n      <td>https://www.thespruceeats.com/pour-over-coffee...</td>\n      <td>https://www.thespruceeats.com/thmb/-XzLvlXHASj...</td>\n    </tr>\n    <tr>\n      <th>2</th>\n      <td>Cuban Coffee (Cafecito)</td>\n      <td>[]</td>\n      <td>https://www.thespruceeats.com/cuban-coffee-479...</td>\n      <td>https://www.thespruceeats.com/thmb/vJGEfrc8S_h...</td>\n    </tr>\n    <tr>\n      <th>3</th>\n      <td>The Perfect Cappuccino</td>\n      <td>[]</td>\n      <td>https://www.thespruceeats.com/how-to-make-capp...</td>\n      <td>https://www.thespruceeats.com/thmb/DWhiIPBDVVq...</td>\n    </tr>\n    <tr>\n      <th>4</th>\n      <td>New Orleans Coffee (Cafe Noir)</td>\n      <td>[]</td>\n      <td>https://www.thespruceeats.com/new-orleans-coff...</td>\n      <td>https://www.thespruceeats.com/thmb/bogvGb8qhPt...</td>\n    </tr>\n    <tr>\n      <th>5</th>\n      <td>Cold Brew Coffee</td>\n      <td>[]</td>\n      <td>https://www.thespruceeats.com/cold-brew-coffee...</td>\n      <td>https://www.thespruceeats.com/thmb/0Xzdt3WeOET...</td>\n    </tr>\n    <tr>\n      <th>6</th>\n      <td>Affogato</td>\n      <td>[]</td>\n      <td>https://www.thespruceeats.com/affogato-4776668</td>\n      <td>https://www.thespruceeats.com/thmb/oOeJGjN6KIE...</td>\n    </tr>\n    <tr>\n      <th>7</th>\n      <td>Maple Pecan Latte</td>\n      <td>['For the Maple Pecan Syrup:', '1/4 cup maple ...</td>\n      <td>https://www.thespruceeats.com/maple-pecan-latt...</td>\n      <td>https://www.thespruceeats.com/thmb/SGkLou30cAX...</td>\n    </tr>\n    <tr>\n      <th>8</th>\n      <td>White Chocolate Mocha</td>\n      <td>['3/4 cup milk (whole or low-fat)', '3 tablesp...</td>\n      <td>https://www.thespruceeats.com/white-chocolate-...</td>\n      <td>https://www.thespruceeats.com/thmb/54gY1oTpz3l...</td>\n    </tr>\n    <tr>\n      <th>9</th>\n      <td>Homemade Frappuccino</td>\n      <td>[]</td>\n      <td>https://www.thespruceeats.com/homemade-frappuc...</td>\n      <td>https://www.thespruceeats.com/thmb/JVI7maPtJvg...</td>\n    </tr>\n    <tr>\n      <th>10</th>\n      <td>Hong Kong Yuanyang (Coffee With Tea)</td>\n      <td>[]</td>\n      <td>https://www.thespruceeats.com/yuanyang-coffee-...</td>\n      <td>https://www.thespruceeats.com/thmb/ADSlMqZzqsD...</td>\n    </tr>\n    <tr>\n      <th>11</th>\n      <td>Cafe Latte</td>\n      <td>[]</td>\n      <td>https://www.thespruceeats.com/how-to-make-caff...</td>\n      <td>https://www.thespruceeats.com/thmb/jYPrZfZdGrU...</td>\n    </tr>\n    <tr>\n      <th>12</th>\n      <td>Turkish Coffee</td>\n      <td>[]</td>\n      <td>https://www.thespruceeats.com/turkish-coffee-r...</td>\n      <td>https://www.thespruceeats.com/thmb/5g_NsAeJv9j...</td>\n    </tr>\n    <tr>\n      <th>13</th>\n      <td>Pumpkin Spice Latte</td>\n      <td>['1 cup milk', '2 tablespoons\\xa0unsweetened p...</td>\n      <td>https://www.thespruceeats.com/pumpkin-spice-la...</td>\n      <td>https://www.thespruceeats.com/thmb/1PFvjBxGa-p...</td>\n    </tr>\n    <tr>\n      <th>14</th>\n      <td>Keto Pumpkin Spice Latte</td>\n      <td>['2 shots espresso', '2 tablespoons pumpkin pu...</td>\n      <td>https://www.thespruceeats.com/keto-pumpkin-spi...</td>\n      <td>https://www.thespruceeats.com/thmb/1wfAyEcDjlt...</td>\n    </tr>\n    <tr>\n      <th>15</th>\n      <td>Flat White Espresso</td>\n      <td>[]</td>\n      <td>https://www.thespruceeats.com/flat-white-recip...</td>\n      <td>https://www.thespruceeats.com/thmb/cVGogyhRuh0...</td>\n    </tr>\n    <tr>\n      <th>16</th>\n      <td>Vietnamese Iced Coffee (Cà Phê Sữa Dá)</td>\n      <td>['30 grams ground Vietnamese coffee (about 4 t...</td>\n      <td>https://www.thespruceeats.com/vietnamese-coffe...</td>\n      <td>https://www.thespruceeats.com/thmb/pkIkWJe_H_k...</td>\n    </tr>\n    <tr>\n      <th>17</th>\n      <td>Vegan Gingerbread Latte</td>\n      <td>['1 1/2 cups unsweetened almond milk (or your ...</td>\n      <td>https://www.thespruceeats.com/vegan-gingerbrea...</td>\n      <td>https://www.thespruceeats.com/thmb/lbCCiY0b61N...</td>\n    </tr>\n    <tr>\n      <th>18</th>\n      <td>Vietnamese Egg Coffee</td>\n      <td>[]</td>\n      <td>https://www.thespruceeats.com/vietnamese-egg-c...</td>\n      <td>https://www.thespruceeats.com/thmb/Lw3sKyqdsBp...</td>\n    </tr>\n    <tr>\n      <th>19</th>\n      <td>Greek Iced Coffee Frappe</td>\n      <td>NaN</td>\n      <td>NaN</td>\n      <td>NaN</td>\n    </tr>\n    <tr>\n      <th>20</th>\n      <td>Caramel Irish Coffee</td>\n      <td>[]</td>\n      <td>https://www.thespruceeats.com/caramel-irish-co...</td>\n      <td>https://www.thespruceeats.com/thmb/T7TDD4SArkc...</td>\n    </tr>\n    <tr>\n      <th>21</th>\n      <td>Cafe Con Leche</td>\n      <td>[]</td>\n      <td>https://www.thespruceeats.com/cafe-con-leche-4...</td>\n      <td>https://www.thespruceeats.com/thmb/AS3-cxbjDIH...</td>\n    </tr>\n    <tr>\n      <th>22</th>\n      <td>Mexican Coffee</td>\n      <td>[]</td>\n      <td>https://www.thespruceeats.com/mexican-coffee-4...</td>\n      <td>https://www.thespruceeats.com/thmb/fNi0feVRI-7...</td>\n    </tr>\n  </tbody>\n</table>\n</div>"
     },
     "metadata": {},
     "execution_count": 3
    }
   ],
   "source": [
    "df"
   ]
  },
  {
   "cell_type": "code",
   "execution_count": null,
   "metadata": {},
   "outputs": [],
   "source": []
  }
 ]
}